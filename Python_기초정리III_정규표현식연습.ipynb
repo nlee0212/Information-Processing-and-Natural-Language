{
 "cells": [
  {
   "cell_type": "code",
   "execution_count": 13,
   "id": "organized-target",
   "metadata": {},
   "outputs": [
    {
     "data": {
      "text/plain": [
       "'4a5s6d'"
      ]
     },
     "execution_count": 13,
     "metadata": {},
     "output_type": "execute_result"
    }
   ],
   "source": [
    "import re\n",
    "\n",
    "re.match('\\d+\\w+','4a5s6d').group()"
   ]
  },
  {
   "cell_type": "code",
   "execution_count": 14,
   "id": "extraordinary-enough",
   "metadata": {},
   "outputs": [
    {
     "data": {
      "text/plain": [
       "('\\t\\n', '\\n\\t')"
      ]
     },
     "execution_count": 14,
     "metadata": {},
     "output_type": "execute_result"
    }
   ],
   "source": [
    "re.search('(\\s+)\\w+(\\s+)','\\t\\n123\\n\\tabc\\n\\n\\n').groups()"
   ]
  },
  {
   "cell_type": "code",
   "execution_count": 15,
   "id": "continental-donor",
   "metadata": {},
   "outputs": [
    {
     "data": {
      "text/plain": [
       "'\\t\\n123\\n\\t'"
      ]
     },
     "execution_count": 15,
     "metadata": {},
     "output_type": "execute_result"
    }
   ],
   "source": [
    "re.search('(\\s+)\\w+(\\s+)','\\t\\n123\\n\\tabc\\n\\n\\n').group()"
   ]
  },
  {
   "cell_type": "code",
   "execution_count": null,
   "id": "significant-chicken",
   "metadata": {},
   "outputs": [],
   "source": []
  }
 ],
 "metadata": {
  "kernelspec": {
   "display_name": "Python 3",
   "language": "python",
   "name": "python3"
  },
  "language_info": {
   "codemirror_mode": {
    "name": "ipython",
    "version": 3
   },
   "file_extension": ".py",
   "mimetype": "text/x-python",
   "name": "python",
   "nbconvert_exporter": "python",
   "pygments_lexer": "ipython3",
   "version": "3.8.8"
  }
 },
 "nbformat": 4,
 "nbformat_minor": 5
}
