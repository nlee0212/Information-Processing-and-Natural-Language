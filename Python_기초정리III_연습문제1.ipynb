{
 "cells": [
  {
   "cell_type": "code",
   "execution_count": 1,
   "id": "saving-florida",
   "metadata": {},
   "outputs": [
    {
     "data": {
      "text/plain": [
       "'출력결과 맞추기'"
      ]
     },
     "execution_count": 1,
     "metadata": {},
     "output_type": "execute_result"
    }
   ],
   "source": [
    "\"\"\"출력결과 맞추기\"\"\"\n",
    "\n",
    "# re.match('[0-9a-z\\t\\n]+','3456abc\\t\\n.+?*').group()\n",
    "## '3456abc\\t\\n'\n",
    "\n",
    "# re.match('[\\w\\s\\S]+','3456abc\\t\\n.+?*').group()\n",
    "## '3456abc\\t\\n.+?*'\n",
    "\n",
    "\"\"\"코드 맞추기\"\"\"\n",
    "# re.match(_____,'3456')\n",
    "## <re.Match object; span=(0, 4), match='3456'>"
   ]
  },
  {
   "cell_type": "code",
   "execution_count": 3,
   "id": "broken-tuesday",
   "metadata": {},
   "outputs": [
    {
     "data": {
      "text/plain": [
       "'3456abc\\t\\n'"
      ]
     },
     "execution_count": 3,
     "metadata": {},
     "output_type": "execute_result"
    }
   ],
   "source": [
    "import re\n",
    "\n",
    "re.match('[0-9a-z\\t\\n]+','3456abc\\t\\n.+?*').group()"
   ]
  },
  {
   "cell_type": "code",
   "execution_count": 4,
   "id": "labeled-concord",
   "metadata": {},
   "outputs": [
    {
     "data": {
      "text/plain": [
       "'3456abc\\t\\n.+?*'"
      ]
     },
     "execution_count": 4,
     "metadata": {},
     "output_type": "execute_result"
    }
   ],
   "source": [
    "re.match('[\\w\\s\\S]+','3456abc\\t\\n.+?*').group()"
   ]
  },
  {
   "cell_type": "code",
   "execution_count": 5,
   "id": "scientific-quest",
   "metadata": {},
   "outputs": [
    {
     "data": {
      "text/plain": [
       "<re.Match object; span=(0, 4), match='3456'>"
      ]
     },
     "execution_count": 5,
     "metadata": {},
     "output_type": "execute_result"
    }
   ],
   "source": [
    "re.match('\\d+','3456')"
   ]
  },
  {
   "cell_type": "code",
   "execution_count": null,
   "id": "accessible-strategy",
   "metadata": {},
   "outputs": [],
   "source": []
  }
 ],
 "metadata": {
  "kernelspec": {
   "display_name": "Python 3",
   "language": "python",
   "name": "python3"
  },
  "language_info": {
   "codemirror_mode": {
    "name": "ipython",
    "version": 3
   },
   "file_extension": ".py",
   "mimetype": "text/x-python",
   "name": "python",
   "nbconvert_exporter": "python",
   "pygments_lexer": "ipython3",
   "version": "3.8.8"
  }
 },
 "nbformat": 4,
 "nbformat_minor": 5
}
