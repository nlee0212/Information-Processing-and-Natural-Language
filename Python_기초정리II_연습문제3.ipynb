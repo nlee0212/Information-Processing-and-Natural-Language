{
 "cells": [
  {
   "cell_type": "code",
   "execution_count": 3,
   "id": "dangerous-explosion",
   "metadata": {},
   "outputs": [
    {
     "data": {
      "text/plain": [
       "5"
      ]
     },
     "execution_count": 3,
     "metadata": {},
     "output_type": "execute_result"
    }
   ],
   "source": [
    "# Female = ['Susie', 'Eva', 'Stephanie']\n",
    "# Male = ['Tom','Billy','Jefferson']\n",
    "# names = \n",
    "# names\n",
    "\"\"\"\n",
    "[(('Susie', 5), ('Tom', 3)),\n",
    " (('Susie', 5), ('Billy', 5)),\n",
    " (('Jefferson', 9), ('Susie', 5)),\n",
    " (('Eva', 3), ('Tom', 3)),\n",
    " (('Billy', 5), ('Eva', 3)),\n",
    " (('Jefferson', 9), ('Eva', 3)),\n",
    " (('Stephanie', 9), ('Tom', 3)),\n",
    " (('Stephanie', 9), ('Billy', 5)),\n",
    " (('Stephanie', 9), ('Jefferson', 9))]\n",
    "\"\"\""
   ]
  },
  {
   "cell_type": "code",
   "execution_count": 7,
   "id": "material-reynolds",
   "metadata": {},
   "outputs": [
    {
     "data": {
      "text/plain": [
       "[(('Susie', 5), ('Tom', 3)),\n",
       " (('Susie', 5), ('Billy', 5)),\n",
       " (('Jefferson', 9), ('Susie', 5)),\n",
       " (('Eva', 3), ('Tom', 3)),\n",
       " (('Billy', 5), ('Eva', 3)),\n",
       " (('Jefferson', 9), ('Eva', 3)),\n",
       " (('Stephanie', 9), ('Tom', 3)),\n",
       " (('Stephanie', 9), ('Billy', 5)),\n",
       " (('Stephanie', 9), ('Jefferson', 9))]"
      ]
     },
     "execution_count": 7,
     "metadata": {},
     "output_type": "execute_result"
    }
   ],
   "source": [
    "Female = ['Susie', 'Eva', 'Stephanie']\n",
    "Male = ['Tom','Billy','Jefferson']\n",
    "names = [((x,len(x)),(y,len(y))) if len(y)<=len(x) else ((y,len(y)),(x,len(x)))\n",
    "        for x in Female for y in Male ]\n",
    "names "
   ]
  },
  {
   "cell_type": "code",
   "execution_count": null,
   "id": "nonprofit-victor",
   "metadata": {},
   "outputs": [],
   "source": []
  }
 ],
 "metadata": {
  "kernelspec": {
   "display_name": "Python 3",
   "language": "python",
   "name": "python3"
  },
  "language_info": {
   "codemirror_mode": {
    "name": "ipython",
    "version": 3
   },
   "file_extension": ".py",
   "mimetype": "text/x-python",
   "name": "python",
   "nbconvert_exporter": "python",
   "pygments_lexer": "ipython3",
   "version": "3.8.8"
  }
 },
 "nbformat": 4,
 "nbformat_minor": 5
}
