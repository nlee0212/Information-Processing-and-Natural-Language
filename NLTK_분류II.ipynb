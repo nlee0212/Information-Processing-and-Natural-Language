{
 "cells": [
  {
   "cell_type": "code",
   "execution_count": 1,
   "metadata": {},
   "outputs": [],
   "source": [
    "import nltk\n",
    "from nltk.corpus import names\n",
    "labeled_names = [(name,file.replace('.txt',''))\n",
    "                for file in names.fileids()\n",
    "                for name in names.words(file)]\n",
    "\n",
    "import random\n",
    "random.shuffle(labeled_names)"
   ]
  },
  {
   "cell_type": "code",
   "execution_count": 2,
   "metadata": {},
   "outputs": [],
   "source": [
    "def gender_features1(name):\n",
    "    features={}\n",
    "    features['name_length'] = len(name)\n",
    "    features['first_letter'] = name[0].lower()\n",
    "    features['last_letter'] = name[-1].lower()\n",
    "    return features"
   ]
  },
  {
   "cell_type": "code",
   "execution_count": 3,
   "metadata": {},
   "outputs": [],
   "source": [
    "features = [(gender_features1(name),gender)\n",
    "           for name, gender in labeled_names]"
   ]
  },
  {
   "cell_type": "code",
   "execution_count": 4,
   "metadata": {},
   "outputs": [
    {
     "data": {
      "text/plain": [
       "0.7811320754716982"
      ]
     },
     "execution_count": 4,
     "metadata": {},
     "output_type": "execute_result"
    }
   ],
   "source": [
    "size = int(len(features)*0.9)\n",
    "train_set, test_set = features[:size],features[size:]\n",
    "classifier = nltk.NaiveBayesClassifier.train(train_set)\n",
    "nltk.classify.accuracy(classifier,test_set)"
   ]
  },
  {
   "cell_type": "code",
   "execution_count": 5,
   "metadata": {},
   "outputs": [
    {
     "name": "stdout",
     "output_type": "stream",
     "text": [
      "Most Informative Features\n",
      "             last_letter = 'k'              male : female =     44.2 : 1.0\n",
      "             last_letter = 'a'            female : male   =     33.6 : 1.0\n",
      "             last_letter = 'f'              male : female =     16.5 : 1.0\n",
      "             last_letter = 'p'              male : female =     12.5 : 1.0\n",
      "             last_letter = 'd'              male : female =      9.9 : 1.0\n",
      "             last_letter = 'v'              male : female =      9.1 : 1.0\n",
      "             last_letter = 'm'              male : female =      8.8 : 1.0\n",
      "             last_letter = 'o'              male : female =      8.6 : 1.0\n",
      "             last_letter = 'r'              male : female =      6.4 : 1.0\n",
      "             last_letter = 'g'              male : female =      5.7 : 1.0\n"
     ]
    }
   ],
   "source": [
    "classifier.show_most_informative_features()"
   ]
  },
  {
   "cell_type": "code",
   "execution_count": 6,
   "metadata": {},
   "outputs": [
    {
     "data": {
      "text/plain": [
       "'male'"
      ]
     },
     "execution_count": 6,
     "metadata": {},
     "output_type": "execute_result"
    }
   ],
   "source": [
    "classifier.classify(gender_features1('John'))"
   ]
  },
  {
   "cell_type": "code",
   "execution_count": 7,
   "metadata": {},
   "outputs": [
    {
     "data": {
      "text/plain": [
       "'female'"
      ]
     },
     "execution_count": 7,
     "metadata": {},
     "output_type": "execute_result"
    }
   ],
   "source": [
    "classifier.classify(gender_features1('Susie'))"
   ]
  },
  {
   "cell_type": "code",
   "execution_count": 8,
   "metadata": {},
   "outputs": [
    {
     "data": {
      "text/plain": [
       "'male'"
      ]
     },
     "execution_count": 8,
     "metadata": {},
     "output_type": "execute_result"
    }
   ],
   "source": [
    "classifier.classify(gender_features1('Lewis'))"
   ]
  },
  {
   "cell_type": "code",
   "execution_count": 9,
   "metadata": {},
   "outputs": [
    {
     "data": {
      "text/plain": [
       "'female'"
      ]
     },
     "execution_count": 9,
     "metadata": {},
     "output_type": "execute_result"
    }
   ],
   "source": [
    "classifier.classify(gender_features1('Stephanie'))"
   ]
  },
  {
   "cell_type": "code",
   "execution_count": 10,
   "metadata": {},
   "outputs": [
    {
     "data": {
      "text/plain": [
       "'male'"
      ]
     },
     "execution_count": 10,
     "metadata": {},
     "output_type": "execute_result"
    }
   ],
   "source": [
    "classifier.classify(gender_features1('Wesley'))"
   ]
  },
  {
   "cell_type": "code",
   "execution_count": 11,
   "metadata": {},
   "outputs": [],
   "source": [
    "def gender_features2(name):\n",
    "    features={}\n",
    "    features['name_length'] = len(name)\n",
    "    features['first_letter'] = name[0].lower()\n",
    "    features['last_letter'] = name[-1].lower()\n",
    "    for letter in 'abcdefghijklmnopqrstuvwxyz':\n",
    "        features[f'count({letter})'] = name.lower().count(letter)\n",
    "        features[f'has({letter})'] = letter in name.lower()\n",
    "    return features"
   ]
  },
  {
   "cell_type": "code",
   "execution_count": 12,
   "metadata": {},
   "outputs": [
    {
     "name": "stdout",
     "output_type": "stream",
     "text": [
      "{'name_length': 4, 'first_letter': 'j', 'last_letter': 'n', 'count(a)': 0, 'has(a)': False, 'count(b)': 0, 'has(b)': False, 'count(c)': 0, 'has(c)': False, 'count(d)': 0, 'has(d)': False, 'count(e)': 0, 'has(e)': False, 'count(f)': 0, 'has(f)': False, 'count(g)': 0, 'has(g)': False, 'count(h)': 1, 'has(h)': True, 'count(i)': 0, 'has(i)': False, 'count(j)': 1, 'has(j)': True, 'count(k)': 0, 'has(k)': False, 'count(l)': 0, 'has(l)': False, 'count(m)': 0, 'has(m)': False, 'count(n)': 1, 'has(n)': True, 'count(o)': 1, 'has(o)': True, 'count(p)': 0, 'has(p)': False, 'count(q)': 0, 'has(q)': False, 'count(r)': 0, 'has(r)': False, 'count(s)': 0, 'has(s)': False, 'count(t)': 0, 'has(t)': False, 'count(u)': 0, 'has(u)': False, 'count(v)': 0, 'has(v)': False, 'count(w)': 0, 'has(w)': False, 'count(x)': 0, 'has(x)': False, 'count(y)': 0, 'has(y)': False, 'count(z)': 0, 'has(z)': False}\n"
     ]
    }
   ],
   "source": [
    "print(gender_features2('John'))"
   ]
  },
  {
   "cell_type": "code",
   "execution_count": 16,
   "metadata": {},
   "outputs": [
    {
     "data": {
      "text/plain": [
       "0.7735849056603774"
      ]
     },
     "execution_count": 16,
     "metadata": {},
     "output_type": "execute_result"
    }
   ],
   "source": [
    "features = [(gender_features2(name),gender) \n",
    "            for name, gender in labeled_names]\n",
    "size = int(len(features)*0.9)\n",
    "train_set, test_set = features[:size],features[size:]\n",
    "classifier = nltk.NaiveBayesClassifier.train(train_set)\n",
    "nltk.classify.accuracy(classifier,test_set)"
   ]
  },
  {
   "cell_type": "code",
   "execution_count": 17,
   "metadata": {},
   "outputs": [
    {
     "name": "stdout",
     "output_type": "stream",
     "text": [
      "Most Informative Features\n",
      "             last_letter = 'k'              male : female =     44.2 : 1.0\n",
      "             last_letter = 'a'            female : male   =     33.6 : 1.0\n",
      "             last_letter = 'f'              male : female =     16.5 : 1.0\n",
      "             last_letter = 'p'              male : female =     12.5 : 1.0\n",
      "             last_letter = 'd'              male : female =      9.9 : 1.0\n",
      "             last_letter = 'v'              male : female =      9.1 : 1.0\n",
      "             last_letter = 'm'              male : female =      8.8 : 1.0\n",
      "             last_letter = 'o'              male : female =      8.6 : 1.0\n",
      "                count(i) = 3                male : female =      8.5 : 1.0\n",
      "             last_letter = 'r'              male : female =      6.4 : 1.0\n"
     ]
    }
   ],
   "source": [
    "classifier.show_most_informative_features()"
   ]
  },
  {
   "cell_type": "code",
   "execution_count": 18,
   "metadata": {},
   "outputs": [],
   "source": [
    "def gender_features3(name):\n",
    "    features={}\n",
    "    features['name_length'] = len(name)\n",
    "    features['first_letter'] = name[0].lower()\n",
    "    features['last_letter'] = name[-1].lower()\n",
    "    for letter in 'aeiou':\n",
    "        features[f'count({letter})'] = name.lower().count(letter)\n",
    "        features[f'has({letter})'] = letter in name.lower()\n",
    "    return features"
   ]
  },
  {
   "cell_type": "code",
   "execution_count": 19,
   "metadata": {},
   "outputs": [
    {
     "data": {
      "text/plain": [
       "0.7761006289308177"
      ]
     },
     "execution_count": 19,
     "metadata": {},
     "output_type": "execute_result"
    }
   ],
   "source": [
    "features = [(gender_features3(name),gender) \n",
    "            for name, gender in labeled_names]\n",
    "size = int(len(features)*0.9)\n",
    "train_set, test_set = features[:size],features[size:]\n",
    "classifier = nltk.NaiveBayesClassifier.train(train_set)\n",
    "nltk.classify.accuracy(classifier,test_set)"
   ]
  },
  {
   "cell_type": "code",
   "execution_count": 20,
   "metadata": {},
   "outputs": [
    {
     "name": "stdout",
     "output_type": "stream",
     "text": [
      "Most Informative Features\n",
      "             last_letter = 'k'              male : female =     44.2 : 1.0\n",
      "             last_letter = 'a'            female : male   =     33.6 : 1.0\n",
      "             last_letter = 'f'              male : female =     16.5 : 1.0\n",
      "             last_letter = 'p'              male : female =     12.5 : 1.0\n",
      "             last_letter = 'd'              male : female =      9.9 : 1.0\n",
      "             last_letter = 'v'              male : female =      9.1 : 1.0\n",
      "             last_letter = 'm'              male : female =      8.8 : 1.0\n",
      "             last_letter = 'o'              male : female =      8.6 : 1.0\n",
      "                count(i) = 3                male : female =      8.5 : 1.0\n",
      "             last_letter = 'r'              male : female =      6.4 : 1.0\n"
     ]
    }
   ],
   "source": [
    "classifier.show_most_informative_features()"
   ]
  },
  {
   "cell_type": "code",
   "execution_count": 22,
   "metadata": {},
   "outputs": [
    {
     "data": {
      "text/plain": [
       "0.762"
      ]
     },
     "execution_count": 22,
     "metadata": {},
     "output_type": "execute_result"
    }
   ],
   "source": [
    "def gender_features(word):\n",
    "    return {'last_letter':word[-1]}\n",
    "train_names = labeled_names[1500:]\n",
    "devtest_names = labeled_names[500:1500]\n",
    "test_names = labeled_names[:500]\n",
    "train_set = [(gender_features(n),gender)\n",
    "            for (n,gender) in train_names]\n",
    "devtest_set = [(gender_features(n),gender)\n",
    "            for (n,gender) in devtest_names]\n",
    "test_set = [(gender_features(n),gender)\n",
    "            for (n,gender) in test_names]\n",
    "classifier = nltk.NaiveBayesClassifier.train(train_set)\n",
    "nltk.classify.accuracy(classifier,devtest_set)"
   ]
  },
  {
   "cell_type": "code",
   "execution_count": 23,
   "metadata": {},
   "outputs": [],
   "source": [
    "errors = []\n",
    "for (name,tag) in devtest_names:\n",
    "    guess = classifier.classify(gender_features(name))\n",
    "    if guess != tag:\n",
    "        errors.append((tag,guess,name))"
   ]
  },
  {
   "cell_type": "code",
   "execution_count": 24,
   "metadata": {},
   "outputs": [
    {
     "data": {
      "text/plain": [
       "238"
      ]
     },
     "execution_count": 24,
     "metadata": {},
     "output_type": "execute_result"
    }
   ],
   "source": [
    "len(errors)"
   ]
  },
  {
   "cell_type": "code",
   "execution_count": 25,
   "metadata": {},
   "outputs": [
    {
     "name": "stdout",
     "output_type": "stream",
     "text": [
      "[('male', 'female', 'Zippy'), ('male', 'female', 'Aubrey'), ('female', 'male', 'Ted'), ('male', 'female', 'Jodie'), ('female', 'male', 'Brittan'), ('male', 'female', 'Berke'), ('female', 'male', 'Daniel'), ('female', 'male', 'Rosario'), ('female', 'male', 'Jackelyn'), ('male', 'female', 'Ari'), ('male', 'female', 'Solly'), ('male', 'female', 'Pierre'), ('female', 'male', 'Ardys'), ('female', 'male', 'Juliann'), ('female', 'male', 'Mag'), ('male', 'female', 'Jule'), ('male', 'female', 'Jeramie'), ('female', 'male', 'Crystal'), ('female', 'male', 'Fern'), ('male', 'female', 'Curtice')]\n"
     ]
    }
   ],
   "source": [
    "print(errors[:20])"
   ]
  },
  {
   "cell_type": "code",
   "execution_count": 26,
   "metadata": {},
   "outputs": [
    {
     "name": "stdout",
     "output_type": "stream",
     "text": [
      "correct=female   guess=male   name=Abigail        \n",
      "correct=female   guess=male   name=Aileen         \n",
      "correct=female   guess=male   name=Alix           \n",
      "correct=female   guess=male   name=Allyson        \n",
      "correct=female   guess=male   name=Ambur          \n",
      "correct=female   guess=male   name=Anne-Mar       \n",
      "correct=female   guess=male   name=Ardys          \n",
      "correct=female   guess=male   name=Ariel          \n",
      "correct=female   guess=male   name=Beret          \n",
      "correct=female   guess=male   name=Birgit         \n",
      "correct=female   guess=male   name=Bridgett       \n",
      "correct=female   guess=male   name=Brigit         \n",
      "correct=female   guess=male   name=Brittan        \n",
      "correct=female   guess=male   name=Cal            \n",
      "correct=female   guess=male   name=Cameo          \n",
      "correct=female   guess=male   name=Caril          \n",
      "correct=female   guess=male   name=Carilyn        \n",
      "correct=female   guess=male   name=Cathrin        \n",
      "correct=female   guess=male   name=Cathyleen      \n",
      "correct=female   guess=male   name=Cecil          \n",
      "correct=female   guess=male   name=Charlean       \n",
      "correct=female   guess=male   name=Charo          \n",
      "correct=female   guess=male   name=Cherin         \n",
      "correct=female   guess=male   name=Claribel       \n",
      "correct=female   guess=male   name=Clovis         \n",
      "correct=female   guess=male   name=Coreen         \n",
      "correct=female   guess=male   name=Cristabel      \n",
      "correct=female   guess=male   name=Crystal        \n",
      "correct=female   guess=male   name=Daniel         \n",
      "correct=female   guess=male   name=Daryl          \n",
      "correct=female   guess=male   name=Diahann        \n",
      "correct=female   guess=male   name=Dorcas         \n",
      "correct=female   guess=male   name=Drew           \n",
      "correct=female   guess=male   name=Ellyn          \n",
      "correct=female   guess=male   name=Emlynn         \n",
      "correct=female   guess=male   name=Ethel          \n",
      "correct=female   guess=male   name=Fawn           \n",
      "correct=female   guess=male   name=Fern           \n",
      "correct=female   guess=male   name=Flor           \n",
      "correct=female   guess=male   name=Flower         \n",
      "correct=female   guess=male   name=Fred           \n",
      "correct=female   guess=male   name=Gennifer       \n",
      "correct=female   guess=male   name=Gretal         \n",
      "correct=female   guess=male   name=Gretchen       \n",
      "correct=female   guess=male   name=Grier          \n",
      "correct=female   guess=male   name=Gwendolin      \n",
      "correct=female   guess=male   name=Gwenn          \n",
      "correct=female   guess=male   name=Harriett       \n",
      "correct=female   guess=male   name=Harriot        \n",
      "correct=female   guess=male   name=Hedwig         \n",
      "correct=female   guess=male   name=Helyn          \n",
      "correct=female   guess=male   name=Hildagard      \n",
      "correct=female   guess=male   name=Honor          \n",
      "correct=female   guess=male   name=Ingaborg       \n",
      "correct=female   guess=male   name=Isobel         \n",
      "correct=female   guess=male   name=Izabel         \n",
      "correct=female   guess=male   name=Jackelyn       \n",
      "correct=female   guess=male   name=Janean         \n",
      "correct=female   guess=male   name=Janel          \n",
      "correct=female   guess=male   name=Jenn           \n",
      "correct=female   guess=male   name=Jewell         \n",
      "correct=female   guess=male   name=Jill           \n",
      "correct=female   guess=male   name=Joan           \n",
      "correct=female   guess=male   name=Joell          \n",
      "correct=female   guess=male   name=Jonell         \n",
      "correct=female   guess=male   name=Joslyn         \n",
      "correct=female   guess=male   name=Joyann         \n",
      "correct=female   guess=male   name=Juliann        \n",
      "correct=female   guess=male   name=Justin         \n",
      "correct=female   guess=male   name=Kaitlynn       \n",
      "correct=female   guess=male   name=Karin          \n",
      "correct=female   guess=male   name=Kat            \n",
      "correct=female   guess=male   name=Katleen        \n",
      "correct=female   guess=male   name=Kristyn        \n",
      "correct=female   guess=male   name=Kym            \n",
      "correct=female   guess=male   name=Laural         \n",
      "correct=female   guess=male   name=Lillian        \n",
      "correct=female   guess=male   name=Lind           \n",
      "correct=female   guess=male   name=Lois           \n",
      "correct=female   guess=male   name=Loreen         \n",
      "correct=female   guess=male   name=Lyn            \n",
      "correct=female   guess=male   name=Mabel          \n",
      "correct=female   guess=male   name=Mag            \n",
      "correct=female   guess=male   name=Margot         \n",
      "correct=female   guess=male   name=Marieann       \n",
      "correct=female   guess=male   name=Marin          \n",
      "correct=female   guess=male   name=Marlo          \n",
      "correct=female   guess=male   name=Marris         \n",
      "correct=female   guess=male   name=Meagan         \n",
      "correct=female   guess=male   name=Megen          \n",
      "correct=female   guess=male   name=Melisent       \n",
      "correct=female   guess=male   name=Mildred        \n",
      "correct=female   guess=male   name=Mildrid        \n",
      "correct=female   guess=male   name=Mirabel        \n",
      "correct=female   guess=male   name=Morgan         \n",
      "correct=female   guess=male   name=Nadean         \n",
      "correct=female   guess=male   name=Nadeen         \n",
      "correct=female   guess=male   name=Nicol          \n",
      "correct=female   guess=male   name=Norean         \n",
      "correct=female   guess=male   name=Orel           \n",
      "correct=female   guess=male   name=Philis         \n",
      "correct=female   guess=male   name=Renel          \n",
      "correct=female   guess=male   name=Rhiamon        \n",
      "correct=female   guess=male   name=Rosamund       \n",
      "correct=female   guess=male   name=Rosario        \n",
      "correct=female   guess=male   name=Row            \n",
      "correct=female   guess=male   name=Roz            \n",
      "correct=female   guess=male   name=Rozamond       \n",
      "correct=female   guess=male   name=Ruthann        \n",
      "correct=female   guess=male   name=Saraann        \n",
      "correct=female   guess=male   name=Shir           \n",
      "correct=female   guess=male   name=Shirleen       \n",
      "correct=female   guess=male   name=Ted            \n",
      "correct=female   guess=male   name=Umeko          \n",
      "correct=female   guess=male   name=Wallis         \n",
      "correct=female   guess=male   name=Wandis         \n",
      "correct=female   guess=male   name=Wilow          \n",
      "correct=female   guess=male   name=Yoshiko        \n",
      "correct=male     guess=female name=Adlai          \n",
      "correct=male     guess=female name=Aldrich        \n",
      "correct=male     guess=female name=Alfie          \n",
      "correct=male     guess=female name=Allah          \n",
      "correct=male     guess=female name=Alley          \n",
      "correct=male     guess=female name=Andre          \n",
      "correct=male     guess=female name=Anthony        \n",
      "correct=male     guess=female name=Archy          \n",
      "correct=male     guess=female name=Ari            \n",
      "correct=male     guess=female name=Ash            \n",
      "correct=male     guess=female name=Aubrey         \n",
      "correct=male     guess=female name=Baily          \n",
      "correct=male     guess=female name=Barth          \n",
      "correct=male     guess=female name=Bartholemy     \n",
      "correct=male     guess=female name=Bealle         \n",
      "correct=male     guess=female name=Bela           \n",
      "correct=male     guess=female name=Berke          \n",
      "correct=male     guess=female name=Berkie         \n",
      "correct=male     guess=female name=Bertie         \n",
      "correct=male     guess=female name=Broddy         \n",
      "correct=male     guess=female name=Brodie         \n",
      "correct=male     guess=female name=Brody          \n",
      "correct=male     guess=female name=Carey          \n",
      "correct=male     guess=female name=Chase          \n",
      "correct=male     guess=female name=Clarke         \n",
      "correct=male     guess=female name=Clayborne      \n",
      "correct=male     guess=female name=Cole           \n",
      "correct=male     guess=female name=Curtice        \n",
      "correct=male     guess=female name=Daffy          \n",
      "correct=male     guess=female name=Daryle         \n",
      "correct=male     guess=female name=Dmitri         \n",
      "correct=male     guess=female name=Donnie         \n",
      "correct=male     guess=female name=Ezra           \n",
      "correct=male     guess=female name=Finley         \n",
      "correct=male     guess=female name=Fletch         \n",
      "correct=male     guess=female name=Franky         \n",
      "correct=male     guess=female name=Freddie        \n",
      "correct=male     guess=female name=Garcia         \n",
      "correct=male     guess=female name=Garvy          \n",
      "correct=male     guess=female name=Giffie         \n",
      "correct=male     guess=female name=Giovanne       \n",
      "correct=male     guess=female name=Greggory       \n",
      "correct=male     guess=female name=Guthry         \n",
      "correct=male     guess=female name=Harley         \n",
      "correct=male     guess=female name=Hartley        \n",
      "correct=male     guess=female name=Heath          \n",
      "correct=male     guess=female name=Henri          \n",
      "correct=male     guess=female name=Hezekiah       \n",
      "correct=male     guess=female name=Horace         \n",
      "correct=male     guess=female name=Hugh           \n",
      "correct=male     guess=female name=Humphrey       \n",
      "correct=male     guess=female name=Huntley        \n",
      "correct=male     guess=female name=Jay            \n",
      "correct=male     guess=female name=Jedediah       \n",
      "correct=male     guess=female name=Jeffery        \n",
      "correct=male     guess=female name=Jeramie        \n",
      "correct=male     guess=female name=Jereme         \n",
      "correct=male     guess=female name=Jeromy         \n",
      "correct=male     guess=female name=Jodie          \n",
      "correct=male     guess=female name=Juanita        \n",
      "correct=male     guess=female name=Jule           \n",
      "correct=male     guess=female name=Kenny          \n",
      "correct=male     guess=female name=Laurence       \n",
      "correct=male     guess=female name=Lefty          \n",
      "correct=male     guess=female name=Leslie         \n",
      "correct=male     guess=female name=Lonnie         \n",
      "correct=male     guess=female name=Louie          \n",
      "correct=male     guess=female name=Luce           \n",
      "correct=male     guess=female name=Marietta       \n",
      "correct=male     guess=female name=Matty          \n",
      "correct=male     guess=female name=Mike           \n",
      "correct=male     guess=female name=Mitch          \n",
      "correct=male     guess=female name=Morry          \n",
      "correct=male     guess=female name=Mortie         \n",
      "correct=male     guess=female name=Morty          \n",
      "correct=male     guess=female name=Murdoch        \n",
      "correct=male     guess=female name=Murray         \n",
      "correct=male     guess=female name=Noach          \n",
      "correct=male     guess=female name=Obie           \n",
      "correct=male     guess=female name=Ole            \n",
      "correct=male     guess=female name=Ollie          \n",
      "correct=male     guess=female name=Patrice        \n",
      "correct=male     guess=female name=Pierre         \n",
      "correct=male     guess=female name=Pryce          \n",
      "correct=male     guess=female name=Radcliffe      \n",
      "correct=male     guess=female name=Rafe           \n",
      "correct=male     guess=female name=Rene           \n",
      "correct=male     guess=female name=Reza           \n",
      "correct=male     guess=female name=Rich           \n",
      "correct=male     guess=female name=Roddie         \n",
      "correct=male     guess=female name=Ronny          \n",
      "correct=male     guess=female name=Ruddie         \n",
      "correct=male     guess=female name=Sammy          \n",
      "correct=male     guess=female name=Scotti         \n",
      "correct=male     guess=female name=Sheffie        \n",
      "correct=male     guess=female name=Skippy         \n",
      "correct=male     guess=female name=Slade          \n",
      "correct=male     guess=female name=Smith          \n",
      "correct=male     guess=female name=Smitty         \n",
      "correct=male     guess=female name=Solly          \n",
      "correct=male     guess=female name=Sonny          \n",
      "correct=male     guess=female name=Tabby          \n",
      "correct=male     guess=female name=Tammy          \n",
      "correct=male     guess=female name=Terry          \n",
      "correct=male     guess=female name=Thane          \n",
      "correct=male     guess=female name=Tobie          \n",
      "correct=male     guess=female name=Torre          \n",
      "correct=male     guess=female name=Trace          \n",
      "correct=male     guess=female name=Tre            \n",
      "correct=male     guess=female name=Vasili         \n",
      "correct=male     guess=female name=Virgie         \n",
      "correct=male     guess=female name=Wade           \n",
      "correct=male     guess=female name=Warde          \n",
      "correct=male     guess=female name=Ware           \n",
      "correct=male     guess=female name=Willie         \n",
      "correct=male     guess=female name=Winnie         \n",
      "correct=male     guess=female name=Wittie         \n",
      "correct=male     guess=female name=Wylie          \n",
      "correct=male     guess=female name=Yehudi         \n",
      "correct=male     guess=female name=Zippy          \n"
     ]
    }
   ],
   "source": [
    "for (tag,guess,name) in sorted(errors):\n",
    "    print(f'correct={tag:8} guess={guess:6} name={name:15}')"
   ]
  },
  {
   "cell_type": "code",
   "execution_count": 27,
   "metadata": {},
   "outputs": [
    {
     "data": {
      "text/plain": [
       "0.784"
      ]
     },
     "execution_count": 27,
     "metadata": {},
     "output_type": "execute_result"
    }
   ],
   "source": [
    "def gender_features(word):\n",
    "    return {'last_two_letter':word[-2:]}\n",
    "train_set = [(gender_features(n),gender)\n",
    "            for (n,gender) in train_names]\n",
    "devtest_set = [(gender_features(n),gender)\n",
    "            for (n,gender) in devtest_names]\n",
    "classifier = nltk.NaiveBayesClassifier.train(train_set)\n",
    "nltk.classify.accuracy(classifier,devtest_set)"
   ]
  },
  {
   "cell_type": "code",
   "execution_count": null,
   "metadata": {},
   "outputs": [],
   "source": []
  }
 ],
 "metadata": {
  "kernelspec": {
   "display_name": "Python 3",
   "language": "python",
   "name": "python3"
  },
  "language_info": {
   "codemirror_mode": {
    "name": "ipython",
    "version": 3
   },
   "file_extension": ".py",
   "mimetype": "text/x-python",
   "name": "python",
   "nbconvert_exporter": "python",
   "pygments_lexer": "ipython3",
   "version": "3.8.5"
  }
 },
 "nbformat": 4,
 "nbformat_minor": 4
}
