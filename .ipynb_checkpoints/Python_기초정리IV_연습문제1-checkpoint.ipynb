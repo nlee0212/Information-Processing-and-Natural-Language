{
 "cells": [
  {
   "cell_type": "code",
   "execution_count": 25,
   "id": "functioning-interstate",
   "metadata": {},
   "outputs": [
    {
     "data": {
      "text/plain": [
       "'회원 명단입니다.\\nDonald Trump\\t\\tTrump.python@python.ac.kr\\nBarack Obama  obama@python.org\\n이상입니다.\\n'"
      ]
     },
     "execution_count": 25,
     "metadata": {},
     "output_type": "execute_result"
    }
   ],
   "source": [
    "a = '''회원 명단입니다.\n",
    "Donald Trump\\t\\tTrump.python@python.ac.kr\n",
    "Barack Obama  obama@python.org\n",
    "이상입니다.\n",
    "'''\n",
    "a"
   ]
  },
  {
   "cell_type": "code",
   "execution_count": 2,
   "id": "restricted-liabilities",
   "metadata": {},
   "outputs": [],
   "source": [
    "import re"
   ]
  },
  {
   "cell_type": "code",
   "execution_count": 26,
   "id": "dangerous-iraqi",
   "metadata": {},
   "outputs": [
    {
     "name": "stdout",
     "output_type": "stream",
     "text": [
      "Trump.python@python.ac.kr\n",
      "obama@python.org\n"
     ]
    }
   ],
   "source": [
    "for email in re.findall('[\\w.]*@[\\w.]*$',a,re.M):\n",
    "    print(email)"
   ]
  },
  {
   "cell_type": "code",
   "execution_count": 29,
   "id": "nearby-freight",
   "metadata": {},
   "outputs": [
    {
     "name": "stdout",
     "output_type": "stream",
     "text": [
      "Trump.python@python.ac.kr\n",
      "obama@python.org\n"
     ]
    }
   ],
   "source": [
    "print('\\n'.join(re.findall('[a-z.]+@[a-z.]+',a,re.I)))"
   ]
  },
  {
   "cell_type": "code",
   "execution_count": null,
   "id": "civil-howard",
   "metadata": {},
   "outputs": [],
   "source": []
  }
 ],
 "metadata": {
  "kernelspec": {
   "display_name": "Python 3",
   "language": "python",
   "name": "python3"
  },
  "language_info": {
   "codemirror_mode": {
    "name": "ipython",
    "version": 3
   },
   "file_extension": ".py",
   "mimetype": "text/x-python",
   "name": "python",
   "nbconvert_exporter": "python",
   "pygments_lexer": "ipython3",
   "version": "3.8.8"
  }
 },
 "nbformat": 4,
 "nbformat_minor": 5
}
