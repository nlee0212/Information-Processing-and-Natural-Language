{
 "cells": [
  {
   "cell_type": "code",
   "execution_count": 1,
   "metadata": {},
   "outputs": [],
   "source": [
    "a = \"they're Bill's friends from the UK.\""
   ]
  },
  {
   "cell_type": "code",
   "execution_count": 2,
   "metadata": {},
   "outputs": [
    {
     "data": {
      "text/plain": [
       "\"THEY'RE BILL'S FRIENDS FROM THE UK.\""
      ]
     },
     "execution_count": 2,
     "metadata": {},
     "output_type": "execute_result"
    }
   ],
   "source": [
    "a.upper()"
   ]
  },
  {
   "cell_type": "code",
   "execution_count": 3,
   "metadata": {},
   "outputs": [
    {
     "data": {
      "text/plain": [
       "\"they're bill's friends from the uk.\""
      ]
     },
     "execution_count": 3,
     "metadata": {},
     "output_type": "execute_result"
    }
   ],
   "source": [
    "a.lower()"
   ]
  },
  {
   "cell_type": "code",
   "execution_count": 5,
   "metadata": {},
   "outputs": [
    {
     "data": {
      "text/plain": [
       "\"They're bill's friends from the uk.\""
      ]
     },
     "execution_count": 5,
     "metadata": {},
     "output_type": "execute_result"
    }
   ],
   "source": [
    "a.capitalize() # 맨 앞에 글자만 대문자, 나머지 다 소문자"
   ]
  },
  {
   "cell_type": "code",
   "execution_count": 6,
   "metadata": {},
   "outputs": [
    {
     "data": {
      "text/plain": [
       "\"They'Re Bill'S Friends From The Uk.\""
      ]
     },
     "execution_count": 6,
     "metadata": {},
     "output_type": "execute_result"
    }
   ],
   "source": [
    "a.title() # 단어 각각 첫글자를 대문자로. 나머지는 다 소문자"
   ]
  },
  {
   "cell_type": "code",
   "execution_count": 7,
   "metadata": {},
   "outputs": [
    {
     "data": {
      "text/plain": [
       "4"
      ]
     },
     "execution_count": 7,
     "metadata": {},
     "output_type": "execute_result"
    }
   ],
   "source": [
    "a.count('e')"
   ]
  },
  {
   "cell_type": "code",
   "execution_count": 8,
   "metadata": {},
   "outputs": [
    {
     "data": {
      "text/plain": [
       "2"
      ]
     },
     "execution_count": 8,
     "metadata": {},
     "output_type": "execute_result"
    }
   ],
   "source": [
    "a.find('e') # 왼쪽부터 가장 먼저 나오는 index"
   ]
  },
  {
   "cell_type": "code",
   "execution_count": 9,
   "metadata": {},
   "outputs": [
    {
     "data": {
      "text/plain": [
       "6"
      ]
     },
     "execution_count": 9,
     "metadata": {},
     "output_type": "execute_result"
    }
   ],
   "source": [
    "a.find('e',3) # 3번째 인덱스부터 출발"
   ]
  },
  {
   "cell_type": "code",
   "execution_count": 11,
   "metadata": {},
   "outputs": [
    {
     "data": {
      "text/plain": [
       "-1"
      ]
     },
     "execution_count": 11,
     "metadata": {},
     "output_type": "execute_result"
    }
   ],
   "source": [
    "a.find('e',3,6) # 3<=index<6에서 찾기\n",
    "# -1의 반환값: 없다!"
   ]
  },
  {
   "cell_type": "code",
   "execution_count": 12,
   "metadata": {},
   "outputs": [
    {
     "data": {
      "text/plain": [
       "30"
      ]
     },
     "execution_count": 12,
     "metadata": {},
     "output_type": "execute_result"
    }
   ],
   "source": [
    "a.rfind('e')"
   ]
  },
  {
   "cell_type": "code",
   "execution_count": 13,
   "metadata": {},
   "outputs": [
    {
     "data": {
      "text/plain": [
       "True"
      ]
     },
     "execution_count": 13,
     "metadata": {},
     "output_type": "execute_result"
    }
   ],
   "source": [
    "a.endswith('UK.')"
   ]
  },
  {
   "cell_type": "code",
   "execution_count": 14,
   "metadata": {},
   "outputs": [
    {
     "data": {
      "text/plain": [
       "True"
      ]
     },
     "execution_count": 14,
     "metadata": {},
     "output_type": "execute_result"
    }
   ],
   "source": [
    "a.startswith('t')"
   ]
  },
  {
   "cell_type": "code",
   "execution_count": 15,
   "metadata": {},
   "outputs": [
    {
     "data": {
      "text/plain": [
       "True"
      ]
     },
     "execution_count": 15,
     "metadata": {},
     "output_type": "execute_result"
    }
   ],
   "source": [
    "'abc한글123'.isalnum()"
   ]
  },
  {
   "cell_type": "code",
   "execution_count": 16,
   "metadata": {},
   "outputs": [
    {
     "data": {
      "text/plain": [
       "True"
      ]
     },
     "execution_count": 16,
     "metadata": {},
     "output_type": "execute_result"
    }
   ],
   "source": [
    "'abc한글'.isalpha()"
   ]
  },
  {
   "cell_type": "code",
   "execution_count": 17,
   "metadata": {},
   "outputs": [
    {
     "data": {
      "text/plain": [
       "True"
      ]
     },
     "execution_count": 17,
     "metadata": {},
     "output_type": "execute_result"
    }
   ],
   "source": [
    "'123'.isdigit()"
   ]
  },
  {
   "cell_type": "code",
   "execution_count": 18,
   "metadata": {},
   "outputs": [
    {
     "data": {
      "text/plain": [
       "True"
      ]
     },
     "execution_count": 18,
     "metadata": {},
     "output_type": "execute_result"
    }
   ],
   "source": [
    "'abc'.islower()"
   ]
  },
  {
   "cell_type": "code",
   "execution_count": 19,
   "metadata": {},
   "outputs": [
    {
     "data": {
      "text/plain": [
       "True"
      ]
     },
     "execution_count": 19,
     "metadata": {},
     "output_type": "execute_result"
    }
   ],
   "source": [
    "'ABC'.isupper()"
   ]
  },
  {
   "cell_type": "code",
   "execution_count": 20,
   "metadata": {},
   "outputs": [
    {
     "data": {
      "text/plain": [
       "True"
      ]
     },
     "execution_count": 20,
     "metadata": {},
     "output_type": "execute_result"
    }
   ],
   "source": [
    "'Abc Def'.istitle()"
   ]
  },
  {
   "cell_type": "code",
   "execution_count": 27,
   "metadata": {},
   "outputs": [
    {
     "data": {
      "text/plain": [
       "True"
      ]
     },
     "execution_count": 27,
     "metadata": {},
     "output_type": "execute_result"
    }
   ],
   "source": [
    "'a bc123^&*% '.isprintable() # 공백문자를 제외한 시각적인 효과를 줄 수 있는 애들만 띄어쓰기는 허용 (시각적인 효과 있음)"
   ]
  },
  {
   "cell_type": "code",
   "execution_count": 29,
   "metadata": {},
   "outputs": [
    {
     "data": {
      "text/plain": [
       "True"
      ]
     },
     "execution_count": 29,
     "metadata": {},
     "output_type": "execute_result"
    }
   ],
   "source": [
    "'\\t \\n'.isspace() # 공백문자로만 구성되어있나?"
   ]
  },
  {
   "cell_type": "code",
   "execution_count": 30,
   "metadata": {},
   "outputs": [],
   "source": [
    "a = \"\\t \\nI like\\t\\nprogramming.\\n\\n\""
   ]
  },
  {
   "cell_type": "code",
   "execution_count": 31,
   "metadata": {},
   "outputs": [
    {
     "data": {
      "text/plain": [
       "'I like\\t\\nprogramming.'"
      ]
     },
     "execution_count": 31,
     "metadata": {},
     "output_type": "execute_result"
    }
   ],
   "source": [
    "a.strip()"
   ]
  },
  {
   "cell_type": "code",
   "execution_count": 32,
   "metadata": {},
   "outputs": [
    {
     "data": {
      "text/plain": [
       "'\\t \\nI like\\t\\nprogramming.'"
      ]
     },
     "execution_count": 32,
     "metadata": {},
     "output_type": "execute_result"
    }
   ],
   "source": [
    "a.rstrip()"
   ]
  },
  {
   "cell_type": "code",
   "execution_count": 33,
   "metadata": {},
   "outputs": [
    {
     "data": {
      "text/plain": [
       "'I like\\t\\nprogramming.\\n\\n'"
      ]
     },
     "execution_count": 33,
     "metadata": {},
     "output_type": "execute_result"
    }
   ],
   "source": [
    "a.lstrip()"
   ]
  },
  {
   "cell_type": "code",
   "execution_count": 34,
   "metadata": {},
   "outputs": [
    {
     "data": {
      "text/plain": [
       "' \\nI like\\t\\npro'"
      ]
     },
     "execution_count": 34,
     "metadata": {},
     "output_type": "execute_result"
    }
   ],
   "source": [
    "a.strip('\\n.\\tgnimar')"
   ]
  },
  {
   "cell_type": "code",
   "execution_count": 35,
   "metadata": {},
   "outputs": [
    {
     "data": {
      "text/plain": [
       "'\\t \\nI like\\t\\nprograMMing.\\n\\n'"
      ]
     },
     "execution_count": 35,
     "metadata": {},
     "output_type": "execute_result"
    }
   ],
   "source": [
    "a.replace('m','M')"
   ]
  },
  {
   "cell_type": "code",
   "execution_count": 37,
   "metadata": {},
   "outputs": [
    {
     "data": {
      "text/plain": [
       "['I', 'like', 'programming.']"
      ]
     },
     "execution_count": 37,
     "metadata": {},
     "output_type": "execute_result"
    }
   ],
   "source": [
    "a.split() # 공백 문자를 기준으로 split"
   ]
  },
  {
   "cell_type": "code",
   "execution_count": 38,
   "metadata": {},
   "outputs": [
    {
     "data": {
      "text/plain": [
       "['\\t ', 'I like\\t', 'programming.', '', '']"
      ]
     },
     "execution_count": 38,
     "metadata": {},
     "output_type": "execute_result"
    }
   ],
   "source": [
    "a.split('\\n') # '\\n'이 리스트의 ,로 생각하면 됨"
   ]
  },
  {
   "cell_type": "code",
   "execution_count": 39,
   "metadata": {},
   "outputs": [
    {
     "data": {
      "text/plain": [
       "['\\t ', 'I like\\t', 'programming.', '']"
      ]
     },
     "execution_count": 39,
     "metadata": {},
     "output_type": "execute_result"
    }
   ],
   "source": [
    "a.splitlines() # 마지막에 \\n으로 끝나는 경우엔 그 뒤의 빈 문자열 list로 들어오지 않음. (split과는 다른 점)"
   ]
  },
  {
   "cell_type": "code",
   "execution_count": 40,
   "metadata": {},
   "outputs": [
    {
     "data": {
      "text/plain": [
       "['\\t ', 'I like\\t', 'programming.', '']"
      ]
     },
     "execution_count": 40,
     "metadata": {},
     "output_type": "execute_result"
    }
   ],
   "source": [
    "a.splitlines(False) #default"
   ]
  },
  {
   "cell_type": "code",
   "execution_count": 41,
   "metadata": {},
   "outputs": [
    {
     "data": {
      "text/plain": [
       "['\\t \\n', 'I like\\t\\n', 'programming.\\n', '\\n']"
      ]
     },
     "execution_count": 41,
     "metadata": {},
     "output_type": "execute_result"
    }
   ],
   "source": [
    "a.splitlines(True) #\\n도 출력"
   ]
  },
  {
   "cell_type": "code",
   "execution_count": 43,
   "metadata": {},
   "outputs": [
    {
     "data": {
      "text/plain": [
       "('\\t \\nI like\\t\\nprogrammi', 'ng', '.\\n\\n')"
      ]
     },
     "execution_count": 43,
     "metadata": {},
     "output_type": "execute_result"
    }
   ],
   "source": [
    "a.partition('ng') # tuple로 결과값. 항상 3개로 분리. 명시한 문자열이 중앙 원소로 옴"
   ]
  },
  {
   "cell_type": "code",
   "execution_count": 44,
   "metadata": {},
   "outputs": [
    {
     "data": {
      "text/plain": [
       "'I:like:programming.'"
      ]
     },
     "execution_count": 44,
     "metadata": {},
     "output_type": "execute_result"
    }
   ],
   "source": [
    "':'.join(a.split())"
   ]
  },
  {
   "cell_type": "code",
   "execution_count": 45,
   "metadata": {},
   "outputs": [
    {
     "name": "stdout",
     "output_type": "stream",
     "text": [
      "\n",
      "abc\n",
      "abc\n",
      "abc\n"
     ]
    }
   ],
   "source": [
    "a='\\nabc\\nabc\\nabc'\n",
    "print(a)"
   ]
  },
  {
   "cell_type": "code",
   "execution_count": 46,
   "metadata": {},
   "outputs": [],
   "source": [
    "b = a.strip('abc').splitlines(True)"
   ]
  },
  {
   "cell_type": "code",
   "execution_count": 47,
   "metadata": {},
   "outputs": [
    {
     "data": {
      "text/plain": [
       "['\\n', 'abc\\n', 'abc\\n']"
      ]
     },
     "execution_count": 47,
     "metadata": {},
     "output_type": "execute_result"
    }
   ],
   "source": [
    "b"
   ]
  },
  {
   "cell_type": "code",
   "execution_count": 48,
   "metadata": {},
   "outputs": [
    {
     "data": {
      "text/plain": [
       "'A*:*apple'"
      ]
     },
     "execution_count": 48,
     "metadata": {},
     "output_type": "execute_result"
    }
   ],
   "source": [
    "a = 'A:apple'\n",
    "b = '*'.join(a.partition(':'))\n",
    "b"
   ]
  },
  {
   "cell_type": "code",
   "execution_count": 50,
   "metadata": {},
   "outputs": [
    {
     "data": {
      "text/plain": [
       "['A', 'Apple']"
      ]
     },
     "execution_count": 50,
     "metadata": {},
     "output_type": "execute_result"
    }
   ],
   "source": [
    "a = 'A:apple'\n",
    "b = a.title().split(':')\n",
    "b"
   ]
  },
  {
   "cell_type": "code",
   "execution_count": 57,
   "metadata": {},
   "outputs": [],
   "source": [
    "a = [1,2,1,2,3]"
   ]
  },
  {
   "cell_type": "code",
   "execution_count": 58,
   "metadata": {},
   "outputs": [
    {
     "data": {
      "text/plain": [
       "[1, 2, 1, 2, 3, 3]"
      ]
     },
     "execution_count": 58,
     "metadata": {},
     "output_type": "execute_result"
    }
   ],
   "source": [
    "a.append(3); a"
   ]
  },
  {
   "cell_type": "code",
   "execution_count": 59,
   "metadata": {},
   "outputs": [
    {
     "data": {
      "text/plain": [
       "[1, 2, 1, 2, 3, 3, 4, 5]"
      ]
     },
     "execution_count": 59,
     "metadata": {},
     "output_type": "execute_result"
    }
   ],
   "source": [
    "a.extend([4,5]); a # 한 번에 여러 원소 뒤에 삽입"
   ]
  },
  {
   "cell_type": "code",
   "execution_count": 60,
   "metadata": {},
   "outputs": [
    {
     "data": {
      "text/plain": [
       "[1, 1, 2, 3, 3, 4, 5]"
      ]
     },
     "execution_count": 60,
     "metadata": {},
     "output_type": "execute_result"
    }
   ],
   "source": [
    "a.remove(2); a # 왼쪽부터 첫번째 원소 삭제. 하나만 삭제!!"
   ]
  },
  {
   "cell_type": "code",
   "execution_count": 61,
   "metadata": {},
   "outputs": [
    {
     "data": {
      "text/plain": [
       "[1, 1, 10, 2, 3, 3, 4, 5]"
      ]
     },
     "execution_count": 61,
     "metadata": {},
     "output_type": "execute_result"
    }
   ],
   "source": [
    "a.insert(2,10); a # 해당 index 자리에 value 삽입"
   ]
  },
  {
   "cell_type": "code",
   "execution_count": 62,
   "metadata": {},
   "outputs": [
    {
     "data": {
      "text/plain": [
       "2"
      ]
     },
     "execution_count": 62,
     "metadata": {},
     "output_type": "execute_result"
    }
   ],
   "source": [
    "a.count(3)"
   ]
  },
  {
   "cell_type": "code",
   "execution_count": 63,
   "metadata": {},
   "outputs": [
    {
     "data": {
      "text/plain": [
       "[5, 4, 3, 3, 2, 10, 1, 1]"
      ]
     },
     "execution_count": 63,
     "metadata": {},
     "output_type": "execute_result"
    }
   ],
   "source": [
    "a.reverse(); a"
   ]
  },
  {
   "cell_type": "code",
   "execution_count": 64,
   "metadata": {},
   "outputs": [
    {
     "data": {
      "text/plain": [
       "[1, 1, 2, 3, 3, 4, 5, 10]"
      ]
     },
     "execution_count": 64,
     "metadata": {},
     "output_type": "execute_result"
    }
   ],
   "source": [
    "a.sort(); a"
   ]
  },
  {
   "cell_type": "code",
   "execution_count": 65,
   "metadata": {},
   "outputs": [
    {
     "data": {
      "text/plain": [
       "[10, 5, 4, 3, 3, 2, 1, 1]"
      ]
     },
     "execution_count": 65,
     "metadata": {},
     "output_type": "execute_result"
    }
   ],
   "source": [
    "a.sort(reverse=True); a"
   ]
  },
  {
   "cell_type": "code",
   "execution_count": 66,
   "metadata": {},
   "outputs": [
    {
     "data": {
      "text/plain": [
       "{'b': 1, 'a': 2}"
      ]
     },
     "execution_count": 66,
     "metadata": {},
     "output_type": "execute_result"
    }
   ],
   "source": [
    "a = {'b':1,'a':2}\n",
    "a"
   ]
  },
  {
   "cell_type": "code",
   "execution_count": 67,
   "metadata": {},
   "outputs": [
    {
     "data": {
      "text/plain": [
       "2"
      ]
     },
     "execution_count": 67,
     "metadata": {},
     "output_type": "execute_result"
    }
   ],
   "source": [
    "a['a']"
   ]
  },
  {
   "cell_type": "code",
   "execution_count": 68,
   "metadata": {},
   "outputs": [
    {
     "data": {
      "text/plain": [
       "{'b': 1, 'a': 3}"
      ]
     },
     "execution_count": 68,
     "metadata": {},
     "output_type": "execute_result"
    }
   ],
   "source": [
    "a['a'] = 3; a"
   ]
  },
  {
   "cell_type": "code",
   "execution_count": 69,
   "metadata": {},
   "outputs": [],
   "source": [
    "a['c'] = 3"
   ]
  },
  {
   "cell_type": "code",
   "execution_count": 70,
   "metadata": {},
   "outputs": [
    {
     "data": {
      "text/plain": [
       "dict_values([1, 3, 3])"
      ]
     },
     "execution_count": 70,
     "metadata": {},
     "output_type": "execute_result"
    }
   ],
   "source": [
    "a.values()"
   ]
  },
  {
   "cell_type": "code",
   "execution_count": 71,
   "metadata": {},
   "outputs": [
    {
     "data": {
      "text/plain": [
       "dict_items([('b', 1), ('a', 3), ('c', 3)])"
      ]
     },
     "execution_count": 71,
     "metadata": {},
     "output_type": "execute_result"
    }
   ],
   "source": [
    "a.items()"
   ]
  },
  {
   "cell_type": "code",
   "execution_count": 72,
   "metadata": {},
   "outputs": [],
   "source": [
    "a.update({'b':4,'d':5})"
   ]
  },
  {
   "cell_type": "code",
   "execution_count": 73,
   "metadata": {},
   "outputs": [
    {
     "data": {
      "text/plain": [
       "{'b': 4, 'a': 3, 'c': 3, 'd': 5}"
      ]
     },
     "execution_count": 73,
     "metadata": {},
     "output_type": "execute_result"
    }
   ],
   "source": [
    "a"
   ]
  },
  {
   "cell_type": "code",
   "execution_count": 74,
   "metadata": {},
   "outputs": [
    {
     "data": {
      "text/plain": [
       "{'ab', 'bc'}"
      ]
     },
     "execution_count": 74,
     "metadata": {},
     "output_type": "execute_result"
    }
   ],
   "source": [
    "a = {'ab','bc','bc'}; a"
   ]
  },
  {
   "cell_type": "code",
   "execution_count": 75,
   "metadata": {},
   "outputs": [
    {
     "data": {
      "text/plain": [
       "{1, 'ab', 'bc'}"
      ]
     },
     "execution_count": 75,
     "metadata": {},
     "output_type": "execute_result"
    }
   ],
   "source": [
    "a.add(1); a"
   ]
  },
  {
   "cell_type": "code",
   "execution_count": 76,
   "metadata": {},
   "outputs": [
    {
     "data": {
      "text/plain": [
       "{1, 2, 3, 'ab', 'bc'}"
      ]
     },
     "execution_count": 76,
     "metadata": {},
     "output_type": "execute_result"
    }
   ],
   "source": [
    "a.update([2,3]); a"
   ]
  },
  {
   "cell_type": "code",
   "execution_count": 78,
   "metadata": {},
   "outputs": [
    {
     "data": {
      "text/plain": [
       "{1, 2, 'ab', 'bc'}"
      ]
     },
     "execution_count": 78,
     "metadata": {},
     "output_type": "execute_result"
    }
   ],
   "source": [
    "a.discard(3); a"
   ]
  },
  {
   "cell_type": "code",
   "execution_count": 79,
   "metadata": {},
   "outputs": [],
   "source": [
    "a = {1,2,3}; b = {2,3,4}"
   ]
  },
  {
   "cell_type": "code",
   "execution_count": 80,
   "metadata": {},
   "outputs": [
    {
     "data": {
      "text/plain": [
       "{1, 2, 3, 4}"
      ]
     },
     "execution_count": 80,
     "metadata": {},
     "output_type": "execute_result"
    }
   ],
   "source": [
    "a.union(b)"
   ]
  },
  {
   "cell_type": "code",
   "execution_count": 81,
   "metadata": {},
   "outputs": [
    {
     "data": {
      "text/plain": [
       "{1, 2, 3, 4}"
      ]
     },
     "execution_count": 81,
     "metadata": {},
     "output_type": "execute_result"
    }
   ],
   "source": [
    "a | b"
   ]
  },
  {
   "cell_type": "code",
   "execution_count": 83,
   "metadata": {},
   "outputs": [
    {
     "data": {
      "text/plain": [
       "{2, 3}"
      ]
     },
     "execution_count": 83,
     "metadata": {},
     "output_type": "execute_result"
    }
   ],
   "source": [
    "a.intersection(b) # 교집합"
   ]
  },
  {
   "cell_type": "code",
   "execution_count": 84,
   "metadata": {},
   "outputs": [
    {
     "data": {
      "text/plain": [
       "{2, 3}"
      ]
     },
     "execution_count": 84,
     "metadata": {},
     "output_type": "execute_result"
    }
   ],
   "source": [
    "a & b"
   ]
  },
  {
   "cell_type": "code",
   "execution_count": 85,
   "metadata": {},
   "outputs": [
    {
     "data": {
      "text/plain": [
       "{1}"
      ]
     },
     "execution_count": 85,
     "metadata": {},
     "output_type": "execute_result"
    }
   ],
   "source": [
    "a.difference(b) # a - b"
   ]
  },
  {
   "cell_type": "code",
   "execution_count": 86,
   "metadata": {},
   "outputs": [
    {
     "data": {
      "text/plain": [
       "{1}"
      ]
     },
     "execution_count": 86,
     "metadata": {},
     "output_type": "execute_result"
    }
   ],
   "source": [
    "a - b"
   ]
  },
  {
   "cell_type": "code",
   "execution_count": 87,
   "metadata": {},
   "outputs": [
    {
     "data": {
      "text/plain": [
       "{1, 4}"
      ]
     },
     "execution_count": 87,
     "metadata": {},
     "output_type": "execute_result"
    }
   ],
   "source": [
    "a.symmetric_difference(b) # (a - b) U (b - a)"
   ]
  },
  {
   "cell_type": "code",
   "execution_count": 88,
   "metadata": {},
   "outputs": [
    {
     "data": {
      "text/plain": [
       "{1, 4}"
      ]
     },
     "execution_count": 88,
     "metadata": {},
     "output_type": "execute_result"
    }
   ],
   "source": [
    "a ^ b"
   ]
  },
  {
   "cell_type": "code",
   "execution_count": 89,
   "metadata": {},
   "outputs": [],
   "source": [
    "# update들은 출력결과가 선행하는 변수에 저장!\n",
    "a = {1,2,3}; b = {2,3,4}"
   ]
  },
  {
   "cell_type": "code",
   "execution_count": 91,
   "metadata": {},
   "outputs": [
    {
     "data": {
      "text/plain": [
       "{1, 2, 3, 4}"
      ]
     },
     "execution_count": 91,
     "metadata": {},
     "output_type": "execute_result"
    }
   ],
   "source": [
    "a.update(b); a"
   ]
  },
  {
   "cell_type": "code",
   "execution_count": 92,
   "metadata": {},
   "outputs": [
    {
     "data": {
      "text/plain": [
       "{2, 3, 4}"
      ]
     },
     "execution_count": 92,
     "metadata": {},
     "output_type": "execute_result"
    }
   ],
   "source": [
    "a.intersection_update(b); a # a &= b"
   ]
  },
  {
   "cell_type": "code",
   "execution_count": 93,
   "metadata": {},
   "outputs": [
    {
     "data": {
      "text/plain": [
       "{1}"
      ]
     },
     "execution_count": 93,
     "metadata": {},
     "output_type": "execute_result"
    }
   ],
   "source": [
    "a = {1,2,3}; b = {2,3,4}\n",
    "a.difference_update(b); a # a -= b"
   ]
  },
  {
   "cell_type": "code",
   "execution_count": 95,
   "metadata": {},
   "outputs": [
    {
     "data": {
      "text/plain": [
       "{1, 4}"
      ]
     },
     "execution_count": 95,
     "metadata": {},
     "output_type": "execute_result"
    }
   ],
   "source": [
    "a = {1,2,3}; b = {2,3,4}\n",
    "a.symmetric_difference_update(b); a # a ^= b"
   ]
  },
  {
   "cell_type": "code",
   "execution_count": 96,
   "metadata": {},
   "outputs": [
    {
     "data": {
      "text/plain": [
       "['I',\n",
       " ' ',\n",
       " 'a',\n",
       " 'm',\n",
       " ' ',\n",
       " 'n',\n",
       " 'o',\n",
       " 't',\n",
       " ' ',\n",
       " 'g',\n",
       " 'o',\n",
       " 'o',\n",
       " 'd',\n",
       " ' ',\n",
       " 'i',\n",
       " 'n',\n",
       " ' ',\n",
       " 'p',\n",
       " 'r',\n",
       " 'o',\n",
       " 'g',\n",
       " 'r',\n",
       " 'a',\n",
       " 'm',\n",
       " 'm',\n",
       " 'i',\n",
       " 'n',\n",
       " 'g',\n",
       " '.']"
      ]
     },
     "execution_count": 96,
     "metadata": {},
     "output_type": "execute_result"
    }
   ],
   "source": [
    "a = \"I am not good in programming.\"\n",
    "b = list(a)\n",
    "b"
   ]
  },
  {
   "cell_type": "code",
   "execution_count": 97,
   "metadata": {},
   "outputs": [
    {
     "data": {
      "text/plain": [
       "['r', 't', 'm', 'n', 'p', 'g', 'd', 'i', ' ', 'o', '.', 'I', 'a']"
      ]
     },
     "execution_count": 97,
     "metadata": {},
     "output_type": "execute_result"
    }
   ],
   "source": [
    "a = \"I am not good in programming.\"\n",
    "b = list(set(a))\n",
    "b"
   ]
  },
  {
   "cell_type": "code",
   "execution_count": 100,
   "metadata": {},
   "outputs": [
    {
     "data": {
      "text/plain": [
       "{'I': 1,\n",
       " ' ': 5,\n",
       " 'a': 2,\n",
       " 'm': 3,\n",
       " 'n': 3,\n",
       " 'o': 4,\n",
       " 't': 1,\n",
       " 'g': 3,\n",
       " 'd': 1,\n",
       " 'i': 2,\n",
       " 'p': 1,\n",
       " 'r': 2,\n",
       " '.': 1}"
      ]
     },
     "execution_count": 100,
     "metadata": {},
     "output_type": "execute_result"
    }
   ],
   "source": [
    "a = \"I am not good in programming.\"\n",
    "b = {}\n",
    "for i in a:\n",
    "    b[i] = a.count(i)\n",
    "b"
   ]
  },
  {
   "cell_type": "code",
   "execution_count": 101,
   "metadata": {},
   "outputs": [],
   "source": [
    "c = list(b.items())"
   ]
  },
  {
   "cell_type": "code",
   "execution_count": 102,
   "metadata": {},
   "outputs": [
    {
     "data": {
      "text/plain": [
       "[('I', 1),\n",
       " (' ', 5),\n",
       " ('a', 2),\n",
       " ('m', 3),\n",
       " ('n', 3),\n",
       " ('o', 4),\n",
       " ('t', 1),\n",
       " ('g', 3),\n",
       " ('d', 1),\n",
       " ('i', 2),\n",
       " ('p', 1),\n",
       " ('r', 2),\n",
       " ('.', 1)]"
      ]
     },
     "execution_count": 102,
     "metadata": {},
     "output_type": "execute_result"
    }
   ],
   "source": [
    "c"
   ]
  },
  {
   "cell_type": "code",
   "execution_count": 103,
   "metadata": {},
   "outputs": [
    {
     "data": {
      "text/plain": [
       "[0, 1, 4, 9, 16, 25, 36, 49, 64, 81]"
      ]
     },
     "execution_count": 103,
     "metadata": {},
     "output_type": "execute_result"
    }
   ],
   "source": [
    "[k * k for k in range(10)]"
   ]
  },
  {
   "cell_type": "code",
   "execution_count": 105,
   "metadata": {},
   "outputs": [
    {
     "data": {
      "text/plain": [
       "[(1, 'a'), (1, 'b'), (1, 'c'), (3, 'a'), (3, 'b'), (3, 'c')]"
      ]
     },
     "execution_count": 105,
     "metadata": {},
     "output_type": "execute_result"
    }
   ],
   "source": [
    "[(x,y) for x in range(1,5) if x%2==1 for y in 'abc']"
   ]
  },
  {
   "cell_type": "code",
   "execution_count": 106,
   "metadata": {},
   "outputs": [
    {
     "data": {
      "text/plain": [
       "[(1, 'b'), (2, 'b'), (3, 'b'), (4, 'b')]"
      ]
     },
     "execution_count": 106,
     "metadata": {},
     "output_type": "execute_result"
    }
   ],
   "source": [
    "[(x,y) for x in range(1,5) for y in 'abc' if 'b' in y]"
   ]
  },
  {
   "cell_type": "code",
   "execution_count": 107,
   "metadata": {},
   "outputs": [
    {
     "data": {
      "text/plain": [
       "[(1, 'b'), (3, 'b')]"
      ]
     },
     "execution_count": 107,
     "metadata": {},
     "output_type": "execute_result"
    }
   ],
   "source": [
    "[(x,y) for x in range(1,5) if x%2==1 for y in 'abc' if 'b' in y]"
   ]
  },
  {
   "cell_type": "code",
   "execution_count": 108,
   "metadata": {},
   "outputs": [
    {
     "data": {
      "text/plain": [
       "['go', 'went', 'do', 'did']"
      ]
     },
     "execution_count": 108,
     "metadata": {},
     "output_type": "execute_result"
    }
   ],
   "source": [
    "[x[:-3] if x.endswith('ing') else x for x in ['going','went','doing','did']]"
   ]
  },
  {
   "cell_type": "code",
   "execution_count": 109,
   "metadata": {},
   "outputs": [
    {
     "data": {
      "text/plain": [
       "['walk', 'walk', 'walk']"
      ]
     },
     "execution_count": 109,
     "metadata": {},
     "output_type": "execute_result"
    }
   ],
   "source": [
    "[x[:-1] if x.endswith('s') else x[:-2] if x.endswith('ed') else x for x in ['walks','walked','walk']]"
   ]
  },
  {
   "cell_type": "code",
   "execution_count": 110,
   "metadata": {},
   "outputs": [
    {
     "data": {
      "text/plain": [
       "<generator object <genexpr> at 0x000001AD87036510>"
      ]
     },
     "execution_count": 110,
     "metadata": {},
     "output_type": "execute_result"
    }
   ],
   "source": [
    "# generator\n",
    "(i for i in range(5))"
   ]
  },
  {
   "cell_type": "code",
   "execution_count": 111,
   "metadata": {},
   "outputs": [
    {
     "data": {
      "text/plain": [
       "(0, 1, 2, 3, 4)"
      ]
     },
     "execution_count": 111,
     "metadata": {},
     "output_type": "execute_result"
    }
   ],
   "source": [
    "tuple(i for i in range(5))"
   ]
  },
  {
   "cell_type": "code",
   "execution_count": 112,
   "metadata": {},
   "outputs": [
    {
     "data": {
      "text/plain": [
       "{0, 1, 2, 3, 4}"
      ]
     },
     "execution_count": 112,
     "metadata": {},
     "output_type": "execute_result"
    }
   ],
   "source": [
    "{i for i in range(5)}"
   ]
  },
  {
   "cell_type": "code",
   "execution_count": 113,
   "metadata": {},
   "outputs": [
    {
     "data": {
      "text/plain": [
       "{0: 0, 1: 1, 2: 4, 3: 9, 4: 16}"
      ]
     },
     "execution_count": 113,
     "metadata": {},
     "output_type": "execute_result"
    }
   ],
   "source": [
    "{i:i*i for i in range(5)}"
   ]
  },
  {
   "cell_type": "code",
   "execution_count": 114,
   "metadata": {},
   "outputs": [],
   "source": [
    "Female = ['Susie','Eva','Stephanie']\n",
    "Male = ['Tom','Billy','Jefferson']\n",
    "names = [(x,y) for x in Female for y in Male]"
   ]
  },
  {
   "cell_type": "code",
   "execution_count": 115,
   "metadata": {},
   "outputs": [
    {
     "data": {
      "text/plain": [
       "[('Susie', 'Tom'),\n",
       " ('Susie', 'Billy'),\n",
       " ('Susie', 'Jefferson'),\n",
       " ('Eva', 'Tom'),\n",
       " ('Eva', 'Billy'),\n",
       " ('Eva', 'Jefferson'),\n",
       " ('Stephanie', 'Tom'),\n",
       " ('Stephanie', 'Billy'),\n",
       " ('Stephanie', 'Jefferson')]"
      ]
     },
     "execution_count": 115,
     "metadata": {},
     "output_type": "execute_result"
    }
   ],
   "source": [
    "names"
   ]
  },
  {
   "cell_type": "code",
   "execution_count": 118,
   "metadata": {},
   "outputs": [],
   "source": [
    "names = [((x,len(x)),(y,len(y))) if len(x)>=len(y) else ((y,len(y)),(x,len(x))) for x in Female for y in Male ]"
   ]
  },
  {
   "cell_type": "code",
   "execution_count": 119,
   "metadata": {},
   "outputs": [
    {
     "data": {
      "text/plain": [
       "[(('Susie', 5), ('Tom', 3)),\n",
       " (('Susie', 5), ('Billy', 5)),\n",
       " (('Jefferson', 9), ('Susie', 5)),\n",
       " (('Eva', 3), ('Tom', 3)),\n",
       " (('Billy', 5), ('Eva', 3)),\n",
       " (('Jefferson', 9), ('Eva', 3)),\n",
       " (('Stephanie', 9), ('Tom', 3)),\n",
       " (('Stephanie', 9), ('Billy', 5)),\n",
       " (('Stephanie', 9), ('Jefferson', 9))]"
      ]
     },
     "execution_count": 119,
     "metadata": {},
     "output_type": "execute_result"
    }
   ],
   "source": [
    "names"
   ]
  },
  {
   "cell_type": "code",
   "execution_count": 120,
   "metadata": {},
   "outputs": [],
   "source": [
    "import re"
   ]
  },
  {
   "cell_type": "code",
   "execution_count": 121,
   "metadata": {},
   "outputs": [
    {
     "data": {
      "text/plain": [
       "<re.Match object; span=(0, 1), match='1'>"
      ]
     },
     "execution_count": 121,
     "metadata": {},
     "output_type": "execute_result"
    }
   ],
   "source": [
    "re.match('1','1234')"
   ]
  },
  {
   "cell_type": "code",
   "execution_count": 122,
   "metadata": {},
   "outputs": [
    {
     "data": {
      "text/plain": [
       "re.Match"
      ]
     },
     "execution_count": 122,
     "metadata": {},
     "output_type": "execute_result"
    }
   ],
   "source": [
    "type(re.match('1','1234')) # 1로 시작하는지."
   ]
  },
  {
   "cell_type": "code",
   "execution_count": 123,
   "metadata": {},
   "outputs": [],
   "source": [
    "re.match('2','1234') # 2로 시작하지 않기 때문"
   ]
  },
  {
   "cell_type": "code",
   "execution_count": 124,
   "metadata": {},
   "outputs": [
    {
     "data": {
      "text/plain": [
       "NoneType"
      ]
     },
     "execution_count": 124,
     "metadata": {},
     "output_type": "execute_result"
    }
   ],
   "source": [
    "type(re.match('2','1234'))"
   ]
  },
  {
   "cell_type": "code",
   "execution_count": 125,
   "metadata": {},
   "outputs": [
    {
     "data": {
      "text/plain": [
       "'3456'"
      ]
     },
     "execution_count": 125,
     "metadata": {},
     "output_type": "execute_result"
    }
   ],
   "source": [
    "re.match('\\d+','3456abc\\t\\n..+?*').group() # group() -> matching 문자열 출력"
   ]
  },
  {
   "cell_type": "code",
   "execution_count": 126,
   "metadata": {},
   "outputs": [
    {
     "data": {
      "text/plain": [
       "'3456abc'"
      ]
     },
     "execution_count": 126,
     "metadata": {},
     "output_type": "execute_result"
    }
   ],
   "source": [
    "re.match('\\d+\\w+','3456abc\\t\\n..+?*').group()"
   ]
  },
  {
   "cell_type": "code",
   "execution_count": 127,
   "metadata": {},
   "outputs": [
    {
     "data": {
      "text/plain": [
       "'3456abc'"
      ]
     },
     "execution_count": 127,
     "metadata": {},
     "output_type": "execute_result"
    }
   ],
   "source": [
    "re.match('[\\w]+','3456abc\\t\\n..+?*').group()"
   ]
  },
  {
   "cell_type": "code",
   "execution_count": 128,
   "metadata": {},
   "outputs": [
    {
     "data": {
      "text/plain": [
       "'3456abc\\t\\n'"
      ]
     },
     "execution_count": 128,
     "metadata": {},
     "output_type": "execute_result"
    }
   ],
   "source": [
    "re.match('[\\w\\s]+','3456abc\\t\\n..+?*').group()"
   ]
  },
  {
   "cell_type": "code",
   "execution_count": 129,
   "metadata": {},
   "outputs": [
    {
     "data": {
      "text/plain": [
       "'3456abc\\t\\n..+?*'"
      ]
     },
     "execution_count": 129,
     "metadata": {},
     "output_type": "execute_result"
    }
   ],
   "source": [
    "re.match('[\\w\\s\\S]+','3456abc\\t\\n..+?*').group()"
   ]
  },
  {
   "cell_type": "code",
   "execution_count": 130,
   "metadata": {},
   "outputs": [
    {
     "data": {
      "text/plain": [
       "(0, 14)"
      ]
     },
     "execution_count": 130,
     "metadata": {},
     "output_type": "execute_result"
    }
   ],
   "source": [
    "re.match('[\\w\\s\\S]+','3456abc\\t\\n..+?*').span()"
   ]
  },
  {
   "cell_type": "code",
   "execution_count": 131,
   "metadata": {},
   "outputs": [
    {
     "data": {
      "text/plain": [
       "<re.Match object; span=(0, 2), match='\\t\\n'>"
      ]
     },
     "execution_count": 131,
     "metadata": {},
     "output_type": "execute_result"
    }
   ],
   "source": [
    "# match랑 비슷하지만 다른 search. 왼쪽부터 검색해나가며 일치 찾기\n",
    "re.search('\\s+','\\t\\n123\\t\\nabc\\t\\n')"
   ]
  },
  {
   "cell_type": "code",
   "execution_count": 134,
   "metadata": {},
   "outputs": [
    {
     "data": {
      "text/plain": [
       "<re.Match object; span=(10, 13), match='\\n\\n\\n'>"
      ]
     },
     "execution_count": 134,
     "metadata": {},
     "output_type": "execute_result"
    }
   ],
   "source": [
    "re.search('\\s+$','\\t\\n123\\t\\nabc\\n\\n\\n')"
   ]
  },
  {
   "cell_type": "code",
   "execution_count": 135,
   "metadata": {},
   "outputs": [
    {
     "data": {
      "text/plain": [
       "'\\n\\n\\n'"
      ]
     },
     "execution_count": 135,
     "metadata": {},
     "output_type": "execute_result"
    }
   ],
   "source": [
    "re.search('\\s+$','\\t\\n123\\t\\nabc\\n\\n\\n').group()"
   ]
  },
  {
   "cell_type": "code",
   "execution_count": 136,
   "metadata": {},
   "outputs": [
    {
     "data": {
      "text/plain": [
       "('\\n\\n\\n',)"
      ]
     },
     "execution_count": 136,
     "metadata": {},
     "output_type": "execute_result"
    }
   ],
   "source": [
    "re.search('(\\s+)$','\\t\\n123\\t\\nabc\\n\\n\\n').groups() \n",
    "# groups(): 출력형식 tuple. grouping된 요소가 있어야 함"
   ]
  },
  {
   "cell_type": "code",
   "execution_count": 137,
   "metadata": {},
   "outputs": [
    {
     "data": {
      "text/plain": [
       "('\\n',)"
      ]
     },
     "execution_count": 137,
     "metadata": {},
     "output_type": "execute_result"
    }
   ],
   "source": [
    "re.search('(\\s)+$','\\t\\n123\\t\\nabc\\n\\n\\n').groups()"
   ]
  },
  {
   "cell_type": "code",
   "execution_count": 138,
   "metadata": {},
   "outputs": [
    {
     "data": {
      "text/plain": [
       "('\\t\\n', '\\t\\n')"
      ]
     },
     "execution_count": 138,
     "metadata": {},
     "output_type": "execute_result"
    }
   ],
   "source": [
    "re.search('(\\s+)\\w+(\\s+)','\\t\\n123\\t\\nabc\\n\\n\\n').groups()"
   ]
  },
  {
   "cell_type": "code",
   "execution_count": 139,
   "metadata": {},
   "outputs": [
    {
     "data": {
      "text/plain": [
       "'\\t\\n123\\t\\n'"
      ]
     },
     "execution_count": 139,
     "metadata": {},
     "output_type": "execute_result"
    }
   ],
   "source": [
    "re.search('(\\s+)\\w+(\\s+)','\\t\\n123\\t\\nabc\\n\\n\\n').group()"
   ]
  },
  {
   "cell_type": "code",
   "execution_count": 141,
   "metadata": {},
   "outputs": [
    {
     "data": {
      "text/plain": [
       "[('park', '010-1234-5678'), ('lee', '010-4344-0807')]"
      ]
     },
     "execution_count": 141,
     "metadata": {},
     "output_type": "execute_result"
    }
   ],
   "source": [
    "re.findall('(\\w+)\\s+(\\d+[-]\\d+[-]\\d+)','park 010-1234-5678\\nlee 010-4344-0807')"
   ]
  },
  {
   "cell_type": "code",
   "execution_count": 142,
   "metadata": {},
   "outputs": [
    {
     "data": {
      "text/plain": [
       "[('park', '010-1234-5678', '1234-5678'), ('lee', '010-4344-0807', '4344-0807')]"
      ]
     },
     "execution_count": 142,
     "metadata": {},
     "output_type": "execute_result"
    }
   ],
   "source": [
    "re.findall('(\\w+)\\s+(\\d+[-](\\d+[-]\\d+))','park 010-1234-5678\\nlee 010-4344-0807')"
   ]
  },
  {
   "cell_type": "code",
   "execution_count": 143,
   "metadata": {},
   "outputs": [
    {
     "data": {
      "text/plain": [
       "[('park', '010-1234-5678', '1234', '5678'),\n",
       " ('lee', '010-4344-0807', '4344', '0807')]"
      ]
     },
     "execution_count": 143,
     "metadata": {},
     "output_type": "execute_result"
    }
   ],
   "source": [
    "re.findall('(\\w+)\\s+(\\d+[-](\\d+)[-](\\d+))','park 010-1234-5678\\nlee 010-4344-0807')"
   ]
  },
  {
   "cell_type": "code",
   "execution_count": 144,
   "metadata": {},
   "outputs": [
    {
     "data": {
      "text/plain": [
       "['', '123', 'abc', '']"
      ]
     },
     "execution_count": 144,
     "metadata": {},
     "output_type": "execute_result"
    }
   ],
   "source": [
    "re.split('\\W+','\\t\\n123..abc..\\n\\n\\n')"
   ]
  },
  {
   "cell_type": "code",
   "execution_count": 145,
   "metadata": {},
   "outputs": [
    {
     "data": {
      "text/plain": [
       "['', '123..abc..\\n\\n\\n']"
      ]
     },
     "execution_count": 145,
     "metadata": {},
     "output_type": "execute_result"
    }
   ],
   "source": [
    "re.split('\\W+','\\t\\n123..abc..\\n\\n\\n',1) # 첫번째 구분자만"
   ]
  },
  {
   "cell_type": "code",
   "execution_count": 146,
   "metadata": {},
   "outputs": [
    {
     "data": {
      "text/plain": [
       "['', '\\t\\n', '123', '..', 'abc', '..\\n\\n\\n', '']"
      ]
     },
     "execution_count": 146,
     "metadata": {},
     "output_type": "execute_result"
    }
   ],
   "source": [
    "re.split('(\\W+)','\\t\\n123..abc..\\n\\n\\n') # grouping -> 구분자도 다 나타남"
   ]
  },
  {
   "cell_type": "code",
   "execution_count": 147,
   "metadata": {},
   "outputs": [
    {
     "data": {
      "text/plain": [
       "['', '\\n', '123', '.', 'abc', '\\n', '']"
      ]
     },
     "execution_count": 147,
     "metadata": {},
     "output_type": "execute_result"
    }
   ],
   "source": [
    "re.split('(\\W)+','\\t\\n123..abc..\\n\\n\\n')"
   ]
  },
  {
   "cell_type": "code",
   "execution_count": 148,
   "metadata": {},
   "outputs": [
    {
     "data": {
      "text/plain": [
       "'white and white painting'"
      ]
     },
     "execution_count": 148,
     "metadata": {},
     "output_type": "execute_result"
    }
   ],
   "source": [
    "re.sub('red|blue','white','red and blue painting')"
   ]
  },
  {
   "cell_type": "code",
   "execution_count": 149,
   "metadata": {},
   "outputs": [
    {
     "data": {
      "text/plain": [
       "'white and blue painting'"
      ]
     },
     "execution_count": 149,
     "metadata": {},
     "output_type": "execute_result"
    }
   ],
   "source": [
    "re.sub('red|blue','white','red and blue painting',1) # 왼쪽에서부터 첫번째 단어만 바꿔라"
   ]
  },
  {
   "cell_type": "code",
   "execution_count": 150,
   "metadata": {},
   "outputs": [
    {
     "data": {
      "text/plain": [
       "'white blue painting'"
      ]
     },
     "execution_count": 150,
     "metadata": {},
     "output_type": "execute_result"
    }
   ],
   "source": [
    "re.sub('(red|blue) and','white','red and blue painting')"
   ]
  },
  {
   "cell_type": "code",
   "execution_count": 151,
   "metadata": {},
   "outputs": [
    {
     "data": {
      "text/plain": [
       "'red white painting'"
      ]
     },
     "execution_count": 151,
     "metadata": {},
     "output_type": "execute_result"
    }
   ],
   "source": [
    "re.sub('and (red|blue)','white','red and blue painting')"
   ]
  },
  {
   "cell_type": "code",
   "execution_count": 152,
   "metadata": {},
   "outputs": [
    {
     "data": {
      "text/plain": [
       "'3456abc\\t\\n'"
      ]
     },
     "execution_count": 152,
     "metadata": {},
     "output_type": "execute_result"
    }
   ],
   "source": [
    "re.match('[0-9a-z\\t\\n]+','3456abc\\t\\n.+?*').group()\n",
    "# '3456abc\\t\\n'"
   ]
  },
  {
   "cell_type": "code",
   "execution_count": 153,
   "metadata": {},
   "outputs": [
    {
     "data": {
      "text/plain": [
       "'3456abc\\t\\n.+?*'"
      ]
     },
     "execution_count": 153,
     "metadata": {},
     "output_type": "execute_result"
    }
   ],
   "source": [
    "re.match('[\\w\\s\\S]+','3456abc\\t\\n.+?*').group()\n",
    "# '3456abc\\t\\n.+?*'"
   ]
  },
  {
   "cell_type": "code",
   "execution_count": 154,
   "metadata": {},
   "outputs": [
    {
     "data": {
      "text/plain": [
       "<re.Match object; span=(0, 4), match='3456'>"
      ]
     },
     "execution_count": 154,
     "metadata": {},
     "output_type": "execute_result"
    }
   ],
   "source": [
    "re.match('\\d+','3456')"
   ]
  },
  {
   "cell_type": "code",
   "execution_count": 155,
   "metadata": {},
   "outputs": [
    {
     "data": {
      "text/plain": [
       "'\\napple 오렌지(Orange) Cherry\\n토마토(TOMATO) 1/3kg'"
      ]
     },
     "execution_count": 155,
     "metadata": {},
     "output_type": "execute_result"
    }
   ],
   "source": [
    "a = '''\n",
    "apple 오렌지(Orange) Cherry\n",
    "토마토(TOMATO) 1/3kg'''\n",
    "a"
   ]
  },
  {
   "cell_type": "code",
   "execution_count": 156,
   "metadata": {},
   "outputs": [
    {
     "data": {
      "text/plain": [
       "['', 'apple 오렌지(Orange) Cherry', '토마토(TOMATO) 1/3kg']"
      ]
     },
     "execution_count": 156,
     "metadata": {},
     "output_type": "execute_result"
    }
   ],
   "source": [
    "a.splitlines()\n",
    "# ['','apple 오렌지(Orange) Cherry','토마토(TOMATO) 1/3kg']"
   ]
  },
  {
   "cell_type": "code",
   "execution_count": 158,
   "metadata": {},
   "outputs": [
    {
     "data": {
      "text/plain": [
       "['\\n', 'apple 오렌지(Orange) Cherry\\n', '토마토(TOMATO) 1/3kg']"
      ]
     },
     "execution_count": 158,
     "metadata": {},
     "output_type": "execute_result"
    }
   ],
   "source": [
    "a.splitlines(True)\n",
    "# ['\\n','apple 오렌지(Orange) Cherry\\n','토마토(TOMATO) 1/3kg']"
   ]
  },
  {
   "cell_type": "code",
   "execution_count": 159,
   "metadata": {},
   "outputs": [
    {
     "data": {
      "text/plain": [
       "('', '\\n', 'apple 오렌지(Orange) Cherry\\n토마토(TOMATO) 1/3kg')"
      ]
     },
     "execution_count": 159,
     "metadata": {},
     "output_type": "execute_result"
    }
   ],
   "source": [
    "a.partition('\\n')\n",
    "# ('','\\n','apple 오렌지(Orange) Cherry\\n토마토(TOMATO) 1/3kg')"
   ]
  },
  {
   "cell_type": "code",
   "execution_count": 163,
   "metadata": {},
   "outputs": [
    {
     "data": {
      "text/plain": [
       "('apple 오렌지(Orange) Cherry',)"
      ]
     },
     "execution_count": 163,
     "metadata": {},
     "output_type": "execute_result"
    }
   ],
   "source": [
    "re.match('\\n(.+)\\n',a).groups()"
   ]
  },
  {
   "cell_type": "code",
   "execution_count": 165,
   "metadata": {},
   "outputs": [
    {
     "data": {
      "text/plain": [
       "('apple 오렌지(Orange) Cherry', '토마토(TOMATO) 1/3kg')"
      ]
     },
     "execution_count": 165,
     "metadata": {},
     "output_type": "execute_result"
    }
   ],
   "source": [
    "re.match('\\n(.+)\\n(.+)',a).groups()"
   ]
  },
  {
   "cell_type": "code",
   "execution_count": 169,
   "metadata": {},
   "outputs": [
    {
     "data": {
      "text/plain": [
       "('Orange', 'TOMATO')"
      ]
     },
     "execution_count": 169,
     "metadata": {},
     "output_type": "execute_result"
    }
   ],
   "source": [
    "re.match('\\D+[(](\\w+)[)]\\D+[(](\\w+)[)]',a).groups()"
   ]
  },
  {
   "cell_type": "code",
   "execution_count": 170,
   "metadata": {},
   "outputs": [],
   "source": [
    "a = '''홍길동\\t123456-1234567\n",
    "김영희\\t0123450123456'''"
   ]
  },
  {
   "cell_type": "code",
   "execution_count": 171,
   "metadata": {},
   "outputs": [
    {
     "name": "stdout",
     "output_type": "stream",
     "text": [
      "홍길동\t123456-1234567\n",
      "김영희\t0123450123456\n"
     ]
    }
   ],
   "source": [
    "print(a)"
   ]
  },
  {
   "cell_type": "code",
   "execution_count": 182,
   "metadata": {},
   "outputs": [
    {
     "name": "stdout",
     "output_type": "stream",
     "text": [
      "123456-1234567\n",
      "012345-0123456\n"
     ]
    }
   ],
   "source": [
    "for line in a.splitlines():\n",
    "    x,y = re.match('[\\w\\s]+(\\d{6})[-]?(\\d{7})',line).groups()\n",
    "    print(x+'-'+y)"
   ]
  },
  {
   "cell_type": "code",
   "execution_count": 185,
   "metadata": {},
   "outputs": [
    {
     "name": "stdout",
     "output_type": "stream",
     "text": [
      "123456-1234567\n",
      "012345-0123456\n"
     ]
    }
   ],
   "source": [
    "for x, y in re.findall('(\\d{6})[-]?(\\d{7})',a):\n",
    "    print(x+'-'+y)"
   ]
  },
  {
   "cell_type": "code",
   "execution_count": 186,
   "metadata": {},
   "outputs": [],
   "source": [
    "a = '''회원 명단입니다.\n",
    "Donald Trump\\t\\tTrump.python@python.ac.kr\n",
    "Barack Obama  obama@python.org\n",
    "이상입니다.\n",
    "'''"
   ]
  },
  {
   "cell_type": "code",
   "execution_count": 187,
   "metadata": {},
   "outputs": [
    {
     "name": "stdout",
     "output_type": "stream",
     "text": [
      "Trump.python@python.ac.kr\n",
      "obama@python.org\n"
     ]
    }
   ],
   "source": [
    "print('\\n'.join(re.findall('(\\S+[@]\\S+)',a)))"
   ]
  },
  {
   "cell_type": "code",
   "execution_count": 188,
   "metadata": {},
   "outputs": [
    {
     "data": {
      "text/plain": [
       "'<a href=\"in.html\">HERE<a href=\"out.html\">'"
      ]
     },
     "execution_count": 188,
     "metadata": {},
     "output_type": "execute_result"
    }
   ],
   "source": [
    "a = '<a href=\"in.html\">HERE<a href=\"out.html\">'\n",
    "a"
   ]
  },
  {
   "cell_type": "code",
   "execution_count": 189,
   "metadata": {},
   "outputs": [
    {
     "data": {
      "text/plain": [
       "'href=\"in.html\">HERE<a href=\"out.html\"'"
      ]
     },
     "execution_count": 189,
     "metadata": {},
     "output_type": "execute_result"
    }
   ],
   "source": [
    "re.search('href=\".*\"',a).group() # 일치하는 문자열 중 가장 큰 문자열을 찾음"
   ]
  },
  {
   "cell_type": "code",
   "execution_count": 190,
   "metadata": {},
   "outputs": [
    {
     "data": {
      "text/plain": [
       "'href=\"in.html\"'"
      ]
     },
     "execution_count": 190,
     "metadata": {},
     "output_type": "execute_result"
    }
   ],
   "source": [
    "re.search('href=\".*?\"',a).group() # 원랜 반복메타문자 ?. 하지만 ?가 반복메타문자 뒤에 오면 최소매칭 기능을 가짐."
   ]
  },
  {
   "cell_type": "code",
   "execution_count": 191,
   "metadata": {},
   "outputs": [
    {
     "data": {
      "text/plain": [
       "['href=\"in.html\"', 'href=\"out.html\"']"
      ]
     },
     "execution_count": 191,
     "metadata": {},
     "output_type": "execute_result"
    }
   ],
   "source": [
    "re.findall('href=\".*?\"',a)"
   ]
  },
  {
   "cell_type": "code",
   "execution_count": 192,
   "metadata": {},
   "outputs": [
    {
     "data": {
      "text/plain": [
       "['in.html', 'out.html']"
      ]
     },
     "execution_count": 192,
     "metadata": {},
     "output_type": "execute_result"
    }
   ],
   "source": [
    "re.findall('href=\"(.*?)\"',a)"
   ]
  },
  {
   "cell_type": "code",
   "execution_count": 193,
   "metadata": {},
   "outputs": [
    {
     "data": {
      "text/plain": [
       "['href=\"in.html\">HERE<a href=\"out.html\"']"
      ]
     },
     "execution_count": 193,
     "metadata": {},
     "output_type": "execute_result"
    }
   ],
   "source": [
    "re.findall('href=\".*\"',a)"
   ]
  },
  {
   "cell_type": "code",
   "execution_count": 194,
   "metadata": {},
   "outputs": [
    {
     "data": {
      "text/plain": [
       "['a', 'href', 'in', 'html', 'HERE', 'a', 'href', 'out', 'html']"
      ]
     },
     "execution_count": 194,
     "metadata": {},
     "output_type": "execute_result"
    }
   ],
   "source": [
    "re.findall('\\w+',a)"
   ]
  },
  {
   "cell_type": "code",
   "execution_count": 195,
   "metadata": {},
   "outputs": [
    {
     "data": {
      "text/plain": [
       "['123', 'abc']"
      ]
     },
     "execution_count": 195,
     "metadata": {},
     "output_type": "execute_result"
    }
   ],
   "source": [
    "re.findall('\\\\b.+\\\\b','\\t\\n123\\n\\tabc\\n\\n\\n')"
   ]
  },
  {
   "cell_type": "code",
   "execution_count": 196,
   "metadata": {},
   "outputs": [
    {
     "data": {
      "text/plain": [
       "['123abc']"
      ]
     },
     "execution_count": 196,
     "metadata": {},
     "output_type": "execute_result"
    }
   ],
   "source": [
    "re.findall('\\\\b.+\\\\b','\\t\\n123abc\\n\\n\\n')"
   ]
  },
  {
   "cell_type": "code",
   "execution_count": 197,
   "metadata": {},
   "outputs": [
    {
     "data": {
      "text/plain": [
       "['123..abc']"
      ]
     },
     "execution_count": 197,
     "metadata": {},
     "output_type": "execute_result"
    }
   ],
   "source": [
    "re.findall('\\\\b.+\\\\b','\\t\\n123..abc..\\n\\n\\n')"
   ]
  },
  {
   "cell_type": "code",
   "execution_count": 198,
   "metadata": {},
   "outputs": [
    {
     "data": {
      "text/plain": [
       "['1', '.', 'a', '.']"
      ]
     },
     "execution_count": 198,
     "metadata": {},
     "output_type": "execute_result"
    }
   ],
   "source": [
    "re.findall('\\\\b.','\\t123.abc.\\n')"
   ]
  },
  {
   "cell_type": "code",
   "execution_count": 199,
   "metadata": {},
   "outputs": [
    {
     "data": {
      "text/plain": [
       "['\\t', '3', '.', 'c']"
      ]
     },
     "execution_count": 199,
     "metadata": {},
     "output_type": "execute_result"
    }
   ],
   "source": [
    "re.findall('.\\\\b','\\t123.abc.\\n')"
   ]
  },
  {
   "cell_type": "code",
   "execution_count": 200,
   "metadata": {},
   "outputs": [
    {
     "data": {
      "text/plain": [
       "'ab'"
      ]
     },
     "execution_count": 200,
     "metadata": {},
     "output_type": "execute_result"
    }
   ],
   "source": [
    "re.match('.+','ab\\ncd').group()"
   ]
  },
  {
   "cell_type": "code",
   "execution_count": 201,
   "metadata": {},
   "outputs": [
    {
     "data": {
      "text/plain": [
       "'ab\\ncd'"
      ]
     },
     "execution_count": 201,
     "metadata": {},
     "output_type": "execute_result"
    }
   ],
   "source": [
    "re.match('.+','ab\\ncd',re.DOTALL).group() # 마침표가 \\n까지 포함할 수 있게끔 하는 것"
   ]
  },
  {
   "cell_type": "code",
   "execution_count": 202,
   "metadata": {},
   "outputs": [
    {
     "data": {
      "text/plain": [
       "'ab\\ncd'"
      ]
     },
     "execution_count": 202,
     "metadata": {},
     "output_type": "execute_result"
    }
   ],
   "source": [
    "re.match('.+','ab\\ncd',re.S).group() # re.DOTALL이랑 같음"
   ]
  },
  {
   "cell_type": "code",
   "execution_count": 203,
   "metadata": {},
   "outputs": [
    {
     "data": {
      "text/plain": [
       "'py'"
      ]
     },
     "execution_count": 203,
     "metadata": {},
     "output_type": "execute_result"
    }
   ],
   "source": [
    "re.match('[a-z]+','pyTHon').group()"
   ]
  },
  {
   "cell_type": "code",
   "execution_count": 204,
   "metadata": {},
   "outputs": [
    {
     "ename": "AttributeError",
     "evalue": "'NoneType' object has no attribute 'group'",
     "output_type": "error",
     "traceback": [
      "\u001b[1;31m---------------------------------------------------------------------------\u001b[0m",
      "\u001b[1;31mAttributeError\u001b[0m                            Traceback (most recent call last)",
      "\u001b[1;32m<ipython-input-204-21437609a948>\u001b[0m in \u001b[0;36m<module>\u001b[1;34m\u001b[0m\n\u001b[1;32m----> 1\u001b[1;33m \u001b[0mre\u001b[0m\u001b[1;33m.\u001b[0m\u001b[0mmatch\u001b[0m\u001b[1;33m(\u001b[0m\u001b[1;34m'[A-Z]+'\u001b[0m\u001b[1;33m,\u001b[0m\u001b[1;34m'pyTHon'\u001b[0m\u001b[1;33m)\u001b[0m\u001b[1;33m.\u001b[0m\u001b[0mgroup\u001b[0m\u001b[1;33m(\u001b[0m\u001b[1;33m)\u001b[0m\u001b[1;33m\u001b[0m\u001b[1;33m\u001b[0m\u001b[0m\n\u001b[0m",
      "\u001b[1;31mAttributeError\u001b[0m: 'NoneType' object has no attribute 'group'"
     ]
    }
   ],
   "source": [
    "re.match('[A-Z]+','pyTHon').group()"
   ]
  },
  {
   "cell_type": "code",
   "execution_count": 205,
   "metadata": {},
   "outputs": [
    {
     "data": {
      "text/plain": [
       "'pyTHon'"
      ]
     },
     "execution_count": 205,
     "metadata": {},
     "output_type": "execute_result"
    }
   ],
   "source": [
    "re.match('[A-Z]+','pyTHon',re.IGNORECASE).group()"
   ]
  },
  {
   "cell_type": "code",
   "execution_count": 206,
   "metadata": {},
   "outputs": [
    {
     "data": {
      "text/plain": [
       "'pyTHon'"
      ]
     },
     "execution_count": 206,
     "metadata": {},
     "output_type": "execute_result"
    }
   ],
   "source": [
    "re.match('[A-Z]+','pyTHon',re.I).group()"
   ]
  },
  {
   "cell_type": "code",
   "execution_count": 207,
   "metadata": {},
   "outputs": [
    {
     "data": {
      "text/plain": [
       "['ab']"
      ]
     },
     "execution_count": 207,
     "metadata": {},
     "output_type": "execute_result"
    }
   ],
   "source": [
    "re.findall('^[a-z]+','ab\\ncd\\nef')"
   ]
  },
  {
   "cell_type": "code",
   "execution_count": 208,
   "metadata": {},
   "outputs": [
    {
     "data": {
      "text/plain": [
       "['ab', 'cd', 'ef']"
      ]
     },
     "execution_count": 208,
     "metadata": {},
     "output_type": "execute_result"
    }
   ],
   "source": [
    "re.findall('^[a-z]+','ab\\ncd\\nef',re.MULTILINE) # \\n을 문자열의 시작/끝으로 인식"
   ]
  },
  {
   "cell_type": "code",
   "execution_count": 209,
   "metadata": {},
   "outputs": [
    {
     "data": {
      "text/plain": [
       "['ab', 'cd', 'ef']"
      ]
     },
     "execution_count": 209,
     "metadata": {},
     "output_type": "execute_result"
    }
   ],
   "source": [
    "re.findall('^[a-z]+','ab\\ncd\\nef',re.M)"
   ]
  },
  {
   "cell_type": "code",
   "execution_count": 210,
   "metadata": {},
   "outputs": [
    {
     "data": {
      "text/plain": [
       "['ef']"
      ]
     },
     "execution_count": 210,
     "metadata": {},
     "output_type": "execute_result"
    }
   ],
   "source": [
    "re.findall('[a-z]+$','ab\\ncd\\nef')"
   ]
  },
  {
   "cell_type": "code",
   "execution_count": 211,
   "metadata": {},
   "outputs": [
    {
     "data": {
      "text/plain": [
       "['ab', 'cd', 'ef']"
      ]
     },
     "execution_count": 211,
     "metadata": {},
     "output_type": "execute_result"
    }
   ],
   "source": [
    "re.findall('[a-z]+$','ab\\ncd\\nef',re.M)"
   ]
  },
  {
   "cell_type": "code",
   "execution_count": 212,
   "metadata": {},
   "outputs": [
    {
     "name": "stdout",
     "output_type": "stream",
     "text": [
      "*** Introductory Examples for the NLTK Book ***\n",
      "Loading text1, ..., text9 and sent1, ..., sent9\n",
      "Type the name of the text or sentence to view it.\n",
      "Type: 'texts()' or 'sents()' to list the materials.\n",
      "text1: Moby Dick by Herman Melville 1851\n",
      "text2: Sense and Sensibility by Jane Austen 1811\n",
      "text3: The Book of Genesis\n",
      "text4: Inaugural Address Corpus\n",
      "text5: Chat Corpus\n",
      "text6: Monty Python and the Holy Grail\n",
      "text7: Wall Street Journal\n",
      "text8: Personals Corpus\n",
      "text9: The Man Who Was Thursday by G . K . Chesterton 1908\n"
     ]
    }
   ],
   "source": [
    "from nltk.book import *"
   ]
  },
  {
   "cell_type": "code",
   "execution_count": 213,
   "metadata": {},
   "outputs": [
    {
     "data": {
      "text/plain": [
       "<Text: Moby Dick by Herman Melville 1851>"
      ]
     },
     "execution_count": 213,
     "metadata": {},
     "output_type": "execute_result"
    }
   ],
   "source": [
    "text1"
   ]
  },
  {
   "cell_type": "code",
   "execution_count": 214,
   "metadata": {},
   "outputs": [
    {
     "data": {
      "text/plain": [
       "nltk.text.Text"
      ]
     },
     "execution_count": 214,
     "metadata": {},
     "output_type": "execute_result"
    }
   ],
   "source": [
    "type(text1)"
   ]
  },
  {
   "cell_type": "code",
   "execution_count": 215,
   "metadata": {},
   "outputs": [
    {
     "data": {
      "text/plain": [
       "['[', 'Moby', 'Dick', 'by', 'Herman']"
      ]
     },
     "execution_count": 215,
     "metadata": {},
     "output_type": "execute_result"
    }
   ],
   "source": [
    "text1[:5]"
   ]
  },
  {
   "cell_type": "code",
   "execution_count": 216,
   "metadata": {},
   "outputs": [
    {
     "data": {
      "text/plain": [
       "260819"
      ]
     },
     "execution_count": 216,
     "metadata": {},
     "output_type": "execute_result"
    }
   ],
   "source": [
    "len(text1)"
   ]
  },
  {
   "cell_type": "code",
   "execution_count": 217,
   "metadata": {},
   "outputs": [],
   "source": [
    "import nltk"
   ]
  },
  {
   "cell_type": "code",
   "execution_count": 218,
   "metadata": {},
   "outputs": [],
   "source": [
    "from nltk import book"
   ]
  },
  {
   "cell_type": "code",
   "execution_count": 219,
   "metadata": {},
   "outputs": [
    {
     "data": {
      "text/plain": [
       "<Text: Moby Dick by Herman Melville 1851>"
      ]
     },
     "execution_count": 219,
     "metadata": {},
     "output_type": "execute_result"
    }
   ],
   "source": [
    "book.text1"
   ]
  },
  {
   "cell_type": "code",
   "execution_count": 220,
   "metadata": {},
   "outputs": [
    {
     "data": {
      "text/plain": [
       "nltk.text.Text"
      ]
     },
     "execution_count": 220,
     "metadata": {},
     "output_type": "execute_result"
    }
   ],
   "source": [
    "type(book.text1)"
   ]
  },
  {
   "cell_type": "code",
   "execution_count": 221,
   "metadata": {},
   "outputs": [
    {
     "data": {
      "text/plain": [
       "['[', 'Moby', 'Dick', 'by', 'Herman']"
      ]
     },
     "execution_count": 221,
     "metadata": {},
     "output_type": "execute_result"
    }
   ],
   "source": [
    "book.text1[:5]"
   ]
  },
  {
   "cell_type": "code",
   "execution_count": 222,
   "metadata": {},
   "outputs": [
    {
     "data": {
      "text/plain": [
       "list"
      ]
     },
     "execution_count": 222,
     "metadata": {},
     "output_type": "execute_result"
    }
   ],
   "source": [
    "type(book.text1[:5])"
   ]
  },
  {
   "cell_type": "markdown",
   "metadata": {},
   "source": [
    "# 용례 concordance: word + context"
   ]
  },
  {
   "cell_type": "code",
   "execution_count": 223,
   "metadata": {},
   "outputs": [
    {
     "name": "stdout",
     "output_type": "stream",
     "text": [
      "Displaying 25 of 14431 matches:\n",
      "nsumptive Usher to a Grammar School ) The pale Usher -- threadbare in coat , he\n",
      "hief , mockingly embellished with all the gay flags of all the known nations of\n",
      "llished with all the gay flags of all the known nations of the world . He loved\n",
      "gay flags of all the known nations of the world . He loved to dust his old gram\n",
      "gue leaving out , through ignorance , the letter H , which almost alone maketh \n",
      " letter H , which almost alone maketh the signification of the word , you deliv\n",
      "ost alone maketh the signification of the word , you deliver that which is not \n",
      "ALE . ... It is more immediately from the Dut . and Ger . WALLEN ; A . S . WALW\n",
      "ub - Sub appears to have gone through the long Vaticans and street - stalls of \n",
      " long Vaticans and street - stalls of the earth , picking up whatever random al\n",
      "t not , in every case at least , take the higgledy - piggledy whale statements \n",
      " cetology . Far from it . As touching the ancient authors generally , as well a\n",
      "ncient authors generally , as well as the poets here appearing , these extracts\n",
      " it up , Sub - Subs ! For by how much the more pains ye take to please the worl\n",
      "much the more pains ye take to please the world , by so much the more shall ye \n",
      "take to please the world , by so much the more shall ye for ever go thankless !\n",
      "t I could clear out Hampton Court and the Tuileries for ye ! But gulp down your\n",
      "gulp down your tears and hie aloft to the royal - mast with your hearts ; for y\n",
      "who have gone before are clearing out the seven - storied heavens , and making \n",
      " to shine after him ; One would think the deep to be hoary .\" -- JOB . \" Now th\n",
      "he deep to be hoary .\" -- JOB . \" Now the Lord had prepared a great fish to swa\n",
      "low up Jonah .\" -- JONAH . \" There go the ships ; there is that Leviathan whom \n",
      "herein .\" -- PSALMS . \" In that day , the Lord with his sore , and great , and \n",
      "strong sword , shall punish Leviathan the piercing serpent , even Leviathan tha\n",
      "t crooked serpent ; and he shall slay the dragon that is in the sea .\" -- ISAIA\n"
     ]
    }
   ],
   "source": [
    "book.text1.concordance('the')"
   ]
  },
  {
   "cell_type": "markdown",
   "metadata": {},
   "source": [
    "자연어 처리의 접근방식\n",
    "1. 규칙에 기반한 기호주의\n",
    "2. 자극과 반응간에 확률 값에 기반한 연결주의"
   ]
  },
  {
   "cell_type": "markdown",
   "metadata": {},
   "source": [
    "유용한 단서 찾기 가능.\n",
    "1. 규칙: 양옆에 어떤 품사가 오는지\n",
    "2. 확률적: 오른쪽, 왼쪽에 어떤 어휘 (품사의 어휘)들의 확률분포 출력"
   ]
  },
  {
   "cell_type": "code",
   "execution_count": 224,
   "metadata": {},
   "outputs": [
    {
     "name": "stdout",
     "output_type": "stream",
     "text": [
      "Displaying 5 of 14431 matches:\n",
      "chool ) The pale Us\n",
      "ith all the gay fla\n",
      " of all the known n\n",
      "ions of the world .\n",
      "rance , the letter \n"
     ]
    }
   ],
   "source": [
    "book.text1.concordance('the',width=20,lines=5)"
   ]
  },
  {
   "cell_type": "code",
   "execution_count": 225,
   "metadata": {},
   "outputs": [
    {
     "name": "stdout",
     "output_type": "stream",
     "text": [
      "Displaying 5 of 14431 matches:\n",
      "chool ) The pale Us\n",
      "ith all the gay fla\n",
      " of all the known n\n",
      "ions of the world .\n",
      "rance , the letter \n"
     ]
    },
    {
     "data": {
      "text/plain": [
       "NoneType"
      ]
     },
     "execution_count": 225,
     "metadata": {},
     "output_type": "execute_result"
    }
   ],
   "source": [
    "type(book.text1.concordance('the',width=20,lines=5))\n",
    "# type이 None type이라는 건 출력값은 어떤 변수에 저장할 수 없고, 내부에서 일시적으로 print()를 써서 출력. \n",
    "# 저장하고 싶으면 직접 함수를 만들어야 함. 따라서 관찰만 가능하다."
   ]
  },
  {
   "cell_type": "markdown",
   "metadata": {},
   "source": [
    "# 데이터 활용의 장점\n",
    "언어 직관에 의해 예측하기 어려운 유사성을 발견할 수 있다."
   ]
  },
  {
   "cell_type": "code",
   "execution_count": 226,
   "metadata": {},
   "outputs": [
    {
     "name": "stdout",
     "output_type": "stream",
     "text": [
      "Displaying 11 of 11 matches:\n",
      "ong the former , one was of a most monstrous size . ... This came towards us , \n",
      "ON OF THE PSALMS . \" Touching that monstrous bulk of the whale or ork we have r\n",
      "ll over with a heathenish array of monstrous clubs and spears . Some were thick\n",
      "d as you gazed , and wondered what monstrous cannibal and savage could ever hav\n",
      "that has survived the flood ; most monstrous and most mountainous ! That Himmal\n",
      "they might scout at Moby Dick as a monstrous fable , or still worse and more de\n",
      "th of Radney .'\" CHAPTER 55 Of the Monstrous Pictures of Whales . I shall ere l\n",
      "ing Scenes . In connexion with the monstrous pictures of whales , I am strongly\n",
      "ere to enter upon those still more monstrous stories of them which are to be fo\n",
      "ght have been rummaged out of this monstrous cabinet there is no telling . But \n",
      "of Whale - Bones ; for Whales of a monstrous size are oftentimes cast up dead u\n"
     ]
    }
   ],
   "source": [
    "book.text1.concordance('monstrous')"
   ]
  },
  {
   "cell_type": "code",
   "execution_count": 227,
   "metadata": {},
   "outputs": [
    {
     "name": "stdout",
     "output_type": "stream",
     "text": [
      "Displaying 2 of 2 matches:\n",
      " the murky light of that darkened , doleful day read the fate of the whalemen w\n",
      "ite perspectives . There ' s a most doleful and most mocking funeral ! The sea \n"
     ]
    }
   ],
   "source": [
    "book.text1.concordance('doleful')"
   ]
  },
  {
   "cell_type": "code",
   "execution_count": 228,
   "metadata": {},
   "outputs": [
    {
     "name": "stdout",
     "output_type": "stream",
     "text": [
      "Displaying 18 of 18 matches:\n",
      "es of systematic visits to it , and careful inquiry of the neighbors , that you\n",
      " by to come close alongside , now ! Careful , careful !-- come , Bildad , boy -\n",
      "e close alongside , now ! Careful , careful !-- come , Bildad , boy -- say your\n",
      "hem in the tropic voyage ye go . Be careful in the hunt , ye mates . Don ' t st\n",
      " Mr . Starbuck ; it ' ll spoil . Be careful with the butter -- twenty cents the\n",
      "d mate , \" Starbuck , there , is as careful a man as you ' ll find anywhere in \n",
      "shall ere long see what that word \" careful \" precisely means when used by a ma\n",
      "s of the quarter - deck , they were careful not to speak or rustle their feet .\n",
      " Mr . Starbuck , is by far the most careful and prudent . I suppose then , that\n",
      "ere are some enterprises in which a careful disorderliness is the true method .\n",
      "o the mincer . It enjoins him to be careful , and cut his work into as thin sli\n",
      " prove useful here . According to a careful calculation I have made , and which\n",
      "ty feet in length ; according to my careful calculation , I say , a Sperm Whale\n",
      "cklessness , Ahab did at times give careful heed to the condition of that dead \n",
      "ted on the voyage , in order that a careful selection of the stoutest , cleares\n",
      "ave , but nevertheless obeys ; most careful bravery that !\" murmured Ahab , as \n",
      "the centre of the serenity around . Careful not to touch him , or be noticed by\n",
      "led by lanterns in the complete and careful rigging of the spare boats and shar\n"
     ]
    }
   ],
   "source": [
    "book.text1.concordance('careful')"
   ]
  },
  {
   "cell_type": "markdown",
   "metadata": {},
   "source": [
    "# 공통 맥락 어휘 연쇄"
   ]
  },
  {
   "cell_type": "code",
   "execution_count": 229,
   "metadata": {},
   "outputs": [
    {
     "name": "stdout",
     "output_type": "stream",
     "text": [
      "most_and\n"
     ]
    }
   ],
   "source": [
    "book.text1.common_contexts(['monstrous','doleful','careful'])"
   ]
  },
  {
   "cell_type": "code",
   "execution_count": 230,
   "metadata": {},
   "outputs": [
    {
     "name": "stdout",
     "output_type": "stream",
     "text": [
      "most_and\n"
     ]
    }
   ],
   "source": [
    "book.text1.common_contexts(['monstrous','doleful'])"
   ]
  },
  {
   "cell_type": "code",
   "execution_count": 231,
   "metadata": {},
   "outputs": [
    {
     "name": "stdout",
     "output_type": "stream",
     "text": [
      "No common contexts were found\n"
     ]
    }
   ],
   "source": [
    "book.text1.common_contexts(['monstrous','very'])"
   ]
  },
  {
   "cell_type": "code",
   "execution_count": 232,
   "metadata": {},
   "outputs": [
    {
     "name": "stdout",
     "output_type": "stream",
     "text": [
      "am_glad a_pretty a_lucky is_pretty be_glad\n"
     ]
    }
   ],
   "source": [
    "book.text2.common_contexts(['monstrous','very'])"
   ]
  },
  {
   "cell_type": "markdown",
   "metadata": {},
   "source": [
    "무엇의 의미하는가?\n",
    "=> 공통적인 맥락도 text에 따라 다 다르게 나타날 수 있음. 언어가 다양성, 중의성을 가짐을 알 수 있음."
   ]
  },
  {
   "cell_type": "markdown",
   "metadata": {},
   "source": [
    "# 유사 맥락 연쇄의 어휘 목록"
   ]
  },
  {
   "cell_type": "code",
   "execution_count": 233,
   "metadata": {},
   "outputs": [
    {
     "name": "stdout",
     "output_type": "stream",
     "text": [
      "true contemptible christian abundant few mean careful puzzled\n",
      "mystifying passing curious loving doleful gamesome singular\n",
      "delightfully perilous fearless determined uncommon\n"
     ]
    }
   ],
   "source": [
    "book.text1.similar('monstrous') #형용사의 형태"
   ]
  },
  {
   "cell_type": "code",
   "execution_count": 234,
   "metadata": {},
   "outputs": [
    {
     "name": "stdout",
     "output_type": "stream",
     "text": [
      "very so exceedingly heartily a as good great extremely remarkably\n",
      "sweet vast amazingly\n"
     ]
    }
   ],
   "source": [
    "book.text2.similar('monstrous') # 부사의 형태"
   ]
  },
  {
   "cell_type": "markdown",
   "metadata": {},
   "source": [
    "어휘는 text마다, 환경마다 다른 용도로 사용됨"
   ]
  },
  {
   "cell_type": "markdown",
   "metadata": {},
   "source": [
    "# dispersion plot\n",
    "데이터를 다룬다는 것 => 관찰하기 어려웠던 부분을 좀 더 쉽게 nltk를 사용하여 파악 가능."
   ]
  },
  {
   "cell_type": "code",
   "execution_count": 235,
   "metadata": {},
   "outputs": [
    {
     "data": {
      "image/png": "[encoded data removed]",
      "text/plain": [
       "<Figure size 432x288 with 1 Axes>"
      ]
     },
     "metadata": {
      "needs_background": "light"
     },
     "output_type": "display_data"
    }
   ],
   "source": [
    "book.text4.dispersion_plot(['citizens','democracy','freedom','duties','America'])"
   ]
  },
  {
   "cell_type": "markdown",
   "metadata": {},
   "source": [
    "# 어휘 절대빈도, 상대빈도\n",
    "왜 상대빈도를 사용하는지: 단어가 text내에서 얼마나 자주 나타나는 것인지를 확인 가능"
   ]
  },
  {
   "cell_type": "code",
   "execution_count": 236,
   "metadata": {},
   "outputs": [
    {
     "data": {
      "text/plain": [
       "5"
      ]
     },
     "execution_count": 236,
     "metadata": {},
     "output_type": "execute_result"
    }
   ],
   "source": [
    "book.text3.count('smote') # 절대빈도"
   ]
  },
  {
   "cell_type": "code",
   "execution_count": 237,
   "metadata": {},
   "outputs": [
    {
     "data": {
      "text/plain": [
       "0.01116968992940756"
      ]
     },
     "execution_count": 237,
     "metadata": {},
     "output_type": "execute_result"
    }
   ],
   "source": [
    "(book.text3.count('smote')/len(book.text3))*100 # 상대빈도"
   ]
  },
  {
   "cell_type": "code",
   "execution_count": 238,
   "metadata": {},
   "outputs": [
    {
     "data": {
      "text/plain": [
       "2411"
      ]
     },
     "execution_count": 238,
     "metadata": {},
     "output_type": "execute_result"
    }
   ],
   "source": [
    "book.text3.count('the')"
   ]
  },
  {
   "cell_type": "code",
   "execution_count": 239,
   "metadata": {},
   "outputs": [
    {
     "data": {
      "text/plain": [
       "5.386024483960325"
      ]
     },
     "execution_count": 239,
     "metadata": {},
     "output_type": "execute_result"
    }
   ],
   "source": [
    "(book.text3.count('the')/len(book.text3))*100"
   ]
  },
  {
   "cell_type": "code",
   "execution_count": 240,
   "metadata": {},
   "outputs": [
    {
     "data": {
      "text/plain": [
       "5.386"
      ]
     },
     "execution_count": 240,
     "metadata": {},
     "output_type": "execute_result"
    }
   ],
   "source": [
    "round((book.text3.count('the')/len(book.text3))*100,3)"
   ]
  },
  {
   "cell_type": "code",
   "execution_count": 241,
   "metadata": {},
   "outputs": [
    {
     "data": {
      "text/plain": [
       "'5.386%'"
      ]
     },
     "execution_count": 241,
     "metadata": {},
     "output_type": "execute_result"
    }
   ],
   "source": [
    "'%.3f%%'%((book.text3.count('the')/len(book.text3))*100)"
   ]
  },
  {
   "cell_type": "code",
   "execution_count": 243,
   "metadata": {},
   "outputs": [
    {
     "data": {
      "text/plain": [
       "'5.386%'"
      ]
     },
     "execution_count": 243,
     "metadata": {},
     "output_type": "execute_result"
    }
   ],
   "source": [
    "'{:.3%}'.format((book.text3.count('the')/len(book.text3)))"
   ]
  },
  {
   "cell_type": "code",
   "execution_count": 246,
   "metadata": {},
   "outputs": [
    {
     "data": {
      "text/plain": [
       "'5.386%'"
      ]
     },
     "execution_count": 246,
     "metadata": {},
     "output_type": "execute_result"
    }
   ],
   "source": [
    "f'{book.text3.count(\"the\")/len(book.text3):.3%}' # 반드시 쌍따옴표 붙여야 함"
   ]
  },
  {
   "cell_type": "markdown",
   "metadata": {},
   "source": [
    "# token, type, type-token ratio"
   ]
  },
  {
   "cell_type": "code",
   "execution_count": 247,
   "metadata": {},
   "outputs": [
    {
     "data": {
      "text/plain": [
       "44764"
      ]
     },
     "execution_count": 247,
     "metadata": {},
     "output_type": "execute_result"
    }
   ],
   "source": [
    "len(book.text3) # 토큰 token 총 어휘수"
   ]
  },
  {
   "cell_type": "code",
   "execution_count": 248,
   "metadata": {},
   "outputs": [
    {
     "data": {
      "text/plain": [
       "2789"
      ]
     },
     "execution_count": 248,
     "metadata": {},
     "output_type": "execute_result"
    }
   ],
   "source": [
    "len(set(book.text3)) # 타입 type 서로 다른 어휘 종류 수"
   ]
  },
  {
   "cell_type": "code",
   "execution_count": 249,
   "metadata": {},
   "outputs": [
    {
     "data": {
      "text/plain": [
       "0.06230453042623537"
      ]
     },
     "execution_count": 249,
     "metadata": {},
     "output_type": "execute_result"
    }
   ],
   "source": [
    "len(set(book.text3))/len(book.text3) # 타입-토큰 비율 type-token ratio -> lexical diversity \n",
    "# 어휘다양도. 얼마나 다양한 어휘가 사용되었는지."
   ]
  },
  {
   "cell_type": "code",
   "execution_count": 250,
   "metadata": {},
   "outputs": [
    {
     "data": {
      "text/plain": [
       "0.062"
      ]
     },
     "execution_count": 250,
     "metadata": {},
     "output_type": "execute_result"
    }
   ],
   "source": [
    "round(len(set(book.text3))/len(book.text3),3)"
   ]
  },
  {
   "cell_type": "code",
   "execution_count": 251,
   "metadata": {},
   "outputs": [
    {
     "data": {
      "text/plain": [
       "0.066"
      ]
     },
     "execution_count": 251,
     "metadata": {},
     "output_type": "execute_result"
    }
   ],
   "source": [
    "round(len(set(book.text4))/len(book.text4),3)"
   ]
  },
  {
   "cell_type": "markdown",
   "metadata": {},
   "source": [
    "type-token ratio가 높을수록 다양한 어휘를 사용한다는 뜻. 즉 고급어휘를 많이 사용한다는 뜻. 글 수준이 높다는 뜻. 사회 계층이 높을수록 lexical diversity도 높아짐. lexical diversity가 낮다는 건 쉽게 기술되었다는 뜻으로도 해석 가능"
   ]
  },
  {
   "cell_type": "code",
   "execution_count": 252,
   "metadata": {},
   "outputs": [],
   "source": [
    "a = 'Tokens ='; b = 'Types/Tokens ='"
   ]
  },
  {
   "cell_type": "code",
   "execution_count": 253,
   "metadata": {},
   "outputs": [
    {
     "data": {
      "text/plain": [
       "'Tokens =        260,819'"
      ]
     },
     "execution_count": 253,
     "metadata": {},
     "output_type": "execute_result"
    }
   ],
   "source": [
    "f'{a:15}{len(book.text1):8,}'"
   ]
  },
  {
   "cell_type": "code",
   "execution_count": 254,
   "metadata": {},
   "outputs": [
    {
     "data": {
      "text/plain": [
       "'Types/Tokens =    0.074'"
      ]
     },
     "execution_count": 254,
     "metadata": {},
     "output_type": "execute_result"
    }
   ],
   "source": [
    "F'{b:<15}{len(set(book.text1))/len(book.text1):8.3f}'"
   ]
  },
  {
   "cell_type": "code",
   "execution_count": 255,
   "metadata": {},
   "outputs": [
    {
     "data": {
      "text/plain": [
       "'Tokens =        141,576'"
      ]
     },
     "execution_count": 255,
     "metadata": {},
     "output_type": "execute_result"
    }
   ],
   "source": [
    "'{:15}{:8,}'.format(a,len(book.text2))"
   ]
  },
  {
   "cell_type": "code",
   "execution_count": 256,
   "metadata": {},
   "outputs": [
    {
     "data": {
      "text/plain": [
       "'Types/Tokens =    0.048'"
      ]
     },
     "execution_count": 256,
     "metadata": {},
     "output_type": "execute_result"
    }
   ],
   "source": [
    "'{0:<15}{1:>8.3f}'.format(b,len(set(book.text2))/len(book.text2))"
   ]
  },
  {
   "cell_type": "code",
   "execution_count": 257,
   "metadata": {},
   "outputs": [
    {
     "data": {
      "text/plain": [
       "'Tokens =         44,764\\nTypes/Tokens =    0.062'"
      ]
     },
     "execution_count": 257,
     "metadata": {},
     "output_type": "execute_result"
    }
   ],
   "source": [
    "f'''{a:15}{len(book.text3):8,}\n",
    "{b:<15}{len(set(book.text3))/len(book.text3):8.3f}'''"
   ]
  },
  {
   "cell_type": "code",
   "execution_count": 258,
   "metadata": {},
   "outputs": [
    {
     "data": {
      "text/plain": [
       "0.074"
      ]
     },
     "execution_count": 258,
     "metadata": {},
     "output_type": "execute_result"
    }
   ],
   "source": [
    "round(len(set(book.text1))/len(book.text1),3)"
   ]
  },
  {
   "cell_type": "code",
   "execution_count": 259,
   "metadata": {},
   "outputs": [
    {
     "data": {
      "text/plain": [
       "0.048"
      ]
     },
     "execution_count": 259,
     "metadata": {},
     "output_type": "execute_result"
    }
   ],
   "source": [
    "round(len(set(book.text2))/len(book.text2),3)"
   ]
  },
  {
   "cell_type": "code",
   "execution_count": 260,
   "metadata": {},
   "outputs": [
    {
     "data": {
      "text/plain": [
       "0.062"
      ]
     },
     "execution_count": 260,
     "metadata": {},
     "output_type": "execute_result"
    }
   ],
   "source": [
    "round(len(set(book.text3))/len(book.text3),3)"
   ]
  },
  {
   "cell_type": "code",
   "execution_count": 261,
   "metadata": {},
   "outputs": [
    {
     "data": {
      "text/plain": [
       "0.167"
      ]
     },
     "execution_count": 261,
     "metadata": {},
     "output_type": "execute_result"
    }
   ],
   "source": [
    "import random\n",
    "sample = random.choices(book.text1,k=40000)\n",
    "round(len(set(sample))/len(sample),3)"
   ]
  },
  {
   "cell_type": "code",
   "execution_count": 262,
   "metadata": {},
   "outputs": [
    {
     "data": {
      "text/plain": [
       "0.093"
      ]
     },
     "execution_count": 262,
     "metadata": {},
     "output_type": "execute_result"
    }
   ],
   "source": [
    "sample = random.choices(book.text2,k=40000)\n",
    "round(len(set(sample))/len(sample),3)"
   ]
  },
  {
   "cell_type": "code",
   "execution_count": 263,
   "metadata": {},
   "outputs": [
    {
     "data": {
      "text/plain": [
       "0.055"
      ]
     },
     "execution_count": 263,
     "metadata": {},
     "output_type": "execute_result"
    }
   ],
   "source": [
    "sample = random.choices(book.text3,k=40000)\n",
    "round(len(set(sample))/len(sample),3)"
   ]
  },
  {
   "cell_type": "code",
   "execution_count": 267,
   "metadata": {},
   "outputs": [
    {
     "name": "stdout",
     "output_type": "stream",
     "text": [
      "average Type/Token ratio = 0.166\n"
     ]
    }
   ],
   "source": [
    "import random as rd\n",
    "a = [len(set(rd.choices(book.text1,k=40000)))/40000 for i in range(50)]\n",
    "print('average Type/Token ratio =',round(sum(a)/len(a),3))"
   ]
  },
  {
   "cell_type": "code",
   "execution_count": 270,
   "metadata": {},
   "outputs": [
    {
     "name": "stdout",
     "output_type": "stream",
     "text": [
      "average Type/Token ratio = 0.167\n"
     ]
    }
   ],
   "source": [
    "a = [len(set(j))/len(j) for j in [rd.choices(book.text1,k=40000) for i in range(50)]]\n",
    "print('average Type/Token ratio =',round(sum(a)/len(a),3))"
   ]
  },
  {
   "cell_type": "code",
   "execution_count": 271,
   "metadata": {},
   "outputs": [
    {
     "name": "stdout",
     "output_type": "stream",
     "text": [
      "Displaying 5 of 14431 matches:\n",
      "chool ) The pale Us\n",
      "ith all the gay fla\n",
      " of all the known n\n",
      "ions of the world .\n",
      "rance , the letter \n"
     ]
    }
   ],
   "source": [
    "book.text1.concordance('The',20,5) # 알아서 대소문자 구분 없이 concordance구해줌.\n",
    "# 하지만 반대로 대소문자 구분 없이 concordance하고 싶어도 바로 못함"
   ]
  },
  {
   "cell_type": "code",
   "execution_count": 272,
   "metadata": {},
   "outputs": [
    {
     "data": {
      "text/plain": [
       "13721"
      ]
     },
     "execution_count": 272,
     "metadata": {},
     "output_type": "execute_result"
    }
   ],
   "source": [
    "book.text1.count('the')"
   ]
  },
  {
   "cell_type": "code",
   "execution_count": 273,
   "metadata": {},
   "outputs": [
    {
     "data": {
      "text/plain": [
       "612"
      ]
     },
     "execution_count": 273,
     "metadata": {},
     "output_type": "execute_result"
    }
   ],
   "source": [
    "book.text1.count('The')"
   ]
  },
  {
   "cell_type": "code",
   "execution_count": 287,
   "metadata": {},
   "outputs": [],
   "source": [
    "def percentage(text,word):\n",
    "    new_text = [w.lower() for w in text]\n",
    "    print(f'Relative Frequency: {new_text.count(word.lower())/len(text):>5.3%}')"
   ]
  },
  {
   "cell_type": "code",
   "execution_count": 289,
   "metadata": {},
   "outputs": [
    {
     "name": "stdout",
     "output_type": "stream",
     "text": [
      "Relative Frequency: 2.900%\n"
     ]
    }
   ],
   "source": [
    "percentage(book.text2,'the')"
   ]
  },
  {
   "cell_type": "code",
   "execution_count": 290,
   "metadata": {},
   "outputs": [
    {
     "name": "stdout",
     "output_type": "stream",
     "text": [
      "Relative Frequency: 2.900%\n"
     ]
    }
   ],
   "source": [
    "percentage(book.text2,'The')"
   ]
  },
  {
   "cell_type": "code",
   "execution_count": 291,
   "metadata": {},
   "outputs": [],
   "source": [
    "Freq = nltk.FreqDist(book.text1)"
   ]
  },
  {
   "cell_type": "code",
   "execution_count": 292,
   "metadata": {},
   "outputs": [
    {
     "data": {
      "text/plain": [
       "FreqDist({',': 18713, 'the': 13721, '.': 6862, 'of': 6536, 'and': 6024, 'a': 4569, 'to': 4542, ';': 4072, 'in': 3916, 'that': 2982, ...})"
      ]
     },
     "execution_count": 292,
     "metadata": {},
     "output_type": "execute_result"
    }
   ],
   "source": [
    "Freq"
   ]
  },
  {
   "cell_type": "code",
   "execution_count": 293,
   "metadata": {},
   "outputs": [
    {
     "data": {
      "text/plain": [
       "nltk.probability.FreqDist"
      ]
     },
     "execution_count": 293,
     "metadata": {},
     "output_type": "execute_result"
    }
   ],
   "source": [
    "type(Freq)"
   ]
  },
  {
   "cell_type": "code",
   "execution_count": 294,
   "metadata": {},
   "outputs": [
    {
     "data": {
      "text/plain": [
       "[(',', 18713), ('the', 13721), ('.', 6862), ('of', 6536), ('and', 6024)]"
      ]
     },
     "execution_count": 294,
     "metadata": {},
     "output_type": "execute_result"
    }
   ],
   "source": [
    "Freq.most_common(5)"
   ]
  },
  {
   "cell_type": "code",
   "execution_count": 295,
   "metadata": {},
   "outputs": [
    {
     "data": {
      "text/plain": [
       "6536"
      ]
     },
     "execution_count": 295,
     "metadata": {},
     "output_type": "execute_result"
    }
   ],
   "source": [
    "Freq['of']"
   ]
  },
  {
   "cell_type": "code",
   "execution_count": 298,
   "metadata": {},
   "outputs": [
    {
     "data": {
      "text/plain": [
       "0.074"
      ]
     },
     "execution_count": 298,
     "metadata": {},
     "output_type": "execute_result"
    }
   ],
   "source": [
    "round(len(Freq)/sum(Freq.values()),3)"
   ]
  },
  {
   "cell_type": "code",
   "execution_count": 299,
   "metadata": {},
   "outputs": [
    {
     "data": {
      "text/plain": [
       "['Nantucketer',\n",
       " 'Nevertheless',\n",
       " 'circumstance',\n",
       " 'circumstances',\n",
       " 'considerable',\n",
       " 'considering',\n",
       " 'harpooneers',\n",
       " 'nevertheless']"
      ]
     },
     "execution_count": 299,
     "metadata": {},
     "output_type": "execute_result"
    }
   ],
   "source": [
    "sorted([word for word in Freq.keys() if len(word)>10 and Freq[word]>20])"
   ]
  },
  {
   "cell_type": "code",
   "execution_count": 300,
   "metadata": {},
   "outputs": [
    {
     "data": {
      "text/plain": [
       "nltk.lazyimport.LazyModule"
      ]
     },
     "execution_count": 300,
     "metadata": {},
     "output_type": "execute_result"
    }
   ],
   "source": [
    "type(nltk.corpus)"
   ]
  },
  {
   "cell_type": "code",
   "execution_count": 301,
   "metadata": {},
   "outputs": [
    {
     "data": {
      "text/plain": [
       "nltk.corpus.reader.plaintext.PlaintextCorpusReader"
      ]
     },
     "execution_count": 301,
     "metadata": {},
     "output_type": "execute_result"
    }
   ],
   "source": [
    "type(nltk.corpus.gutenberg)"
   ]
  },
  {
   "cell_type": "code",
   "execution_count": 302,
   "metadata": {},
   "outputs": [
    {
     "data": {
      "text/plain": [
       "['austen-emma.txt',\n",
       " 'austen-persuasion.txt',\n",
       " 'austen-sense.txt',\n",
       " 'bible-kjv.txt',\n",
       " 'blake-poems.txt',\n",
       " 'bryant-stories.txt',\n",
       " 'burgess-busterbrown.txt',\n",
       " 'carroll-alice.txt',\n",
       " 'chesterton-ball.txt',\n",
       " 'chesterton-brown.txt',\n",
       " 'chesterton-thursday.txt',\n",
       " 'edgeworth-parents.txt',\n",
       " 'melville-moby_dick.txt',\n",
       " 'milton-paradise.txt',\n",
       " 'shakespeare-caesar.txt',\n",
       " 'shakespeare-hamlet.txt',\n",
       " 'shakespeare-macbeth.txt',\n",
       " 'whitman-leaves.txt']"
      ]
     },
     "execution_count": 302,
     "metadata": {},
     "output_type": "execute_result"
    }
   ],
   "source": [
    "nltk.corpus.gutenberg.fileids()"
   ]
  },
  {
   "cell_type": "code",
   "execution_count": 303,
   "metadata": {},
   "outputs": [],
   "source": [
    "from nltk.corpus import gutenberg"
   ]
  },
  {
   "cell_type": "code",
   "execution_count": 304,
   "metadata": {},
   "outputs": [
    {
     "data": {
      "text/plain": [
       "str"
      ]
     },
     "execution_count": 304,
     "metadata": {},
     "output_type": "execute_result"
    }
   ],
   "source": [
    "a = gutenberg.raw('austen-emma.txt')\n",
    "type(a)"
   ]
  },
  {
   "cell_type": "code",
   "execution_count": 305,
   "metadata": {},
   "outputs": [
    {
     "data": {
      "text/plain": [
       "'[Emma by Jane Austen 1816]\\n\\nVOLUME I\\n\\nCH'"
      ]
     },
     "execution_count": 305,
     "metadata": {},
     "output_type": "execute_result"
    }
   ],
   "source": [
    "a[:40]"
   ]
  },
  {
   "cell_type": "code",
   "execution_count": 306,
   "metadata": {},
   "outputs": [
    {
     "data": {
      "text/plain": [
       "887071"
      ]
     },
     "execution_count": 306,
     "metadata": {},
     "output_type": "execute_result"
    }
   ],
   "source": [
    "len(a) # 숫자문자, 문장부호, 공백문자를 포함한 문자수"
   ]
  },
  {
   "cell_type": "code",
   "execution_count": 308,
   "metadata": {},
   "outputs": [
    {
     "data": {
      "text/plain": [
       "nltk.corpus.reader.util.StreamBackedCorpusView"
      ]
     },
     "execution_count": 308,
     "metadata": {},
     "output_type": "execute_result"
    }
   ],
   "source": [
    "b = gutenberg.words('austen-emma.txt')\n",
    "type(b)"
   ]
  },
  {
   "cell_type": "code",
   "execution_count": 309,
   "metadata": {},
   "outputs": [
    {
     "data": {
      "text/plain": [
       "['[', 'Emma', 'by', 'Jane', 'Austen', '1816', ']', 'VOLUME', 'I', 'CHAPTER']"
      ]
     },
     "execution_count": 309,
     "metadata": {},
     "output_type": "execute_result"
    }
   ],
   "source": [
    "b[:10]"
   ]
  },
  {
   "cell_type": "code",
   "execution_count": 310,
   "metadata": {},
   "outputs": [
    {
     "data": {
      "text/plain": [
       "192427"
      ]
     },
     "execution_count": 310,
     "metadata": {},
     "output_type": "execute_result"
    }
   ],
   "source": [
    "len(b)"
   ]
  },
  {
   "cell_type": "code",
   "execution_count": 311,
   "metadata": {},
   "outputs": [
    {
     "data": {
      "text/plain": [
       "nltk.collections.LazySubsequence"
      ]
     },
     "execution_count": 311,
     "metadata": {},
     "output_type": "execute_result"
    }
   ],
   "source": [
    "type(b[:])"
   ]
  },
  {
   "cell_type": "code",
   "execution_count": 312,
   "metadata": {},
   "outputs": [
    {
     "data": {
      "text/plain": [
       "nltk.corpus.reader.util.StreamBackedCorpusView"
      ]
     },
     "execution_count": 312,
     "metadata": {},
     "output_type": "execute_result"
    }
   ],
   "source": [
    "c = gutenberg.sents('austen-emma.txt')\n",
    "type(c)"
   ]
  },
  {
   "cell_type": "code",
   "execution_count": 313,
   "metadata": {},
   "outputs": [
    {
     "name": "stdout",
     "output_type": "stream",
     "text": [
      "[['[', 'Emma', 'by', 'Jane', 'Austen', '1816', ']'], ['VOLUME', 'I'], ['CHAPTER', 'I'], ['Emma', 'Woodhouse', ',', 'handsome', ',', 'clever', ',', 'and', 'rich', ',', 'with', 'a', 'comfortable', 'home', 'and', 'happy', 'disposition', ',', 'seemed', 'to', 'unite', 'some', 'of', 'the', 'best', 'blessings', 'of', 'existence', ';', 'and', 'had', 'lived', 'nearly', 'twenty', '-', 'one', 'years', 'in', 'the', 'world', 'with', 'very', 'little', 'to', 'distress', 'or', 'vex', 'her', '.']]\n"
     ]
    }
   ],
   "source": [
    "print(c[:4])"
   ]
  },
  {
   "cell_type": "code",
   "execution_count": 314,
   "metadata": {},
   "outputs": [
    {
     "data": {
      "text/plain": [
       "list"
      ]
     },
     "execution_count": 314,
     "metadata": {},
     "output_type": "execute_result"
    }
   ],
   "source": [
    "type(c[:4])"
   ]
  },
  {
   "cell_type": "code",
   "execution_count": 315,
   "metadata": {},
   "outputs": [
    {
     "data": {
      "text/plain": [
       "7752"
      ]
     },
     "execution_count": 315,
     "metadata": {},
     "output_type": "execute_result"
    }
   ],
   "source": [
    "len(c)"
   ]
  },
  {
   "cell_type": "code",
   "execution_count": 316,
   "metadata": {},
   "outputs": [],
   "source": [
    "b = gutenberg.words('austen-emma.txt')"
   ]
  },
  {
   "cell_type": "code",
   "execution_count": 317,
   "metadata": {},
   "outputs": [
    {
     "data": {
      "text/plain": [
       "nltk.corpus.reader.util.StreamBackedCorpusView"
      ]
     },
     "execution_count": 317,
     "metadata": {},
     "output_type": "execute_result"
    }
   ],
   "source": [
    "type(b)"
   ]
  },
  {
   "cell_type": "code",
   "execution_count": 318,
   "metadata": {},
   "outputs": [],
   "source": [
    "c = b[:100]"
   ]
  },
  {
   "cell_type": "code",
   "execution_count": 319,
   "metadata": {},
   "outputs": [
    {
     "data": {
      "text/plain": [
       "list"
      ]
     },
     "execution_count": 319,
     "metadata": {},
     "output_type": "execute_result"
    }
   ],
   "source": [
    "type(c)"
   ]
  },
  {
   "cell_type": "code",
   "execution_count": 321,
   "metadata": {},
   "outputs": [
    {
     "name": "stdout",
     "output_type": "stream",
     "text": [
      "   4.61 24.823  0.038 austen-emma.txt\n",
      "   4.75   26.2  0.059 austen-persuasion.txt\n",
      "  4.754 28.321  0.045 austen-sense.txt\n",
      "  4.287 33.573  0.013 bible-kjv.txt\n",
      "  4.567 19.073  0.184 blake-poems.txt\n",
      "  4.489 19.407  0.071 bryant-stories.txt\n",
      "  4.465 17.991  0.082 burgess-busterbrown.txt\n",
      "  4.233 20.029  0.077 carroll-alice.txt\n",
      "  4.716 20.296  0.086 chesterton-ball.txt\n",
      "  4.725 22.612  0.091 chesterton-brown.txt\n",
      "  4.631 18.496  0.092 chesterton-thursday.txt\n",
      "  4.439 20.593   0.04 edgeworth-parents.txt\n",
      "  4.766 25.929  0.066 melville-moby_dick.txt\n",
      "  4.836  52.31  0.093 milton-paradise.txt\n",
      "  4.348 11.943  0.117 shakespeare-caesar.txt\n",
      "   4.36 12.028  0.126 shakespeare-hamlet.txt\n",
      "  4.337 12.134   0.15 shakespeare-macbeth.txt\n",
      "  4.592 36.443   0.08 whitman-leaves.txt\n"
     ]
    }
   ],
   "source": [
    "for fileid in gutenberg.fileids():\n",
    "    num_chars = len(gutenberg.raw(fileid))\n",
    "    num_words = len(gutenberg.words(fileid))\n",
    "    num_sents = len(gutenberg.sents(fileid))\n",
    "    num_types = len(set(w.lower() for w in gutenberg.words(fileid)))\n",
    "    out = '{:>7}'*3\n",
    "    print(out.format(\n",
    "    round(num_chars/num_words,3), # 평균 어휘 길이 -> 짧을수록 쉬운 어휘 구사\n",
    "    round(num_words/num_sents,3), # 평균 문장 길이 -> 길수록 문장 난이도 높다\n",
    "    round(num_types/num_words,3)),fileid) # type-token ratio -> 클수록 동일한 어휘 덜 반복\n",
    "# 대체적인 난이도 파악 가능."
   ]
  },
  {
   "cell_type": "code",
   "execution_count": 322,
   "metadata": {},
   "outputs": [
    {
     "data": {
      "text/plain": [
       "684327"
      ]
     },
     "execution_count": 322,
     "metadata": {},
     "output_type": "execute_result"
    }
   ],
   "source": [
    "len([c for c in gutenberg.raw('austen-emma.txt') if c.isalpha()])"
   ]
  },
  {
   "cell_type": "code",
   "execution_count": 323,
   "metadata": {},
   "outputs": [
    {
     "data": {
      "text/plain": [
       "161975"
      ]
     },
     "execution_count": 323,
     "metadata": {},
     "output_type": "execute_result"
    }
   ],
   "source": [
    "len([word for word in gutenberg.words('austen-emma.txt') if re.search('[a-z]',word,re.I)])"
   ]
  },
  {
   "cell_type": "code",
   "execution_count": 327,
   "metadata": {},
   "outputs": [],
   "source": [
    "a = [[j for j in i if re.search('[a-z]',j,re.I)] for i in gutenberg.sents('austen-emma.txt')]"
   ]
  },
  {
   "cell_type": "code",
   "execution_count": 328,
   "metadata": {},
   "outputs": [
    {
     "data": {
      "text/plain": [
       "7752"
      ]
     },
     "execution_count": 328,
     "metadata": {},
     "output_type": "execute_result"
    }
   ],
   "source": [
    "len(a)"
   ]
  },
  {
   "cell_type": "code",
   "execution_count": 329,
   "metadata": {},
   "outputs": [
    {
     "data": {
      "text/plain": [
       "7713"
      ]
     },
     "execution_count": 329,
     "metadata": {},
     "output_type": "execute_result"
    }
   ],
   "source": [
    "len([s for s in a if len(s)>0])"
   ]
  },
  {
   "cell_type": "code",
   "execution_count": 330,
   "metadata": {},
   "outputs": [
    {
     "data": {
      "text/plain": [
       "<Text: Emma by Jane Austen 1816>"
      ]
     },
     "execution_count": 330,
     "metadata": {},
     "output_type": "execute_result"
    }
   ],
   "source": [
    "nltk.Text(gutenberg.words('austen-emma.txt'))"
   ]
  },
  {
   "cell_type": "code",
   "execution_count": 331,
   "metadata": {},
   "outputs": [
    {
     "data": {
      "text/plain": [
       "nltk.text.Text"
      ]
     },
     "execution_count": 331,
     "metadata": {},
     "output_type": "execute_result"
    }
   ],
   "source": [
    "type(nltk.Text(gutenberg.words('austen-emma.txt')))"
   ]
  },
  {
   "cell_type": "code",
   "execution_count": 332,
   "metadata": {},
   "outputs": [],
   "source": [
    "a = nltk.Text(gutenberg.words('austen-emma.txt'))"
   ]
  },
  {
   "cell_type": "code",
   "execution_count": 333,
   "metadata": {},
   "outputs": [
    {
     "name": "stdout",
     "output_type": "stream",
     "text": [
      "Displaying 37 of 37 matches:\n",
      "s sometimes taken by surprize at his being still a\n",
      "er any good .\" \" You surprize me ! Emma must do Ha\n",
      "ally looked red with surprize and displeasure , as\n",
      "d found to his great surprize , that Mr . Elton wa\n",
      "saw Mrs . Weston ' s surprize , and felt that it m\n",
      "te taken up with the surprize of so sudden a journ\n",
      " favouring warmth of surprize and conjecture . She\n",
      "to have her share of surprize , introduction , and\n",
      " it was an agreeable surprize to her , therefore ,\n",
      "ad taken me quite by surprize , it must have been \n",
      "ogue which ensued of surprize , and inquiry , and \n",
      " They might chuse to surprize her .\" Mrs . Cole ha\n",
      " , the mystery , the surprize , is more like a you\n",
      "ook her agreeably by surprize -- a second , slight\n",
      " there is nothing to surprize one at all .-- A pre\n",
      "ered . Emma ' s only surprize was that Jane Fairfa\n",
      "tion may take you by surprize some day or other .\"\n",
      "will ever take me by surprize .-- I never had a th\n",
      "he best judges , for surprize -- but there was gre\n",
      "irst , without great surprize . \" So unreasonably \n",
      "ill , with a look of surprize and displeasure .-- \n",
      "ld imagine with what surprize and mortification sh\n",
      " should go . Quite a surprize to me ! I had not th\n",
      "sible to express our surprize . He came to speak t\n",
      "mma even jumped with surprize ;-- and , horror - s\n",
      " had brought a fresh surprize ; and every surprize\n",
      "surprize ; and every surprize must be matter of hu\n",
      "arison , exciting no surprize , presenting no disp\n",
      "k , that will rather surprize you .\" \" Have I ?\" s\n",
      "t take her wholly by surprize . She frequently gav\n",
      " stating her extreme surprize at not having had th\n",
      "t take him wholly by surprize , that he was rather\n",
      "ws was universally a surprize wherever it spread ;\n",
      "rage .-- There , the surprize was not softened by \n",
      "ave been silent from surprize merely , excessive s\n",
      "e merely , excessive surprize . You cannot imagine\n",
      "you of our agreeable surprize in seeing him arrive\n"
     ]
    }
   ],
   "source": [
    "a.concordance('surprize',lines=100,width=50)"
   ]
  },
  {
   "cell_type": "code",
   "execution_count": 334,
   "metadata": {},
   "outputs": [
    {
     "name": "stdout",
     "output_type": "stream",
     "text": [
      "her letter marriage it man pleasure mind him circumstance idea word\n",
      "truth disposition world friend situation herself all evening event\n"
     ]
    }
   ],
   "source": [
    "a.similar('surprize')"
   ]
  },
  {
   "cell_type": "code",
   "execution_count": 335,
   "metadata": {},
   "outputs": [
    {
     "name": "stdout",
     "output_type": "stream",
     "text": [
      "of_and the_of\n"
     ]
    }
   ],
   "source": [
    "a.common_contexts(['surprize','hope'])"
   ]
  },
  {
   "cell_type": "code",
   "execution_count": 336,
   "metadata": {},
   "outputs": [
    {
     "data": {
      "text/plain": [
       "<Text: [ E m m a   b y...>"
      ]
     },
     "execution_count": 336,
     "metadata": {},
     "output_type": "execute_result"
    }
   ],
   "source": [
    "nltk.Text(gutenberg.raw('austen-emma.txt'))"
   ]
  },
  {
   "cell_type": "code",
   "execution_count": 337,
   "metadata": {},
   "outputs": [],
   "source": [
    "from nltk.corpus import brown"
   ]
  },
  {
   "cell_type": "code",
   "execution_count": 338,
   "metadata": {},
   "outputs": [
    {
     "data": {
      "text/plain": [
       "nltk.corpus.util.LazyCorpusLoader"
      ]
     },
     "execution_count": 338,
     "metadata": {},
     "output_type": "execute_result"
    }
   ],
   "source": [
    "type(brown)"
   ]
  },
  {
   "cell_type": "code",
   "execution_count": 339,
   "metadata": {},
   "outputs": [
    {
     "data": {
      "text/plain": [
       "['adventure',\n",
       " 'belles_lettres',\n",
       " 'editorial',\n",
       " 'fiction',\n",
       " 'government',\n",
       " 'hobbies',\n",
       " 'humor',\n",
       " 'learned',\n",
       " 'lore',\n",
       " 'mystery',\n",
       " 'news',\n",
       " 'religion',\n",
       " 'reviews',\n",
       " 'romance',\n",
       " 'science_fiction']"
      ]
     },
     "execution_count": 339,
     "metadata": {},
     "output_type": "execute_result"
    }
   ],
   "source": [
    "brown.categories()"
   ]
  },
  {
   "cell_type": "code",
   "execution_count": 340,
   "metadata": {},
   "outputs": [
    {
     "data": {
      "text/plain": [
       "list"
      ]
     },
     "execution_count": 340,
     "metadata": {},
     "output_type": "execute_result"
    }
   ],
   "source": [
    "type(brown.categories())"
   ]
  },
  {
   "cell_type": "code",
   "execution_count": 341,
   "metadata": {},
   "outputs": [
    {
     "data": {
      "text/plain": [
       "15"
      ]
     },
     "execution_count": 341,
     "metadata": {},
     "output_type": "execute_result"
    }
   ],
   "source": [
    "len(brown.categories())"
   ]
  },
  {
   "cell_type": "code",
   "execution_count": 342,
   "metadata": {},
   "outputs": [
    {
     "data": {
      "text/plain": [
       "['The', 'Fulton', 'County', 'Grand', 'Jury', 'said', ...]"
      ]
     },
     "execution_count": 342,
     "metadata": {},
     "output_type": "execute_result"
    }
   ],
   "source": [
    "brown.words(categories='news')"
   ]
  },
  {
   "cell_type": "code",
   "execution_count": 343,
   "metadata": {},
   "outputs": [
    {
     "data": {
      "text/plain": [
       "nltk.corpus.reader.util.ConcatenatedCorpusView"
      ]
     },
     "execution_count": 343,
     "metadata": {},
     "output_type": "execute_result"
    }
   ],
   "source": [
    "type(brown.words(categories='news'))"
   ]
  },
  {
   "cell_type": "code",
   "execution_count": 344,
   "metadata": {},
   "outputs": [
    {
     "data": {
      "text/plain": [
       "100554"
      ]
     },
     "execution_count": 344,
     "metadata": {},
     "output_type": "execute_result"
    }
   ],
   "source": [
    "len(brown.words(categories='news'))"
   ]
  },
  {
   "cell_type": "code",
   "execution_count": 345,
   "metadata": {},
   "outputs": [
    {
     "data": {
      "text/plain": [
       "162158"
      ]
     },
     "execution_count": 345,
     "metadata": {},
     "output_type": "execute_result"
    }
   ],
   "source": [
    "len(brown.words(categories=['news','editorial']))"
   ]
  },
  {
   "cell_type": "code",
   "execution_count": 346,
   "metadata": {},
   "outputs": [
    {
     "data": {
      "text/plain": [
       "500"
      ]
     },
     "execution_count": 346,
     "metadata": {},
     "output_type": "execute_result"
    }
   ],
   "source": [
    "len(brown.fileids())"
   ]
  },
  {
   "cell_type": "code",
   "execution_count": 347,
   "metadata": {},
   "outputs": [
    {
     "data": {
      "text/plain": [
       "list"
      ]
     },
     "execution_count": 347,
     "metadata": {},
     "output_type": "execute_result"
    }
   ],
   "source": [
    "type(brown.fileids())"
   ]
  },
  {
   "cell_type": "code",
   "execution_count": 348,
   "metadata": {},
   "outputs": [
    {
     "data": {
      "text/plain": [
       "['ca01',\n",
       " 'ca02',\n",
       " 'ca03',\n",
       " 'ca04',\n",
       " 'ca05',\n",
       " 'ca06',\n",
       " 'ca07',\n",
       " 'ca08',\n",
       " 'ca09',\n",
       " 'ca10',\n",
       " 'ca11',\n",
       " 'ca12',\n",
       " 'ca13',\n",
       " 'ca14',\n",
       " 'ca15',\n",
       " 'ca16',\n",
       " 'ca17',\n",
       " 'ca18',\n",
       " 'ca19',\n",
       " 'ca20',\n",
       " 'ca21',\n",
       " 'ca22',\n",
       " 'ca23',\n",
       " 'ca24',\n",
       " 'ca25',\n",
       " 'ca26',\n",
       " 'ca27',\n",
       " 'ca28',\n",
       " 'ca29',\n",
       " 'ca30',\n",
       " 'ca31',\n",
       " 'ca32',\n",
       " 'ca33',\n",
       " 'ca34',\n",
       " 'ca35',\n",
       " 'ca36',\n",
       " 'ca37',\n",
       " 'ca38',\n",
       " 'ca39',\n",
       " 'ca40',\n",
       " 'ca41',\n",
       " 'ca42',\n",
       " 'ca43',\n",
       " 'ca44',\n",
       " 'cb01',\n",
       " 'cb02',\n",
       " 'cb03',\n",
       " 'cb04',\n",
       " 'cb05',\n",
       " 'cb06',\n",
       " 'cb07',\n",
       " 'cb08',\n",
       " 'cb09',\n",
       " 'cb10',\n",
       " 'cb11',\n",
       " 'cb12',\n",
       " 'cb13',\n",
       " 'cb14',\n",
       " 'cb15',\n",
       " 'cb16',\n",
       " 'cb17',\n",
       " 'cb18',\n",
       " 'cb19',\n",
       " 'cb20',\n",
       " 'cb21',\n",
       " 'cb22',\n",
       " 'cb23',\n",
       " 'cb24',\n",
       " 'cb25',\n",
       " 'cb26',\n",
       " 'cb27',\n",
       " 'cc01',\n",
       " 'cc02',\n",
       " 'cc03',\n",
       " 'cc04',\n",
       " 'cc05',\n",
       " 'cc06',\n",
       " 'cc07',\n",
       " 'cc08',\n",
       " 'cc09',\n",
       " 'cc10',\n",
       " 'cc11',\n",
       " 'cc12',\n",
       " 'cc13',\n",
       " 'cc14',\n",
       " 'cc15',\n",
       " 'cc16',\n",
       " 'cc17',\n",
       " 'cd01',\n",
       " 'cd02',\n",
       " 'cd03',\n",
       " 'cd04',\n",
       " 'cd05',\n",
       " 'cd06',\n",
       " 'cd07',\n",
       " 'cd08',\n",
       " 'cd09',\n",
       " 'cd10',\n",
       " 'cd11',\n",
       " 'cd12',\n",
       " 'cd13',\n",
       " 'cd14',\n",
       " 'cd15',\n",
       " 'cd16',\n",
       " 'cd17',\n",
       " 'ce01',\n",
       " 'ce02',\n",
       " 'ce03',\n",
       " 'ce04',\n",
       " 'ce05',\n",
       " 'ce06',\n",
       " 'ce07',\n",
       " 'ce08',\n",
       " 'ce09',\n",
       " 'ce10',\n",
       " 'ce11',\n",
       " 'ce12',\n",
       " 'ce13',\n",
       " 'ce14',\n",
       " 'ce15',\n",
       " 'ce16',\n",
       " 'ce17',\n",
       " 'ce18',\n",
       " 'ce19',\n",
       " 'ce20',\n",
       " 'ce21',\n",
       " 'ce22',\n",
       " 'ce23',\n",
       " 'ce24',\n",
       " 'ce25',\n",
       " 'ce26',\n",
       " 'ce27',\n",
       " 'ce28',\n",
       " 'ce29',\n",
       " 'ce30',\n",
       " 'ce31',\n",
       " 'ce32',\n",
       " 'ce33',\n",
       " 'ce34',\n",
       " 'ce35',\n",
       " 'ce36',\n",
       " 'cf01',\n",
       " 'cf02',\n",
       " 'cf03',\n",
       " 'cf04',\n",
       " 'cf05',\n",
       " 'cf06',\n",
       " 'cf07',\n",
       " 'cf08',\n",
       " 'cf09',\n",
       " 'cf10',\n",
       " 'cf11',\n",
       " 'cf12',\n",
       " 'cf13',\n",
       " 'cf14',\n",
       " 'cf15',\n",
       " 'cf16',\n",
       " 'cf17',\n",
       " 'cf18',\n",
       " 'cf19',\n",
       " 'cf20',\n",
       " 'cf21',\n",
       " 'cf22',\n",
       " 'cf23',\n",
       " 'cf24',\n",
       " 'cf25',\n",
       " 'cf26',\n",
       " 'cf27',\n",
       " 'cf28',\n",
       " 'cf29',\n",
       " 'cf30',\n",
       " 'cf31',\n",
       " 'cf32',\n",
       " 'cf33',\n",
       " 'cf34',\n",
       " 'cf35',\n",
       " 'cf36',\n",
       " 'cf37',\n",
       " 'cf38',\n",
       " 'cf39',\n",
       " 'cf40',\n",
       " 'cf41',\n",
       " 'cf42',\n",
       " 'cf43',\n",
       " 'cf44',\n",
       " 'cf45',\n",
       " 'cf46',\n",
       " 'cf47',\n",
       " 'cf48',\n",
       " 'cg01',\n",
       " 'cg02',\n",
       " 'cg03',\n",
       " 'cg04',\n",
       " 'cg05',\n",
       " 'cg06',\n",
       " 'cg07',\n",
       " 'cg08',\n",
       " 'cg09',\n",
       " 'cg10',\n",
       " 'cg11',\n",
       " 'cg12',\n",
       " 'cg13',\n",
       " 'cg14',\n",
       " 'cg15',\n",
       " 'cg16',\n",
       " 'cg17',\n",
       " 'cg18',\n",
       " 'cg19',\n",
       " 'cg20',\n",
       " 'cg21',\n",
       " 'cg22',\n",
       " 'cg23',\n",
       " 'cg24',\n",
       " 'cg25',\n",
       " 'cg26',\n",
       " 'cg27',\n",
       " 'cg28',\n",
       " 'cg29',\n",
       " 'cg30',\n",
       " 'cg31',\n",
       " 'cg32',\n",
       " 'cg33',\n",
       " 'cg34',\n",
       " 'cg35',\n",
       " 'cg36',\n",
       " 'cg37',\n",
       " 'cg38',\n",
       " 'cg39',\n",
       " 'cg40',\n",
       " 'cg41',\n",
       " 'cg42',\n",
       " 'cg43',\n",
       " 'cg44',\n",
       " 'cg45',\n",
       " 'cg46',\n",
       " 'cg47',\n",
       " 'cg48',\n",
       " 'cg49',\n",
       " 'cg50',\n",
       " 'cg51',\n",
       " 'cg52',\n",
       " 'cg53',\n",
       " 'cg54',\n",
       " 'cg55',\n",
       " 'cg56',\n",
       " 'cg57',\n",
       " 'cg58',\n",
       " 'cg59',\n",
       " 'cg60',\n",
       " 'cg61',\n",
       " 'cg62',\n",
       " 'cg63',\n",
       " 'cg64',\n",
       " 'cg65',\n",
       " 'cg66',\n",
       " 'cg67',\n",
       " 'cg68',\n",
       " 'cg69',\n",
       " 'cg70',\n",
       " 'cg71',\n",
       " 'cg72',\n",
       " 'cg73',\n",
       " 'cg74',\n",
       " 'cg75',\n",
       " 'ch01',\n",
       " 'ch02',\n",
       " 'ch03',\n",
       " 'ch04',\n",
       " 'ch05',\n",
       " 'ch06',\n",
       " 'ch07',\n",
       " 'ch08',\n",
       " 'ch09',\n",
       " 'ch10',\n",
       " 'ch11',\n",
       " 'ch12',\n",
       " 'ch13',\n",
       " 'ch14',\n",
       " 'ch15',\n",
       " 'ch16',\n",
       " 'ch17',\n",
       " 'ch18',\n",
       " 'ch19',\n",
       " 'ch20',\n",
       " 'ch21',\n",
       " 'ch22',\n",
       " 'ch23',\n",
       " 'ch24',\n",
       " 'ch25',\n",
       " 'ch26',\n",
       " 'ch27',\n",
       " 'ch28',\n",
       " 'ch29',\n",
       " 'ch30',\n",
       " 'cj01',\n",
       " 'cj02',\n",
       " 'cj03',\n",
       " 'cj04',\n",
       " 'cj05',\n",
       " 'cj06',\n",
       " 'cj07',\n",
       " 'cj08',\n",
       " 'cj09',\n",
       " 'cj10',\n",
       " 'cj11',\n",
       " 'cj12',\n",
       " 'cj13',\n",
       " 'cj14',\n",
       " 'cj15',\n",
       " 'cj16',\n",
       " 'cj17',\n",
       " 'cj18',\n",
       " 'cj19',\n",
       " 'cj20',\n",
       " 'cj21',\n",
       " 'cj22',\n",
       " 'cj23',\n",
       " 'cj24',\n",
       " 'cj25',\n",
       " 'cj26',\n",
       " 'cj27',\n",
       " 'cj28',\n",
       " 'cj29',\n",
       " 'cj30',\n",
       " 'cj31',\n",
       " 'cj32',\n",
       " 'cj33',\n",
       " 'cj34',\n",
       " 'cj35',\n",
       " 'cj36',\n",
       " 'cj37',\n",
       " 'cj38',\n",
       " 'cj39',\n",
       " 'cj40',\n",
       " 'cj41',\n",
       " 'cj42',\n",
       " 'cj43',\n",
       " 'cj44',\n",
       " 'cj45',\n",
       " 'cj46',\n",
       " 'cj47',\n",
       " 'cj48',\n",
       " 'cj49',\n",
       " 'cj50',\n",
       " 'cj51',\n",
       " 'cj52',\n",
       " 'cj53',\n",
       " 'cj54',\n",
       " 'cj55',\n",
       " 'cj56',\n",
       " 'cj57',\n",
       " 'cj58',\n",
       " 'cj59',\n",
       " 'cj60',\n",
       " 'cj61',\n",
       " 'cj62',\n",
       " 'cj63',\n",
       " 'cj64',\n",
       " 'cj65',\n",
       " 'cj66',\n",
       " 'cj67',\n",
       " 'cj68',\n",
       " 'cj69',\n",
       " 'cj70',\n",
       " 'cj71',\n",
       " 'cj72',\n",
       " 'cj73',\n",
       " 'cj74',\n",
       " 'cj75',\n",
       " 'cj76',\n",
       " 'cj77',\n",
       " 'cj78',\n",
       " 'cj79',\n",
       " 'cj80',\n",
       " 'ck01',\n",
       " 'ck02',\n",
       " 'ck03',\n",
       " 'ck04',\n",
       " 'ck05',\n",
       " 'ck06',\n",
       " 'ck07',\n",
       " 'ck08',\n",
       " 'ck09',\n",
       " 'ck10',\n",
       " 'ck11',\n",
       " 'ck12',\n",
       " 'ck13',\n",
       " 'ck14',\n",
       " 'ck15',\n",
       " 'ck16',\n",
       " 'ck17',\n",
       " 'ck18',\n",
       " 'ck19',\n",
       " 'ck20',\n",
       " 'ck21',\n",
       " 'ck22',\n",
       " 'ck23',\n",
       " 'ck24',\n",
       " 'ck25',\n",
       " 'ck26',\n",
       " 'ck27',\n",
       " 'ck28',\n",
       " 'ck29',\n",
       " 'cl01',\n",
       " 'cl02',\n",
       " 'cl03',\n",
       " 'cl04',\n",
       " 'cl05',\n",
       " 'cl06',\n",
       " 'cl07',\n",
       " 'cl08',\n",
       " 'cl09',\n",
       " 'cl10',\n",
       " 'cl11',\n",
       " 'cl12',\n",
       " 'cl13',\n",
       " 'cl14',\n",
       " 'cl15',\n",
       " 'cl16',\n",
       " 'cl17',\n",
       " 'cl18',\n",
       " 'cl19',\n",
       " 'cl20',\n",
       " 'cl21',\n",
       " 'cl22',\n",
       " 'cl23',\n",
       " 'cl24',\n",
       " 'cm01',\n",
       " 'cm02',\n",
       " 'cm03',\n",
       " 'cm04',\n",
       " 'cm05',\n",
       " 'cm06',\n",
       " 'cn01',\n",
       " 'cn02',\n",
       " 'cn03',\n",
       " 'cn04',\n",
       " 'cn05',\n",
       " 'cn06',\n",
       " 'cn07',\n",
       " 'cn08',\n",
       " 'cn09',\n",
       " 'cn10',\n",
       " 'cn11',\n",
       " 'cn12',\n",
       " 'cn13',\n",
       " 'cn14',\n",
       " 'cn15',\n",
       " 'cn16',\n",
       " 'cn17',\n",
       " 'cn18',\n",
       " 'cn19',\n",
       " 'cn20',\n",
       " 'cn21',\n",
       " 'cn22',\n",
       " 'cn23',\n",
       " 'cn24',\n",
       " 'cn25',\n",
       " 'cn26',\n",
       " 'cn27',\n",
       " 'cn28',\n",
       " 'cn29',\n",
       " 'cp01',\n",
       " 'cp02',\n",
       " 'cp03',\n",
       " 'cp04',\n",
       " 'cp05',\n",
       " 'cp06',\n",
       " 'cp07',\n",
       " 'cp08',\n",
       " 'cp09',\n",
       " 'cp10',\n",
       " 'cp11',\n",
       " 'cp12',\n",
       " 'cp13',\n",
       " 'cp14',\n",
       " 'cp15',\n",
       " 'cp16',\n",
       " 'cp17',\n",
       " 'cp18',\n",
       " 'cp19',\n",
       " 'cp20',\n",
       " 'cp21',\n",
       " 'cp22',\n",
       " 'cp23',\n",
       " 'cp24',\n",
       " 'cp25',\n",
       " 'cp26',\n",
       " 'cp27',\n",
       " 'cp28',\n",
       " 'cp29',\n",
       " 'cr01',\n",
       " 'cr02',\n",
       " 'cr03',\n",
       " 'cr04',\n",
       " 'cr05',\n",
       " 'cr06',\n",
       " 'cr07',\n",
       " 'cr08',\n",
       " 'cr09']"
      ]
     },
     "execution_count": 348,
     "metadata": {},
     "output_type": "execute_result"
    }
   ],
   "source": [
    "brown.fileids()"
   ]
  },
  {
   "cell_type": "code",
   "execution_count": 349,
   "metadata": {},
   "outputs": [
    {
     "data": {
      "text/plain": [
       "['The', 'Fulton', 'County', 'Grand', 'Jury', 'said', ...]"
      ]
     },
     "execution_count": 349,
     "metadata": {},
     "output_type": "execute_result"
    }
   ],
   "source": [
    "brown.words(fileids=['ca01','ca02'])"
   ]
  },
  {
   "cell_type": "code",
   "execution_count": 350,
   "metadata": {},
   "outputs": [
    {
     "data": {
      "text/plain": [
       "4519"
      ]
     },
     "execution_count": 350,
     "metadata": {},
     "output_type": "execute_result"
    }
   ],
   "source": [
    "len(brown.words(fileids=['ca01','ca02']))"
   ]
  },
  {
   "cell_type": "code",
   "execution_count": 352,
   "metadata": {},
   "outputs": [
    {
     "name": "stdout",
     "output_type": "stream",
     "text": [
      "cj = 80\n",
      "cg = 75\n",
      "cf = 48\n",
      "ca = 44\n",
      "ce = 36\n",
      "ch = 30\n",
      "ck = 29\n",
      "cn = 29\n",
      "cp = 29\n",
      "cb = 27\n",
      "cl = 24\n",
      "cc = 17\n",
      "cd = 17\n",
      "cr = 9\n",
      "cm = 6\n"
     ]
    }
   ],
   "source": [
    "Freq = nltk.FreqDist([file[:2] for file in brown.fileids()])\n",
    "for k,v in Freq.most_common():\n",
    "    print(k+\" =\",v)"
   ]
  },
  {
   "cell_type": "code",
   "execution_count": 353,
   "metadata": {},
   "outputs": [
    {
     "data": {
      "text/plain": [
       "FreqDist({'the': 10347, ',': 7954, '.': 6511, 'of': 4854, 'to': 3727, 'and': 3543, 'a': 3293, 'in': 3111, 'for': 1510, 'is': 1485, ...})"
      ]
     },
     "execution_count": 353,
     "metadata": {},
     "output_type": "execute_result"
    }
   ],
   "source": [
    "words = brown.words(categories=['news','editorial'])\n",
    "Freq = nltk.FreqDist(w.lower() for w in words)\n",
    "Freq"
   ]
  },
  {
   "cell_type": "code",
   "execution_count": 354,
   "metadata": {},
   "outputs": [
    {
     "name": "stdout",
     "output_type": "stream",
     "text": [
      "   can : 218  \n",
      " could : 144  \n",
      "   may : 172  \n",
      " might : 77   \n",
      "  must : 108  \n",
      "  will : 624  \n"
     ]
    }
   ],
   "source": [
    "modals = ['can','could','may','might','must','will']\n",
    "for i in modals:\n",
    "    print(F'{i:>6} : {Freq[i]:<5}')"
   ]
  },
  {
   "cell_type": "code",
   "execution_count": 355,
   "metadata": {},
   "outputs": [],
   "source": [
    "cfd = nltk.ConditionalFreqDist((genre,word)\n",
    "                              for genre in brown.categories()\n",
    "                              for word in brown.words(categories=genre))"
   ]
  },
  {
   "cell_type": "code",
   "execution_count": 356,
   "metadata": {},
   "outputs": [
    {
     "data": {
      "text/plain": [
       "nltk.probability.ConditionalFreqDist"
      ]
     },
     "execution_count": 356,
     "metadata": {},
     "output_type": "execute_result"
    }
   ],
   "source": [
    "type(cfd)"
   ]
  },
  {
   "cell_type": "code",
   "execution_count": 357,
   "metadata": {},
   "outputs": [
    {
     "data": {
      "text/plain": [
       "{'adventure': FreqDist({'.': 4057, ',': 3488, 'the': 3370, 'and': 1622, 'a': 1354, 'of': 1322, 'to': 1309, '``': 998, \"''\": 995, 'was': 914, ...}),\n",
       " 'belles_lettres': FreqDist({'the': 9726, ',': 9166, '.': 6397, 'of': 6289, 'and': 4282, 'to': 4084, 'a': 3308, 'in': 3089, 'that': 1896, 'is': 1799, ...}),\n",
       " 'editorial': FreqDist({'the': 3508, ',': 2766, '.': 2481, 'of': 1976, 'to': 1554, 'and': 1302, 'a': 1095, 'in': 1001, 'is': 744, 'that': 578, ...}),\n",
       " 'fiction': FreqDist({',': 3654, '.': 3639, 'the': 3423, 'and': 1696, 'to': 1489, 'of': 1419, 'a': 1281, 'was': 1082, 'in': 916, 'he': 813, ...}),\n",
       " 'government': FreqDist({'the': 4143, ',': 3405, 'of': 3031, '.': 2493, 'and': 1923, 'to': 1829, 'in': 1319, 'a': 867, 'for': 806, 'is': 649, ...}),\n",
       " 'hobbies': FreqDist({'the': 4300, ',': 3849, '.': 3453, 'of': 2390, 'and': 2144, 'to': 1797, 'a': 1737, 'in': 1427, 'is': 959, 'for': 776, ...}),\n",
       " 'humor': FreqDist({',': 1331, 'the': 930, '.': 877, 'of': 515, 'and': 512, 'a': 505, 'to': 463, '``': 343, \"''\": 340, 'in': 334, ...}),\n",
       " 'learned': FreqDist({'the': 11079, ',': 8242, 'of': 7418, '.': 6773, 'and': 4237, 'to': 3882, 'in': 3644, 'a': 3215, 'is': 2403, 'that': 1695, ...}),\n",
       " 'lore': FreqDist({'the': 6328, ',': 5519, '.': 4367, 'of': 3668, 'and': 2758, 'to': 2530, 'a': 2304, 'in': 2001, 'is': 1007, 'that': 984, ...}),\n",
       " 'mystery': FreqDist({'.': 3326, ',': 2805, 'the': 2573, 'to': 1284, 'and': 1215, 'a': 1136, 'of': 903, 'was': 820, '``': 740, \"''\": 738, ...}),\n",
       " 'news': FreqDist({'the': 5580, ',': 5188, '.': 4030, 'of': 2849, 'and': 2146, 'to': 2116, 'a': 1993, 'in': 1893, 'for': 943, 'The': 806, ...}),\n",
       " 'religion': FreqDist({'the': 2295, ',': 1913, 'of': 1494, '.': 1382, 'and': 921, 'to': 882, 'in': 724, 'a': 655, 'is': 533, 'that': 475, ...}),\n",
       " 'reviews': FreqDist({',': 2318, 'the': 2048, '.': 1549, 'of': 1299, 'and': 1103, 'a': 874, 'to': 706, 'in': 656, 'is': 513, '``': 390, ...}),\n",
       " 'romance': FreqDist({',': 3899, '.': 3736, 'the': 2758, 'and': 1776, 'to': 1502, 'a': 1335, 'of': 1186, '``': 1045, \"''\": 1044, 'was': 993, ...}),\n",
       " 'science_fiction': FreqDist({',': 791, '.': 786, 'the': 652, 'of': 321, 'to': 305, 'and': 278, '``': 235, \"''\": 235, 'a': 222, 'was': 198, ...})}"
      ]
     },
     "execution_count": 357,
     "metadata": {},
     "output_type": "execute_result"
    }
   ],
   "source": [
    "dict(cfd)"
   ]
  },
  {
   "cell_type": "code",
   "execution_count": 358,
   "metadata": {},
   "outputs": [
    {
     "data": {
      "text/plain": [
       "FreqDist({'the': 5580, ',': 5188, '.': 4030, 'of': 2849, 'and': 2146, 'to': 2116, 'a': 1993, 'in': 1893, 'for': 943, 'The': 806, ...})"
      ]
     },
     "execution_count": 358,
     "metadata": {},
     "output_type": "execute_result"
    }
   ],
   "source": [
    "cfd['news']"
   ]
  },
  {
   "cell_type": "code",
   "execution_count": 359,
   "metadata": {},
   "outputs": [
    {
     "name": "stdout",
     "output_type": "stream",
     "text": [
      "           can could   may might \n",
      "    news    93    86    66    38 \n",
      "religion    82    59    78    12 \n",
      " hobbies   268    58   131    22 \n"
     ]
    }
   ],
   "source": [
    "genres = ['news','religion','hobbies']\n",
    "modals = ['can','could','may','might']\n",
    "cfd.tabulate(conditions=genres,samples=modals)"
   ]
  },
  {
   "cell_type": "code",
   "execution_count": 360,
   "metadata": {},
   "outputs": [
    {
     "name": "stdout",
     "output_type": "stream",
     "text": [
      "          news religion  hobbies \n",
      "  can        0        0        0 \n",
      "could        0        0        0 \n",
      "  may        0        0        0 \n",
      "might        0        0        0 \n"
     ]
    }
   ],
   "source": [
    "cfd.tabulate(conditions=modals,samples=genres)"
   ]
  },
  {
   "cell_type": "code",
   "execution_count": 361,
   "metadata": {},
   "outputs": [],
   "source": [
    "from nltk.corpus import inaugural"
   ]
  },
  {
   "cell_type": "code",
   "execution_count": 363,
   "metadata": {},
   "outputs": [
    {
     "data": {
      "text/plain": [
       "'Fellow-Citizens of the Senate and of the House of '"
      ]
     },
     "execution_count": 363,
     "metadata": {},
     "output_type": "execute_result"
    }
   ],
   "source": [
    "inaugural.raw()[:50]"
   ]
  },
  {
   "cell_type": "code",
   "execution_count": 364,
   "metadata": {},
   "outputs": [
    {
     "data": {
      "text/plain": [
       "['Fellow', '-', 'Citizens', 'of', 'the', 'Senate', ...]"
      ]
     },
     "execution_count": 364,
     "metadata": {},
     "output_type": "execute_result"
    }
   ],
   "source": [
    "inaugural.words()"
   ]
  },
  {
   "cell_type": "code",
   "execution_count": 365,
   "metadata": {},
   "outputs": [
    {
     "data": {
      "text/plain": [
       "[['Fellow', '-', 'Citizens', 'of', 'the', 'Senate', 'and', 'of', 'the', 'House', 'of', 'Representatives', ':'], ['Among', 'the', 'vicissitudes', 'incident', 'to', 'life', 'no', 'event', 'could', 'have', 'filled', 'me', 'with', 'greater', 'anxieties', 'than', 'that', 'of', 'which', 'the', 'notification', 'was', 'transmitted', 'by', 'your', 'order', ',', 'and', 'received', 'on', 'the', '14th', 'day', 'of', 'the', 'present', 'month', '.'], ...]"
      ]
     },
     "execution_count": 365,
     "metadata": {},
     "output_type": "execute_result"
    }
   ],
   "source": [
    "inaugural.sents()"
   ]
  },
  {
   "cell_type": "code",
   "execution_count": 366,
   "metadata": {},
   "outputs": [
    {
     "name": "stdout",
     "output_type": "stream",
     "text": [
      "Displaying 25 of 247 matches:\n",
      "Fellow - Citizens of the Senate and of the House of \n",
      "wisest and most experienced of her citizens a distrustful scrutiny into his qu\n",
      "oof of the confidence of my fellow citizens , and have thence too little consu\n",
      "an my own , nor those of my fellow citizens at large less than either . No peo\n",
      "hich can win the affections of its citizens and command the respect of the wor\n",
      "is Government must depend . Fellow citizens , I am again called upon by the vo\n",
      "frage , in common with my fellow - citizens , in the adoption or rejection of \n",
      "the Legislature , are exercised by citizens selected at regular periods by the\n",
      "ited the gratitude of his fellow - citizens , commanded the highest praises of\n",
      "o be more friendly to us , and our citizens to be more friendly to them ; if a\n",
      "ed on the commerce of our fellow - citizens by whatever nation , and if succes\n",
      "is providence . Friends and Fellow Citizens : Called upon to undertake the dut\n",
      "sence of that portion of my fellow citizens which is here assembled to express\n",
      "ppression . Let us , then , fellow citizens , unite with one heart and one min\n",
      "nor and confidence from our fellow citizens , resulting not from birth , but f\n",
      "le ? Still one thing more , fellow citizens -- a wise and frugal Government , \n",
      "cities . About to enter , fellow - citizens , on the exercise of duties which \n",
      "afety . I repair , then , fellow - citizens , to the post you have assigned me\n",
      "d prosperity . Proceeding , fellow citizens , to that qualification which the \n",
      "proof of confidence from my fellow citizens at large , and the zeal with which\n",
      "o bridle others . At home , fellow citizens , you best know whether we have do\n",
      "the transactions of our mercantile citizens , it may be the pleasure and the p\n",
      "improvement . I have said , fellow citizens , that the income reserved had ena\n",
      "se outlines I do not mean , fellow citizens , to arrogate to myself the merit \n",
      "to the reflecting character of our citizens at large , who , by the weight of \n"
     ]
    }
   ],
   "source": [
    "nltk.Text(inaugural.words()).concordance('citizens')"
   ]
  },
  {
   "cell_type": "code",
   "execution_count": 367,
   "metadata": {},
   "outputs": [
    {
     "name": "stdout",
     "output_type": "stream",
     "text": [
      "country people government union time men power nation rights peace\n",
      "institutions progress americans happiness prosperity children all\n",
      "states labor strength\n"
     ]
    }
   ],
   "source": [
    "nltk.Text(inaugural.words()).similar('citizens')"
   ]
  },
  {
   "cell_type": "code",
   "execution_count": 368,
   "metadata": {},
   "outputs": [
    {
     "data": {
      "text/plain": [
       "['1789-Washington.txt', '1793-Washington.txt', '1797-Adams.txt']"
      ]
     },
     "execution_count": 368,
     "metadata": {},
     "output_type": "execute_result"
    }
   ],
   "source": [
    "inaugural.fileids()[:3]"
   ]
  },
  {
   "cell_type": "code",
   "execution_count": 372,
   "metadata": {},
   "outputs": [
    {
     "data": {
      "text/plain": [
       "[1789, 1793, 1797, 1801, 1805, 1809, 1813, 1817]"
      ]
     },
     "execution_count": 372,
     "metadata": {},
     "output_type": "execute_result"
    }
   ],
   "source": [
    "a = [int(file[:4]) for file in inaugural.fileids()]\n",
    "a[:8]"
   ]
  },
  {
   "cell_type": "code",
   "execution_count": 373,
   "metadata": {},
   "outputs": [
    {
     "data": {
      "text/plain": [
       "[1989, 1993, 1997, 2001, 2005, 2009, 2013, 2017]"
      ]
     },
     "execution_count": 373,
     "metadata": {},
     "output_type": "execute_result"
    }
   ],
   "source": [
    "a[-8:]"
   ]
  },
  {
   "cell_type": "code",
   "execution_count": 374,
   "metadata": {},
   "outputs": [],
   "source": [
    "cfd = nltk.ConditionalFreqDist(\n",
    "(target,int(fileid[:4]))\n",
    "for target in ['america','citizen']\n",
    "for fileid in inaugural.fileids()\n",
    "for w in inaugural.words(fileid)\n",
    "if w.lower().startswith(target))"
   ]
  },
  {
   "cell_type": "code",
   "execution_count": 375,
   "metadata": {},
   "outputs": [
    {
     "data": {
      "text/plain": [
       "<ConditionalFreqDist with 2 conditions>"
      ]
     },
     "execution_count": 375,
     "metadata": {},
     "output_type": "execute_result"
    }
   ],
   "source": [
    "cfd"
   ]
  },
  {
   "cell_type": "code",
   "execution_count": 376,
   "metadata": {},
   "outputs": [
    {
     "data": {
      "text/plain": [
       "{'america': FreqDist({2017: 35, 1993: 33, 1997: 31, 2005: 30, 1921: 24, 1973: 23, 1985: 21, 2001: 20, 2013: 19, 1981: 16, ...}),\n",
       " 'citizen': FreqDist({1841: 38, 1821: 15, 1817: 14, 1885: 13, 1889: 12, 1929: 12, 1845: 11, 2001: 11, 1805: 10, 1893: 10, ...})}"
      ]
     },
     "execution_count": 376,
     "metadata": {},
     "output_type": "execute_result"
    }
   ],
   "source": [
    "dict(cfd)"
   ]
  },
  {
   "cell_type": "code",
   "execution_count": 377,
   "metadata": {},
   "outputs": [
    {
     "data": {
      "text/plain": [
       "FreqDist({1841: 38, 1821: 15, 1817: 14, 1885: 13, 1889: 12, 1929: 12, 1845: 11, 2001: 11, 1805: 10, 1893: 10, ...})"
      ]
     },
     "execution_count": 377,
     "metadata": {},
     "output_type": "execute_result"
    }
   ],
   "source": [
    "cfd['citizen']"
   ]
  },
  {
   "cell_type": "code",
   "execution_count": 378,
   "metadata": {},
   "outputs": [
    {
     "data": {
      "image/png": "[encoded data removed]",
      "text/plain": [
       "<Figure size 432x288 with 1 Axes>"
      ]
     },
     "metadata": {
      "needs_background": "light"
     },
     "output_type": "display_data"
    },
    {
     "data": {
      "text/plain": [
       "<AxesSubplot:xlabel='Samples', ylabel='Counts'>"
      ]
     },
     "execution_count": 378,
     "metadata": {},
     "output_type": "execute_result"
    }
   ],
   "source": [
    "cfd.plot()"
   ]
  },
  {
   "cell_type": "code",
   "execution_count": 379,
   "metadata": {},
   "outputs": [
    {
     "data": {
      "image/png": "[encoded data removed]",
      "text/plain": [
       "<Figure size 432x288 with 1 Axes>"
      ]
     },
     "metadata": {
      "needs_background": "light"
     },
     "output_type": "display_data"
    },
    {
     "data": {
      "text/plain": [
       "<AxesSubplot:xlabel='Samples', ylabel='Cumulative Counts'>"
      ]
     },
     "execution_count": 379,
     "metadata": {},
     "output_type": "execute_result"
    }
   ],
   "source": [
    "cfd.plot(conditions=['america','citizen'], samples = range(1789,2017,8),cumulative=True) # 8년마다 눈금찍음"
   ]
  },
  {
   "cell_type": "code",
   "execution_count": 380,
   "metadata": {},
   "outputs": [],
   "source": [
    "names = nltk.corpus.names"
   ]
  },
  {
   "cell_type": "code",
   "execution_count": 381,
   "metadata": {},
   "outputs": [
    {
     "data": {
      "text/plain": [
       "['Abagael', 'Abagail', 'Abbe', 'Abbey', 'Abbi']"
      ]
     },
     "execution_count": 381,
     "metadata": {},
     "output_type": "execute_result"
    }
   ],
   "source": [
    "names.words()[:5]"
   ]
  },
  {
   "cell_type": "code",
   "execution_count": 382,
   "metadata": {},
   "outputs": [
    {
     "data": {
      "text/plain": [
       "['female.txt', 'male.txt']"
      ]
     },
     "execution_count": 382,
     "metadata": {},
     "output_type": "execute_result"
    }
   ],
   "source": [
    "names.fileids()"
   ]
  },
  {
   "cell_type": "code",
   "execution_count": 384,
   "metadata": {},
   "outputs": [],
   "source": [
    "male = names.words('male.txt')\n",
    "female = names.words('female.txt')"
   ]
  },
  {
   "cell_type": "code",
   "execution_count": 385,
   "metadata": {},
   "outputs": [
    {
     "name": "stdout",
     "output_type": "stream",
     "text": [
      "male: 2,943 vs. female: 5,001\n"
     ]
    }
   ],
   "source": [
    "print(f'male: {len(male):5,} vs. female: {len(female):5,}')"
   ]
  },
  {
   "cell_type": "code",
   "execution_count": 392,
   "metadata": {},
   "outputs": [],
   "source": [
    "intersection = sorted(set(female).intersection(set(male)))"
   ]
  },
  {
   "cell_type": "code",
   "execution_count": 393,
   "metadata": {},
   "outputs": [
    {
     "data": {
      "text/plain": [
       "365"
      ]
     },
     "execution_count": 393,
     "metadata": {},
     "output_type": "execute_result"
    }
   ],
   "source": [
    "len(intersection)"
   ]
  },
  {
   "cell_type": "code",
   "execution_count": 394,
   "metadata": {},
   "outputs": [
    {
     "data": {
      "text/plain": [
       "['Willie', 'Willy', 'Winnie', 'Winny', 'Wynn']"
      ]
     },
     "execution_count": 394,
     "metadata": {},
     "output_type": "execute_result"
    }
   ],
   "source": [
    "intersection[-5:]"
   ]
  },
  {
   "cell_type": "code",
   "execution_count": 395,
   "metadata": {},
   "outputs": [],
   "source": [
    "onlymale = sorted(set(male)-set(female))"
   ]
  },
  {
   "cell_type": "code",
   "execution_count": 396,
   "metadata": {},
   "outputs": [
    {
     "data": {
      "text/plain": [
       "2578"
      ]
     },
     "execution_count": 396,
     "metadata": {},
     "output_type": "execute_result"
    }
   ],
   "source": [
    "len(onlymale)"
   ]
  },
  {
   "cell_type": "code",
   "execution_count": 397,
   "metadata": {},
   "outputs": [
    {
     "data": {
      "text/plain": [
       "['Zeus', 'Zippy', 'Zollie', 'Zolly', 'Zorro']"
      ]
     },
     "execution_count": 397,
     "metadata": {},
     "output_type": "execute_result"
    }
   ],
   "source": [
    "onlymale[-5:]"
   ]
  },
  {
   "cell_type": "code",
   "execution_count": 398,
   "metadata": {},
   "outputs": [],
   "source": [
    "cfd = nltk.ConditionalFreqDist((file,name[-1])\n",
    "                              for file in names.fileids()\n",
    "                              for name in names.words(file)\n",
    "                              )"
   ]
  },
  {
   "cell_type": "code",
   "execution_count": 399,
   "metadata": {},
   "outputs": [
    {
     "data": {
      "image/png": "[encoded data removed]",
      "text/plain": [
       "<Figure size 432x288 with 1 Axes>"
      ]
     },
     "metadata": {
      "needs_background": "light"
     },
     "output_type": "display_data"
    },
    {
     "data": {
      "text/plain": [
       "<AxesSubplot:xlabel='Samples', ylabel='Counts'>"
      ]
     },
     "execution_count": 399,
     "metadata": {},
     "output_type": "execute_result"
    }
   ],
   "source": [
    "cfd.plot()\n",
    "# a로 끝나는게 여성/남성 차이 많음. 따라서 여성일 확률이 높다고도 인식 가능하다."
   ]
  },
  {
   "cell_type": "code",
   "execution_count": 400,
   "metadata": {},
   "outputs": [],
   "source": [
    "import os"
   ]
  },
  {
   "cell_type": "code",
   "execution_count": 401,
   "metadata": {},
   "outputs": [
    {
     "data": {
      "text/plain": [
       "'C:\\\\Users\\\\user\\\\Google 드라이브\\\\서강대\\\\정보처리및자연언어처리\\\\연습문제\\\\Information-Processing-and-Natural-Language'"
      ]
     },
     "execution_count": 401,
     "metadata": {},
     "output_type": "execute_result"
    }
   ],
   "source": [
    "os.getcwd()"
   ]
  },
  {
   "cell_type": "code",
   "execution_count": 402,
   "metadata": {},
   "outputs": [
    {
     "data": {
      "text/plain": [
       "['.git',\n",
       " '.ipynb_checkpoints',\n",
       " '11_data',\n",
       " '12_data01.txt',\n",
       " 'NLTK_Raw_Text_처리_I.ipynb',\n",
       " 'NLTK_Raw_Text_처리_II.ipynb',\n",
       " 'NLTK_Raw_Text_처리_II_연습문제1.ipynb',\n",
       " 'NLTK_Raw_Text_처리_II_연습문제2.ipynb',\n",
       " 'NLTK_Raw_Text_처리_I_연습문제1.ipynb',\n",
       " 'NLTK_코퍼스및어휘자원활용I.ipynb',\n",
       " 'NLTK_코퍼스및어휘자원활용II.ipynb',\n",
       " 'NLTK_코퍼스및어휘자원활용III.ipynb',\n",
       " 'NLTK_코퍼스및어휘자원활용II_연습문제1.ipynb',\n",
       " 'NLTK_코퍼스및어휘자원활용II_연습문제2.ipynb',\n",
       " 'NLTK_코퍼스및어휘자원활용II_연습문제3.ipynb',\n",
       " 'NLTK_코퍼스및어휘자원활용II_연습문제4.ipynb',\n",
       " 'NLTK_코퍼스및어휘자원활용IV.ipynb',\n",
       " 'NLTK_코퍼스및어휘자원활용IV_연습문제1.ipynb',\n",
       " 'NLTK_코퍼스및어휘자원활용IV_연습문제2.ipynb',\n",
       " 'NLTK_코퍼스및어휘자원활용IV_연습문제3.ipynb',\n",
       " 'NLTK_코퍼스및어휘자원활용IV_연습문제4.ipynb',\n",
       " 'NLTK_코퍼스및어휘자원활용V.ipynb',\n",
       " 'NLTK_코퍼스및어휘자원활용VI.ipynb',\n",
       " 'NLTK_코퍼스및어휘자원활용VI_연습문제1.ipynb',\n",
       " 'NLTK_코퍼스및어휘자원활용VI_연습문제2.ipynb',\n",
       " 'NLTK_코퍼스및어휘자원활용V_연습문제1.ipynb',\n",
       " 'NLTK_코퍼스및어휘자원활용V_연습문제2.ipynb',\n",
       " 'NLTK_코퍼스및어휘자원활용V_연습문제3.ipynb',\n",
       " 'NLTK_코퍼스및어휘자원활용V_연습문제4.ipynb',\n",
       " 'Python_기초정리III_연습문제1.ipynb',\n",
       " 'Python_기초정리III_연습문제2.ipynb',\n",
       " 'Python_기초정리III_연습문제3.ipynb',\n",
       " 'Python_기초정리III_정규표현식연습.ipynb',\n",
       " 'Python_기초정리II_연습문제1.ipynb',\n",
       " 'Python_기초정리II_연습문제2.ipynb',\n",
       " 'Python_기초정리II_연습문제3.ipynb',\n",
       " 'Python_기초정리IV_연습문제1.ipynb',\n",
       " 'Python_기초정리I_연습문제1.ipynb',\n",
       " 'Python_기초정리I_연습문제2.ipynb',\n",
       " 'README.md',\n",
       " 'test.txt',\n",
       " '중간대비.ipynb']"
      ]
     },
     "execution_count": 402,
     "metadata": {},
     "output_type": "execute_result"
    }
   ],
   "source": [
    "os.listdir()"
   ]
  },
  {
   "cell_type": "code",
   "execution_count": 403,
   "metadata": {},
   "outputs": [],
   "source": [
    "os.mkdir('txt')"
   ]
  },
  {
   "cell_type": "code",
   "execution_count": 404,
   "metadata": {},
   "outputs": [
    {
     "data": {
      "text/plain": [
       "['.git',\n",
       " '.ipynb_checkpoints',\n",
       " '11_data',\n",
       " '12_data01.txt',\n",
       " 'NLTK_Raw_Text_처리_I.ipynb',\n",
       " 'NLTK_Raw_Text_처리_II.ipynb',\n",
       " 'NLTK_Raw_Text_처리_II_연습문제1.ipynb',\n",
       " 'NLTK_Raw_Text_처리_II_연습문제2.ipynb',\n",
       " 'NLTK_Raw_Text_처리_I_연습문제1.ipynb',\n",
       " 'NLTK_코퍼스및어휘자원활용I.ipynb',\n",
       " 'NLTK_코퍼스및어휘자원활용II.ipynb',\n",
       " 'NLTK_코퍼스및어휘자원활용III.ipynb',\n",
       " 'NLTK_코퍼스및어휘자원활용II_연습문제1.ipynb',\n",
       " 'NLTK_코퍼스및어휘자원활용II_연습문제2.ipynb',\n",
       " 'NLTK_코퍼스및어휘자원활용II_연습문제3.ipynb',\n",
       " 'NLTK_코퍼스및어휘자원활용II_연습문제4.ipynb',\n",
       " 'NLTK_코퍼스및어휘자원활용IV.ipynb',\n",
       " 'NLTK_코퍼스및어휘자원활용IV_연습문제1.ipynb',\n",
       " 'NLTK_코퍼스및어휘자원활용IV_연습문제2.ipynb',\n",
       " 'NLTK_코퍼스및어휘자원활용IV_연습문제3.ipynb',\n",
       " 'NLTK_코퍼스및어휘자원활용IV_연습문제4.ipynb',\n",
       " 'NLTK_코퍼스및어휘자원활용V.ipynb',\n",
       " 'NLTK_코퍼스및어휘자원활용VI.ipynb',\n",
       " 'NLTK_코퍼스및어휘자원활용VI_연습문제1.ipynb',\n",
       " 'NLTK_코퍼스및어휘자원활용VI_연습문제2.ipynb',\n",
       " 'NLTK_코퍼스및어휘자원활용V_연습문제1.ipynb',\n",
       " 'NLTK_코퍼스및어휘자원활용V_연습문제2.ipynb',\n",
       " 'NLTK_코퍼스및어휘자원활용V_연습문제3.ipynb',\n",
       " 'NLTK_코퍼스및어휘자원활용V_연습문제4.ipynb',\n",
       " 'Python_기초정리III_연습문제1.ipynb',\n",
       " 'Python_기초정리III_연습문제2.ipynb',\n",
       " 'Python_기초정리III_연습문제3.ipynb',\n",
       " 'Python_기초정리III_정규표현식연습.ipynb',\n",
       " 'Python_기초정리II_연습문제1.ipynb',\n",
       " 'Python_기초정리II_연습문제2.ipynb',\n",
       " 'Python_기초정리II_연습문제3.ipynb',\n",
       " 'Python_기초정리IV_연습문제1.ipynb',\n",
       " 'Python_기초정리I_연습문제1.ipynb',\n",
       " 'Python_기초정리I_연습문제2.ipynb',\n",
       " 'README.md',\n",
       " 'test.txt',\n",
       " 'txt',\n",
       " '중간대비.ipynb']"
      ]
     },
     "execution_count": 404,
     "metadata": {},
     "output_type": "execute_result"
    }
   ],
   "source": [
    "os.listdir()"
   ]
  },
  {
   "cell_type": "code",
   "execution_count": 405,
   "metadata": {},
   "outputs": [],
   "source": [
    "os.chdir('11_data')"
   ]
  },
  {
   "cell_type": "code",
   "execution_count": 406,
   "metadata": {},
   "outputs": [
    {
     "data": {
      "text/plain": [
       "'C:\\\\Users\\\\user\\\\Google 드라이브\\\\서강대\\\\정보처리및자연언어처리\\\\연습문제\\\\Information-Processing-and-Natural-Language\\\\11_data'"
      ]
     },
     "execution_count": 406,
     "metadata": {},
     "output_type": "execute_result"
    }
   ],
   "source": [
    "os.getcwd() # 폴더 경로는 \\\\를 경계로"
   ]
  },
  {
   "cell_type": "code",
   "execution_count": 407,
   "metadata": {},
   "outputs": [
    {
     "data": {
      "text/plain": [
       "['hu01.txt',\n",
       " 'hu02.txt',\n",
       " 'hu03.txt',\n",
       " 'hu04.txt',\n",
       " 'na01.txt',\n",
       " 'na02.txt',\n",
       " 'na03.txt',\n",
       " 'na04.txt']"
      ]
     },
     "execution_count": 407,
     "metadata": {},
     "output_type": "execute_result"
    }
   ],
   "source": [
    "os.listdir() # 안에 아무것도 없다면 empty list"
   ]
  },
  {
   "cell_type": "code",
   "execution_count": 408,
   "metadata": {},
   "outputs": [
    {
     "data": {
      "text/plain": [
       "['hu01.txt',\n",
       " 'hu02.txt',\n",
       " 'hu03.txt',\n",
       " 'hu04.txt',\n",
       " 'na01.txt',\n",
       " 'na02.txt',\n",
       " 'na03.txt',\n",
       " 'na04.txt']"
      ]
     },
     "execution_count": 408,
     "metadata": {},
     "output_type": "execute_result"
    }
   ],
   "source": [
    "os.listdir('.')"
   ]
  },
  {
   "cell_type": "code",
   "execution_count": 409,
   "metadata": {},
   "outputs": [
    {
     "data": {
      "text/plain": [
       "['.git',\n",
       " '.ipynb_checkpoints',\n",
       " '11_data',\n",
       " '12_data01.txt',\n",
       " 'NLTK_Raw_Text_처리_I.ipynb',\n",
       " 'NLTK_Raw_Text_처리_II.ipynb',\n",
       " 'NLTK_Raw_Text_처리_II_연습문제1.ipynb',\n",
       " 'NLTK_Raw_Text_처리_II_연습문제2.ipynb',\n",
       " 'NLTK_Raw_Text_처리_I_연습문제1.ipynb',\n",
       " 'NLTK_코퍼스및어휘자원활용I.ipynb',\n",
       " 'NLTK_코퍼스및어휘자원활용II.ipynb',\n",
       " 'NLTK_코퍼스및어휘자원활용III.ipynb',\n",
       " 'NLTK_코퍼스및어휘자원활용II_연습문제1.ipynb',\n",
       " 'NLTK_코퍼스및어휘자원활용II_연습문제2.ipynb',\n",
       " 'NLTK_코퍼스및어휘자원활용II_연습문제3.ipynb',\n",
       " 'NLTK_코퍼스및어휘자원활용II_연습문제4.ipynb',\n",
       " 'NLTK_코퍼스및어휘자원활용IV.ipynb',\n",
       " 'NLTK_코퍼스및어휘자원활용IV_연습문제1.ipynb',\n",
       " 'NLTK_코퍼스및어휘자원활용IV_연습문제2.ipynb',\n",
       " 'NLTK_코퍼스및어휘자원활용IV_연습문제3.ipynb',\n",
       " 'NLTK_코퍼스및어휘자원활용IV_연습문제4.ipynb',\n",
       " 'NLTK_코퍼스및어휘자원활용V.ipynb',\n",
       " 'NLTK_코퍼스및어휘자원활용VI.ipynb',\n",
       " 'NLTK_코퍼스및어휘자원활용VI_연습문제1.ipynb',\n",
       " 'NLTK_코퍼스및어휘자원활용VI_연습문제2.ipynb',\n",
       " 'NLTK_코퍼스및어휘자원활용V_연습문제1.ipynb',\n",
       " 'NLTK_코퍼스및어휘자원활용V_연습문제2.ipynb',\n",
       " 'NLTK_코퍼스및어휘자원활용V_연습문제3.ipynb',\n",
       " 'NLTK_코퍼스및어휘자원활용V_연습문제4.ipynb',\n",
       " 'Python_기초정리III_연습문제1.ipynb',\n",
       " 'Python_기초정리III_연습문제2.ipynb',\n",
       " 'Python_기초정리III_연습문제3.ipynb',\n",
       " 'Python_기초정리III_정규표현식연습.ipynb',\n",
       " 'Python_기초정리II_연습문제1.ipynb',\n",
       " 'Python_기초정리II_연습문제2.ipynb',\n",
       " 'Python_기초정리II_연습문제3.ipynb',\n",
       " 'Python_기초정리IV_연습문제1.ipynb',\n",
       " 'Python_기초정리I_연습문제1.ipynb',\n",
       " 'Python_기초정리I_연습문제2.ipynb',\n",
       " 'README.md',\n",
       " 'test.txt',\n",
       " 'txt',\n",
       " '중간대비.ipynb']"
      ]
     },
     "execution_count": 409,
     "metadata": {},
     "output_type": "execute_result"
    }
   ],
   "source": [
    "os.listdir('..')"
   ]
  },
  {
   "cell_type": "code",
   "execution_count": 410,
   "metadata": {},
   "outputs": [
    {
     "data": {
      "text/plain": [
       "[]"
      ]
     },
     "execution_count": 410,
     "metadata": {},
     "output_type": "execute_result"
    }
   ],
   "source": [
    "os.listdir('..\\\\txt')"
   ]
  },
  {
   "cell_type": "code",
   "execution_count": 411,
   "metadata": {},
   "outputs": [
    {
     "data": {
      "text/plain": [
       "'C:\\\\Users\\\\user\\\\Google 드라이브\\\\서강대\\\\정보처리및자연언어처리\\\\연습문제\\\\Information-Processing-and-Natural-Language\\\\11_data'"
      ]
     },
     "execution_count": 411,
     "metadata": {},
     "output_type": "execute_result"
    }
   ],
   "source": [
    "os.getcwd()"
   ]
  },
  {
   "cell_type": "code",
   "execution_count": 412,
   "metadata": {},
   "outputs": [],
   "source": [
    "os.chdir('..')"
   ]
  },
  {
   "cell_type": "code",
   "execution_count": 413,
   "metadata": {},
   "outputs": [
    {
     "data": {
      "text/plain": [
       "'C:\\\\Users\\\\user\\\\Google 드라이브\\\\서강대\\\\정보처리및자연언어처리\\\\연습문제\\\\Information-Processing-and-Natural-Language'"
      ]
     },
     "execution_count": 413,
     "metadata": {},
     "output_type": "execute_result"
    }
   ],
   "source": [
    "os.getcwd()"
   ]
  },
  {
   "cell_type": "code",
   "execution_count": 414,
   "metadata": {},
   "outputs": [
    {
     "data": {
      "text/plain": [
       "[]"
      ]
     },
     "execution_count": 414,
     "metadata": {},
     "output_type": "execute_result"
    }
   ],
   "source": [
    "os.listdir('.\\\\txt') # 상대경로"
   ]
  },
  {
   "cell_type": "code",
   "execution_count": 415,
   "metadata": {},
   "outputs": [
    {
     "data": {
      "text/plain": [
       "['hu01.txt',\n",
       " 'hu02.txt',\n",
       " 'hu03.txt',\n",
       " 'hu04.txt',\n",
       " 'na01.txt',\n",
       " 'na02.txt',\n",
       " 'na03.txt',\n",
       " 'na04.txt']"
      ]
     },
     "execution_count": 415,
     "metadata": {},
     "output_type": "execute_result"
    }
   ],
   "source": [
    "os.listdir('.\\\\11_data')"
   ]
  },
  {
   "cell_type": "code",
   "execution_count": 416,
   "metadata": {},
   "outputs": [
    {
     "data": {
      "text/plain": [
       "'c:\\nbc\\nbc'"
      ]
     },
     "execution_count": 416,
     "metadata": {},
     "output_type": "execute_result"
    }
   ],
   "source": [
    "'c:\\nbc\\nbc'"
   ]
  },
  {
   "cell_type": "code",
   "execution_count": 417,
   "metadata": {},
   "outputs": [
    {
     "name": "stdout",
     "output_type": "stream",
     "text": [
      "c:\n",
      "bc\n",
      "bc\n"
     ]
    }
   ],
   "source": [
    "print('c:\\nbc\\nbc')"
   ]
  },
  {
   "cell_type": "code",
   "execution_count": 418,
   "metadata": {},
   "outputs": [
    {
     "name": "stdout",
     "output_type": "stream",
     "text": [
      "c:\\nbc\\nbc\n"
     ]
    }
   ],
   "source": [
    "print('c:\\\\nbc\\\\nbc')"
   ]
  },
  {
   "cell_type": "code",
   "execution_count": 419,
   "metadata": {},
   "outputs": [
    {
     "data": {
      "text/plain": [
       "'c:\\\\nbc\\\\nbc'"
      ]
     },
     "execution_count": 419,
     "metadata": {},
     "output_type": "execute_result"
    }
   ],
   "source": [
    "r'c:\\nbc\\nbc'"
   ]
  },
  {
   "cell_type": "code",
   "execution_count": 420,
   "metadata": {},
   "outputs": [
    {
     "data": {
      "text/plain": [
       "'c:\\\\nbc\\\\nbc'"
      ]
     },
     "execution_count": 420,
     "metadata": {},
     "output_type": "execute_result"
    }
   ],
   "source": [
    "R'c:\\nbc\\nbc'"
   ]
  },
  {
   "cell_type": "code",
   "execution_count": 421,
   "metadata": {},
   "outputs": [
    {
     "name": "stdout",
     "output_type": "stream",
     "text": [
      "c:\\nbc\\nbc\n"
     ]
    }
   ],
   "source": [
    "print(r'c:\\nbc\\nbc')"
   ]
  },
  {
   "cell_type": "code",
   "execution_count": 422,
   "metadata": {},
   "outputs": [
    {
     "name": "stdout",
     "output_type": "stream",
     "text": [
      "c:\\nbc\\nbc\n"
     ]
    }
   ],
   "source": [
    "print(R'c:\\nbc\\nbc')"
   ]
  },
  {
   "cell_type": "code",
   "execution_count": 423,
   "metadata": {},
   "outputs": [],
   "source": [
    "from nltk.corpus import PlaintextCorpusReader\n",
    "wordlists = PlaintextCorpusReader(r'.\\11_data','.*')"
   ]
  },
  {
   "cell_type": "code",
   "execution_count": 424,
   "metadata": {},
   "outputs": [
    {
     "data": {
      "text/plain": [
       "['hu01.txt',\n",
       " 'hu02.txt',\n",
       " 'hu03.txt',\n",
       " 'hu04.txt',\n",
       " 'na01.txt',\n",
       " 'na02.txt',\n",
       " 'na03.txt',\n",
       " 'na04.txt']"
      ]
     },
     "execution_count": 424,
     "metadata": {},
     "output_type": "execute_result"
    }
   ],
   "source": [
    "wordlists.fileids()"
   ]
  },
  {
   "cell_type": "code",
   "execution_count": 425,
   "metadata": {},
   "outputs": [],
   "source": [
    "wordlists = PlaintextCorpusReader('./11_data','^h.+')"
   ]
  },
  {
   "cell_type": "code",
   "execution_count": 426,
   "metadata": {},
   "outputs": [
    {
     "data": {
      "text/plain": [
       "['hu01.txt', 'hu02.txt', 'hu03.txt', 'hu04.txt']"
      ]
     },
     "execution_count": 426,
     "metadata": {},
     "output_type": "execute_result"
    }
   ],
   "source": [
    "wordlists.fileids()"
   ]
  },
  {
   "cell_type": "code",
   "execution_count": 427,
   "metadata": {},
   "outputs": [],
   "source": [
    "wordlists = PlaintextCorpusReader('.\\\\11_data','.+[34].+')"
   ]
  },
  {
   "cell_type": "code",
   "execution_count": 428,
   "metadata": {},
   "outputs": [
    {
     "data": {
      "text/plain": [
       "['hu03.txt', 'hu04.txt', 'na03.txt', 'na04.txt']"
      ]
     },
     "execution_count": 428,
     "metadata": {},
     "output_type": "execute_result"
    }
   ],
   "source": [
    "wordlists.fileids()"
   ]
  },
  {
   "cell_type": "code",
   "execution_count": 429,
   "metadata": {},
   "outputs": [
    {
     "data": {
      "text/plain": [
       "nltk.corpus.reader.plaintext.PlaintextCorpusReader"
      ]
     },
     "execution_count": 429,
     "metadata": {},
     "output_type": "execute_result"
    }
   ],
   "source": [
    "wordlists = PlaintextCorpusReader('./11_data','.*')\n",
    "type(wordlists)"
   ]
  },
  {
   "cell_type": "code",
   "execution_count": 431,
   "metadata": {},
   "outputs": [],
   "source": [
    "from nltk.corpus.reader.plaintext import CategorizedPlaintextCorpusReader"
   ]
  },
  {
   "cell_type": "code",
   "execution_count": 432,
   "metadata": {},
   "outputs": [],
   "source": [
    "my = CategorizedPlaintextCorpusReader('./11_data','.*',cat_pattern='^(\\w\\w).+')"
   ]
  },
  {
   "cell_type": "code",
   "execution_count": 433,
   "metadata": {},
   "outputs": [
    {
     "data": {
      "text/plain": [
       "nltk.corpus.reader.plaintext.CategorizedPlaintextCorpusReader"
      ]
     },
     "execution_count": 433,
     "metadata": {},
     "output_type": "execute_result"
    }
   ],
   "source": [
    "type(my)"
   ]
  },
  {
   "cell_type": "code",
   "execution_count": 434,
   "metadata": {},
   "outputs": [
    {
     "data": {
      "text/plain": [
       "8"
      ]
     },
     "execution_count": 434,
     "metadata": {},
     "output_type": "execute_result"
    }
   ],
   "source": [
    "len(my.fileids())"
   ]
  },
  {
   "cell_type": "code",
   "execution_count": 435,
   "metadata": {},
   "outputs": [
    {
     "data": {
      "text/plain": [
       "['hu01.txt', 'hu03.txt', 'na01.txt', 'na03.txt']"
      ]
     },
     "execution_count": 435,
     "metadata": {},
     "output_type": "execute_result"
    }
   ],
   "source": [
    "my.fileids()[0::2]"
   ]
  },
  {
   "cell_type": "code",
   "execution_count": 436,
   "metadata": {},
   "outputs": [
    {
     "data": {
      "text/plain": [
       "['hu', 'na']"
      ]
     },
     "execution_count": 436,
     "metadata": {},
     "output_type": "execute_result"
    }
   ],
   "source": [
    "my.categories()"
   ]
  },
  {
   "cell_type": "code",
   "execution_count": 437,
   "metadata": {},
   "outputs": [
    {
     "data": {
      "text/plain": [
       "18784"
      ]
     },
     "execution_count": 437,
     "metadata": {},
     "output_type": "execute_result"
    }
   ],
   "source": [
    "len(my.words())"
   ]
  },
  {
   "cell_type": "code",
   "execution_count": 438,
   "metadata": {},
   "outputs": [
    {
     "data": {
      "text/plain": [
       "9549"
      ]
     },
     "execution_count": 438,
     "metadata": {},
     "output_type": "execute_result"
    }
   ],
   "source": [
    "len(my.words(categories='hu'))"
   ]
  },
  {
   "cell_type": "code",
   "execution_count": 440,
   "metadata": {},
   "outputs": [
    {
     "data": {
      "text/plain": [
       "9235"
      ]
     },
     "execution_count": 440,
     "metadata": {},
     "output_type": "execute_result"
    }
   ],
   "source": [
    "len(my.words(categories='na'))"
   ]
  },
  {
   "cell_type": "code",
   "execution_count": 441,
   "metadata": {},
   "outputs": [],
   "source": [
    "ex = CategorizedPlaintextCorpusReader('./11_data','.*',cat_pattern='.+(\\d\\d)')"
   ]
  },
  {
   "cell_type": "code",
   "execution_count": 442,
   "metadata": {},
   "outputs": [
    {
     "data": {
      "text/plain": [
       "['01', '02', '03', '04']"
      ]
     },
     "execution_count": 442,
     "metadata": {},
     "output_type": "execute_result"
    }
   ],
   "source": [
    "ex.categories()"
   ]
  },
  {
   "cell_type": "code",
   "execution_count": 443,
   "metadata": {},
   "outputs": [
    {
     "data": {
      "text/plain": [
       "4776"
      ]
     },
     "execution_count": 443,
     "metadata": {},
     "output_type": "execute_result"
    }
   ],
   "source": [
    "len(ex.words(categories='01'))"
   ]
  },
  {
   "cell_type": "code",
   "execution_count": 444,
   "metadata": {},
   "outputs": [
    {
     "data": {
      "text/plain": [
       "4908"
      ]
     },
     "execution_count": 444,
     "metadata": {},
     "output_type": "execute_result"
    }
   ],
   "source": [
    "len(ex.words(categories='04'))"
   ]
  },
  {
   "cell_type": "code",
   "execution_count": 445,
   "metadata": {},
   "outputs": [
    {
     "data": {
      "text/plain": [
       "list"
      ]
     },
     "execution_count": 445,
     "metadata": {},
     "output_type": "execute_result"
    }
   ],
   "source": [
    "from nltk.corpus import stopwords\n",
    "type(stopwords.words('english'))"
   ]
  },
  {
   "cell_type": "code",
   "execution_count": 446,
   "metadata": {},
   "outputs": [
    {
     "data": {
      "text/plain": [
       "179"
      ]
     },
     "execution_count": 446,
     "metadata": {},
     "output_type": "execute_result"
    }
   ],
   "source": [
    "len(stopwords.words('english'))"
   ]
  },
  {
   "cell_type": "code",
   "execution_count": 448,
   "metadata": {},
   "outputs": [
    {
     "data": {
      "text/plain": [
       "['i', 'me', 'my', 'myself', 'we', 'our', 'ours']"
      ]
     },
     "execution_count": 448,
     "metadata": {},
     "output_type": "execute_result"
    }
   ],
   "source": [
    "stopwords.words('english')[:7] # 1인칭 먼저. 비슷한 기능들을 몰아서 정리한 상태"
   ]
  },
  {
   "cell_type": "code",
   "execution_count": 449,
   "metadata": {},
   "outputs": [
    {
     "data": {
      "text/plain": [
       "[\"wasn't\", 'weren', \"weren't\", 'won', \"won't\", 'wouldn', \"wouldn't\"]"
      ]
     },
     "execution_count": 449,
     "metadata": {},
     "output_type": "execute_result"
    }
   ],
   "source": [
    "stopwords.words('english')[-7:]"
   ]
  },
  {
   "cell_type": "code",
   "execution_count": 452,
   "metadata": {},
   "outputs": [],
   "source": [
    "def content(words):\n",
    "    return len([w for w in words if w.lower() not in stopwords.words('english')])/len(words)"
   ]
  },
  {
   "cell_type": "code",
   "execution_count": 453,
   "metadata": {},
   "outputs": [
    {
     "data": {
      "text/plain": [
       "0.5735054697095199"
      ]
     },
     "execution_count": 453,
     "metadata": {},
     "output_type": "execute_result"
    }
   ],
   "source": [
    "content(nltk.corpus.brown.words(categories='romance'))"
   ]
  },
  {
   "cell_type": "code",
   "execution_count": 454,
   "metadata": {},
   "outputs": [
    {
     "data": {
      "text/plain": [
       "0.5865132243085"
      ]
     },
     "execution_count": 454,
     "metadata": {},
     "output_type": "execute_result"
    }
   ],
   "source": [
    "content(nltk.corpus.brown.words(categories='adventure'))"
   ]
  },
  {
   "cell_type": "code",
   "execution_count": 455,
   "metadata": {},
   "outputs": [
    {
     "data": {
      "text/plain": [
       "0.5944537297677692"
      ]
     },
     "execution_count": 455,
     "metadata": {},
     "output_type": "execute_result"
    }
   ],
   "source": [
    "content(nltk.corpus.brown.words(categories='learned'))"
   ]
  },
  {
   "cell_type": "code",
   "execution_count": 456,
   "metadata": {},
   "outputs": [
    {
     "data": {
      "text/plain": [
       "0.6072136571730108"
      ]
     },
     "execution_count": 456,
     "metadata": {},
     "output_type": "execute_result"
    }
   ],
   "source": [
    "content(nltk.corpus.brown.words(categories='government'))"
   ]
  },
  {
   "cell_type": "markdown",
   "metadata": {},
   "source": [
    "갈수록 비율 증가. 구어체에 가까울수록 대명사 등의 불용어를 사용하는 게 더 많음을 알 수 있음."
   ]
  },
  {
   "cell_type": "code",
   "execution_count": 457,
   "metadata": {},
   "outputs": [
    {
     "name": "stdout",
     "output_type": "stream",
     "text": [
      "NLTK\n",
      "Python\n",
      "\n"
     ]
    }
   ],
   "source": [
    "s = 'NLTK\\nPython\\n'\n",
    "print(s)"
   ]
  },
  {
   "cell_type": "code",
   "execution_count": 458,
   "metadata": {},
   "outputs": [],
   "source": [
    "f = open('test.txt','w')"
   ]
  },
  {
   "cell_type": "code",
   "execution_count": 459,
   "metadata": {},
   "outputs": [
    {
     "data": {
      "text/plain": [
       "<_io.TextIOWrapper name='test.txt' mode='w' encoding='cp949'>"
      ]
     },
     "execution_count": 459,
     "metadata": {},
     "output_type": "execute_result"
    }
   ],
   "source": [
    "f"
   ]
  },
  {
   "cell_type": "code",
   "execution_count": 460,
   "metadata": {},
   "outputs": [
    {
     "data": {
      "text/plain": [
       "12"
      ]
     },
     "execution_count": 460,
     "metadata": {},
     "output_type": "execute_result"
    }
   ],
   "source": [
    "f.write(s) # 리턴값은 문자열의 길이"
   ]
  },
  {
   "cell_type": "code",
   "execution_count": 461,
   "metadata": {},
   "outputs": [
    {
     "data": {
      "text/plain": [
       "12"
      ]
     },
     "execution_count": 461,
     "metadata": {},
     "output_type": "execute_result"
    }
   ],
   "source": [
    "open('test.txt','w').write(s) # 얘는 file을 변수에 저장한게 아니기 때문에 write()는 한 번만 사용 가능"
   ]
  },
  {
   "cell_type": "code",
   "execution_count": 462,
   "metadata": {},
   "outputs": [],
   "source": [
    "f.close()"
   ]
  },
  {
   "cell_type": "code",
   "execution_count": 463,
   "metadata": {},
   "outputs": [
    {
     "name": "stdout",
     "output_type": "stream",
     "text": [
      "NLTK\n",
      "Python\n"
     ]
    }
   ],
   "source": [
    "s = 'NLTK\\nPython'\n",
    "print(s)"
   ]
  },
  {
   "cell_type": "code",
   "execution_count": 464,
   "metadata": {},
   "outputs": [],
   "source": [
    "f = open('test.txt','w')"
   ]
  },
  {
   "cell_type": "code",
   "execution_count": 465,
   "metadata": {},
   "outputs": [
    {
     "data": {
      "text/plain": [
       "11"
      ]
     },
     "execution_count": 465,
     "metadata": {},
     "output_type": "execute_result"
    }
   ],
   "source": [
    "f.write(s)"
   ]
  },
  {
   "cell_type": "code",
   "execution_count": 466,
   "metadata": {},
   "outputs": [
    {
     "data": {
      "text/plain": [
       "11"
      ]
     },
     "execution_count": 466,
     "metadata": {},
     "output_type": "execute_result"
    }
   ],
   "source": [
    "f.write(s)"
   ]
  },
  {
   "cell_type": "code",
   "execution_count": 467,
   "metadata": {},
   "outputs": [],
   "source": [
    "f.close()"
   ]
  },
  {
   "cell_type": "code",
   "execution_count": 468,
   "metadata": {},
   "outputs": [
    {
     "name": "stdout",
     "output_type": "stream",
     "text": [
      "NLTK\n",
      "PythonNLTK\n",
      "Python\n"
     ]
    }
   ],
   "source": [
    "!cat test.txt"
   ]
  },
  {
   "cell_type": "code",
   "execution_count": 469,
   "metadata": {},
   "outputs": [],
   "source": [
    "s = 'NLTK\\nPython'\n",
    "ss = 'Programming\\nData'"
   ]
  },
  {
   "cell_type": "code",
   "execution_count": 470,
   "metadata": {},
   "outputs": [
    {
     "data": {
      "text/plain": [
       "11"
      ]
     },
     "execution_count": 470,
     "metadata": {},
     "output_type": "execute_result"
    }
   ],
   "source": [
    "open('test.txt','w').write(s)"
   ]
  },
  {
   "cell_type": "code",
   "execution_count": 471,
   "metadata": {},
   "outputs": [
    {
     "data": {
      "text/plain": [
       "16"
      ]
     },
     "execution_count": 471,
     "metadata": {},
     "output_type": "execute_result"
    }
   ],
   "source": [
    "open('test.txt','w').write(ss)"
   ]
  },
  {
   "cell_type": "code",
   "execution_count": 472,
   "metadata": {},
   "outputs": [
    {
     "name": "stdout",
     "output_type": "stream",
     "text": [
      "Programming\n",
      "Data\n"
     ]
    }
   ],
   "source": [
    "!cat test.txt"
   ]
  },
  {
   "cell_type": "code",
   "execution_count": 473,
   "metadata": {},
   "outputs": [
    {
     "data": {
      "text/plain": [
       "11"
      ]
     },
     "execution_count": 473,
     "metadata": {},
     "output_type": "execute_result"
    }
   ],
   "source": [
    "open('test.txt','w').write(s)"
   ]
  },
  {
   "cell_type": "code",
   "execution_count": 474,
   "metadata": {},
   "outputs": [
    {
     "data": {
      "text/plain": [
       "16"
      ]
     },
     "execution_count": 474,
     "metadata": {},
     "output_type": "execute_result"
    }
   ],
   "source": [
    "open('test.txt','a').write(ss)"
   ]
  },
  {
   "cell_type": "code",
   "execution_count": 475,
   "metadata": {},
   "outputs": [
    {
     "name": "stdout",
     "output_type": "stream",
     "text": [
      "NLTK\n",
      "PythonProgramming\n",
      "Data\n"
     ]
    }
   ],
   "source": [
    "!cat test.txt"
   ]
  },
  {
   "cell_type": "code",
   "execution_count": 476,
   "metadata": {},
   "outputs": [
    {
     "data": {
      "text/plain": [
       "<_io.TextIOWrapper name='test.txt' mode='r' encoding='cp949'>"
      ]
     },
     "execution_count": 476,
     "metadata": {},
     "output_type": "execute_result"
    }
   ],
   "source": [
    "open('test.txt')"
   ]
  },
  {
   "cell_type": "code",
   "execution_count": 477,
   "metadata": {},
   "outputs": [],
   "source": [
    "f = open('test.txt','r')"
   ]
  },
  {
   "cell_type": "code",
   "execution_count": 478,
   "metadata": {},
   "outputs": [
    {
     "data": {
      "text/plain": [
       "<_io.TextIOWrapper name='test.txt' mode='r' encoding='cp949'>"
      ]
     },
     "execution_count": 478,
     "metadata": {},
     "output_type": "execute_result"
    }
   ],
   "source": [
    "f"
   ]
  },
  {
   "cell_type": "code",
   "execution_count": 479,
   "metadata": {},
   "outputs": [
    {
     "data": {
      "text/plain": [
       "'NLTK\\nPythonProgramming\\nData'"
      ]
     },
     "execution_count": 479,
     "metadata": {},
     "output_type": "execute_result"
    }
   ],
   "source": [
    "f.read()"
   ]
  },
  {
   "cell_type": "code",
   "execution_count": 480,
   "metadata": {},
   "outputs": [
    {
     "data": {
      "text/plain": [
       "''"
      ]
     },
     "execution_count": 480,
     "metadata": {},
     "output_type": "execute_result"
    }
   ],
   "source": [
    "f.read()"
   ]
  },
  {
   "cell_type": "code",
   "execution_count": 481,
   "metadata": {},
   "outputs": [],
   "source": [
    "f.close()"
   ]
  },
  {
   "cell_type": "code",
   "execution_count": 482,
   "metadata": {},
   "outputs": [
    {
     "data": {
      "text/plain": [
       "['NLTK\\n', 'PythonProgramming\\n', 'Data']"
      ]
     },
     "execution_count": 482,
     "metadata": {},
     "output_type": "execute_result"
    }
   ],
   "source": [
    "open('test.txt').readlines()"
   ]
  },
  {
   "cell_type": "code",
   "execution_count": 483,
   "metadata": {},
   "outputs": [
    {
     "data": {
      "text/plain": [
       "'NLTK\\nPythonProgramming\\nData'"
      ]
     },
     "execution_count": 483,
     "metadata": {},
     "output_type": "execute_result"
    }
   ],
   "source": [
    "open('test.txt').read()"
   ]
  },
  {
   "cell_type": "code",
   "execution_count": 485,
   "metadata": {},
   "outputs": [
    {
     "data": {
      "text/plain": [
       "<_io.TextIOWrapper name='12_data01.txt' mode='r' encoding='utf-8'>"
      ]
     },
     "execution_count": 485,
     "metadata": {},
     "output_type": "execute_result"
    }
   ],
   "source": [
    "open('12_data01.txt',encoding='utf-8')"
   ]
  },
  {
   "cell_type": "code",
   "execution_count": 486,
   "metadata": {},
   "outputs": [],
   "source": [
    "a = open('12_data01.txt',encoding='utf-8').read()"
   ]
  },
  {
   "cell_type": "code",
   "execution_count": 494,
   "metadata": {},
   "outputs": [],
   "source": [
    "filename = '12_data01.txt'\n",
    "letters = len(re.sub('\\s','',a))\n",
    "words = a.split()\n",
    "lines = re.sub('\\n{2,}','\\n',a.strip()).splitlines()"
   ]
  },
  {
   "cell_type": "code",
   "execution_count": 497,
   "metadata": {},
   "outputs": [
    {
     "name": "stdout",
     "output_type": "stream",
     "text": [
      "파일명:                 12_data01.txt\n",
      "공백문자제외문자수:           943,476\n",
      "어휘수:                       206,529\n",
      "공백라인제외문단수:            18,293\n"
     ]
    }
   ],
   "source": [
    "print('\\n'.join([\n",
    "    '파일명:{:>30}','공백문자제외문자수:{:>18,}','어휘수:{:>30,}','공백라인제외문단수:{:>18,}'\n",
    "]).format(filename,letters,len(words),len(lines)))"
   ]
  },
  {
   "cell_type": "code",
   "execution_count": 498,
   "metadata": {},
   "outputs": [],
   "source": [
    "from nltk import word_tokenize"
   ]
  },
  {
   "cell_type": "code",
   "execution_count": 499,
   "metadata": {},
   "outputs": [
    {
     "data": {
      "text/plain": [
       "list"
      ]
     },
     "execution_count": 499,
     "metadata": {},
     "output_type": "execute_result"
    }
   ],
   "source": [
    "tokens = word_tokenize(a)\n",
    "type(tokens)"
   ]
  },
  {
   "cell_type": "code",
   "execution_count": 500,
   "metadata": {},
   "outputs": [
    {
     "data": {
      "text/plain": [
       "257084"
      ]
     },
     "execution_count": 500,
     "metadata": {},
     "output_type": "execute_result"
    }
   ],
   "source": [
    "len(tokens)"
   ]
  },
  {
   "cell_type": "code",
   "execution_count": 501,
   "metadata": {},
   "outputs": [
    {
     "name": "stdout",
     "output_type": "stream",
     "text": [
      "['The', 'Project', 'Gutenberg', 'EBook', 'of', 'Crime', 'and', 'Punishment', ',', 'by', 'Fyodor', 'Dostoevsky', 'This', 'eBook', 'is']\n"
     ]
    }
   ],
   "source": [
    "print(tokens[:15])"
   ]
  },
  {
   "cell_type": "code",
   "execution_count": 502,
   "metadata": {},
   "outputs": [
    {
     "name": "stdout",
     "output_type": "stream",
     "text": [
      "['At', 'eight', \"o'clock\", 'on', 'Thursday', 'morning', ',', 'Arthur', 'did', \"n't\", 'feel', 'very', 'good', '.']\n"
     ]
    }
   ],
   "source": [
    "sentence = \"At eight o'clock on Thursday morning, Arthur didn't feel very good.\"\n",
    "print(nltk.word_tokenize(sentence))"
   ]
  },
  {
   "cell_type": "code",
   "execution_count": 503,
   "metadata": {},
   "outputs": [
    {
     "name": "stdout",
     "output_type": "stream",
     "text": [
      "{'wall-paper', 'business.', 'ready-made', 'hundred-rouble', 'cabinet-maker', 'chance.', 'fashion.', 'half-hour', 'unfastened.', 'shawl.', 'forty-seven', 'nature.', 'serfdom.', 'doing.', 'coat-tail', 'menage_.', 'God-forsaken', 'forth.', 'hard-working', 'madam.', 'themselves.', 'absent-minded', 'police.', 'still.', 'curly-headed', 'jewel-cases', 'completely.', 'He-he-he', 'va-t-elle', 'kiss.', 'go.', 'riff-raff', 'clear-skinned', 'eccentric.', 'then.', 'express.', 'knock-down', 'ho-nou-red', 'old-womanish', 'face.', 'back.', 'well-to-do', 'asleep.', 'three-rouble', 'thickly-set', 'did.', 'cried.', 'wedding-day', 'folly.', 'over.', 'rakishly-tilted', 'St.', 'office.', 'house-painter', 'money.', 'tete-a-tete', 'old-fashioned', 'curious.', 'breaking-up', 'parti-coloured', 'good-tempered', 'panic-stricken', 'exaggerated.', 'false.', 'would.', 'sofa.', '1.F.2', 'good.', 'am.', 'not.', 'began.', 'Good-day', 'shirt-fronts', 'queer-looking', 'that_.', 'witty.', 'sickly-looking', 'last.', '@', 'knick-knacks', 'pavement.', 'sincerely.', 'suffer.', 'haste.', 'fair-haired', 'half-animate', 'cart-horses', 'GUTENBERG-tm', 'cross-examining', 'way.', 'X.', 'humanity.', 'king.', 'ton-weight', 'carefully.', 'He-he', 'nonsense.', 'ill-humour', 'ring-bedecked', '‘', 'women.', 'First-rate', 'along.', 'ash-tray', 'door-handle', 'yellowish-black', 'turn-over', 'india-rubber', 'tongue-tied', 'governor-general', 'hospital.', 'I.', 'jewel-case', 'Razumihin.', '2554-0.txt', 'minute.', 'oath.', 'thirty-six', 'good-humouredly', 'ten-rouble', 'object.', 'thoughts.', 'afterwards.', 'angrily.', 'suffering.', 'evidence.', 'powder.', 'dining-room', '1.E.1', 'red-cheeked', 'mothers-in-law', 'now.', 'A-a-h', 'thousand.', 'family.', 'poverty-stricken', 'keeping.', 'reason.', 'great.', 'horror-stricken', '1.E.5', 'friends.', 'slander.', 'cigarette-box', 'went.', 'go-ahead', 'cross.', 'well.', 'again.', '//www.gutenberg.org/2/5/5/2554/', 'nurse.', 'look.', 'mine.', 'So-and-so', 'door-keepers', 'market-place', 'trapped.', 'self-admiration', 'numerous.', 'there.', 'new-comer', 'hear.', 'pass.', 'irritated.', 'Nikolay.', 'heart-breaking', 'amusement.', 'up.', 'window-sills', 'mad.', 'late.', 'clean-shaven', 'awfully.', 'turning-point', 'before.', 'purple-faced', 'immediately.', 'years.', 'myself.', 'Literally.', 'stuck-up', 'listen.', 'open-mouthed', 'killed.', ',', 'full-skirted', 'dinner.', 'billiard-room', 'seventy-five', 'yourself.', 'to-do', 'suspect.', 'writers.', 'Bah-bah-bah', '64-6221541', 'twenty-two', 'else.', 'ill-mannered', 'town-criers', 'doubt.', 'deserves.', 'lady.', 'beef-steak', 'Him.', 'cab-drivers', '1.F.3', 'sentence.', 'pot-house', '(', 'law.', 'little.', 'witness.', 'accused.', 'woman.', 'close.', 'accord.', 'Half-way', 'Forty-five', 'grey-and-rainbow-coloured', 'ago.', 'mole-hill', 'nothing.', 'hands.', 'Lizaveta.', 'colonel-major', 'with.', 'us.', 'i.e', 'sin.', 'table-cloth', 'out.', 'Katia.', 'insane.', 'Prokofitch.', 'pocket-book', 'veal.', 'table.', 'thirty-five', 'hiding-place', 'bed.', 'sinister-looking', 'sort.', 'shirt.', 'wide-open', 'shortly.', 'light-hearted', '5-per-cent', 'Yes.', '//www.pglaf.org', 'Tailor.', 'God.', 'duty-bound', '1.E.7', 'melodramatic.', 'Nothing.', 'sixty-five', 'dram-shop', 't.', 'Romanovna.', 'time-honoured', 'bare-headed', 'merry-making', 'she.', 'know.', 'sure.', 'clear.', ':', 'rosy-cheeked', 'ill-bred', 'yes.', 'open-eyed', 'Pashenka.', 'pawnbroker-woman', 'fourth-hand', 'shaken.', 'self-reliant', 'faces.', 'rolling-pin', 'self-sacrifice', 'high-class', 'shod.', 'ghosts.', 'porter.', 'middle-aged', 'death.', 'unlooked-for', 'Raskolnikov.', 'initial.', 'five-per-cent', '“', 'his.', 'exactly.', 'forgiveness.', 'freshly-cut', 'bad-looking', 'her.', 'evil-doing', 'trouble.', 'short-waisted', 'night.', 'blunder.', 'plain.', 'ill-founded', 'forty-five', '1.E.2', 'himself.', 'do-own', 'Gogol.', 'drinking-bar', 'barrel-organ', 'watch-chain', 'cross-question', 'dreadfully.', 'die.', '//pglaf.org/fundraising', 'soft-hearted', 'was.', '”', 'fantasy.', '_Pani_.', 'Rodya.', ')', 'lively.', 'promptly.', 'do.', 'Y-yes', '1.F.4', 'miserable.', 'house-flannel', 'treacle.', 'simple-hearted', 'dispute.', 'healthy-looking', 'Luzhin.', '_that_.', '!', 'Schleswig-Holstein', 'escape.', 'extraordinary.', 'tomb.', 'everything.', 'frying-pan', 'axe.', 'Zossimov.', 'anywhere.', 'Hussar.', 'pglaf.org', 'well-built', 'something.', 'what.', 'long-winded', 'too.', 'Petrovna.', 'flame-coloured', 're-crossing', 'first.', 'Polenka.', 'stumbling-block', 'down.', 'dark-haired', 'home.', 'cheek-bones', '1.A', 'on.', 'over-studying.', 'To-day', 'R-rubbish', 'foot.', 'funny.', 'A-ach', 'head-covering', 'colours.', 'good-morning', 'to-morrow', 'rush-bottom', 'cross-examine', 'pot-houses', 'explanation.', 'understand.', 'fenced-off', 'cross-roads', 'to-day.', 'pick-me-up', 'once.', 'bound.', 'name.', 'room.', 'funeral.', 'mutton-chop', 'day.', 'Strong-boxes', 'help.', 'half-dozen', '1.E.3', 'mean.', 'police-office', 'herself.', 'ant-heap', 'that.', 'gold-mine', 'Siberia.', 'delirious.', 'though.', 'Nastasya.', 'space.', 'commonplace.', 'Dmitri.', 'old-maidish', 'poof-poof-poof', 'steam.', 'over-fatigued', 'beneficial.', '//www.gutenberg.org', 'horrible-looking', 'well-known', 'K.', 'work.', 'to-morrow.', 'crest-fallen', 'butter.', 'quietly.', 'world.', 'ha-ha', 'good-natured', 'ill-humouredly', 'more.', 'good-bye_', 'three-year-old', 'tea-glass', 'place.', 'point.', 'wisdom.', 'eating-houses', 'self-reliance', 'over-wise', '1.E.8', 'card-sharpers', 'apologise.', 'good-nature', '[', 'morning.', 'burgomeister.', 'pledge.', 'police-offices', 'Gutenberg-tm', 'hereupon.', 'badly.', 'later.', 'weeks.', 'police-officers', 'will.', 'poorly-dressed', 'commune.', 'here.', 'well-born', 'son-in-law', 'sitting-room', 'careful.', 'U.S.', 'maybe.', 'over-partial', 'frightened-looking', 'evil-intentioned', 'twenty-seven', 'patience.', 'well-preserved', 'self-control', 'black-beetle', 'fish-pies', 'invitation.', 'egg-shells', 'pork-butcher', 'blood-stained', 'good-bye.', 'Good-bye', 'imagine.', 'house-warming', 'day-dreams', 'dressed.', 'matter-of-fact', '2554-0.zip', 'see.', 'useless.', 'of.', '.', 'hand.', 'snub-nosed', 'absent-mindedly', 'tea-tables', 'peace.', 'good-sized', 'melancholy.', 'sub-divisions', 'one-eyed', 'poor-looking', 'ashamed.', 'benevolence.', 'America.', 'step-mother', 'wittily.', 'pell-mell', 'bribes.', 'cause.', 'dressing-table', 'Ha-ha', 'to-day', 'study.', 're-use', 'man.', 'heart-rending', 'uselessly.', 'imagination.', 'bell-ringing', 'ask.', 'ready.', '5,000', 'unfortunate.', 'believing.', 'paper.', 'christened.', 'talking.', 'plainly.', 'third-hand', 'done.', '99712.', 'common.', 'peace-loving', 'free-thinking', 'alone.', 'dying.', 'witnesses.', 'sous.', 'promise.', 'promised.', 'anxiety.', 'off.', 'hallucination.', 'another.', 'tea.', 'D-damn', 'self-approval', 'peasant-woman', '’', 'brother.', 'read.', 'pleasure.', 'con-so-la-tion', 'post-haste', 'pruning-knife', 'ear-rings', 'tallow-candle', 'lodging.', 'kitchen.', 'tears.', 'feeling.', 'twenty-four', 'forty-three', '1.E.9', 'far.', 'bath-house', 'forgiven.', 'frightened.', 'India-rubber', 'dressing-cases', 'game.', 'dark-skinned', 'letter.', 'savouries.', 'law-abiding', 'ill-luck', 'cowardice.', 'short-sighted', 'begin.', 'away.', 'bounds.', 'first-rate', 'Foundation.', 'air-balloon', 'stone.', 'delirium.', 'gambler.', 'affected.', 'interest.', 'key.', 'murderer.', 'happened._', 'creature.', 'kitchen-table', 'especially.', 'brought-up', '-', 'gaily-dressed', 'AS-IS', 'journey.', 'deal.', 'five-storied', 'well-bred', 'guard-room', 'drinking.', 'noble-hearted', 'in.', '//pglaf.org', 'yesterday.', '--', 'half-crazy', 'you.', 'dressing-case', 'want.', 'tucked-up', 'grey-headed', 'Giant-killer', 'Petrovitch.', 'police-station', 'waistcoat-pocket', 'neighbour.', 'presents.', 'come.', 'novel-reading', 'he-he', 'thirty-second', 'Romanovitch.', 'plain-stained', '//gutenberg.org/license', 'bit.', 'this.', 'book.', 'all.', 'fellow.', 'water-colour', 'soup.', '1.E.4', 'live.', 'Koch.', 'question.', '$', 'seven.', 'trace.', 'ever-burning', 'ten.', 'upon.', 'well-proportioned', 'looking-glass', 's.', 'kind-hearted', 'ill-humoured', '1.F.1', 'Mr.', 'hot-tempered', 'things.', 'lives.', 'service.', 'heart.', 'hour.', 'topsy-turvy', 'thief.', 'me.', 'fancy.', 'behaviour.', 'kindness.', '#', 'please.', 'stairs.', 'is.', 'sect.', 'such-and-such', 'house.', 'tea-pot', 'practicality.', 'them._', 'e-vi-dent', 'black-eyed', 'levees.', '_Hof-kriegsrath_', 'arrival.', 'days.', 'lodgings.', 'enough.', 'end.', 'silent.', 'by-the-way', 'thirty-two', 'new.', '....', 'are.', 'tavern-keeper', '...', 'Cristal.', 'painter.', 'self-interest', 'minutes.', 'To-morrow', 'truth.', 'short-tempered', 'happy.', '1.E.6', 'detail.', 'pro-consul', 'patients.', 'half-sister', 'ruin.', 'common-sense', ';', 'cabin.', 'over-serious', 'careless.', 'society.', 'remember.', 'it.', 'La-la', '*', 'disturbance.', 'N-no', 'second-rate', 'instigation.', 'earnings.', 'fires.', 'boy.', 'fifty-five', 'fare.', 'organ-grinders', 'gone.', 'guilty.', 'Heaven.', 'house-porter', 'solid-looking', 'delicate-looking', 'day-dream', 'indecorous.', 'amputated.', 'wonder-struck', 'bout.', 'ours.', 'round.', 'course.', 'No.', 'half-way', 'girl_.', 'ill-tempered', 'A.D.', 'thick-necked', 'half-opened', 'time.', 'better.', 'opinion.', 'reading-room', 'long.', 'good-bye', 'hurry.', 'pockets.', 'half-past', 'half-educated', 'trodden-down', 'V.', 'ill.', 'Dounia.', 'Svidrigailov.', 'good-hearted', 'he-he-he', 'Good-bye.', '_good-bye_', 'us._', 'case.', 'great-hearted', 'useful.', 'good-humour', 'look-out', 'pock-marked', 'Porfiry.', 'well-educated', '_Periodical_.', 'lunatic.', 'begged.', 'fever.', 'own.', 'criminals.', 'anyway.', 'muddled.', 'doctor.', 'right.', 'strong-box', 'twenty-five', 'act.', 'drunk.', 'Duclida.', 'feather-headed', 'ill-disposed', 'together.', 'scoundrel.', 'one.', 'angry.', 'crime.', 'respect.', 'light-headed', 'thinking.', 'tea-table', 'dream.', '1.C', 'contrary.', 'laughing-stock', 'think.', 'half-glass', 'forbidden.', 'so.', 'twenty-three', 'sleepy-looking', 'sweet.', 'Tut-tut-tut', 'quick-witted', ']', 'loved.', 'exist.', 'phantom.', 'justice.', 'terrible-looking', 'storm-clouds', 'UTF-8', 'self-confidently', '1.B', 'plaything.', 'will-power', 'left.', 'pay.', 'ill-disguised', '_vis-a-vis_', 'self-abnegation', 'step.', 'three-barrel', 'person.', 'strange.', 'sir.', 'honest.', 'special.', 'scene-shifting', 'father.', 'Ha-ha-ha', 'fifty-rouble', 'twenty-one', 'va-t-en', 'least.', 'window-sill', 'wine-glasses', 'people.', 'Sonia.', 'low-pitched', 'cigarette.', 'water.', 'semi-delirium', 'purplish-red', 'starting-point', 'open.', 'say.', 'habits.', 'well-feigned', 'death-bed', 'cross-examined', 'present.', 'half-broken-down', 'five-and-thirty', 'four-storied', 'prison.', 'high-flown', 'etc.', 'well-scrubbed', 'sock.', 'street.', 'to.', 'said.', 'crop-headed', 'dear.', 'to-night', 'barefooted.', 'S.', 'word.', 'B.', 'hours.', 'capital.', 'grown-up', 'writing-table', 'www.gutenberg.org', 'bottle-wax', 'good-looking', 'Here.', 'Cough-cough-cough', 'stones.', 'thirty-rouble', 'impracticality.', 'head.', 'matters.', 'ha-ha-ha', 'drawing-room', 's/he', 'ill-treating', 'Folk.', 're-establishing', 'them.', 'fish.', 'LUZHIN.', 'dish-clout', '%', 'eye-glass', 'cross-examination', 'candle-ends', 'broken-down', 'Ivanovna.', 'confessing.', 'organ-grinder', 'leave-taking', 'run.', 'directly.', 'sister.', 'shut-up', 'self-confident', '1.F', '?', 'worn-out', '1.F.6', 'poppet.', 'passer-by', 'Dr.', 'ingratitude.', 'clerks.', 'Cough-cough', 'fainted.', 'rig-out', 'e-mail', 'card-sharper', 'environment.', 'report.', 'Review_.', 'dressing-gown', 'evident.', 'perhaps.', 'let.', 'empty-handed', '_parlez-moi', '1.E', '1.F.5', 'good-humoured', 'feather-bed', 'contents_.', 'lunch.', 'easy-chair', 'gentleman.', 'student.', 'A-ah', 'skin-flint', '596-1887', 'mother.', 'yet.', 'cock-sparrow', 'notion.', 'ill-treated', 'RASKOLNIKOV.', 'passers-by', 'candle-end', 'interested.', 'same.', 'half.', 'self-importance', 'self-evident', 'him.', 'name-day', 'nowadays.', 'self-abasement', 'wait.', 'soon.', 'Governor-General', 'secrets.', 'truth-like', 'right-hand', 'bwoken.', 'presence.', 'candidly.', 'attention.', 'beforehand.', 'orphans.', 'air.', 'ill-natured', 'second-class', 'men.', 'neighbourhood.', 'return.', 'copper-red', 'somewhere.', 'connections.', 'new-comers', 'eating-house', 'conscience-prick', 'flats.', 'were.', 'self-confidence', 'step-sister', 'light-coloured', '//pglaf.org/donate', 'lock-up', 'movements.', 'be.', 'other.', 'broken-spirited', 'I.O.U', 'Zametov.', 'curiosity.', 'half-penny', 'trademark/copyright', 'impertinence.', 'generation.', 'boarding-school', 'press.', 'waiting-room', 'court-yard', '1.D', 'daughter.', 'pine-tree', 'tear-stained', 'straight-forward'}\n"
     ]
    }
   ],
   "source": [
    "print({i for i in tokens if re.search('[\\W]',i)})"
   ]
  },
  {
   "cell_type": "code",
   "execution_count": 504,
   "metadata": {},
   "outputs": [
    {
     "name": "stdout",
     "output_type": "stream",
     "text": [
      "{'1.F.2', '1859', '2554-0.zip', '1.E.1', '2001', '9', '1.F', '801', '1.E.9', '809', '1.C', '1.F.6', '1.E.2', '1.E.5', '1500', '8', '1.A', '2006', '1', '501', '2554', '90', '47', '84116', '2016', '//www.gutenberg.org/2/5/5/2554/', '20', '60', '5-per-cent', '1.E.8', 'F3', '1.E', '5,000', '28', '1.E.7', '1.E.4', '1.F.4', '1.F.5', '1.E.6', '99712.', '1880', '4557', '1864', '50', 'UTF-8', '30', '2', '1.B', '596-1887', '4', '5', '1849', '64-6221541', '1.F.1', '2554-0.txt', '1.E.3', '1861', '14', '3', '1.D', '27', '1.F.3'}\n"
     ]
    }
   ],
   "source": [
    "print({i for i in tokens if re.search('\\d+',i)})"
   ]
  },
  {
   "cell_type": "code",
   "execution_count": 505,
   "metadata": {},
   "outputs": [],
   "source": [
    "sents = nltk.sent_tokenize(a)"
   ]
  },
  {
   "cell_type": "code",
   "execution_count": 506,
   "metadata": {},
   "outputs": [
    {
     "data": {
      "text/plain": [
       "list"
      ]
     },
     "execution_count": 506,
     "metadata": {},
     "output_type": "execute_result"
    }
   ],
   "source": [
    "type(sents)"
   ]
  },
  {
   "cell_type": "code",
   "execution_count": 507,
   "metadata": {},
   "outputs": [
    {
     "data": {
      "text/plain": [
       "12059"
      ]
     },
     "execution_count": 507,
     "metadata": {},
     "output_type": "execute_result"
    }
   ],
   "source": [
    "len(sents)"
   ]
  },
  {
   "cell_type": "code",
   "execution_count": 508,
   "metadata": {},
   "outputs": [
    {
     "data": {
      "text/plain": [
       "'\\nThe Project Gutenberg EBook of Crime and Punishment, by Fyodor Dostoevsky\\n\\nThis eBook is for the use of anyone anywhere at no cost and with\\nalmost no restrictions whatsoever.'"
      ]
     },
     "execution_count": 508,
     "metadata": {},
     "output_type": "execute_result"
    }
   ],
   "source": [
    "sents[0]"
   ]
  },
  {
   "cell_type": "code",
   "execution_count": 509,
   "metadata": {},
   "outputs": [
    {
     "data": {
      "text/plain": [
       "'You may copy it, give it away or\\nre-use it under the terms of the Project Gutenberg License included\\nwith this eBook or online at www.gutenberg.org\\n\\n\\nTitle: Crime and Punishment\\n\\nAuthor: Fyodor Dostoevsky\\n\\nRelease Date: March 28, 2006 [EBook #2554]\\nLast Updated: October 27, 2016\\n\\nLanguage: English\\n\\nCharacter set encoding: UTF-8\\n\\n*** START OF THIS PROJECT GUTENBERG EBOOK CRIME AND PUNISHMENT ***\\n\\n\\n\\n\\nProduced by John Bickers; and Dagny\\n\\n\\n\\n\\n\\nCRIME AND PUNISHMENT\\n\\nBy Fyodor Dostoevsky\\n\\n\\n\\nTranslated By Constance Garnett\\n\\n\\n\\n\\nTRANSLATOR’S PREFACE\\n\\nA few words about Dostoevsky himself may help the English reader to\\nunderstand his work.'"
      ]
     },
     "execution_count": 509,
     "metadata": {},
     "output_type": "execute_result"
    }
   ],
   "source": [
    "sents[1]"
   ]
  },
  {
   "cell_type": "code",
   "execution_count": 510,
   "metadata": {},
   "outputs": [
    {
     "data": {
      "text/plain": [
       "'\\nThe Project Gutenberg EBook of Crime and Punishme'"
      ]
     },
     "execution_count": 510,
     "metadata": {},
     "output_type": "execute_result"
    }
   ],
   "source": [
    "a[:50]"
   ]
  },
  {
   "cell_type": "code",
   "execution_count": 511,
   "metadata": {},
   "outputs": [
    {
     "data": {
      "text/plain": [
       "str"
      ]
     },
     "execution_count": 511,
     "metadata": {},
     "output_type": "execute_result"
    }
   ],
   "source": [
    "type(a)"
   ]
  },
  {
   "cell_type": "code",
   "execution_count": 512,
   "metadata": {},
   "outputs": [
    {
     "ename": "AttributeError",
     "evalue": "'str' object has no attribute 'words'",
     "output_type": "error",
     "traceback": [
      "\u001b[1;31m---------------------------------------------------------------------------\u001b[0m",
      "\u001b[1;31mAttributeError\u001b[0m                            Traceback (most recent call last)",
      "\u001b[1;32m<ipython-input-512-7231444dfcb3>\u001b[0m in \u001b[0;36m<module>\u001b[1;34m\u001b[0m\n\u001b[1;32m----> 1\u001b[1;33m \u001b[0ma\u001b[0m\u001b[1;33m.\u001b[0m\u001b[0mwords\u001b[0m\u001b[1;33m(\u001b[0m\u001b[1;33m)\u001b[0m\u001b[1;33m\u001b[0m\u001b[1;33m\u001b[0m\u001b[0m\n\u001b[0m",
      "\u001b[1;31mAttributeError\u001b[0m: 'str' object has no attribute 'words'"
     ]
    }
   ],
   "source": [
    "a.words()"
   ]
  },
  {
   "cell_type": "code",
   "execution_count": 514,
   "metadata": {},
   "outputs": [
    {
     "data": {
      "text/plain": [
       "<Text: \n",
       " T h e   P r o...>"
      ]
     },
     "execution_count": 514,
     "metadata": {},
     "output_type": "execute_result"
    }
   ],
   "source": [
    "text = nltk.Text(a)\n",
    "text"
   ]
  },
  {
   "cell_type": "code",
   "execution_count": 516,
   "metadata": {},
   "outputs": [
    {
     "data": {
      "text/plain": [
       "<Text: The Project Gutenberg EBook of Crime and Punishment...>"
      ]
     },
     "execution_count": 516,
     "metadata": {},
     "output_type": "execute_result"
    }
   ],
   "source": [
    "text = nltk.Text(word_tokenize(a))\n",
    "text"
   ]
  },
  {
   "cell_type": "code",
   "execution_count": 517,
   "metadata": {},
   "outputs": [
    {
     "data": {
      "text/plain": [
       "nltk.text.Text"
      ]
     },
     "execution_count": 517,
     "metadata": {},
     "output_type": "execute_result"
    }
   ],
   "source": [
    "type(text)"
   ]
  },
  {
   "cell_type": "code",
   "execution_count": 518,
   "metadata": {},
   "outputs": [
    {
     "name": "stdout",
     "output_type": "stream",
     "text": [
      "Katerina Ivanovna; Pyotr Petrovitch; Pulcheria Alexandrovna; Avdotya\n",
      "Romanovna; Rodion Romanovitch; Marfa Petrovna; Sofya Semyonovna; old\n",
      "woman; Project Gutenberg-tm; Porfiry Petrovitch; Amalia Ivanovna;\n",
      "great deal; young man; Nikodim Fomitch; Ilya Petrovitch; Project\n",
      "Gutenberg; Andrey Semyonovitch; Hay Market; Dmitri Prokofitch; Good\n",
      "heavens\n"
     ]
    }
   ],
   "source": [
    "text.collocations()"
   ]
  },
  {
   "cell_type": "code",
   "execution_count": 519,
   "metadata": {},
   "outputs": [
    {
     "name": "stdout",
     "output_type": "stream",
     "text": [
      "Displaying 10 of 474 matches:\n",
      " that “ stern and just man , ” as Maurice Baring \n",
      "agony of the condemned man and insists on the cru\n",
      "who “ gave the hapless man the funeral of a king.\n",
      "s one of ourselves , a man of our blood and our b\n",
      " early in July a young man came out of the garret\n",
      " he passed , the young man had a sick , frightene\n",
      " ... yes , all is in a man ’ s hands and he lets \n",
      "infully upon the young man ’ s already overwrough\n",
      " a moment in the young man ’ s refined face . He \n",
      "ly dressed that even a man accustomed to shabbine\n"
     ]
    }
   ],
   "source": [
    "text.concordance('man',50,10)"
   ]
  },
  {
   "cell_type": "code",
   "execution_count": 520,
   "metadata": {},
   "outputs": [
    {
     "name": "stdout",
     "output_type": "stream",
     "text": [
      "young_, young_. the_, young_walked drunken_, literary_, that_won\n"
     ]
    }
   ],
   "source": [
    "text.common_contexts(['man','men'])"
   ]
  },
  {
   "cell_type": "code",
   "execution_count": 521,
   "metadata": {},
   "outputs": [
    {
     "name": "stdout",
     "output_type": "stream",
     "text": [
      "woman girl moment time room word way gentleman mother letter door lady\n",
      "doctor place thing flat tavern question crowd people\n"
     ]
    }
   ],
   "source": [
    "text.similar('man')"
   ]
  },
  {
   "cell_type": "code",
   "execution_count": 522,
   "metadata": {},
   "outputs": [
    {
     "name": "stdout",
     "output_type": "stream",
     "text": [
      "you it him people they he man her work me them that we all everything\n",
      "things this anyone out us\n"
     ]
    }
   ],
   "source": [
    "text.similar('men')"
   ]
  },
  {
   "cell_type": "code",
   "execution_count": 523,
   "metadata": {},
   "outputs": [],
   "source": [
    "raw = gutenberg.raw('melville-moby_dick.txt')"
   ]
  },
  {
   "cell_type": "code",
   "execution_count": 529,
   "metadata": {},
   "outputs": [],
   "source": [
    "chars = [k for k,v in nltk.FreqDist(c.lower() for c in raw if c.isalpha()).most_common()]"
   ]
  },
  {
   "cell_type": "code",
   "execution_count": 530,
   "metadata": {},
   "outputs": [
    {
     "data": {
      "text/plain": [
       "['e',\n",
       " 't',\n",
       " 'a',\n",
       " 'o',\n",
       " 'n',\n",
       " 'i',\n",
       " 's',\n",
       " 'h',\n",
       " 'r',\n",
       " 'l',\n",
       " 'd',\n",
       " 'u',\n",
       " 'm',\n",
       " 'c',\n",
       " 'w',\n",
       " 'f',\n",
       " 'g',\n",
       " 'p',\n",
       " 'b',\n",
       " 'y',\n",
       " 'v',\n",
       " 'k',\n",
       " 'q',\n",
       " 'j',\n",
       " 'x',\n",
       " 'z']"
      ]
     },
     "execution_count": 530,
     "metadata": {},
     "output_type": "execute_result"
    }
   ],
   "source": [
    "chars"
   ]
  },
  {
   "cell_type": "code",
   "execution_count": 531,
   "metadata": {},
   "outputs": [
    {
     "name": "stdout",
     "output_type": "stream",
     "text": [
      "a 0\n",
      "b 1\n",
      "c 2\n"
     ]
    }
   ],
   "source": [
    "for x,_ in zip(['a','b','c'],range(3)):\n",
    "    print(x,_)"
   ]
  },
  {
   "cell_type": "code",
   "execution_count": 532,
   "metadata": {},
   "outputs": [
    {
     "data": {
      "text/plain": [
       "2"
      ]
     },
     "execution_count": 532,
     "metadata": {},
     "output_type": "execute_result"
    }
   ],
   "source": [
    "_"
   ]
  },
  {
   "cell_type": "code",
   "execution_count": 533,
   "metadata": {},
   "outputs": [
    {
     "name": "stdout",
     "output_type": "stream",
     "text": [
      "a\n",
      "b\n",
      "c\n"
     ]
    }
   ],
   "source": [
    "for x,_ in zip(['a','b','c'],range(3)):\n",
    "    print(x)"
   ]
  },
  {
   "cell_type": "markdown",
   "metadata": {},
   "source": [
    "# Words Corpus\n",
    "사전 목록을 대신할 수 있는 corpus. but 사전에서 추출했다기 보단 corpus에서 어휘 단위로 분류를 했을 때 어떤 표제용으로 많이 사용할 수 있느냐의 unique한 목록을 모아놓은 것"
   ]
  },
  {
   "cell_type": "code",
   "execution_count": 534,
   "metadata": {},
   "outputs": [],
   "source": [
    "Words = nltk.corpus.words.words('en')"
   ]
  },
  {
   "cell_type": "code",
   "execution_count": 535,
   "metadata": {},
   "outputs": [
    {
     "data": {
      "text/plain": [
       "235886"
      ]
     },
     "execution_count": 535,
     "metadata": {},
     "output_type": "execute_result"
    }
   ],
   "source": [
    "len(Words)"
   ]
  },
  {
   "cell_type": "code",
   "execution_count": 536,
   "metadata": {},
   "outputs": [
    {
     "data": {
      "text/plain": [
       "list"
      ]
     },
     "execution_count": 536,
     "metadata": {},
     "output_type": "execute_result"
    }
   ],
   "source": [
    "type(Words)"
   ]
  },
  {
   "cell_type": "code",
   "execution_count": 537,
   "metadata": {},
   "outputs": [
    {
     "name": "stdout",
     "output_type": "stream",
     "text": [
      "['A', 'a', 'aa', 'aal', 'aalii', 'aam', 'Aani', 'aardvark', 'aardwolf', 'Aaron', 'Aaronic', 'Aaronical', 'Aaronite', 'Aaronitic', 'Aaru', 'Ab', 'aba', 'Ababdeh', 'Ababua', 'abac']\n"
     ]
    }
   ],
   "source": [
    "print(Words[:20])"
   ]
  },
  {
   "cell_type": "code",
   "execution_count": 538,
   "metadata": {},
   "outputs": [
    {
     "name": "stdout",
     "output_type": "stream",
     "text": [
      "['zymosis', 'zymosterol', 'zymosthenic', 'zymotechnic', 'zymotechnical', 'zymotechnics', 'zymotechny', 'zymotic', 'zymotically', 'zymotize', 'zymotoxic', 'zymurgy', 'Zyrenian', 'Zyrian', 'Zyryan', 'zythem', 'Zythia', 'zythum', 'Zyzomys', 'Zyzzogeton']\n"
     ]
    }
   ],
   "source": [
    "print(Words[-20:])"
   ]
  },
  {
   "cell_type": "code",
   "execution_count": 539,
   "metadata": {},
   "outputs": [
    {
     "name": "stdout",
     "output_type": "stream",
     "text": [
      "['Jean-Christophe', 'Jean-Pierre']\n"
     ]
    }
   ],
   "source": [
    "print([i for i in Words if re.search('[^a-z]',i,re.I)])"
   ]
  },
  {
   "cell_type": "code",
   "execution_count": 540,
   "metadata": {},
   "outputs": [
    {
     "name": "stdout",
     "output_type": "stream",
     "text": [
      "['abaissed', 'abandoned', 'abased', 'abashed', 'abatised', 'abed', 'aborted', 'abridged', 'abscessed', 'absconded']\n"
     ]
    }
   ],
   "source": [
    "print([w for w in Words if re.search('ed$',w)][:10])"
   ]
  },
  {
   "cell_type": "code",
   "execution_count": 541,
   "metadata": {},
   "outputs": [
    {
     "name": "stdout",
     "output_type": "stream",
     "text": [
      "['abjectly', 'adjuster', 'dejected', 'dejectly', 'injector', 'majestic', 'objectee', 'objector', 'rejecter', 'rejector']\n"
     ]
    }
   ],
   "source": [
    "print([w for w in Words if re.search('^..j..t..$',w)][:10])"
   ]
  },
  {
   "cell_type": "code",
   "execution_count": 542,
   "metadata": {},
   "outputs": [
    {
     "name": "stdout",
     "output_type": "stream",
     "text": [
      "['gold', 'golf', 'hold', 'hole']\n"
     ]
    }
   ],
   "source": [
    "print([w for w in Words if re.search('^[ghi][mno][jlk][def]$',w)][:10])"
   ]
  },
  {
   "cell_type": "code",
   "execution_count": 543,
   "metadata": {},
   "outputs": [
    {
     "name": "stdout",
     "output_type": "stream",
     "text": [
      "['a', 'aa', 'ah', 'aha', 'h', 'ha', 'hah']\n"
     ]
    }
   ],
   "source": [
    "print([w for w in Words if re.search('^[ha]+$',w)][:10])"
   ]
  },
  {
   "cell_type": "code",
   "execution_count": 544,
   "metadata": {},
   "outputs": [
    {
     "name": "stdout",
     "output_type": "stream",
     "text": [
      "['abaissed', 'abandoned', 'abased', 'abashed', 'abatised', 'abed', 'abhorring', 'abiding', 'aborted', 'abounding']\n"
     ]
    }
   ],
   "source": [
    "print([w for w in Words if re.search('(ed|ing)$',w)][:10])"
   ]
  },
  {
   "cell_type": "code",
   "execution_count": 545,
   "metadata": {},
   "outputs": [
    {
     "data": {
      "text/plain": [
       "'ed'"
      ]
     },
     "execution_count": 545,
     "metadata": {},
     "output_type": "execute_result"
    }
   ],
   "source": [
    "re.search('(ed|ing)\\\\b','amed aming').group()"
   ]
  },
  {
   "cell_type": "code",
   "execution_count": 546,
   "metadata": {},
   "outputs": [
    {
     "data": {
      "text/plain": [
       "('ed',)"
      ]
     },
     "execution_count": 546,
     "metadata": {},
     "output_type": "execute_result"
    }
   ],
   "source": [
    "re.search('(ed|ing)\\\\b','amed aming').groups()"
   ]
  },
  {
   "cell_type": "code",
   "execution_count": 547,
   "metadata": {},
   "outputs": [
    {
     "data": {
      "text/plain": [
       "('ed', 'ing')"
      ]
     },
     "execution_count": 547,
     "metadata": {},
     "output_type": "execute_result"
    }
   ],
   "source": [
    "re.search('(ed|ing)\\\\b.+(ed|ing)\\\\b','amed aming').groups()"
   ]
  },
  {
   "cell_type": "code",
   "execution_count": 548,
   "metadata": {},
   "outputs": [
    {
     "data": {
      "text/plain": [
       "['ed', 'ing']"
      ]
     },
     "execution_count": 548,
     "metadata": {},
     "output_type": "execute_result"
    }
   ],
   "source": [
    "re.findall('am(ed|ing)\\\\b','amed aming')"
   ]
  },
  {
   "cell_type": "code",
   "execution_count": 549,
   "metadata": {},
   "outputs": [
    {
     "data": {
      "text/plain": [
       "['u', 'e', 'i', 'a', 'i', 'i', 'i', 'e', 'i', 'a', 'i', 'o', 'i', 'o', 'u']"
      ]
     },
     "execution_count": 549,
     "metadata": {},
     "output_type": "execute_result"
    }
   ],
   "source": [
    "a = 'superclifragilisticexpialidocious'\n",
    "re.findall('[aeiou]',a)"
   ]
  },
  {
   "cell_type": "code",
   "execution_count": 550,
   "metadata": {},
   "outputs": [
    {
     "name": "stdout",
     "output_type": "stream",
     "text": [
      "[('ia', 14930), ('io', 13489), ('ou', 9996), ('ea', 8802), ('oo', 4568), ('ee', 3837), ('ie', 3825), ('ai', 3725), ('oi', 3702), ('au', 3242), ('ae', 3238), ('eu', 2821), ('ua', 2598), ('eo', 2537), ('ui', 2391), ('ei', 2358), ('oa', 2267), ('ue', 1807), ('iu', 1757), ('oe', 1465)]\n"
     ]
    }
   ],
   "source": [
    "fd = nltk.FreqDist(vs for w in Words for vs in re.findall('[aeiou]{2,}',w))\n",
    "print(fd.most_common(20))"
   ]
  },
  {
   "cell_type": "code",
   "execution_count": 560,
   "metadata": {},
   "outputs": [],
   "source": [
    "cfd = nltk.ConditionalFreqDist((c,s)\n",
    "                               for word in Words\n",
    "                              for c,s in re.findall('([kprstv])([aeiou])',word.lower())\n",
    "                              )"
   ]
  },
  {
   "cell_type": "code",
   "execution_count": 561,
   "metadata": {},
   "outputs": [
    {
     "name": "stdout",
     "output_type": "stream",
     "text": [
      "      a     e     i     o     u \n",
      "k  1431  4979  2544   597   317 \n",
      "p  8572 11227  6864  8768  2507 \n",
      "r 23804 23956 23280 22402  3942 \n",
      "s  5952 11489 12066  6008  6558 \n",
      "t 14456 29443 31684 15285  4766 \n",
      "v  3212 10716  4224  1545   286 \n"
     ]
    }
   ],
   "source": [
    "cfd.tabulate()"
   ]
  },
  {
   "cell_type": "code",
   "execution_count": 562,
   "metadata": {},
   "outputs": [
    {
     "data": {
      "image/png": "[encoded data removed]",
      "text/plain": [
       "<Figure size 432x288 with 1 Axes>"
      ]
     },
     "metadata": {
      "needs_background": "light"
     },
     "output_type": "display_data"
    },
    {
     "data": {
      "text/plain": [
       "<AxesSubplot:xlabel='Samples', ylabel='Counts'>"
      ]
     },
     "execution_count": 562,
     "metadata": {},
     "output_type": "execute_result"
    }
   ],
   "source": [
    "cfd.plot()"
   ]
  },
  {
   "cell_type": "code",
   "execution_count": 564,
   "metadata": {},
   "outputs": [
    {
     "data": {
      "text/plain": [
       "nltk.util.Index"
      ]
     },
     "execution_count": 564,
     "metadata": {},
     "output_type": "execute_result"
    }
   ],
   "source": [
    "pairs = [(''.join(i).lower(),w) for w in Words for i in re.findall('^(.).*(.)$',w)]\n",
    "idx = nltk.Index(pairs)\n",
    "type(idx)"
   ]
  },
  {
   "cell_type": "code",
   "execution_count": 565,
   "metadata": {},
   "outputs": [
    {
     "name": "stdout",
     "output_type": "stream",
     "text": [
      "['abox', 'abrasax', 'Acanthopanax', 'accusatrix', 'acronyx', 'Acrux', 'addax', 'adfix', 'adieux', 'administratrix', 'admix', 'admonitrix', 'adnex', 'advocatrix', 'affix']\n"
     ]
    }
   ],
   "source": [
    "print(idx['ax'][:15])"
   ]
  },
  {
   "cell_type": "code",
   "execution_count": 566,
   "metadata": {},
   "outputs": [
    {
     "name": "stdout",
     "output_type": "stream",
     "text": [
      "['aa', 'al', 'ai', 'am', 'ak', 'af', 'an', 'ac', 'ae', 'au', 'ab', 'ah', 'ay', 'as', 'at']\n"
     ]
    }
   ],
   "source": [
    "print(list(idx.keys())[:15])"
   ]
  },
  {
   "cell_type": "markdown",
   "metadata": {},
   "source": [
    "### 인지과학의 기호주의와 연결주의\n",
    "기호주의: 규칙에 기반함. 절차에 따라 하나씩 처리하는 방식이다. 인간의 지식을 기호화하고 그 기호 간의 관계를 일ㅇ리이 컴퓨터에 입력하여 학습시키면 컴퓨터도 인간과 비슷한 입력을 얻었을 때 출력 또한 비슷하게 낼 것이라는 생각에서 출발함.   \n",
    "연결주의: 자극과 반응 간의 확률값에 기반한다. 우리 두뇌가 어떻게 생각하는지를 모방하여 컴퓨터를 학습시키는 방법이다. 기호주의에서는 기호와 그 기호가 나타내는 개념 사이에 1대1의 대응이 있었던 반면 연결주의에선 두 뇌에서 여러 신경세포를 통해 정보를 다루듯 하나의 개념이 여러 곳에 흩어져서 표현된다.  \n",
    "concordance에서 기호주의로 양 옆에 어떤 품사가 오는지를 확인하고, 연결주의로는 오른쪽 왼쪽에 어떤 품사의 어휘들의 확률분포를 출력한다.\n"
   ]
  },
  {
   "cell_type": "markdown",
   "metadata": {},
   "source": [
    "### 불용어 목록\n",
    "길이 2 또는 3 이하의 어휘이다. 약자, a, an, in, on 등의 기능어/문법어가 포함된다. the, in, what 등의 기능어/문법어, say, people 등 텍스트 주제어가 될 가능성이 적다고 가정되는 고빈도 어휘이다. 정보검색이나 텍스트 마이닝 등 데이터 분석에서 대체로 제거되는 어휘이다. 주제어를 찾는 게 주 목적일 때가 많이 때문이다. 연구 목적에 따라 다양한 버전의 목록을 사용한다. 연구 목적에 따라 제거하지 않는 경우도 있다. 구어체에 가까울수록 대명사 등의 불용어를 사용하는 게 더 많다."
   ]
  },
  {
   "cell_type": "code",
   "execution_count": 567,
   "metadata": {},
   "outputs": [],
   "source": [
    "from nltk.corpus.reader.plaintext import CategorizedPlaintextCorpusReader\n",
    "path = './11_data'\n",
    "my = CategorizedPlaintextCorpusReader(path,'.*',cat_pattern='^(.)')"
   ]
  },
  {
   "cell_type": "code",
   "execution_count": 568,
   "metadata": {},
   "outputs": [
    {
     "data": {
      "text/plain": [
       "['hu01.txt',\n",
       " 'hu02.txt',\n",
       " 'hu03.txt',\n",
       " 'hu04.txt',\n",
       " 'na01.txt',\n",
       " 'na02.txt',\n",
       " 'na03.txt',\n",
       " 'na04.txt']"
      ]
     },
     "execution_count": 568,
     "metadata": {},
     "output_type": "execute_result"
    }
   ],
   "source": [
    "my.fileids()"
   ]
  },
  {
   "cell_type": "code",
   "execution_count": 569,
   "metadata": {},
   "outputs": [
    {
     "data": {
      "text/plain": [
       "['h', 'n']"
      ]
     },
     "execution_count": 569,
     "metadata": {},
     "output_type": "execute_result"
    }
   ],
   "source": [
    "my.categories()"
   ]
  },
  {
   "cell_type": "code",
   "execution_count": 570,
   "metadata": {},
   "outputs": [],
   "source": [
    "a = my.sents('na01.txt')[-3:-1]"
   ]
  },
  {
   "cell_type": "code",
   "execution_count": 571,
   "metadata": {},
   "outputs": [
    {
     "data": {
      "text/plain": [
       "[['The',\n",
       "  '10',\n",
       "  '.',\n",
       "  '3',\n",
       "  '-',\n",
       "  'cm',\n",
       "  'observation',\n",
       "  'of',\n",
       "  'Sloanaker',\n",
       "  'was',\n",
       "  'made',\n",
       "  'on',\n",
       "  'May',\n",
       "  '20',\n",
       "  ',',\n",
       "  '1958',\n",
       "  ',',\n",
       "  'using',\n",
       "  'the',\n",
       "  '84',\n",
       "  '-',\n",
       "  'foot',\n",
       "  'reflector',\n",
       "  'at',\n",
       "  'the',\n",
       "  'Maryland',\n",
       "  'Point',\n",
       "  'Observatory',\n",
       "  'of',\n",
       "  'the',\n",
       "  'U',\n",
       "  '.',\n",
       "  'S',\n",
       "  '.',\n",
       "  'Naval',\n",
       "  'Research',\n",
       "  'Laboratory',\n",
       "  '.'],\n",
       " ['The', 'age', 'of', 'the', 'moon', 'was', 'about', '2', 'days', '.']]"
      ]
     },
     "execution_count": 571,
     "metadata": {},
     "output_type": "execute_result"
    }
   ],
   "source": [
    "a"
   ]
  },
  {
   "cell_type": "code",
   "execution_count": 572,
   "metadata": {},
   "outputs": [
    {
     "data": {
      "text/plain": [
       "2"
      ]
     },
     "execution_count": 572,
     "metadata": {},
     "output_type": "execute_result"
    }
   ],
   "source": [
    "len(a)"
   ]
  },
  {
   "cell_type": "code",
   "execution_count": 580,
   "metadata": {},
   "outputs": [],
   "source": [
    "b = [w for l in a for w in l if w.isalpha()]"
   ]
  },
  {
   "cell_type": "code",
   "execution_count": 581,
   "metadata": {},
   "outputs": [
    {
     "data": {
      "text/plain": [
       "33"
      ]
     },
     "execution_count": 581,
     "metadata": {},
     "output_type": "execute_result"
    }
   ],
   "source": [
    "len(b)"
   ]
  },
  {
   "cell_type": "code",
   "execution_count": 582,
   "metadata": {},
   "outputs": [
    {
     "data": {
      "text/plain": [
       "['The',\n",
       " 'cm',\n",
       " 'observation',\n",
       " 'of',\n",
       " 'Sloanaker',\n",
       " 'was',\n",
       " 'made',\n",
       " 'on',\n",
       " 'May',\n",
       " 'using',\n",
       " 'the',\n",
       " 'foot',\n",
       " 'reflector',\n",
       " 'at',\n",
       " 'the',\n",
       " 'Maryland',\n",
       " 'Point',\n",
       " 'Observatory',\n",
       " 'of',\n",
       " 'the',\n",
       " 'U',\n",
       " 'S',\n",
       " 'Naval',\n",
       " 'Research',\n",
       " 'Laboratory',\n",
       " 'The',\n",
       " 'age',\n",
       " 'of',\n",
       " 'the',\n",
       " 'moon',\n",
       " 'was',\n",
       " 'about',\n",
       " 'days']"
      ]
     },
     "execution_count": 582,
     "metadata": {},
     "output_type": "execute_result"
    }
   ],
   "source": [
    "b"
   ]
  },
  {
   "cell_type": "code",
   "execution_count": 583,
   "metadata": {},
   "outputs": [],
   "source": [
    "c = [w.lower() for w in b]"
   ]
  },
  {
   "cell_type": "code",
   "execution_count": 584,
   "metadata": {},
   "outputs": [
    {
     "data": {
      "text/plain": [
       "['the',\n",
       " 'cm',\n",
       " 'observation',\n",
       " 'of',\n",
       " 'sloanaker',\n",
       " 'was',\n",
       " 'made',\n",
       " 'on',\n",
       " 'may',\n",
       " 'using',\n",
       " 'the',\n",
       " 'foot',\n",
       " 'reflector',\n",
       " 'at',\n",
       " 'the',\n",
       " 'maryland',\n",
       " 'point',\n",
       " 'observatory',\n",
       " 'of',\n",
       " 'the',\n",
       " 'u',\n",
       " 's',\n",
       " 'naval',\n",
       " 'research',\n",
       " 'laboratory',\n",
       " 'the',\n",
       " 'age',\n",
       " 'of',\n",
       " 'the',\n",
       " 'moon',\n",
       " 'was',\n",
       " 'about',\n",
       " 'days']"
      ]
     },
     "execution_count": 584,
     "metadata": {},
     "output_type": "execute_result"
    }
   ],
   "source": [
    "c"
   ]
  },
  {
   "cell_type": "code",
   "execution_count": 585,
   "metadata": {},
   "outputs": [
    {
     "data": {
      "text/plain": [
       "33"
      ]
     },
     "execution_count": 585,
     "metadata": {},
     "output_type": "execute_result"
    }
   ],
   "source": [
    "len(c)"
   ]
  },
  {
   "cell_type": "code",
   "execution_count": 586,
   "metadata": {},
   "outputs": [
    {
     "data": {
      "text/plain": [
       "['about',\n",
       " 'age',\n",
       " 'at',\n",
       " 'cm',\n",
       " 'days',\n",
       " 'foot',\n",
       " 'laboratory',\n",
       " 'made',\n",
       " 'maryland',\n",
       " 'may',\n",
       " 'moon',\n",
       " 'naval',\n",
       " 'observation',\n",
       " 'observatory',\n",
       " 'of',\n",
       " 'of',\n",
       " 'of',\n",
       " 'on',\n",
       " 'point',\n",
       " 'reflector',\n",
       " 'research',\n",
       " 's',\n",
       " 'sloanaker',\n",
       " 'the',\n",
       " 'the',\n",
       " 'the',\n",
       " 'the',\n",
       " 'the',\n",
       " 'the',\n",
       " 'u',\n",
       " 'using',\n",
       " 'was',\n",
       " 'was']"
      ]
     },
     "execution_count": 586,
     "metadata": {},
     "output_type": "execute_result"
    }
   ],
   "source": [
    "sorted(c)"
   ]
  },
  {
   "cell_type": "code",
   "execution_count": 589,
   "metadata": {},
   "outputs": [],
   "source": [
    "d = nltk.FreqDist(w.lower() for l in a for w in l if w.lower() in c).most_common()"
   ]
  },
  {
   "cell_type": "code",
   "execution_count": 590,
   "metadata": {},
   "outputs": [
    {
     "data": {
      "text/plain": [
       "[('the', 6),\n",
       " ('of', 3),\n",
       " ('was', 2),\n",
       " ('cm', 1),\n",
       " ('observation', 1),\n",
       " ('sloanaker', 1),\n",
       " ('made', 1),\n",
       " ('on', 1),\n",
       " ('may', 1),\n",
       " ('using', 1),\n",
       " ('foot', 1),\n",
       " ('reflector', 1),\n",
       " ('at', 1),\n",
       " ('maryland', 1),\n",
       " ('point', 1),\n",
       " ('observatory', 1),\n",
       " ('u', 1),\n",
       " ('s', 1),\n",
       " ('naval', 1),\n",
       " ('research', 1),\n",
       " ('laboratory', 1),\n",
       " ('age', 1),\n",
       " ('moon', 1),\n",
       " ('about', 1),\n",
       " ('days', 1)]"
      ]
     },
     "execution_count": 590,
     "metadata": {},
     "output_type": "execute_result"
    }
   ],
   "source": [
    "d"
   ]
  },
  {
   "cell_type": "code",
   "execution_count": 591,
   "metadata": {},
   "outputs": [
    {
     "data": {
      "text/plain": [
       "25"
      ]
     },
     "execution_count": 591,
     "metadata": {},
     "output_type": "execute_result"
    }
   ],
   "source": [
    "len(d)"
   ]
  },
  {
   "cell_type": "code",
   "execution_count": 594,
   "metadata": {},
   "outputs": [
    {
     "data": {
      "text/plain": [
       "33"
      ]
     },
     "execution_count": 594,
     "metadata": {},
     "output_type": "execute_result"
    }
   ],
   "source": [
    "sum(dict(d).values())"
   ]
  },
  {
   "cell_type": "code",
   "execution_count": 595,
   "metadata": {},
   "outputs": [
    {
     "data": {
      "text/plain": [
       "'The 10 . 3 - cm observation of Sloanaker was made on May 20 , 1958 , using the 84 - foot reflector at the Maryland Point Observatory of the U . S . Naval Research Laboratory . The age of the moon was about 2 days .'"
      ]
     },
     "execution_count": 595,
     "metadata": {},
     "output_type": "execute_result"
    }
   ],
   "source": [
    "e = ' '.join([w for l in a for w in l])\n",
    "e"
   ]
  },
  {
   "cell_type": "code",
   "execution_count": 596,
   "metadata": {},
   "outputs": [
    {
     "data": {
      "text/plain": [
       "214"
      ]
     },
     "execution_count": 596,
     "metadata": {},
     "output_type": "execute_result"
    }
   ],
   "source": [
    "len(e)"
   ]
  },
  {
   "cell_type": "code",
   "execution_count": 597,
   "metadata": {},
   "outputs": [
    {
     "data": {
      "text/plain": [
       "['The',\n",
       " '10',\n",
       " '.',\n",
       " '3',\n",
       " '-',\n",
       " 'cm',\n",
       " 'observation',\n",
       " 'of',\n",
       " 'Sloanaker',\n",
       " 'was',\n",
       " 'made',\n",
       " 'on',\n",
       " 'May',\n",
       " '20',\n",
       " ',',\n",
       " '1958',\n",
       " ',',\n",
       " 'using',\n",
       " 'the',\n",
       " '84',\n",
       " '-',\n",
       " 'foot',\n",
       " 'reflector',\n",
       " 'at',\n",
       " 'the',\n",
       " 'Maryland',\n",
       " 'Point',\n",
       " 'Observatory',\n",
       " 'of',\n",
       " 'the',\n",
       " 'U',\n",
       " '.',\n",
       " 'S',\n",
       " '.',\n",
       " 'Naval',\n",
       " 'Research',\n",
       " 'Laboratory',\n",
       " '.',\n",
       " 'The',\n",
       " 'age',\n",
       " 'of',\n",
       " 'the',\n",
       " 'moon',\n",
       " 'was',\n",
       " 'about',\n",
       " '2',\n",
       " 'days',\n",
       " '.']"
      ]
     },
     "execution_count": 597,
     "metadata": {},
     "output_type": "execute_result"
    }
   ],
   "source": [
    "e.split()"
   ]
  },
  {
   "cell_type": "code",
   "execution_count": 598,
   "metadata": {},
   "outputs": [
    {
     "data": {
      "text/plain": [
       "['The',\n",
       " 'cm',\n",
       " 'observation',\n",
       " 'of',\n",
       " 'Sloanaker',\n",
       " 'was',\n",
       " 'made',\n",
       " 'on',\n",
       " 'May',\n",
       " 'using',\n",
       " 'the',\n",
       " 'foot',\n",
       " 'reflector',\n",
       " 'at',\n",
       " 'the',\n",
       " 'Maryland',\n",
       " 'Point',\n",
       " 'Observatory',\n",
       " 'of',\n",
       " 'the',\n",
       " 'U',\n",
       " 'S',\n",
       " 'Naval',\n",
       " 'Research',\n",
       " 'Laboratory',\n",
       " 'The',\n",
       " 'age',\n",
       " 'of',\n",
       " 'the',\n",
       " 'moon',\n",
       " 'was',\n",
       " 'about',\n",
       " 'days']"
      ]
     },
     "execution_count": 598,
     "metadata": {},
     "output_type": "execute_result"
    }
   ],
   "source": [
    "[w for w in e.split() if w.isalpha()]"
   ]
  },
  {
   "cell_type": "code",
   "execution_count": 600,
   "metadata": {},
   "outputs": [
    {
     "data": {
      "text/plain": [
       "['.', '-', ',', ',', '-', '.', '.', '.', '.']"
      ]
     },
     "execution_count": 600,
     "metadata": {},
     "output_type": "execute_result"
    }
   ],
   "source": [
    "[l for l in e.split() if re.match('\\W',l)]"
   ]
  },
  {
   "cell_type": "code",
   "execution_count": 604,
   "metadata": {},
   "outputs": [
    {
     "data": {
      "text/plain": [
       "('The 10 . 3',\n",
       " 'cm observation of Sloanaker was made on May 20 , 1958 , using the 84')"
      ]
     },
     "execution_count": 604,
     "metadata": {},
     "output_type": "execute_result"
    }
   ],
   "source": [
    "re.search('(.+) [-] (.+) [-]',e).groups()"
   ]
  },
  {
   "cell_type": "code",
   "execution_count": 605,
   "metadata": {},
   "outputs": [],
   "source": [
    "from nltk.corpus.reader.plaintext import CategorizedPlaintextCorpusReader"
   ]
  },
  {
   "cell_type": "code",
   "execution_count": 606,
   "metadata": {},
   "outputs": [],
   "source": [
    "a = CategorizedPlaintextCorpusReader('./Q1','.*',cat_pattern='[A-Z]+[a-z]+([A-Z]+)')"
   ]
  },
  {
   "cell_type": "code",
   "execution_count": 607,
   "metadata": {},
   "outputs": [
    {
     "data": {
      "text/plain": [
       "['HUMANITIES', 'NATSCIENCE', 'SOCSCIENCE', 'TECH']"
      ]
     },
     "execution_count": 607,
     "metadata": {},
     "output_type": "execute_result"
    }
   ],
   "source": [
    "a.categories()"
   ]
  },
  {
   "cell_type": "code",
   "execution_count": 608,
   "metadata": {},
   "outputs": [
    {
     "data": {
      "text/plain": [
       "16"
      ]
     },
     "execution_count": 608,
     "metadata": {},
     "output_type": "execute_result"
    }
   ],
   "source": [
    "len(a.fileids())"
   ]
  },
  {
   "cell_type": "code",
   "execution_count": 609,
   "metadata": {},
   "outputs": [
    {
     "name": "stdout",
     "output_type": "stream",
     "text": [
      "['CANacademicHUMANITIES.txt', 'CANacademicNATSCIENCE.txt', 'CANacademicSOCSCIENCE.txt', 'CANacademicTECH.txt', 'CANpopularHUMANITIES.txt', 'CANpopularNATSCIENCE.txt', 'CANpopularSOCSCIENCE.txt', 'CANpopularTECH.txt', 'NZacademicHUMANITIES.txt', 'NZacademicNATSCIENCE.txt', 'NZacademicSOCSCIENCE.txt', 'NZacademicTECH.txt', 'NZpopularHUMANITIES.txt', 'NZpopularNATSCIENCE.txt', 'NZpopularSOCSCIENCE.txt', 'NZpopularTECH.txt']\n"
     ]
    }
   ],
   "source": [
    "print(a.fileids())"
   ]
  },
  {
   "cell_type": "code",
   "execution_count": 610,
   "metadata": {},
   "outputs": [],
   "source": [
    "from nltk.corpus.reader.plaintext import PlaintextCorpusReader"
   ]
  },
  {
   "cell_type": "code",
   "execution_count": 611,
   "metadata": {},
   "outputs": [],
   "source": [
    "b = PlaintextCorpusReader('./Q2','.*')"
   ]
  },
  {
   "cell_type": "code",
   "execution_count": 612,
   "metadata": {},
   "outputs": [
    {
     "data": {
      "text/plain": [
       "['HUMANITIES.txt', 'NATSCIENCE.txt', 'SOCSCIENCE.txt', 'TECH.txt']"
      ]
     },
     "execution_count": 612,
     "metadata": {},
     "output_type": "execute_result"
    }
   ],
   "source": [
    "b.fileids()"
   ]
  },
  {
   "cell_type": "code",
   "execution_count": 647,
   "metadata": {},
   "outputs": [
    {
     "name": "stdout",
     "output_type": "stream",
     "text": [
      "파일명: HUMANITIES.txt 문자수: 530,867   어휘수: 110,177   \n",
      "파일명: NATSCIENCE.txt 문자수: 538,039   어휘수: 110,008   \n",
      "파일명: SOCSCIENCE.txt 문자수: 566,873   어휘수: 115,451   \n",
      "파일명: TECH.txt       문자수: 530,235   어휘수: 106,654   \n"
     ]
    }
   ],
   "source": [
    "out = '파일명: {:<15}문자수: {:<10,}어휘수: {:<10,}'\n",
    "\n",
    "for file in b.fileids():\n",
    "    words = len([w for w in b.words(file) if re.search('[\\w]',w)]) # 알파벳 또는 숫자 포함 단어\n",
    "    letters = len(re.sub('[^\\w]','',b.raw(file))) # 공백문자 및 문장부호 제외\n",
    "    print(out.format(file,letters,words))"
   ]
  },
  {
   "cell_type": "code",
   "execution_count": 644,
   "metadata": {},
   "outputs": [],
   "source": [
    "c = [i for i in nltk.FreqDist(w for w in b.raw() if re.match('[^\\w\\s]',w,re.I)).most_common() if i[1]>=3000]"
   ]
  },
  {
   "cell_type": "code",
   "execution_count": 645,
   "metadata": {},
   "outputs": [
    {
     "data": {
      "text/plain": [
       "[(',', 22634),\n",
       " ('.', 21953),\n",
       " ('-', 6226),\n",
       " (\"'\", 4888),\n",
       " (')', 3703),\n",
       " ('(', 3694),\n",
       " ('\"', 3095)]"
      ]
     },
     "execution_count": 645,
     "metadata": {},
     "output_type": "execute_result"
    }
   ],
   "source": [
    "c"
   ]
  },
  {
   "cell_type": "code",
   "execution_count": 639,
   "metadata": {},
   "outputs": [],
   "source": [
    "cfd = nltk.ConditionalFreqDist((file,char)\n",
    "                              for file in b.fileids()\n",
    "                              for char in b.raw(file)\n",
    "                              if char in dict(c).keys())"
   ]
  },
  {
   "cell_type": "code",
   "execution_count": 640,
   "metadata": {},
   "outputs": [
    {
     "name": "stdout",
     "output_type": "stream",
     "text": [
      "                  ,    .    -    '    )    (    \" \n",
      "HUMANITIES.txt 5770 5087 1222 1640  584  584  877 \n",
      "NATSCIENCE.txt 6016 6091 1567  674 1515 1515  427 \n",
      "SOCSCIENCE.txt 6078 5674 1706 1845  701  701 1042 \n",
      "      TECH.txt 4770 5101 1731  729  903  894  749 \n"
     ]
    }
   ],
   "source": [
    "cfd.tabulate(conditions=b.fileids(),samples=dict(c).keys())"
   ]
  },
  {
   "cell_type": "code",
   "execution_count": 641,
   "metadata": {},
   "outputs": [
    {
     "name": "stdout",
     "output_type": "stream",
     "text": [
      "HUMANITIES.txt\n",
      "one those time land life workshops islands flooding way that other\n",
      "death nature signs some them works loss most definition\n",
      "NATSCIENCE.txt\n",
      "way need two implications absence so difficult argue year application\n",
      "data same form soil surface zone work association material consisting\n",
      "SOCSCIENCE.txt\n",
      "one time part members which areas aware much discussion method crucial\n",
      "discounting history the of measure and over another not\n",
      "TECH.txt\n",
      "is most possible selection use all those some but uncertainty into one\n",
      "i follows assumed be which mentioned many such\n"
     ]
    }
   ],
   "source": [
    "for file in b.fileids():\n",
    "    print(file)\n",
    "    text = nltk.Text(b.words(file))\n",
    "    text.similar('evidence')"
   ]
  },
  {
   "cell_type": "code",
   "execution_count": 650,
   "metadata": {},
   "outputs": [
    {
     "data": {
      "text/plain": [
       "'이제 뭐해야하지'"
      ]
     },
     "execution_count": 650,
     "metadata": {},
     "output_type": "execute_result"
    }
   ],
   "source": [
    "'''이제 뭐해야하지'''"
   ]
  },
  {
   "cell_type": "code",
   "execution_count": 651,
   "metadata": {},
   "outputs": [],
   "source": [
    "import numpy as np"
   ]
  },
  {
   "cell_type": "code",
   "execution_count": 652,
   "metadata": {},
   "outputs": [],
   "source": [
    "test_array = np.array([\"1\",\"4\",5,8],float)"
   ]
  },
  {
   "cell_type": "code",
   "execution_count": 653,
   "metadata": {},
   "outputs": [
    {
     "name": "stdout",
     "output_type": "stream",
     "text": [
      "[1. 4. 5. 8.]\n"
     ]
    }
   ],
   "source": [
    "print(test_array)"
   ]
  },
  {
   "cell_type": "code",
   "execution_count": 654,
   "metadata": {},
   "outputs": [
    {
     "data": {
      "text/plain": [
       "numpy.float64"
      ]
     },
     "execution_count": 654,
     "metadata": {},
     "output_type": "execute_result"
    }
   ],
   "source": [
    "type(test_array[0])"
   ]
  },
  {
   "cell_type": "code",
   "execution_count": 655,
   "metadata": {},
   "outputs": [
    {
     "data": {
      "text/plain": [
       "array([[1, 2, 3],\n",
       "       [4, 5, 6]])"
      ]
     },
     "execution_count": 655,
     "metadata": {},
     "output_type": "execute_result"
    }
   ],
   "source": [
    "np.array([[1,2,3],[4.8,5,6]],int) #버림"
   ]
  },
  {
   "cell_type": "code",
   "execution_count": 656,
   "metadata": {},
   "outputs": [],
   "source": [
    "mat = [[1,2,3,4],[1,2,5,8]]"
   ]
  },
  {
   "cell_type": "code",
   "execution_count": 657,
   "metadata": {},
   "outputs": [
    {
     "data": {
      "text/plain": [
       "array([1, 2, 3, 4, 1, 2, 5, 8])"
      ]
     },
     "execution_count": 657,
     "metadata": {},
     "output_type": "execute_result"
    }
   ],
   "source": [
    "np.array(mat).reshape(8,)"
   ]
  },
  {
   "cell_type": "code",
   "execution_count": 658,
   "metadata": {},
   "outputs": [
    {
     "data": {
      "text/plain": [
       "array([1, 2, 3, 4, 1, 2, 5, 8])"
      ]
     },
     "execution_count": 658,
     "metadata": {},
     "output_type": "execute_result"
    }
   ],
   "source": [
    "np.array(mat).reshape(8)"
   ]
  },
  {
   "cell_type": "code",
   "execution_count": 659,
   "metadata": {},
   "outputs": [
    {
     "data": {
      "text/plain": [
       "array([[1],\n",
       "       [2],\n",
       "       [3],\n",
       "       [4],\n",
       "       [1],\n",
       "       [2],\n",
       "       [5],\n",
       "       [8]])"
      ]
     },
     "execution_count": 659,
     "metadata": {},
     "output_type": "execute_result"
    }
   ],
   "source": [
    "np.array(mat).reshape(8,1)"
   ]
  },
  {
   "cell_type": "code",
   "execution_count": 660,
   "metadata": {},
   "outputs": [
    {
     "data": {
      "text/plain": [
       "array([[1, 2, 3, 4, 1, 2, 5, 8]])"
      ]
     },
     "execution_count": 660,
     "metadata": {},
     "output_type": "execute_result"
    }
   ],
   "source": [
    "np.array(mat).reshape(1,8)"
   ]
  },
  {
   "cell_type": "code",
   "execution_count": 661,
   "metadata": {},
   "outputs": [
    {
     "data": {
      "text/plain": [
       "array([[1, 2],\n",
       "       [3, 4],\n",
       "       [1, 2],\n",
       "       [5, 8]])"
      ]
     },
     "execution_count": 661,
     "metadata": {},
     "output_type": "execute_result"
    }
   ],
   "source": [
    "np.array(mat).reshape(-1,2)"
   ]
  },
  {
   "cell_type": "code",
   "execution_count": 662,
   "metadata": {},
   "outputs": [
    {
     "data": {
      "text/plain": [
       "array([[[1, 2],\n",
       "        [3, 4]],\n",
       "\n",
       "       [[1, 2],\n",
       "        [5, 8]]])"
      ]
     },
     "execution_count": 662,
     "metadata": {},
     "output_type": "execute_result"
    }
   ],
   "source": [
    "np.array(mat).reshape(2,2,2)"
   ]
  },
  {
   "cell_type": "code",
   "execution_count": 663,
   "metadata": {},
   "outputs": [],
   "source": [
    "mat = [[[1,2,3,4],[1,2,5,8]],[[1,2,3,4],[1,2,5,8]]]"
   ]
  },
  {
   "cell_type": "code",
   "execution_count": 664,
   "metadata": {},
   "outputs": [
    {
     "data": {
      "text/plain": [
       "array([1, 2, 3, 4, 1, 2, 5, 8, 1, 2, 3, 4, 1, 2, 5, 8])"
      ]
     },
     "execution_count": 664,
     "metadata": {},
     "output_type": "execute_result"
    }
   ],
   "source": [
    "np.array(mat).flatten()"
   ]
  },
  {
   "cell_type": "code",
   "execution_count": 665,
   "metadata": {},
   "outputs": [
    {
     "name": "stdout",
     "output_type": "stream",
     "text": [
      "[1 2 3 4]\n"
     ]
    }
   ],
   "source": [
    "a = np.array([1,2,3,4])\n",
    "print(a)"
   ]
  },
  {
   "cell_type": "code",
   "execution_count": 666,
   "metadata": {},
   "outputs": [
    {
     "name": "stdout",
     "output_type": "stream",
     "text": [
      "(5,)\n",
      "[1 3 5 7 9]\n"
     ]
    }
   ],
   "source": [
    "data = [1,3,5,7,9]\n",
    "a = np.array(data)\n",
    "\n",
    "print(a.shape)\n",
    "print(a)"
   ]
  },
  {
   "cell_type": "code",
   "execution_count": 667,
   "metadata": {},
   "outputs": [
    {
     "name": "stdout",
     "output_type": "stream",
     "text": [
      "(2, 3)\n",
      "[1 2 3]\n",
      "[4 5 6]\n",
      "1\n",
      "6\n",
      "[[1 2 3]\n",
      " [4 5 6]]\n"
     ]
    }
   ],
   "source": [
    "b = np.array([[1,2,3],[4,5,6]])\n",
    "\n",
    "print(b.shape)\n",
    "print(b[0])\n",
    "print(b[1])\n",
    "print(b[0,0])\n",
    "print(b[1,2])\n",
    "print(b)"
   ]
  },
  {
   "cell_type": "code",
   "execution_count": 668,
   "metadata": {},
   "outputs": [
    {
     "name": "stdout",
     "output_type": "stream",
     "text": [
      "[[0. 0.]\n",
      " [0. 0.]]\n"
     ]
    }
   ],
   "source": [
    "a = np.zeros((2,2))\n",
    "print(a)"
   ]
  },
  {
   "cell_type": "code",
   "execution_count": 669,
   "metadata": {},
   "outputs": [
    {
     "name": "stdout",
     "output_type": "stream",
     "text": [
      "[[1. 1.]\n",
      " [1. 1.]]\n"
     ]
    }
   ],
   "source": [
    "b = np.ones((2,2))\n",
    "print(b)"
   ]
  },
  {
   "cell_type": "code",
   "execution_count": 670,
   "metadata": {},
   "outputs": [
    {
     "name": "stdout",
     "output_type": "stream",
     "text": [
      "[[7 7]\n",
      " [7 7]]\n"
     ]
    }
   ],
   "source": [
    "c = np.full((2,2),7)\n",
    "print(c)"
   ]
  },
  {
   "cell_type": "code",
   "execution_count": 671,
   "metadata": {},
   "outputs": [
    {
     "name": "stdout",
     "output_type": "stream",
     "text": [
      "[[1. 0.]\n",
      " [0. 1.]]\n"
     ]
    }
   ],
   "source": [
    "d = np.eye(2)\n",
    "print(d)"
   ]
  },
  {
   "cell_type": "code",
   "execution_count": 672,
   "metadata": {},
   "outputs": [
    {
     "name": "stdout",
     "output_type": "stream",
     "text": [
      "[[0.90806532 0.04183625]\n",
      " [0.33730849 0.03540224]]\n"
     ]
    }
   ],
   "source": [
    "e = np.random.random((2,2)) # 0~1사이 랜덤값\n",
    "print(e)"
   ]
  },
  {
   "cell_type": "code",
   "execution_count": 673,
   "metadata": {},
   "outputs": [
    {
     "name": "stdout",
     "output_type": "stream",
     "text": [
      "[0 1 2]\n",
      "[3 4 5 6]\n",
      "[3 5]\n"
     ]
    }
   ],
   "source": [
    "print(np.arange(3))\n",
    "print(np.arange(3,7))\n",
    "print(np.arange(3,7,2))"
   ]
  },
  {
   "cell_type": "code",
   "execution_count": 674,
   "metadata": {},
   "outputs": [
    {
     "name": "stdout",
     "output_type": "stream",
     "text": [
      "[ 5.          5.10204082  5.20408163  5.30612245  5.40816327  5.51020408\n",
      "  5.6122449   5.71428571  5.81632653  5.91836735  6.02040816  6.12244898\n",
      "  6.2244898   6.32653061  6.42857143  6.53061224  6.63265306  6.73469388\n",
      "  6.83673469  6.93877551  7.04081633  7.14285714  7.24489796  7.34693878\n",
      "  7.44897959  7.55102041  7.65306122  7.75510204  7.85714286  7.95918367\n",
      "  8.06122449  8.16326531  8.26530612  8.36734694  8.46938776  8.57142857\n",
      "  8.67346939  8.7755102   8.87755102  8.97959184  9.08163265  9.18367347\n",
      "  9.28571429  9.3877551   9.48979592  9.59183673  9.69387755  9.79591837\n",
      "  9.89795918 10.        ]\n"
     ]
    }
   ],
   "source": [
    "y = np.linspace(5,10)\n",
    "print(y) # default 50개"
   ]
  },
  {
   "cell_type": "code",
   "execution_count": 675,
   "metadata": {},
   "outputs": [
    {
     "name": "stdout",
     "output_type": "stream",
     "text": [
      "[2.   2.25 2.5  2.75 3.  ]\n"
     ]
    }
   ],
   "source": [
    "z = np.linspace(2,3,5)\n",
    "print(z)"
   ]
  },
  {
   "cell_type": "code",
   "execution_count": 676,
   "metadata": {},
   "outputs": [
    {
     "name": "stdout",
     "output_type": "stream",
     "text": [
      "[1.         2.33333333 3.66666667 5.        ]\n"
     ]
    }
   ],
   "source": [
    "test_array = np.linspace(1,5,4)\n",
    "print(test_array)"
   ]
  },
  {
   "cell_type": "code",
   "execution_count": 677,
   "metadata": {},
   "outputs": [
    {
     "name": "stdout",
     "output_type": "stream",
     "text": [
      "[1. 2. 3. 4.]\n"
     ]
    }
   ],
   "source": [
    "test_array = np.linspace(1,5,4,False)\n",
    "print(test_array)"
   ]
  },
  {
   "cell_type": "code",
   "execution_count": 678,
   "metadata": {},
   "outputs": [
    {
     "name": "stdout",
     "output_type": "stream",
     "text": [
      "[  0.  25.  50.  75. 100.]\n"
     ]
    }
   ],
   "source": [
    "test_array = np.linspace(start=0,stop=100,num=5)\n",
    "print(test_array)"
   ]
  },
  {
   "cell_type": "code",
   "execution_count": 679,
   "metadata": {},
   "outputs": [
    {
     "name": "stdout",
     "output_type": "stream",
     "text": [
      "[  0  25  50  75 100]\n"
     ]
    }
   ],
   "source": [
    "test_array = np.linspace(start=0,stop=100,num=5,dtype=int)\n",
    "print(test_array)"
   ]
  },
  {
   "cell_type": "code",
   "execution_count": 681,
   "metadata": {},
   "outputs": [
    {
     "name": "stdout",
     "output_type": "stream",
     "text": [
      "[1.  1.1 1.2 1.3 1.4 1.5 1.6 1.7 1.8 1.9]\n",
      "[1.  1.1 1.2 1.3 1.4 1.5 1.6 1.7 1.8 1.9 2. ]\n"
     ]
    }
   ],
   "source": [
    "a = np.arange(1,2,0.1)\n",
    "b = np.linspace(1,2,11)\n",
    "print(a)\n",
    "print(b)"
   ]
  },
  {
   "cell_type": "code",
   "execution_count": 682,
   "metadata": {},
   "outputs": [
    {
     "data": {
      "text/plain": [
       "1.4142135623730951"
      ]
     },
     "execution_count": 682,
     "metadata": {},
     "output_type": "execute_result"
    }
   ],
   "source": [
    "np.sqrt(2)"
   ]
  },
  {
   "cell_type": "code",
   "execution_count": 683,
   "metadata": {},
   "outputs": [
    {
     "name": "stdout",
     "output_type": "stream",
     "text": [
      "3.141592653589793\n",
      "0.0\n",
      "-1.0\n"
     ]
    }
   ],
   "source": [
    "print(np.pi)\n",
    "print(np.sin(0))\n",
    "print(np.cos(np.pi))"
   ]
  },
  {
   "cell_type": "code",
   "execution_count": 684,
   "metadata": {},
   "outputs": [
    {
     "name": "stdout",
     "output_type": "stream",
     "text": [
      "[0.75089772 0.37462756 0.15297833 0.7713698  0.71376927]\n",
      "<class 'numpy.ndarray'>\n"
     ]
    }
   ],
   "source": [
    "a = np.random.rand(5)\n",
    "print(a)\n",
    "print(type(a))"
   ]
  },
  {
   "cell_type": "code",
   "execution_count": 685,
   "metadata": {},
   "outputs": [
    {
     "name": "stdout",
     "output_type": "stream",
     "text": [
      "[0 0 2 2 2 1 5 4 5 4 1 1 4 5 3 2 2 0 3 5 4 5 0 3 0 4 0 3 3 2 1 2 3 0 1 1]\n"
     ]
    }
   ],
   "source": [
    "print(np.random.choice(6,36))"
   ]
  },
  {
   "cell_type": "code",
   "execution_count": 686,
   "metadata": {},
   "outputs": [
    {
     "name": "stdout",
     "output_type": "stream",
     "text": [
      "[1 2 1 5 2 0 1 3 3 2 3 4 5 2 2 5 3 3 2 4 4 2 5 5 3 1 3 1 3 2 3 1 2 2 5 5]\n"
     ]
    }
   ],
   "source": [
    "print(np.random.choice(6,36,p=[1/12,1/12,1/3,1/6,1/6,1/6]))"
   ]
  },
  {
   "cell_type": "code",
   "execution_count": 687,
   "metadata": {},
   "outputs": [
    {
     "name": "stdout",
     "output_type": "stream",
     "text": [
      "[5 0 1 5 3 4 4 2 0 0]\n"
     ]
    }
   ],
   "source": [
    "print(np.random.choice(6,10))"
   ]
  },
  {
   "cell_type": "code",
   "execution_count": 688,
   "metadata": {},
   "outputs": [
    {
     "name": "stdout",
     "output_type": "stream",
     "text": [
      "[7 6 8 4 5 3]\n"
     ]
    }
   ],
   "source": [
    "print(np.random.choice(10,6,replace=False))"
   ]
  },
  {
   "cell_type": "code",
   "execution_count": 689,
   "metadata": {},
   "outputs": [
    {
     "name": "stdout",
     "output_type": "stream",
     "text": [
      "[5 2 5 2 3 2 1 3 5 1]\n"
     ]
    }
   ],
   "source": [
    "print(np.random.choice(6,10,p=[0.1,0.2,0.3,0.2,0.1,0.1]))"
   ]
  },
  {
   "cell_type": "code",
   "execution_count": 691,
   "metadata": {},
   "outputs": [
    {
     "data": {
      "text/plain": [
       "array(['apple', 'durian', 'cherry'], dtype='<U6')"
      ]
     },
     "execution_count": 691,
     "metadata": {},
     "output_type": "execute_result"
    }
   ],
   "source": [
    "fruits = ['apple','banana','cherry','durian','grapes','lemon','mango']\n",
    "p = [0.1,0,0.2,0.5,0.1,0.05,0.05]\n",
    "np.random.choice(fruits,3,p=p,replace=False)"
   ]
  },
  {
   "cell_type": "code",
   "execution_count": 692,
   "metadata": {},
   "outputs": [
    {
     "name": "stdout",
     "output_type": "stream",
     "text": [
      "[2, 4, 6]\n"
     ]
    }
   ],
   "source": [
    "data = [1,2,3]\n",
    "a = []\n",
    "for i in data:\n",
    "    a.append(i*2)\n",
    "print(a)"
   ]
  },
  {
   "cell_type": "code",
   "execution_count": 693,
   "metadata": {},
   "outputs": [
    {
     "name": "stdout",
     "output_type": "stream",
     "text": [
      "[2 4 6]\n"
     ]
    }
   ],
   "source": [
    "data = [1,2,3]\n",
    "a = np.array(data)\n",
    "a = 2*a\n",
    "print(a)"
   ]
  },
  {
   "cell_type": "code",
   "execution_count": 694,
   "metadata": {},
   "outputs": [
    {
     "name": "stdout",
     "output_type": "stream",
     "text": [
      "[5. 5. 5. 5. 5. 5. 5. 5. 5. 5.]\n"
     ]
    }
   ],
   "source": [
    "a = np.zeros(10)+5\n",
    "print(a)"
   ]
  },
  {
   "cell_type": "code",
   "execution_count": 695,
   "metadata": {},
   "outputs": [
    {
     "name": "stdout",
     "output_type": "stream",
     "text": [
      "[1.  1.1 1.2 1.3 1.4 1.5 1.6 1.7 1.8 1.9 2. ]\n",
      "[1.         1.04880885 1.09544512 1.14017543 1.18321596 1.22474487\n",
      " 1.26491106 1.30384048 1.34164079 1.37840488 1.41421356]\n"
     ]
    }
   ],
   "source": [
    "a = np.linspace(1,2,11)\n",
    "print(a)\n",
    "print(np.sqrt(a))"
   ]
  },
  {
   "cell_type": "code",
   "execution_count": 696,
   "metadata": {},
   "outputs": [
    {
     "name": "stdout",
     "output_type": "stream",
     "text": [
      "[12 24 36]\n",
      "[False  True False]\n",
      "[ True  True  True]\n",
      "[False  True False]\n"
     ]
    }
   ],
   "source": [
    "a = np.array([1,2,3])\n",
    "b = np.array([10,20,30])\n",
    "\n",
    "print(2*a+b)\n",
    "\n",
    "print(a==2)\n",
    "print(b>0)\n",
    "print((a==2)&(b>10))"
   ]
  },
  {
   "cell_type": "code",
   "execution_count": 697,
   "metadata": {},
   "outputs": [
    {
     "name": "stdout",
     "output_type": "stream",
     "text": [
      "[5 7 9]\n",
      "[5 7 9]\n",
      "[-3 -3 -3]\n",
      "[-3 -3 -3]\n",
      "[ 4 10 18]\n",
      "[ 4 10 18]\n",
      "[0.25 0.4  0.5 ]\n",
      "[0.25 0.4  0.5 ]\n"
     ]
    }
   ],
   "source": [
    "a = np.array([1,2,3])\n",
    "b = np.array([4,5,6])\n",
    "\n",
    "c = np.add(a,b)\n",
    "print(c)\n",
    "print(a+b)\n",
    "\n",
    "c = np.subtract(a,b)\n",
    "print(c)\n",
    "print(a-b)\n",
    "\n",
    "c = np.multiply(a,b)\n",
    "print(c)\n",
    "print(a*b)\n",
    "\n",
    "c = np.divide(a,b)\n",
    "print(c)\n",
    "print(a/b)\n",
    "\n"
   ]
  },
  {
   "cell_type": "code",
   "execution_count": 698,
   "metadata": {},
   "outputs": [
    {
     "name": "stdout",
     "output_type": "stream",
     "text": [
      "10\n",
      "[4 6]\n",
      "[3 7]\n",
      "24\n",
      "[3 8]\n",
      "[ 2 12]\n"
     ]
    }
   ],
   "source": [
    "a = np.array([[1,2],[3,4]])\n",
    "\n",
    "s = np.sum(a)\n",
    "print(s)\n",
    "\n",
    "s = np.sum(a,axis=0)\n",
    "print(s)\n",
    "\n",
    "s = np.sum(a,axis=1)\n",
    "print(s)\n",
    "\n",
    "s = np.prod(a)\n",
    "print(s)\n",
    "\n",
    "s = np.prod(a,axis=0)\n",
    "print(s)\n",
    "\n",
    "s = np.prod(a,axis=1)\n",
    "print(s)"
   ]
  },
  {
   "cell_type": "code",
   "execution_count": 699,
   "metadata": {},
   "outputs": [
    {
     "name": "stdout",
     "output_type": "stream",
     "text": [
      "2 4\n",
      "[2 3 4]\n"
     ]
    }
   ],
   "source": [
    "a = np.array([1,2,3,4])\n",
    "print(a[1],a[-1])\n",
    "print(a[1:])"
   ]
  },
  {
   "cell_type": "code",
   "execution_count": 700,
   "metadata": {},
   "outputs": [
    {
     "name": "stdout",
     "output_type": "stream",
     "text": [
      "[[1 2 3]\n",
      " [5 6 7]]\n",
      "\n",
      "\n",
      "[[ 5  6  7  8 10]\n",
      " [11 12 13 14 15]]\n",
      "\n",
      "\n",
      "[[ 8 10]\n",
      " [14 15]]\n"
     ]
    }
   ],
   "source": [
    "data = [\n",
    "    [1,2,3,4,5],\n",
    "    [5,6,7,8,10],\n",
    "    [11,12,13,14,15]\n",
    "]\n",
    "\n",
    "a = np.array(data)\n",
    "s1 = a[0:2,0:3]\n",
    "print(s1)\n",
    "print('\\n')\n",
    "\n",
    "s2 = a[1:,0:]\n",
    "print(s2)\n",
    "print('\\n')\n",
    "\n",
    "s3 = a[1:,3:]\n",
    "print(s3)"
   ]
  },
  {
   "cell_type": "code",
   "execution_count": 701,
   "metadata": {},
   "outputs": [
    {
     "name": "stdout",
     "output_type": "stream",
     "text": [
      "[ 2 15]\n"
     ]
    }
   ],
   "source": [
    "data = [\n",
    "    [1,2,3,4,5],\n",
    "    [5,6,7,8,10],\n",
    "    [11,12,13,14,15]\n",
    "]\n",
    "\n",
    "a = np.array(data)\n",
    "\n",
    "s = a[[0,2],[1,4]] #(0,1),(2,4)\n",
    "\n",
    "print(s)"
   ]
  },
  {
   "cell_type": "code",
   "execution_count": 702,
   "metadata": {},
   "outputs": [
    {
     "name": "stdout",
     "output_type": "stream",
     "text": [
      "[2 4 6 8]\n"
     ]
    }
   ],
   "source": [
    "data = [\n",
    "    [1,2,3],\n",
    "    [4,5,6],\n",
    "    [7,8,9]\n",
    "]\n",
    "\n",
    "a = np.array(data)\n",
    "\n",
    "bool_i = np.array([\n",
    "    [False,True,False],\n",
    "    [True,False,True],\n",
    "    [False,True,False]\n",
    "])\n",
    "\n",
    "b = a[bool_i]\n",
    "\n",
    "print(b)"
   ]
  },
  {
   "cell_type": "code",
   "execution_count": 703,
   "metadata": {},
   "outputs": [
    {
     "name": "stdout",
     "output_type": "stream",
     "text": [
      "***boolean indexting array: bool_i***\n",
      "[[False  True False]\n",
      " [ True False  True]\n",
      " [False  True False]] \n",
      "\n",
      "***짝수만 선택***\n",
      "[2 4 6 8] \n",
      "\n",
      "***짝수만 선택***\n",
      "[2 4 6 8]\n"
     ]
    }
   ],
   "source": [
    "data = [\n",
    "    [1,2,3],\n",
    "    [4,5,6],\n",
    "    [7,8,9]\n",
    "]\n",
    "\n",
    "a = np.array(data)\n",
    "\n",
    "bool_i = (a%2==0)\n",
    "print(\"***boolean indexting array: bool_i***\")\n",
    "print(bool_i,'\\n')\n",
    "print(\"***짝수만 선택***\")\n",
    "print(a[bool_i],'\\n')\n",
    "\n",
    "# 더 간단히\n",
    "b = a[a%2==0]\n",
    "print(\"***짝수만 선택***\")\n",
    "print(b)"
   ]
  },
  {
   "cell_type": "code",
   "execution_count": 704,
   "metadata": {},
   "outputs": [
    {
     "name": "stdout",
     "output_type": "stream",
     "text": [
      "[-5 -4 -3 -2 -1  0  1  2  3  4]\n"
     ]
    }
   ],
   "source": [
    "a = np.arange(-5,5)\n",
    "print(a)"
   ]
  },
  {
   "cell_type": "code",
   "execution_count": 705,
   "metadata": {},
   "outputs": [
    {
     "name": "stdout",
     "output_type": "stream",
     "text": [
      "[ True  True  True  True  True False False False False False]\n"
     ]
    }
   ],
   "source": [
    "print(a<0)"
   ]
  },
  {
   "cell_type": "code",
   "execution_count": 706,
   "metadata": {},
   "outputs": [
    {
     "name": "stdout",
     "output_type": "stream",
     "text": [
      "[-5 -4 -3 -2 -1]\n"
     ]
    }
   ],
   "source": [
    "print(a[a<0])"
   ]
  },
  {
   "cell_type": "code",
   "execution_count": 707,
   "metadata": {},
   "outputs": [
    {
     "name": "stdout",
     "output_type": "stream",
     "text": [
      "[-5 -4  4]\n"
     ]
    }
   ],
   "source": [
    "mask1 = abs(a) > 3\n",
    "print(a[mask1])"
   ]
  },
  {
   "cell_type": "code",
   "execution_count": 708,
   "metadata": {},
   "outputs": [
    {
     "name": "stdout",
     "output_type": "stream",
     "text": [
      "[-5 -4 -2  0  2  4]\n",
      "[-4  4]\n"
     ]
    }
   ],
   "source": [
    "mask1 = abs(a) > 3\n",
    "mask2 = abs(a) % 2 == 0\n",
    "\n",
    "print(a[mask1+mask2])\n",
    "print(a[mask1*mask2])"
   ]
  },
  {
   "cell_type": "code",
   "execution_count": 709,
   "metadata": {},
   "outputs": [],
   "source": [
    "import matplotlib.pyplot as plt\n",
    "import random"
   ]
  },
  {
   "cell_type": "code",
   "execution_count": 710,
   "metadata": {},
   "outputs": [
    {
     "data": {
      "image/png": "[encoded data removed]",
      "text/plain": [
       "<Figure size 432x288 with 1 Axes>"
      ]
     },
     "metadata": {
      "needs_background": "light"
     },
     "output_type": "display_data"
    }
   ],
   "source": [
    "x=[]\n",
    "y=[]\n",
    "size=[]\n",
    "\n",
    "for i in range(100):\n",
    "    x.append(random.randint(50,100))\n",
    "    y.append(random.randint(50,100))\n",
    "    size.append(random.randint(10,100))\n",
    "    \n",
    "plt.scatter(x,y,s=size)\n",
    "plt.show()"
   ]
  },
  {
   "cell_type": "code",
   "execution_count": 711,
   "metadata": {},
   "outputs": [
    {
     "data": {
      "image/png": "[encoded data removed]",
      "text/plain": [
       "<Figure size 432x288 with 2 Axes>"
      ]
     },
     "metadata": {
      "needs_background": "light"
     },
     "output_type": "display_data"
    }
   ],
   "source": [
    "plt.scatter(x,y,s=size,c=size,cmap='jet',alpha=0.7)\n",
    "plt.colorbar()\n",
    "plt.show()"
   ]
  },
  {
   "cell_type": "code",
   "execution_count": 712,
   "metadata": {},
   "outputs": [],
   "source": [
    "x = np.random.randint(10,100,200)"
   ]
  },
  {
   "cell_type": "code",
   "execution_count": 713,
   "metadata": {},
   "outputs": [
    {
     "data": {
      "text/plain": [
       "array([16, 21, 18, 62, 64, 22, 64, 72, 87, 21, 80, 38, 61, 78, 11, 80, 22,\n",
       "       21, 72, 10, 21, 60, 12, 18, 68, 86, 18, 75, 40, 28, 22, 89, 76, 95,\n",
       "       72, 27, 76, 42, 16, 86, 74, 80, 28, 55, 55, 13, 41, 64, 13, 31, 74,\n",
       "       74, 96, 93, 26, 13, 17, 56, 36, 59, 61, 66, 28, 78, 46, 60, 89, 40,\n",
       "       23, 18, 75, 65, 74, 69, 12, 12, 73, 81, 52, 22, 37, 49, 81, 70, 74,\n",
       "       31, 88, 60, 38, 31, 94, 70, 31, 24, 28, 23, 78, 31, 91, 13, 90, 87,\n",
       "       63, 71, 37, 90, 56, 24, 10, 18, 76, 79, 53, 27, 29, 37, 97, 92, 45,\n",
       "       44, 22, 91, 83, 36, 21, 86, 48, 34, 64, 82, 53, 59, 99, 82, 93, 85,\n",
       "       39, 46, 27, 39, 21, 99, 56, 28, 59, 66, 85, 18, 50, 67, 69, 19, 45,\n",
       "       94, 96, 89, 71, 21, 64, 65, 95, 32, 87, 24, 69, 72, 38, 47, 72, 98,\n",
       "       35, 36, 23, 84, 72, 20, 55, 29, 68, 49, 44, 20, 59, 12, 91, 49, 74,\n",
       "       52, 17, 88, 11, 15, 61, 15, 67, 38, 81, 40, 99, 10])"
      ]
     },
     "execution_count": 713,
     "metadata": {},
     "output_type": "execute_result"
    }
   ],
   "source": [
    "x"
   ]
  },
  {
   "cell_type": "code",
   "execution_count": 714,
   "metadata": {},
   "outputs": [
    {
     "data": {
      "image/png": "[encoded data removed]",
      "text/plain": [
       "<Figure size 432x288 with 2 Axes>"
      ]
     },
     "metadata": {
      "needs_background": "light"
     },
     "output_type": "display_data"
    }
   ],
   "source": [
    "x = np.random.randint(10,100,200)\n",
    "y = np.random.randint(10,100,200)\n",
    "size = np.random.rand(200)*100\n",
    "\n",
    "plt.scatter(x,y,s=size,c=x,cmap='jet',alpha=0.7)\n",
    "plt.colorbar()\n",
    "plt.show()"
   ]
  },
  {
   "cell_type": "code",
   "execution_count": 715,
   "metadata": {},
   "outputs": [
    {
     "data": {
      "image/png": "[encoded data removed]",
      "text/plain": [
       "<Figure size 432x288 with 2 Axes>"
      ]
     },
     "metadata": {
      "needs_background": "light"
     },
     "output_type": "display_data"
    }
   ],
   "source": [
    "x = np.random.randint(-100,100,200)\n",
    "y = np.random.randint(-100,100,200)\n",
    "size = np.random.rand(200)*100\n",
    "\n",
    "mask1 = abs(x) > 50\n",
    "mask2 = abs(y) > 50\n",
    "\n",
    "x = x[mask1+mask2]\n",
    "y = y[mask1+mask2]\n",
    "size = size[mask1+mask2]\n",
    "\n",
    "plt.scatter(x,y,s=size,c=x,cmap='jet',alpha=0.7)\n",
    "plt.colorbar()\n",
    "plt.show()"
   ]
  },
  {
   "cell_type": "code",
   "execution_count": 716,
   "metadata": {},
   "outputs": [
    {
     "data": {
      "image/png": "[encoded data removed]",
      "text/plain": [
       "<Figure size 432x288 with 1 Axes>"
      ]
     },
     "metadata": {
      "needs_background": "light"
     },
     "output_type": "display_data"
    }
   ],
   "source": [
    "dice = np.random.choice(6,10)\n",
    "\n",
    "plt.hist(dice,bins=6)\n",
    "plt.show()"
   ]
  },
  {
   "cell_type": "code",
   "execution_count": 718,
   "metadata": {},
   "outputs": [
    {
     "data": {
      "image/png": "[encoded data removed]",
      "text/plain": [
       "<Figure size 432x288 with 1 Axes>"
      ]
     },
     "metadata": {
      "needs_background": "light"
     },
     "output_type": "display_data"
    },
    {
     "data": {
      "text/plain": [
       "[1, 3, 1, 3, 1, 5, 5, 2, 2, 6]"
      ]
     },
     "execution_count": 718,
     "metadata": {},
     "output_type": "execute_result"
    }
   ],
   "source": [
    "dice = []\n",
    "\n",
    "for i in range(10):\n",
    "    dice.append(random.randint(1,6))\n",
    "    \n",
    "plt.hist(dice,bins=6)\n",
    "plt.show()\n",
    "dice"
   ]
  },
  {
   "cell_type": "code",
   "execution_count": 719,
   "metadata": {},
   "outputs": [
    {
     "data": {
      "image/png": "[encoded data removed]",
      "text/plain": [
       "<Figure size 432x288 with 1 Axes>"
      ]
     },
     "metadata": {
      "needs_background": "light"
     },
     "output_type": "display_data"
    }
   ],
   "source": [
    "dice = np.random.choice(6,1000000,p=[0.1,0.2,0.3,0.2,0.1,0.1])\n",
    "plt.hist(dice,bins=6)\n",
    "plt.show()"
   ]
  },
  {
   "cell_type": "code",
   "execution_count": 720,
   "metadata": {},
   "outputs": [
    {
     "name": "stdout",
     "output_type": "stream",
     "text": [
      "인구 구조가 알고 싶은 지역의 이름(읍면동 단위)을 입력해주세요 :신도림동\n"
     ]
    },
    {
     "data": {
      "image/png": "[encoded data removed]",
      "text/plain": [
       "<Figure size 3000x1500 with 1 Axes>"
      ]
     },
     "metadata": {},
     "output_type": "display_data"
    }
   ],
   "source": [
    "import csv\n",
    "\n",
    "f = open('age.csv')\n",
    "data = csv.reader(f)\n",
    "result = []\n",
    "next(data)\n",
    "name = input('인구 구조가 알고 싶은 지역의 이름(읍면동 단위)을 입력해주세요 :')\n",
    "for row in data:\n",
    "    if name in row[0]:\n",
    "        home = np.array(row[3:],dtype=int)\n",
    "f.close()\n",
    "\n",
    "plt.rc('font',family='Malgun Gothic')\n",
    "plt.style.use('ggplot')\n",
    "plt.figure(figsize=(10,5),dpi=300)\n",
    "plt.title(name+\" 지역의 인구 구조\")\n",
    "plt.plot(home)\n",
    "plt.show()"
   ]
  },
  {
   "cell_type": "code",
   "execution_count": 721,
   "metadata": {},
   "outputs": [
    {
     "name": "stdout",
     "output_type": "stream",
     "text": [
      "인구 구조가 알고 싶은 지역의 이름(읍면동 단위)을 입력해주세요 :신도림동\n"
     ]
    }
   ],
   "source": [
    "f = open('age.csv')\n",
    "data = csv.reader(f)\n",
    "next(data)\n",
    "name = input('인구 구조가 알고 싶은 지역의 이름(읍면동 단위)을 입력해주세요 :')\n",
    "data = list(data)\n",
    "\n",
    "min=1\n",
    "result_name = ''\n",
    "result = 0\n",
    "\n",
    "for row in data:\n",
    "    if name in row[0]:\n",
    "        home = np.array(row[3:],dtype=int)/int(row[2])\n",
    "\n",
    "for row in data:\n",
    "    away = np.array(row[3:],dtype=int)/int(row[2])\n",
    "    s = np.sum((home-away)**2)\n",
    "    if s<min and name not in row[0]:\n",
    "        min=s\n",
    "        result_name = row[0]\n",
    "        result = away\n",
    "        \n",
    "f.close()"
   ]
  },
  {
   "cell_type": "code",
   "execution_count": 722,
   "metadata": {},
   "outputs": [
    {
     "data": {
      "image/png": "[encoded data removed]",
      "text/plain": [
       "<Figure size 3000x1500 with 1 Axes>"
      ]
     },
     "metadata": {},
     "output_type": "display_data"
    }
   ],
   "source": [
    "plt.style.use('ggplot')\n",
    "plt.figure(figsize=(10,5),dpi=300)\n",
    "plt.rc('font',family='Malgun Gothic')\n",
    "plt.title(name+\" 지역과 가장 비슷한 인구 구조를 가진 지역\")\n",
    "plt.plot(home,label=name)\n",
    "plt.plot(result,label=result_name)\n",
    "plt.legend()\n",
    "plt.show()"
   ]
  },
  {
   "cell_type": "code",
   "execution_count": null,
   "metadata": {},
   "outputs": [],
   "source": []
  }
 ],
 "metadata": {
  "kernelspec": {
   "display_name": "Python 3",
   "language": "python",
   "name": "python3"
  },
  "language_info": {
   "codemirror_mode": {
    "name": "ipython",
    "version": 3
   },
   "file_extension": ".py",
   "mimetype": "text/x-python",
   "name": "python",
   "nbconvert_exporter": "python",
   "pygments_lexer": "ipython3",
   "version": "3.8.5"
  }
 },
 "nbformat": 4,
 "nbformat_minor": 4
}
