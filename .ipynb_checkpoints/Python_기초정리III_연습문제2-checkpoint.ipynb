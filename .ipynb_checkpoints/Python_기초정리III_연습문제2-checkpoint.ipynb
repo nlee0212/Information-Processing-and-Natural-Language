{
 "cells": [
  {
   "cell_type": "code",
   "execution_count": 6,
   "id": "stretch-heath",
   "metadata": {},
   "outputs": [
    {
     "data": {
      "text/plain": [
       "'\\napple 오렌지(Orange) Cherry\\n토마토(TOMATO) 1/3 kg'"
      ]
     },
     "execution_count": 6,
     "metadata": {},
     "output_type": "execute_result"
    }
   ],
   "source": [
    "a = '''\n",
    "apple 오렌지(Orange) Cherry\n",
    "토마토(TOMATO) 1/3 kg'''\n",
    "a"
   ]
  },
  {
   "cell_type": "code",
   "execution_count": 2,
   "id": "funky-secondary",
   "metadata": {},
   "outputs": [],
   "source": [
    "\"\"\"출력 결과 맞추기\"\"\"\n",
    "# a.splitlines()\n",
    "## ['','apple 오렌지(Orange) Cherry','토마토(TOMATO) 1/3 kg']\n",
    "\n",
    "# a.splitlines(True)\n",
    "## ['','\\n','apple 오렌지(Orange) Cherry','\\n','토마토(TOMATO) 1/3 kg'] (X)\n",
    "## ['\\n','apple 오렌지(Orange) Cherry\\n','토마토(TOMATO) 1/3 kg']\n",
    "\n",
    "# a.partition('\\n')\n",
    "## ('','\\n','apple 오렌지(Orange) Cherry\\n토마토(TOMATO) 1/3 kg')\n",
    "\n",
    "\"\"\"코드 맞추기\"\"\"\n",
    "\n",
    "# re.match(___________, a).groups()\n",
    "## ('apple 오렌지(Orange) Cherry',)\n",
    "\n",
    "# re.match(_______, a).groups()\n",
    "## ('apple 오렌지(Orange) Cherry','토마토(TOMATO) 1/3 kg')\n",
    "\n",
    "# re.match(___________________________, a).groups()\n",
    "## ('Orange', 'TOMATO')\n",
    "\n",
    "import re"
   ]
  },
  {
   "cell_type": "code",
   "execution_count": 7,
   "id": "female-colleague",
   "metadata": {},
   "outputs": [
    {
     "data": {
      "text/plain": [
       "['', 'apple 오렌지(Orange) Cherry', '토마토(TOMATO) 1/3 kg']"
      ]
     },
     "execution_count": 7,
     "metadata": {},
     "output_type": "execute_result"
    }
   ],
   "source": [
    "a.splitlines()"
   ]
  },
  {
   "cell_type": "code",
   "execution_count": 8,
   "id": "human-superior",
   "metadata": {},
   "outputs": [
    {
     "data": {
      "text/plain": [
       "['\\n', 'apple 오렌지(Orange) Cherry\\n', '토마토(TOMATO) 1/3 kg']"
      ]
     },
     "execution_count": 8,
     "metadata": {},
     "output_type": "execute_result"
    }
   ],
   "source": [
    "a.splitlines(True)"
   ]
  },
  {
   "cell_type": "code",
   "execution_count": 9,
   "id": "durable-people",
   "metadata": {},
   "outputs": [
    {
     "data": {
      "text/plain": [
       "('', '\\n', 'apple 오렌지(Orange) Cherry\\n토마토(TOMATO) 1/3 kg')"
      ]
     },
     "execution_count": 9,
     "metadata": {},
     "output_type": "execute_result"
    }
   ],
   "source": [
    "a.partition('\\n')"
   ]
  },
  {
   "cell_type": "code",
   "execution_count": 16,
   "id": "protecting-repeat",
   "metadata": {},
   "outputs": [
    {
     "data": {
      "text/plain": [
       "('apple 오렌지(Orange) Cherry',)"
      ]
     },
     "execution_count": 16,
     "metadata": {},
     "output_type": "execute_result"
    }
   ],
   "source": [
    "re.match('\\n(.+)',a).groups()"
   ]
  },
  {
   "cell_type": "code",
   "execution_count": 30,
   "id": "supposed-printer",
   "metadata": {},
   "outputs": [
    {
     "data": {
      "text/plain": [
       "('apple 오렌지(Orange) Cherry', '토마토(TOMATO) 1/3 kg')"
      ]
     },
     "execution_count": 30,
     "metadata": {},
     "output_type": "execute_result"
    }
   ],
   "source": [
    "re.match('\\n(.+)\\n(.+)',a).groups()"
   ]
  },
  {
   "cell_type": "code",
   "execution_count": 31,
   "id": "reduced-milan",
   "metadata": {},
   "outputs": [
    {
     "data": {
      "text/plain": [
       "('Orange', 'TOMATO')"
      ]
     },
     "execution_count": 31,
     "metadata": {},
     "output_type": "execute_result"
    }
   ],
   "source": [
    "re.match('\\D+[(](\\w+)[)]\\D+[(](\\w+)', a).groups()"
   ]
  },
  {
   "cell_type": "code",
   "execution_count": null,
   "id": "hindu-february",
   "metadata": {},
   "outputs": [],
   "source": []
  }
 ],
 "metadata": {
  "kernelspec": {
   "display_name": "Python 3",
   "language": "python",
   "name": "python3"
  },
  "language_info": {
   "codemirror_mode": {
    "name": "ipython",
    "version": 3
   },
   "file_extension": ".py",
   "mimetype": "text/x-python",
   "name": "python",
   "nbconvert_exporter": "python",
   "pygments_lexer": "ipython3",
   "version": "3.8.8"
  }
 },
 "nbformat": 4,
 "nbformat_minor": 5
}
