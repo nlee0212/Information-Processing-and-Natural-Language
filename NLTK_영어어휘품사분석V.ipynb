{
 "cells": [
  {
   "cell_type": "markdown",
   "metadata": {},
   "source": [
    "# Unigram Tagger"
   ]
  },
  {
   "cell_type": "code",
   "execution_count": 1,
   "metadata": {},
   "outputs": [],
   "source": [
    "import nltk\n",
    "from nltk.corpus import brown\n",
    "\n",
    "brown_tagged_sents = brown.tagged_sents(categories='news')\n",
    "brown_sents = brown.sents(categories='news')\n",
    "unigram_tagger = nltk.UnigramTagger(brown_tagged_sents)"
   ]
  },
  {
   "cell_type": "code",
   "execution_count": 2,
   "metadata": {},
   "outputs": [
    {
     "name": "stdout",
     "output_type": "stream",
     "text": [
      "[('Various', 'JJ'), ('of', 'IN'), ('the', 'AT'), ('apartments', 'NNS'), ('are', 'BER'), ('of', 'IN'), ('the', 'AT'), ('terrace', 'NN'), ('type', 'NN'), (',', ','), ('being', 'BEG'), ('on', 'IN'), ('the', 'AT'), ('ground', 'NN'), ('floor', 'NN'), ('so', 'QL'), ('that', 'CS'), ('entrance', 'NN'), ('is', 'BEZ'), ('direct', 'JJ'), ('.', '.')]\n"
     ]
    }
   ],
   "source": [
    "print(unigram_tagger.tag(brown_sents[2007]))"
   ]
  },
  {
   "cell_type": "code",
   "execution_count": 3,
   "metadata": {},
   "outputs": [
    {
     "data": {
      "text/plain": [
       "0.9349006503968017"
      ]
     },
     "execution_count": 3,
     "metadata": {},
     "output_type": "execute_result"
    }
   ],
   "source": [
    "unigram_tagger.evaluate(brown_tagged_sents)"
   ]
  },
  {
   "cell_type": "markdown",
   "metadata": {},
   "source": [
    "# training data vs test data"
   ]
  },
  {
   "cell_type": "code",
   "execution_count": 4,
   "metadata": {},
   "outputs": [
    {
     "data": {
      "text/plain": [
       "4160"
      ]
     },
     "execution_count": 4,
     "metadata": {},
     "output_type": "execute_result"
    }
   ],
   "source": [
    "size = int(len(brown_tagged_sents) * 0.9)\n",
    "size"
   ]
  },
  {
   "cell_type": "code",
   "execution_count": 5,
   "metadata": {},
   "outputs": [],
   "source": [
    "train_sents = brown_tagged_sents[:size]\n",
    "test_sents = brown_tagged_sents[size:]"
   ]
  },
  {
   "cell_type": "code",
   "execution_count": 6,
   "metadata": {},
   "outputs": [
    {
     "data": {
      "text/plain": [
       "0.8121200039868434"
      ]
     },
     "execution_count": 6,
     "metadata": {},
     "output_type": "execute_result"
    }
   ],
   "source": [
    "unigram_tagger = nltk.UnigramTagger(train_sents)\n",
    "unigram_tagger.evaluate(test_sents)"
   ]
  },
  {
   "cell_type": "markdown",
   "metadata": {},
   "source": [
    "# N-gram Tagger"
   ]
  },
  {
   "cell_type": "code",
   "execution_count": 7,
   "metadata": {
    "scrolled": false
   },
   "outputs": [
    {
     "name": "stdout",
     "output_type": "stream",
     "text": [
      "[('The', 'AT'), ('population', 'NN'), ('of', 'IN'), ('the', 'AT'), ('Congo', 'NP'), ('is', 'BEZ'), ('13.5', None), ('million', 'CD'), (',', ','), ('divided', 'VBN'), ('into', 'IN'), ('at', 'IN'), ('least', 'AP'), ('seven', 'CD'), ('major', 'JJ'), ('``', '``'), ('culture', None), ('clusters', 'NNS'), (\"''\", \"''\"), ('and', 'CC'), ('innumerable', None), ('tribes', None), ('speaking', 'VBG'), ('400', 'CD'), ('separate', 'JJ'), ('dialects', None), ('.', '.')]\n"
     ]
    }
   ],
   "source": [
    "unseen_sent = brown_sents[4203]\n",
    "print(unigram_tagger.tag(unseen_sent))"
   ]
  },
  {
   "cell_type": "code",
   "execution_count": 8,
   "metadata": {},
   "outputs": [
    {
     "name": "stdout",
     "output_type": "stream",
     "text": [
      "[('The', 'AT'), ('population', 'NN'), ('of', 'IN'), ('the', 'AT'), ('Congo', 'NP'), ('is', 'BEZ'), ('13.5', None), ('million', None), (',', None), ('divided', None), ('into', None), ('at', None), ('least', None), ('seven', None), ('major', None), ('``', None), ('culture', None), ('clusters', None), (\"''\", None), ('and', None), ('innumerable', None), ('tribes', None), ('speaking', None), ('400', None), ('separate', None), ('dialects', None), ('.', None)]\n"
     ]
    }
   ],
   "source": [
    "bigram_tagger = nltk.BigramTagger(train_sents)\n",
    "print(bigram_tagger.tag(unseen_sent))"
   ]
  },
  {
   "cell_type": "code",
   "execution_count": 9,
   "metadata": {},
   "outputs": [
    {
     "name": "stdout",
     "output_type": "stream",
     "text": [
      "[('The', 'AT'), ('population', None), ('of', None), ('the', None), ('Congo', None), ('is', None), ('13.5', None), ('million', None), (',', None), ('divided', None), ('into', None), ('at', None), ('least', None), ('seven', None), ('major', None), ('``', None), ('culture', None), ('clusters', None), (\"''\", None), ('and', None), ('innumerable', None), ('tribes', None), ('speaking', None), ('400', None), ('separate', None), ('dialects', None), ('.', None)]\n"
     ]
    }
   ],
   "source": [
    "trigram_tagger = nltk.TrigramTagger(train_sents)\n",
    "print(trigram_tagger.tag(unseen_sent))"
   ]
  },
  {
   "cell_type": "code",
   "execution_count": 10,
   "metadata": {},
   "outputs": [
    {
     "data": {
      "text/plain": [
       "0.8121200039868434"
      ]
     },
     "execution_count": 10,
     "metadata": {},
     "output_type": "execute_result"
    }
   ],
   "source": [
    "unigram_tagger.evaluate(test_sents)"
   ]
  },
  {
   "cell_type": "code",
   "execution_count": 11,
   "metadata": {},
   "outputs": [
    {
     "data": {
      "text/plain": [
       "0.10206319146815508"
      ]
     },
     "execution_count": 11,
     "metadata": {},
     "output_type": "execute_result"
    }
   ],
   "source": [
    "bigram_tagger.evaluate(test_sents)"
   ]
  },
  {
   "cell_type": "code",
   "execution_count": 12,
   "metadata": {},
   "outputs": [
    {
     "data": {
      "text/plain": [
       "0.0626931127279976"
      ]
     },
     "execution_count": 12,
     "metadata": {},
     "output_type": "execute_result"
    }
   ],
   "source": [
    "trigram_tagger.evaluate(test_sents)"
   ]
  },
  {
   "cell_type": "markdown",
   "metadata": {},
   "source": [
    "# Combining Tagger"
   ]
  },
  {
   "cell_type": "code",
   "execution_count": 13,
   "metadata": {},
   "outputs": [
    {
     "data": {
      "text/plain": [
       "0.8452108043456593"
      ]
     },
     "execution_count": 13,
     "metadata": {},
     "output_type": "execute_result"
    }
   ],
   "source": [
    "t0 = nltk.DefaultTagger('NN')\n",
    "t1 = nltk.UnigramTagger(train_sents,backoff=t0)\n",
    "t2 = nltk.BigramTagger(train_sents,backoff=t1)\n",
    "t2.evaluate(test_sents)"
   ]
  },
  {
   "cell_type": "code",
   "execution_count": 14,
   "metadata": {},
   "outputs": [
    {
     "data": {
      "text/plain": [
       "0.8121200039868434"
      ]
     },
     "execution_count": 14,
     "metadata": {},
     "output_type": "execute_result"
    }
   ],
   "source": [
    "unigram_tagger.evaluate(test_sents)"
   ]
  },
  {
   "cell_type": "code",
   "execution_count": 15,
   "metadata": {},
   "outputs": [
    {
     "data": {
      "text/plain": [
       "0.843317053722715"
      ]
     },
     "execution_count": 15,
     "metadata": {},
     "output_type": "execute_result"
    }
   ],
   "source": [
    "t3 = nltk.TrigramTagger(train_sents,backoff=t2)\n",
    "t3.evaluate(test_sents)"
   ]
  },
  {
   "cell_type": "code",
   "execution_count": 16,
   "metadata": {},
   "outputs": [
    {
     "data": {
      "text/plain": [
       "0.8437157380643875"
      ]
     },
     "execution_count": 16,
     "metadata": {},
     "output_type": "execute_result"
    }
   ],
   "source": [
    "t3 = nltk.TrigramTagger(train_sents,backoff=t2,cutoff=1)\n",
    "t3.evaluate(test_sents)"
   ]
  },
  {
   "cell_type": "code",
   "execution_count": 17,
   "metadata": {},
   "outputs": [
    {
     "data": {
      "text/plain": [
       "0.84411442240606"
      ]
     },
     "execution_count": 17,
     "metadata": {},
     "output_type": "execute_result"
    }
   ],
   "source": [
    "t3 = nltk.TrigramTagger(train_sents,backoff=t2,cutoff=2)\n",
    "t3.evaluate(test_sents)"
   ]
  },
  {
   "cell_type": "code",
   "execution_count": 18,
   "metadata": {},
   "outputs": [
    {
     "data": {
      "text/plain": [
       "0.9130466670857693"
      ]
     },
     "execution_count": 18,
     "metadata": {},
     "output_type": "execute_result"
    }
   ],
   "source": [
    "brown_tagged_sents = brown.tagged_sents()\n",
    "size = int(len(brown_tagged_sents)*0.9)\n",
    "train_sents = brown_tagged_sents[:size]\n",
    "test_sents = brown_tagged_sents[size:]\n",
    "t0 = nltk.DefaultTagger('NN')\n",
    "t1 = nltk.UnigramTagger(train_sents,backoff=t0)\n",
    "t2 = nltk.BigramTagger(train_sents,backoff=t1)\n",
    "t3 = nltk.TrigramTagger(train_sents,backoff=t2)\n",
    "t3.evaluate(test_sents)"
   ]
  },
  {
   "cell_type": "code",
   "execution_count": 19,
   "metadata": {},
   "outputs": [
    {
     "data": {
      "text/plain": [
       "0.9125751765470128"
      ]
     },
     "execution_count": 19,
     "metadata": {},
     "output_type": "execute_result"
    }
   ],
   "source": [
    "t2.evaluate(test_sents)"
   ]
  },
  {
   "cell_type": "code",
   "execution_count": 20,
   "metadata": {},
   "outputs": [
    {
     "data": {
      "text/plain": [
       "0.8912742817627459"
      ]
     },
     "execution_count": 20,
     "metadata": {},
     "output_type": "execute_result"
    }
   ],
   "source": [
    "t1.evaluate(test_sents)"
   ]
  },
  {
   "cell_type": "code",
   "execution_count": 21,
   "metadata": {},
   "outputs": [
    {
     "data": {
      "text/plain": [
       "51606"
      ]
     },
     "execution_count": 21,
     "metadata": {},
     "output_type": "execute_result"
    }
   ],
   "source": [
    "len(train_sents)"
   ]
  },
  {
   "cell_type": "code",
   "execution_count": 22,
   "metadata": {},
   "outputs": [
    {
     "data": {
      "text/plain": [
       "0.9136648435699168"
      ]
     },
     "execution_count": 22,
     "metadata": {},
     "output_type": "execute_result"
    }
   ],
   "source": [
    "t3 = nltk.TrigramTagger(train_sents,backoff=t2,cutoff=1)\n",
    "t3.evaluate(test_sents)"
   ]
  },
  {
   "cell_type": "code",
   "execution_count": 23,
   "metadata": {},
   "outputs": [
    {
     "data": {
      "text/plain": [
       "0.913780096812724"
      ]
     },
     "execution_count": 23,
     "metadata": {},
     "output_type": "execute_result"
    }
   ],
   "source": [
    "t3 = nltk.TrigramTagger(train_sents,backoff=t2,cutoff=2)\n",
    "t3.evaluate(test_sents)"
   ]
  },
  {
   "cell_type": "code",
   "execution_count": 24,
   "metadata": {},
   "outputs": [
    {
     "data": {
      "text/plain": [
       "0.9137172314075565"
      ]
     },
     "execution_count": 24,
     "metadata": {},
     "output_type": "execute_result"
    }
   ],
   "source": [
    "t3 = nltk.TrigramTagger(train_sents,backoff=t2,cutoff=3)\n",
    "t3.evaluate(test_sents)"
   ]
  },
  {
   "cell_type": "code",
   "execution_count": 25,
   "metadata": {},
   "outputs": [
    {
     "data": {
      "text/plain": [
       "0.9136543660023889"
      ]
     },
     "execution_count": 25,
     "metadata": {},
     "output_type": "execute_result"
    }
   ],
   "source": [
    "t3 = nltk.TrigramTagger(train_sents,backoff=t2,cutoff=4)\n",
    "t3.evaluate(test_sents)"
   ]
  },
  {
   "cell_type": "markdown",
   "metadata": {},
   "source": [
    "# 태거 저장하기 & 불러오기"
   ]
  },
  {
   "cell_type": "code",
   "execution_count": 26,
   "metadata": {},
   "outputs": [],
   "source": [
    "import pickle"
   ]
  },
  {
   "cell_type": "code",
   "execution_count": 27,
   "metadata": {},
   "outputs": [
    {
     "data": {
      "text/plain": [
       "0.9136543660023889"
      ]
     },
     "execution_count": 27,
     "metadata": {},
     "output_type": "execute_result"
    }
   ],
   "source": [
    "pickle.dump(t3,open('t3.pkl','wb'))\n",
    "my_tagger = pickle.load(open('t3.pkl','rb'))\n",
    "my_tagger.evaluate(test_sents)"
   ]
  },
  {
   "cell_type": "code",
   "execution_count": 28,
   "metadata": {},
   "outputs": [],
   "source": [
    "text = \"\"\"The board's action shows what free enterprise\n",
    "is up against in our complex maze of regulatory laws.\"\"\"\n",
    "tokens = nltk.word_tokenize(text)"
   ]
  },
  {
   "cell_type": "code",
   "execution_count": 29,
   "metadata": {},
   "outputs": [
    {
     "name": "stdout",
     "output_type": "stream",
     "text": [
      "[('The', 'AT'), ('board', 'NN'), (\"'s\", 'NN'), ('action', 'NN'), ('shows', 'VBZ'), ('what', 'WDT'), ('free', 'JJ'), ('enterprise', 'NN'), ('is', 'BEZ'), ('up', 'RP'), ('against', 'IN'), ('in', 'IN'), ('our', 'PP$'), ('complex', 'JJ'), ('maze', 'NN'), ('of', 'IN'), ('regulatory', 'JJ'), ('laws', 'NNS'), ('.', '.')]\n"
     ]
    }
   ],
   "source": [
    "print(my_tagger.tag(tokens))"
   ]
  },
  {
   "cell_type": "markdown",
   "metadata": {},
   "source": [
    "# 사전 만들기"
   ]
  },
  {
   "cell_type": "code",
   "execution_count": 30,
   "metadata": {},
   "outputs": [
    {
     "name": "stdout",
     "output_type": "stream",
     "text": [
      "[('The', 'AT'), ('board', 'NN'), (\"'s\", 'NN'), ('action', 'NN'), ('shows', 'VBZ'), ('what', 'WDT'), ('free', 'JJ'), ('enterprise', 'NN'), ('is', 'BEZ'), ('up', 'RP'), ('against', 'IN'), ('in', 'IN'), ('our', 'PP$'), ('complex', 'JJ'), ('maze', 'NN'), ('of', 'IN'), ('regulatory', 'JJ'), ('laws', 'NNS'), ('.', '.')]\n"
     ]
    }
   ],
   "source": [
    "print(my_tagger.tag(tokens))"
   ]
  },
  {
   "cell_type": "code",
   "execution_count": 31,
   "metadata": {},
   "outputs": [],
   "source": [
    "pos = my_tagger.tag(tokens)"
   ]
  },
  {
   "cell_type": "code",
   "execution_count": 32,
   "metadata": {},
   "outputs": [
    {
     "name": "stdout",
     "output_type": "stream",
     "text": [
      "[('The', 'AT'), ('board', 'NN'), (\"'s\", 'NN'), ('action', 'NN'), ('shows', 'VBZ'), ('what', 'WDT'), ('free', 'JJ'), ('enterprise', 'NN'), ('is', 'BEZ'), ('up', 'RP'), ('against', 'IN'), ('in', 'IN'), ('our', 'PP$'), ('complex', 'JJ'), ('maze', 'NN'), ('of', 'IN'), ('regulatory', 'JJ'), ('laws', 'NNS'), ('.', '.')]\n"
     ]
    }
   ],
   "source": [
    "print(pos)"
   ]
  },
  {
   "cell_type": "code",
   "execution_count": 33,
   "metadata": {},
   "outputs": [
    {
     "name": "stdout",
     "output_type": "stream",
     "text": [
      "{'The': 'AT', 'board': 'NN', \"'s\": 'NN', 'action': 'NN', 'shows': 'VBZ', 'what': 'WDT', 'free': 'JJ', 'enterprise': 'NN', 'is': 'BEZ', 'up': 'RP', 'against': 'IN', 'in': 'IN', 'our': 'PP$', 'complex': 'JJ', 'maze': 'NN', 'of': 'IN', 'regulatory': 'JJ', 'laws': 'NNS', '.': '.'}\n"
     ]
    }
   ],
   "source": [
    "print(dict(pos))"
   ]
  },
  {
   "cell_type": "markdown",
   "metadata": {},
   "source": [
    "# default dictionary"
   ]
  },
  {
   "cell_type": "code",
   "execution_count": 34,
   "metadata": {},
   "outputs": [
    {
     "data": {
      "text/plain": [
       "defaultdict(int, {})"
      ]
     },
     "execution_count": 34,
     "metadata": {},
     "output_type": "execute_result"
    }
   ],
   "source": [
    "from collections import defaultdict\n",
    "a = defaultdict(int)\n",
    "a"
   ]
  },
  {
   "cell_type": "code",
   "execution_count": 35,
   "metadata": {},
   "outputs": [
    {
     "data": {
      "text/plain": [
       "0"
      ]
     },
     "execution_count": 35,
     "metadata": {},
     "output_type": "execute_result"
    }
   ],
   "source": [
    "a['idea']"
   ]
  },
  {
   "cell_type": "code",
   "execution_count": 36,
   "metadata": {},
   "outputs": [
    {
     "data": {
      "text/plain": [
       "defaultdict(int, {'idea': 0})"
      ]
     },
     "execution_count": 36,
     "metadata": {},
     "output_type": "execute_result"
    }
   ],
   "source": [
    "a"
   ]
  },
  {
   "cell_type": "code",
   "execution_count": 37,
   "metadata": {},
   "outputs": [
    {
     "data": {
      "text/plain": [
       "0"
      ]
     },
     "execution_count": 37,
     "metadata": {},
     "output_type": "execute_result"
    }
   ],
   "source": [
    "a['ideas']"
   ]
  },
  {
   "cell_type": "code",
   "execution_count": 38,
   "metadata": {},
   "outputs": [
    {
     "data": {
      "text/plain": [
       "defaultdict(int, {'idea': 0, 'ideas': 0})"
      ]
     },
     "execution_count": 38,
     "metadata": {},
     "output_type": "execute_result"
    }
   ],
   "source": [
    "a"
   ]
  },
  {
   "cell_type": "code",
   "execution_count": 39,
   "metadata": {},
   "outputs": [
    {
     "data": {
      "text/plain": [
       "defaultdict(int, {'idea': 0, 'ideas': 0, 'colorless': 2})"
      ]
     },
     "execution_count": 39,
     "metadata": {},
     "output_type": "execute_result"
    }
   ],
   "source": [
    "a['colorless'] = 2\n",
    "a"
   ]
  },
  {
   "cell_type": "code",
   "execution_count": 40,
   "metadata": {},
   "outputs": [
    {
     "data": {
      "text/plain": [
       "defaultdict(list, {})"
      ]
     },
     "execution_count": 40,
     "metadata": {},
     "output_type": "execute_result"
    }
   ],
   "source": [
    "b = defaultdict(list)\n",
    "b"
   ]
  },
  {
   "cell_type": "code",
   "execution_count": 41,
   "metadata": {},
   "outputs": [
    {
     "data": {
      "text/plain": [
       "[]"
      ]
     },
     "execution_count": 41,
     "metadata": {},
     "output_type": "execute_result"
    }
   ],
   "source": [
    "b['ideas']"
   ]
  },
  {
   "cell_type": "code",
   "execution_count": 42,
   "metadata": {},
   "outputs": [
    {
     "data": {
      "text/plain": [
       "defaultdict(list, {'ideas': []})"
      ]
     },
     "execution_count": 42,
     "metadata": {},
     "output_type": "execute_result"
    }
   ],
   "source": [
    "b"
   ]
  },
  {
   "cell_type": "code",
   "execution_count": 43,
   "metadata": {},
   "outputs": [
    {
     "data": {
      "text/plain": [
       "defaultdict(list, {'ideas': [], 'sleep': ['NOUN', 'VERB']})"
      ]
     },
     "execution_count": 43,
     "metadata": {},
     "output_type": "execute_result"
    }
   ],
   "source": [
    "b['sleep'] = ['NOUN','VERB']\n",
    "b"
   ]
  },
  {
   "cell_type": "code",
   "execution_count": 44,
   "metadata": {},
   "outputs": [],
   "source": [
    "b['ideas'].append('NOUN')"
   ]
  },
  {
   "cell_type": "code",
   "execution_count": 45,
   "metadata": {},
   "outputs": [
    {
     "data": {
      "text/plain": [
       "defaultdict(list, {'ideas': ['NOUN'], 'sleep': ['NOUN', 'VERB']})"
      ]
     },
     "execution_count": 45,
     "metadata": {},
     "output_type": "execute_result"
    }
   ],
   "source": [
    "b"
   ]
  },
  {
   "cell_type": "code",
   "execution_count": 46,
   "metadata": {},
   "outputs": [
    {
     "data": {
      "text/plain": [
       "dict_items([('ideas', ['NOUN']), ('sleep', ['NOUN', 'VERB'])])"
      ]
     },
     "execution_count": 46,
     "metadata": {},
     "output_type": "execute_result"
    }
   ],
   "source": [
    "b.items()"
   ]
  },
  {
   "cell_type": "code",
   "execution_count": 47,
   "metadata": {},
   "outputs": [
    {
     "data": {
      "text/plain": [
       "defaultdict(<function __main__.<lambda>()>, {})"
      ]
     },
     "execution_count": 47,
     "metadata": {},
     "output_type": "execute_result"
    }
   ],
   "source": [
    "pos = defaultdict(lambda: 'NOUN')\n",
    "pos"
   ]
  },
  {
   "cell_type": "code",
   "execution_count": 48,
   "metadata": {},
   "outputs": [
    {
     "data": {
      "text/plain": [
       "'NOUN'"
      ]
     },
     "execution_count": 48,
     "metadata": {},
     "output_type": "execute_result"
    }
   ],
   "source": [
    "pos['blog']"
   ]
  },
  {
   "cell_type": "code",
   "execution_count": 49,
   "metadata": {},
   "outputs": [
    {
     "data": {
      "text/plain": [
       "defaultdict(<function __main__.<lambda>()>, {'blog': 'NOUN'})"
      ]
     },
     "execution_count": 49,
     "metadata": {},
     "output_type": "execute_result"
    }
   ],
   "source": [
    "pos"
   ]
  },
  {
   "cell_type": "code",
   "execution_count": 50,
   "metadata": {},
   "outputs": [
    {
     "data": {
      "text/plain": [
       "defaultdict(<function __main__.<lambda>()>,\n",
       "            {'blog': 'NOUN', 'ideas': ['NOUN'], 'sleep': ['NOUN', 'VERB']})"
      ]
     },
     "execution_count": 50,
     "metadata": {},
     "output_type": "execute_result"
    }
   ],
   "source": [
    "pos.update(b)\n",
    "pos"
   ]
  },
  {
   "cell_type": "markdown",
   "metadata": {},
   "source": [
    "# POS dictionary 만들기"
   ]
  },
  {
   "cell_type": "code",
   "execution_count": 51,
   "metadata": {},
   "outputs": [
    {
     "data": {
      "text/plain": [
       "[('the', 'DET'), (',', '.'), ('.', '.'), ('of', 'ADP'), ('and', 'CONJ')]"
      ]
     },
     "execution_count": 51,
     "metadata": {},
     "output_type": "execute_result"
    }
   ],
   "source": [
    "from collections import defaultdict\n",
    "from nltk.corpus import brown\n",
    "corpus = brown.tagged_words(categories='news',tagset='universal')\n",
    "v1000 = [wt for (wt,_) in nltk.FreqDist(corpus).most_common(1000)]\n",
    "v1000[:5]"
   ]
  },
  {
   "cell_type": "code",
   "execution_count": 52,
   "metadata": {},
   "outputs": [
    {
     "data": {
      "text/plain": [
       "collections.defaultdict"
      ]
     },
     "execution_count": 52,
     "metadata": {},
     "output_type": "execute_result"
    }
   ],
   "source": [
    "pos = defaultdict(lambda: 'NOUN')\n",
    "pos.update(dict(v1000))\n",
    "type(pos)"
   ]
  },
  {
   "cell_type": "code",
   "execution_count": 53,
   "metadata": {},
   "outputs": [
    {
     "data": {
      "text/plain": [
       "defaultdict(<function __main__.<lambda>()>,\n",
       "            {'the': 'DET',\n",
       "             ',': '.',\n",
       "             '.': '.',\n",
       "             'of': 'ADP',\n",
       "             'and': 'CONJ',\n",
       "             'a': 'DET',\n",
       "             'in': 'PRT',\n",
       "             'to': 'ADP',\n",
       "             'for': 'ADP',\n",
       "             'The': 'DET',\n",
       "             '``': '.',\n",
       "             'is': 'VERB',\n",
       "             'was': 'VERB',\n",
       "             \"''\": '.',\n",
       "             'on': 'PRT',\n",
       "             'at': 'ADP',\n",
       "             'that': 'DET',\n",
       "             'with': 'ADP',\n",
       "             'be': 'VERB',\n",
       "             'by': 'ADP',\n",
       "             'he': 'PRON',\n",
       "             'as': 'ADV',\n",
       "             'said': 'VERB',\n",
       "             'his': 'DET',\n",
       "             'will': 'VERB',\n",
       "             'it': 'PRON',\n",
       "             'from': 'ADP',\n",
       "             'are': 'VERB',\n",
       "             ';': '.',\n",
       "             'an': 'DET',\n",
       "             'has': 'VERB',\n",
       "             '--': '.',\n",
       "             'had': 'VERB',\n",
       "             'who': 'PRON',\n",
       "             'have': 'VERB',\n",
       "             'not': 'ADV',\n",
       "             'Mrs.': 'NOUN',\n",
       "             'were': 'VERB',\n",
       "             'this': 'DET',\n",
       "             'which': 'DET',\n",
       "             'would': 'VERB',\n",
       "             'their': 'DET',\n",
       "             'been': 'VERB',\n",
       "             'they': 'PRON',\n",
       "             'He': 'PRON',\n",
       "             'I': 'PRON',\n",
       "             'one': 'NUM',\n",
       "             'its': 'DET',\n",
       "             'or': 'CONJ',\n",
       "             ')': '.',\n",
       "             'Mr.': 'NOUN',\n",
       "             '(': '.',\n",
       "             'but': 'CONJ',\n",
       "             'two': 'NUM',\n",
       "             'last': 'ADJ',\n",
       "             'all': 'ADV',\n",
       "             'up': 'ADP',\n",
       "             'other': 'ADJ',\n",
       "             ':': '.',\n",
       "             'new': 'ADJ',\n",
       "             'than': 'ADP',\n",
       "             'year': 'NOUN',\n",
       "             'out': 'ADP',\n",
       "             'A': 'DET',\n",
       "             'when': 'ADV',\n",
       "             'first': 'ADV',\n",
       "             'home': 'NOUN',\n",
       "             'after': 'ADP',\n",
       "             'In': 'ADP',\n",
       "             'more': 'ADV',\n",
       "             'also': 'ADV',\n",
       "             'It': 'PRON',\n",
       "             'into': 'ADP',\n",
       "             'But': 'CONJ',\n",
       "             'there': 'ADV',\n",
       "             'made': 'VERB',\n",
       "             'no': 'DET',\n",
       "             'years': 'NOUN',\n",
       "             'time': 'NOUN',\n",
       "             'three': 'NUM',\n",
       "             'them': 'PRON',\n",
       "             'some': 'DET',\n",
       "             'can': 'VERB',\n",
       "             'him': 'PRON',\n",
       "             'New': 'ADJ',\n",
       "             'any': 'DET',\n",
       "             '?': '.',\n",
       "             'over': 'PRT',\n",
       "             'President': 'NOUN',\n",
       "             'state': 'NOUN',\n",
       "             'week': 'NOUN',\n",
       "             'could': 'VERB',\n",
       "             'about': 'ADV',\n",
       "             'under': 'ADP',\n",
       "             'her': 'PRON',\n",
       "             'before': 'ADP',\n",
       "             'against': 'ADP',\n",
       "             'we': 'PRON',\n",
       "             'what': 'DET',\n",
       "             'now': 'ADV',\n",
       "             'if': 'ADP',\n",
       "             'four': 'NUM',\n",
       "             'man': 'NOUN',\n",
       "             'House': 'NOUN',\n",
       "             'This': 'DET',\n",
       "             'members': 'NOUN',\n",
       "             'here': 'ADV',\n",
       "             'may': 'VERB',\n",
       "             'get': 'VERB',\n",
       "             'Kennedy': 'NOUN',\n",
       "             'program': 'NOUN',\n",
       "             'John': 'NOUN',\n",
       "             'school': 'NOUN',\n",
       "             'American': 'ADJ',\n",
       "             'night': 'NOUN',\n",
       "             'did': 'VERB',\n",
       "             'State': 'NOUN',\n",
       "             'do': 'VERB',\n",
       "             'They': 'PRON',\n",
       "             'per': 'ADP',\n",
       "             'each': 'DET',\n",
       "             'day': 'NOUN',\n",
       "             'many': 'ADJ',\n",
       "             'these': 'DET',\n",
       "             'should': 'VERB',\n",
       "             'since': 'ADP',\n",
       "             'meeting': 'NOUN',\n",
       "             'where': 'ADV',\n",
       "             'U.S.': 'NOUN',\n",
       "             'those': 'DET',\n",
       "             'United': 'VERB',\n",
       "             'both': 'DET',\n",
       "             'being': 'VERB',\n",
       "             'then': 'ADV',\n",
       "             'yesterday': 'NOUN',\n",
       "             'our': 'DET',\n",
       "             'back': 'ADV',\n",
       "             'you': 'PRON',\n",
       "             'only': 'ADV',\n",
       "             'during': 'ADP',\n",
       "             'Monday': 'NOUN',\n",
       "             'told': 'VERB',\n",
       "             'There': 'PRT',\n",
       "             'president': 'NOUN',\n",
       "             'administration': 'NOUN',\n",
       "             'people': 'NOUN',\n",
       "             'York': 'NOUN',\n",
       "             'today': 'NOUN',\n",
       "             'government': 'NOUN',\n",
       "             'such': 'PRT',\n",
       "             'through': 'ADP',\n",
       "             'cent': 'NOUN',\n",
       "             'sales': 'NOUN',\n",
       "             'tax': 'NOUN',\n",
       "             'Sunday': 'NOUN',\n",
       "             'game': 'NOUN',\n",
       "             'car': 'NOUN',\n",
       "             'city': 'NOUN',\n",
       "             'must': 'VERB',\n",
       "             'off': 'ADP',\n",
       "             'Dallas': 'NOUN',\n",
       "             'without': 'ADP',\n",
       "             'take': 'VERB',\n",
       "             'Texas': 'NOUN',\n",
       "             'Washington': 'NOUN',\n",
       "             'even': 'ADV',\n",
       "             'took': 'VERB',\n",
       "             '1': 'NUM',\n",
       "             'system': 'NOUN',\n",
       "             'so': 'ADP',\n",
       "             'board': 'NOUN',\n",
       "             'between': 'ADP',\n",
       "             'men': 'NOUN',\n",
       "             'Jr.': 'NOUN',\n",
       "             'set': 'VERB',\n",
       "             'good': 'ADJ',\n",
       "             \"'\": '.',\n",
       "             'Miss': 'NOUN',\n",
       "             'Mantle': 'NOUN',\n",
       "             'million': 'NUM',\n",
       "             'work': 'VERB',\n",
       "             'most': 'ADJ',\n",
       "             'got': 'VERB',\n",
       "             'bill': 'NOUN',\n",
       "             'children': 'NOUN',\n",
       "             'jury': 'NOUN',\n",
       "             'City': 'NOUN',\n",
       "             'high': 'ADJ',\n",
       "             'plan': 'NOUN',\n",
       "             'Tuesday': 'NOUN',\n",
       "             'make': 'VERB',\n",
       "             'season': 'NOUN',\n",
       "             'J.': 'NOUN',\n",
       "             '1961': 'NUM',\n",
       "             'Dr.': 'NOUN',\n",
       "             'University': 'NOUN',\n",
       "             'business': 'NOUN',\n",
       "             'way': 'NOUN',\n",
       "             'St.': 'NOUN',\n",
       "             'months': 'NOUN',\n",
       "             'she': 'PRON',\n",
       "             'company': 'NOUN',\n",
       "             'Palmer': 'NOUN',\n",
       "             'Friday': 'NOUN',\n",
       "             'well': 'ADV',\n",
       "             'held': 'VERB',\n",
       "             'When': 'ADV',\n",
       "             'just': 'ADV',\n",
       "             'down': 'PRT',\n",
       "             'special': 'ADJ',\n",
       "             'five': 'NUM',\n",
       "             'family': 'NOUN',\n",
       "             'came': 'VERB',\n",
       "             'expected': 'VERB',\n",
       "             'go': 'VERB',\n",
       "             'because': 'ADP',\n",
       "             'National': 'ADJ',\n",
       "             'And': 'CONJ',\n",
       "             'problem': 'NOUN',\n",
       "             'own': 'ADJ',\n",
       "             'another': 'DET',\n",
       "             'area': 'NOUN',\n",
       "             'election': 'NOUN',\n",
       "             'law': 'NOUN',\n",
       "             'next': 'ADJ',\n",
       "             'committee': 'NOUN',\n",
       "             'W.': 'NOUN',\n",
       "             'see': 'VERB',\n",
       "             'days': 'NOUN',\n",
       "             'A.': 'NOUN',\n",
       "             'group': 'NOUN',\n",
       "             'big': 'ADJ',\n",
       "             'never': 'ADV',\n",
       "             'States': 'NOUN',\n",
       "             'Laos': 'NOUN',\n",
       "             'At': 'ADP',\n",
       "             '!': '.',\n",
       "             '1960': 'NUM',\n",
       "             'p.m.': 'ADV',\n",
       "             'Committee': 'NOUN',\n",
       "             'announced': 'VERB',\n",
       "             'James': 'NOUN',\n",
       "             'session': 'NOUN',\n",
       "             'however': 'ADV',\n",
       "             'given': 'VERB',\n",
       "             'Democratic': 'ADJ',\n",
       "             'too': 'ADV',\n",
       "             'went': 'VERB',\n",
       "             'schools': 'NOUN',\n",
       "             'called': 'VERB',\n",
       "             '10': 'NUM',\n",
       "             'service': 'NOUN',\n",
       "             'how': 'ADV',\n",
       "             'world': 'NOUN',\n",
       "             'S.': 'NOUN',\n",
       "             'might': 'VERB',\n",
       "             'William': 'NOUN',\n",
       "             'public': 'NOUN',\n",
       "             'March': 'NOUN',\n",
       "             'still': 'ADV',\n",
       "             'case': 'NOUN',\n",
       "             'ago': 'ADV',\n",
       "             'same': 'ADJ',\n",
       "             'Maris': 'NOUN',\n",
       "             'County': 'NOUN',\n",
       "             'federal': 'ADJ',\n",
       "             'wife': 'NOUN',\n",
       "             'chairman': 'NOUN',\n",
       "             'third': 'ADJ',\n",
       "             'while': 'ADP',\n",
       "             'young': 'ADJ',\n",
       "             'record': 'NOUN',\n",
       "             'member': 'NOUN',\n",
       "             'She': 'PRON',\n",
       "             'On': 'ADP',\n",
       "             'asked': 'VERB',\n",
       "             'party': 'NOUN',\n",
       "             'local': 'ADJ',\n",
       "             'several': 'ADJ',\n",
       "             'my': 'DET',\n",
       "             '&': 'CONJ',\n",
       "             'White': 'ADJ',\n",
       "             'much': 'ADV',\n",
       "             'began': 'VERB',\n",
       "             'received': 'VERB',\n",
       "             'added': 'VERB',\n",
       "             '2': 'NUM',\n",
       "             'E.': 'NOUN',\n",
       "             'As': 'ADP',\n",
       "             'later': 'ADV',\n",
       "             'annual': 'ADJ',\n",
       "             'team': 'NOUN',\n",
       "             'Saturday': 'NOUN',\n",
       "             'second': 'ADJ',\n",
       "             'ball': 'NOUN',\n",
       "             'interest': 'NOUN',\n",
       "             'number': 'NOUN',\n",
       "             'Senate': 'NOUN',\n",
       "             'give': 'VERB',\n",
       "             'ever': 'ADV',\n",
       "             'C.': 'NOUN',\n",
       "             'national': 'ADJ',\n",
       "             'month': 'NOUN',\n",
       "             'B.': 'NOUN',\n",
       "             'education': 'NOUN',\n",
       "             'police': 'NOUN',\n",
       "             'part': 'NOUN',\n",
       "             'again': 'ADV',\n",
       "             'come': 'VERB',\n",
       "             'equipment': 'NOUN',\n",
       "             'library': 'NOUN',\n",
       "             'Congo': 'NOUN',\n",
       "             'Player': 'NOUN',\n",
       "             'laws': 'NOUN',\n",
       "             'found': 'VERB',\n",
       "             'taken': 'VERB',\n",
       "             'director': 'NOUN',\n",
       "             'very': 'ADV',\n",
       "             'We': 'PRON',\n",
       "             'eight': 'NUM',\n",
       "             'few': 'ADJ',\n",
       "             'far': 'ADV',\n",
       "             'great': 'ADJ',\n",
       "             'industry': 'NOUN',\n",
       "             'play': 'VERB',\n",
       "             'runs': 'NOUN',\n",
       "             'hit': 'VERB',\n",
       "             'result': 'NOUN',\n",
       "             'money': 'NOUN',\n",
       "             'court': 'NOUN',\n",
       "             'His': 'DET',\n",
       "             'bonds': 'NOUN',\n",
       "             'If': 'ADP',\n",
       "             'foreign': 'ADJ',\n",
       "             'me': 'PRON',\n",
       "             'center': 'NOUN',\n",
       "             'club': 'NOUN',\n",
       "             'Judge': 'NOUN',\n",
       "             'possible': 'ADJ',\n",
       "             'funds': 'NOUN',\n",
       "             'Robert': 'NOUN',\n",
       "             'says': 'VERB',\n",
       "             'One': 'NUM',\n",
       "             'pay': 'VERB',\n",
       "             'reported': 'VERB',\n",
       "             'firm': 'NOUN',\n",
       "             'Co.': 'NOUN',\n",
       "             'North': 'ADJ',\n",
       "             'Soviet': 'NOUN',\n",
       "             'countries': 'NOUN',\n",
       "             'Communist': 'NOUN',\n",
       "             'know': 'VERB',\n",
       "             'until': 'ADP',\n",
       "             'university': 'NOUN',\n",
       "             'best': 'ADJ',\n",
       "             'political': 'ADJ',\n",
       "             'together': 'ADV',\n",
       "             'put': 'VERB',\n",
       "             'like': 'VERB',\n",
       "             'former': 'ADJ',\n",
       "             'staff': 'NOUN',\n",
       "             'Richard': 'NOUN',\n",
       "             'H.': 'NOUN',\n",
       "             'small': 'ADJ',\n",
       "             'think': 'VERB',\n",
       "             'May': 'NOUN',\n",
       "             'total': 'NOUN',\n",
       "             'Court': 'NOUN',\n",
       "             'major': 'ADJ',\n",
       "             'daughter': 'NOUN',\n",
       "             'county': 'NOUN',\n",
       "             'does': 'VERB',\n",
       "             '4': 'NUM',\n",
       "             'needed': 'VERB',\n",
       "             'For': 'ADP',\n",
       "             'Club': 'NOUN',\n",
       "             'That': 'DET',\n",
       "             'market': 'NOUN',\n",
       "             'fact': 'NOUN',\n",
       "             'L.': 'NOUN',\n",
       "             'issue': 'NOUN',\n",
       "             'every': 'DET',\n",
       "             'paid': 'VERB',\n",
       "             'long': 'ADV',\n",
       "             'little': 'ADJ',\n",
       "             'including': 'ADP',\n",
       "             'house': 'NOUN',\n",
       "             'series': 'NOUN',\n",
       "             'project': 'NOUN',\n",
       "             'large': 'ADJ',\n",
       "             'F.': 'NOUN',\n",
       "             'used': 'VERB',\n",
       "             'Republican': 'NOUN',\n",
       "             'weeks': 'NOUN',\n",
       "             'minutes': 'NOUN',\n",
       "             'Khrushchev': 'NOUN',\n",
       "             'Street': 'NOUN',\n",
       "             'away': 'ADV',\n",
       "             'won': 'VERB',\n",
       "             'among': 'ADP',\n",
       "             'provide': 'VERB',\n",
       "             'general': 'ADJ',\n",
       "             'office': 'NOUN',\n",
       "             'D.': 'NOUN',\n",
       "             'done': 'VERB',\n",
       "             'After': 'ADP',\n",
       "             'persons': 'NOUN',\n",
       "             'almost': 'ADV',\n",
       "             'decided': 'VERB',\n",
       "             'Bill': 'NOUN',\n",
       "             'able': 'ADJ',\n",
       "             'six': 'NUM',\n",
       "             '20': 'NUM',\n",
       "             'conference': 'NOUN',\n",
       "             'military': 'ADJ',\n",
       "             'country': 'NOUN',\n",
       "             'higher': 'ADJ',\n",
       "             'course': 'NOUN',\n",
       "             'collection': 'NOUN',\n",
       "             'top': 'ADJ',\n",
       "             'according': 'ADP',\n",
       "             'become': 'VERB',\n",
       "             'toward': 'ADP',\n",
       "             'old': 'ADJ',\n",
       "             'aid': 'NOUN',\n",
       "             'George': 'NOUN',\n",
       "             'League': 'NOUN',\n",
       "             '3': 'NUM',\n",
       "             'final': 'ADJ',\n",
       "             'effort': 'NOUN',\n",
       "             'say': 'VERB',\n",
       "             'statement': 'NOUN',\n",
       "             'field': 'NOUN',\n",
       "             'labor': 'NOUN',\n",
       "             'victory': 'NOUN',\n",
       "             'Portland': 'NOUN',\n",
       "             'dinner': 'NOUN',\n",
       "             'Yankees': 'NOUN',\n",
       "             'baseball': 'NOUN',\n",
       "             'Catholic': 'ADJ',\n",
       "             'son': 'NOUN',\n",
       "             'M.': 'NOUN',\n",
       "             'Wednesday': 'NOUN',\n",
       "             '8': 'NUM',\n",
       "             'making': 'VERB',\n",
       "             'support': 'NOUN',\n",
       "             'left': 'VERB',\n",
       "             'Charles': 'NOUN',\n",
       "             'Hughes': 'NOUN',\n",
       "             'Jones': 'NOUN',\n",
       "             'School': 'NOUN',\n",
       "             'San': 'NOUN',\n",
       "             'need': 'NOUN',\n",
       "             'hours': 'NOUN',\n",
       "             'meet': 'VERB',\n",
       "             'states': 'NOUN',\n",
       "             'going': 'VERB',\n",
       "             'leader': 'NOUN',\n",
       "             'policy': 'NOUN',\n",
       "             'gave': 'VERB',\n",
       "             'international': 'ADJ',\n",
       "             'efforts': 'NOUN',\n",
       "             'leaders': 'NOUN',\n",
       "             'whose': 'DET',\n",
       "             'U.': 'NOUN',\n",
       "             'With': 'ADP',\n",
       "             'Bob': 'NOUN',\n",
       "             'games': 'NOUN',\n",
       "             'yards': 'NOUN',\n",
       "             'Chicago': 'NOUN',\n",
       "             'libraries': 'NOUN',\n",
       "             'place': 'NOUN',\n",
       "             'fire': 'NOUN',\n",
       "             'Hospital': 'NOUN',\n",
       "             'present': 'ADJ',\n",
       "             'brought': 'VERB',\n",
       "             'vote': 'NOUN',\n",
       "             'resolution': 'NOUN',\n",
       "             'Congress': 'NOUN',\n",
       "             'himself': 'PRON',\n",
       "             'students': 'NOUN',\n",
       "             'real': 'ADJ',\n",
       "             '12': 'NUM',\n",
       "             'community': 'NOUN',\n",
       "             'trial': 'NOUN',\n",
       "             'tomorrow': 'NOUN',\n",
       "             'matter': 'NOUN',\n",
       "             'billion': 'NUM',\n",
       "             'along': 'ADV',\n",
       "             'Secretary': 'NOUN',\n",
       "             'period': 'NOUN',\n",
       "             '1959': 'NUM',\n",
       "             'income': 'NOUN',\n",
       "             'early': 'ADV',\n",
       "             'Thomas': 'NOUN',\n",
       "             'Government': 'NOUN',\n",
       "             'union': 'NOUN',\n",
       "             'Smith': 'NOUN',\n",
       "             'late': 'ADJ',\n",
       "             'farm': 'NOUN',\n",
       "             'British': 'ADJ',\n",
       "             'anti-trust': 'ADJ',\n",
       "             'recent': 'ADJ',\n",
       "             'Department': 'NOUN',\n",
       "             'became': 'VERB',\n",
       "             'wanted': 'VERB',\n",
       "             'action': 'NOUN',\n",
       "             '18': 'NUM',\n",
       "             'Thursday': 'NOUN',\n",
       "             'April': 'NOUN',\n",
       "             'history': 'NOUN',\n",
       "             'College': 'NOUN',\n",
       "             'involved': 'VERB',\n",
       "             'line': 'NOUN',\n",
       "             'war': 'NOUN',\n",
       "             'started': 'VERB',\n",
       "             '15': 'NUM',\n",
       "             'run': 'VERB',\n",
       "             'playing': 'VERB',\n",
       "             'machinery': 'NOUN',\n",
       "             'Service': 'NOUN',\n",
       "             'stock': 'NOUN',\n",
       "             'Belgians': 'NOUN',\n",
       "             'Legislature': 'NOUN',\n",
       "             'prices': 'NOUN',\n",
       "             'council': 'NOUN',\n",
       "             'race': 'NOUN',\n",
       "             'afternoon': 'NOUN',\n",
       "             '1958': 'NUM',\n",
       "             'probably': 'ADV',\n",
       "             'coming': 'VERB',\n",
       "             'report': 'NOUN',\n",
       "             'R.': 'NOUN',\n",
       "             'Frank': 'NOUN',\n",
       "             '30': 'NUM',\n",
       "             'problems': 'NOUN',\n",
       "             'themselves': 'PRON',\n",
       "             'What': 'DET',\n",
       "             'hospital': 'NOUN',\n",
       "             'power': 'NOUN',\n",
       "             'Hotel': 'NOUN',\n",
       "             'private': 'ADJ',\n",
       "             'Premier': 'NOUN',\n",
       "             'played': 'VERB',\n",
       "             'show': 'VERB',\n",
       "             'shares': 'NOUN',\n",
       "             'end': 'NOUN',\n",
       "             'proposed': 'VERB',\n",
       "             'services': 'NOUN',\n",
       "             'Association': 'NOUN',\n",
       "             'medical': 'ADJ',\n",
       "             'Henry': 'NOUN',\n",
       "             'Georgia': 'NOUN',\n",
       "             'Sen.': 'NOUN',\n",
       "             'whether': 'ADP',\n",
       "             'passed': 'VERB',\n",
       "             'P.': 'NOUN',\n",
       "             'certain': 'ADJ',\n",
       "             'companies': 'NOUN',\n",
       "             'question': 'NOUN',\n",
       "             \"I'm\": 'PRT',\n",
       "             'kind': 'NOUN',\n",
       "             'All': 'PRT',\n",
       "             'college': 'NOUN',\n",
       "             'least': 'ADJ',\n",
       "             'upon': 'ADP',\n",
       "             'cases': 'NOUN',\n",
       "             'defense': 'NOUN',\n",
       "             'Some': 'DET',\n",
       "             'indicated': 'VERB',\n",
       "             'nine': 'NUM',\n",
       "             'use': 'NOUN',\n",
       "             '11': 'NUM',\n",
       "             'cars': 'NOUN',\n",
       "             'control': 'NOUN',\n",
       "             'headquarters': 'NOUN',\n",
       "             'point': 'NOUN',\n",
       "             'Joseph': 'NOUN',\n",
       "             'officers': 'NOUN',\n",
       "             'times': 'NOUN',\n",
       "             'right': 'ADJ',\n",
       "             'town': 'NOUN',\n",
       "             'necessary': 'ADJ',\n",
       "             'bring': 'VERB',\n",
       "             '7': 'NUM',\n",
       "             'G.': 'NOUN',\n",
       "             'single': 'ADJ',\n",
       "             'front': 'NOUN',\n",
       "             'reason': 'NOUN',\n",
       "             'Jack': 'NOUN',\n",
       "             'plane': 'NOUN',\n",
       "             'Her': 'DET',\n",
       "             'Kowalski': 'NOUN',\n",
       "             'evidence': 'NOUN',\n",
       "             'future': 'NOUN',\n",
       "             'costs': 'NOUN',\n",
       "             'Mayor': 'NOUN',\n",
       "             'attorney': 'NOUN',\n",
       "             'candidate': 'NOUN',\n",
       "             'getting': 'VERB',\n",
       "             'earlier': 'ADV',\n",
       "             'similar': 'ADJ',\n",
       "             'Board': 'NOUN',\n",
       "             'saw': 'VERB',\n",
       "             'order': 'NOUN',\n",
       "             'led': 'VERB',\n",
       "             'help': 'NOUN',\n",
       "             'attend': 'VERB',\n",
       "             'district': 'NOUN',\n",
       "             'Two': 'NUM',\n",
       "             '22': 'NUM',\n",
       "             'development': 'NOUN',\n",
       "             'attack': 'NOUN',\n",
       "             'Island': 'NOUN',\n",
       "             'served': 'VERB',\n",
       "             'Martin': 'NOUN',\n",
       "             'room': 'NOUN',\n",
       "             'social': 'ADJ',\n",
       "             'already': 'ADV',\n",
       "             'Both': 'DET',\n",
       "             'student': 'NOUN',\n",
       "             'lines': 'NOUN',\n",
       "             'hour': 'NOUN',\n",
       "             'better': 'ADJ',\n",
       "             'past': 'NOUN',\n",
       "             'Council': 'NOUN',\n",
       "             'once': 'ADV',\n",
       "             'South': 'ADJ',\n",
       "             'situation': 'NOUN',\n",
       "             '25': 'NUM',\n",
       "             'David': 'NOUN',\n",
       "             'Federal': 'ADJ',\n",
       "             'complete': 'ADJ',\n",
       "             'hand': 'NOUN',\n",
       "             'traffic': 'NOUN',\n",
       "             'position': 'NOUN',\n",
       "             'life': 'NOUN',\n",
       "             'Jim': 'NOUN',\n",
       "             'full': 'ADJ',\n",
       "             'Moscow': 'NOUN',\n",
       "             'start': 'NOUN',\n",
       "             'manager': 'NOUN',\n",
       "             'Avenue': 'NOUN',\n",
       "             'tried': 'VERB',\n",
       "             'boy': 'NOUN',\n",
       "             'a.m.': 'ADV',\n",
       "             'Church': 'NOUN',\n",
       "             'hole': 'NOUN',\n",
       "             'charge': 'NOUN',\n",
       "             'find': 'VERB',\n",
       "             'feel': 'VERB',\n",
       "             'property': 'NOUN',\n",
       "             '13': 'NUM',\n",
       "             'relations': 'NOUN',\n",
       "             'act': 'NOUN',\n",
       "             'plans': 'NOUN',\n",
       "             'church': 'NOUN',\n",
       "             'seven': 'NUM',\n",
       "             'enough': 'ADJ',\n",
       "             'designed': 'VERB',\n",
       "             '6': 'NUM',\n",
       "             'sent': 'VERB',\n",
       "             'bills': 'NOUN',\n",
       "             'kept': 'VERB',\n",
       "             'High': 'ADJ',\n",
       "             'working': 'VERB',\n",
       "             'rule': 'NOUN',\n",
       "             'demand': 'NOUN',\n",
       "             'organization': 'NOUN',\n",
       "             'side': 'NOUN',\n",
       "             'within': 'ADP',\n",
       "             'forces': 'NOUN',\n",
       "             'want': 'VERB',\n",
       "             'spirit': 'NOUN',\n",
       "             'head': 'NOUN',\n",
       "             'job': 'NOUN',\n",
       "             'religious': 'ADJ',\n",
       "             'turned': 'VERB',\n",
       "             'Mitchell': 'NOUN',\n",
       "             'women': 'NOUN',\n",
       "             'failed': 'VERB',\n",
       "             'feet': 'NOUN',\n",
       "             'To': 'PRT',\n",
       "             'Last': 'ADJ',\n",
       "             \"don't\": 'VERB',\n",
       "             'Then': 'ADV',\n",
       "             'association': 'NOUN',\n",
       "             'products': 'NOUN',\n",
       "             'Robinson': 'NOUN',\n",
       "             'around': 'ADP',\n",
       "             'white': 'ADJ',\n",
       "             'effective': 'ADJ',\n",
       "             'date': 'NOUN',\n",
       "             'receive': 'VERB',\n",
       "             'Jan.': 'NOUN',\n",
       "             'operation': 'NOUN',\n",
       "             'agreed': 'VERB',\n",
       "             'Republicans': 'NOUN',\n",
       "             'campaign': 'NOUN',\n",
       "             'battle': 'NOUN',\n",
       "             'increase': 'NOUN',\n",
       "             'research': 'NOUN',\n",
       "             'event': 'NOUN',\n",
       "             'Education': 'NOUN',\n",
       "             \"didn't\": 'VERB',\n",
       "             'soon': 'ADV',\n",
       "             'Austin': 'NOUN',\n",
       "             'dollars': 'NOUN',\n",
       "             'merely': 'ADV',\n",
       "             'firms': 'NOUN',\n",
       "             'cannot': 'VERB',\n",
       "             'declared': 'VERB',\n",
       "             'Houston': 'NOUN',\n",
       "             'heard': 'VERB',\n",
       "             'District': 'NOUN',\n",
       "             'taking': 'VERB',\n",
       "             'West': 'ADJ',\n",
       "             'felt': 'VERB',\n",
       "             'Other': 'ADJ',\n",
       "             'others': 'NOUN',\n",
       "             'care': 'NOUN',\n",
       "             'workers': 'NOUN',\n",
       "             'thing': 'NOUN',\n",
       "             'individual': 'ADJ',\n",
       "             'spring': 'NOUN',\n",
       "             'economic': 'ADJ',\n",
       "             'Eisenhower': 'NOUN',\n",
       "             'Among': 'ADP',\n",
       "             'Providence': 'NOUN',\n",
       "             'basis': 'NOUN',\n",
       "             'Central': 'ADJ',\n",
       "             'presented': 'VERB',\n",
       "             'charter': 'NOUN',\n",
       "             '100': 'NUM',\n",
       "             'Park': 'NOUN',\n",
       "             'central': 'ADJ',\n",
       "             'June': 'NOUN',\n",
       "             'Day': 'NOUN',\n",
       "             'example': 'NOUN',\n",
       "             'reached': 'VERB',\n",
       "             'continued': 'VERB',\n",
       "             'Kansas': 'NOUN',\n",
       "             'Oct.': 'NOUN',\n",
       "             'thought': 'VERB',\n",
       "             'Francisco': 'NOUN',\n",
       "             'golf': 'NOUN',\n",
       "             'faculty': 'NOUN',\n",
       "             'Fulton': 'NOUN',\n",
       "             'Atlanta': 'NOUN',\n",
       "             'often': 'ADV',\n",
       "             'generally': 'ADV',\n",
       "             'effect': 'NOUN',\n",
       "             'additional': 'ADJ',\n",
       "             'legislation': 'NOUN',\n",
       "             'Williams': 'NOUN',\n",
       "             'Aj': 'NOUN',\n",
       "             'construction': 'NOUN',\n",
       "             'word': 'NOUN',\n",
       "             'something': 'NOUN',\n",
       "             'scheduled': 'VERB',\n",
       "             '17': 'NUM',\n",
       "             'estimated': 'VERB',\n",
       "             'tell': 'VERB',\n",
       "             'proposal': 'NOUN',\n",
       "             'Louis': 'NOUN',\n",
       "             'football': 'NOUN',\n",
       "             'serious': 'ADJ',\n",
       "             'limited': 'VERB',\n",
       "             'July': 'NOUN',\n",
       "             'summer': 'NOUN',\n",
       "             'health': 'NOUN',\n",
       "             'base': 'NOUN',\n",
       "             \"can't\": 'VERB',\n",
       "             'floor': 'NOUN',\n",
       "             'particularly': 'ADV',\n",
       "             'nuclear': 'ADJ',\n",
       "             'Union': 'NOUN',\n",
       "             'half': 'PRT',\n",
       "             'civil': 'ADJ',\n",
       "             'level': 'NOUN',\n",
       "             'Mary': 'NOUN',\n",
       "             'parties': 'NOUN',\n",
       "             'league': 'NOUN',\n",
       "             'value': 'NOUN',\n",
       "             'nearly': 'ADV',\n",
       "             'Wagner': 'NOUN',\n",
       "             'conspiracy': 'NOUN',\n",
       "             'stage': 'NOUN',\n",
       "             'agreement': 'NOUN',\n",
       "             'Philadelphia': 'NOUN',\n",
       "             'AP': 'NOUN',\n",
       "             'father': 'NOUN',\n",
       "             'Los': 'NOUN',\n",
       "             'modern': 'ADJ',\n",
       "             '5': 'NUM',\n",
       "             'Ohio': 'NOUN',\n",
       "             '14': 'NUM',\n",
       "             'Arnold': 'NOUN',\n",
       "             'nor': 'CONJ',\n",
       "             'mother': 'NOUN',\n",
       "             'guests': 'NOUN',\n",
       "             'Christian': 'ADJ',\n",
       "             'struck': 'VERB',\n",
       "             'Emory': 'NOUN',\n",
       "             'coal': 'NOUN',\n",
       "             'primary': 'NOUN',\n",
       "             'term': 'NOUN',\n",
       "             'grand': 'ADJ',\n",
       "             'cost': 'NOUN',\n",
       "             'welfare': 'NOUN',\n",
       "             'counties': 'NOUN',\n",
       "             'fees': 'NOUN',\n",
       "             'couple': 'NOUN',\n",
       "             'strong': 'ADJ',\n",
       "             'governor': 'NOUN',\n",
       "             'Sam': 'NOUN',\n",
       "             'test': 'NOUN',\n",
       "             'read': 'VERB',\n",
       "             'Davis': 'NOUN',\n",
       "             'current': 'ADJ',\n",
       "             'means': 'NOUN',\n",
       "             'Howard': 'NOUN',\n",
       "             'population': 'NOUN',\n",
       "             \"year's\": 'NOUN',\n",
       "             'live': 'VERB',\n",
       "             'return': 'NOUN',\n",
       "             'your': 'DET',\n",
       "             'television': 'NOUN',\n",
       "             'returned': 'VERB',\n",
       "             'admitted': 'VERB',\n",
       "             'East': 'ADJ',\n",
       "             '9': 'NUM',\n",
       "             'security': 'NOUN',\n",
       "             'grants': 'NOUN',\n",
       "             'payroll': 'NOUN',\n",
       "             'following': 'VERB',\n",
       "             'cut': 'VERB',\n",
       "             'Each': 'DET',\n",
       "             'interested': 'VERB',\n",
       "             'Cuba': 'NOUN',\n",
       "             'Morton': 'NOUN',\n",
       "             'Boston': 'NOUN',\n",
       "             'groups': 'NOUN',\n",
       "             'America': 'NOUN',\n",
       "             'nation': 'NOUN',\n",
       "             'important': 'ADJ',\n",
       "             'having': 'VERB',\n",
       "             'theater': 'NOUN',\n",
       "             'developed': 'VERB',\n",
       "             'sold': 'VERB',\n",
       "             'luncheon': 'NOUN',\n",
       "             'really': 'ADV',\n",
       "             'explained': 'VERB',\n",
       "             'running': 'VERB',\n",
       "             'followed': 'VERB',\n",
       "             'fall': 'NOUN',\n",
       "             'open': 'ADJ',\n",
       "             'am': 'VERB',\n",
       "             'Thompson': 'NOUN',\n",
       "             \"It's\": 'PRT',\n",
       "             'Nations': 'NOUN',\n",
       "             'above': 'ADP',\n",
       "             'decision': 'NOUN',\n",
       "             'Hill': 'NOUN',\n",
       "             'headed': 'VERB',\n",
       "             'revenues': 'NOUN',\n",
       "             'Warren': 'NOUN',\n",
       "             'churches': 'NOUN',\n",
       "             'International': 'ADJ',\n",
       "             'Rev.': 'NOUN',\n",
       "             'verdict': 'NOUN',\n",
       "             'straight': 'ADJ',\n",
       "             'winning': 'VERB',\n",
       "             'news': 'NOUN',\n",
       "             'average': 'NOUN',\n",
       "             'coach': 'NOUN',\n",
       "             'condition': 'NOUN',\n",
       "             'seem': 'VERB',\n",
       "             'book': 'NOUN',\n",
       "             'Pittsburgh': 'NOUN',\n",
       "             'tournament': 'NOUN',\n",
       "             'husband': 'NOUN',\n",
       "             'First': 'ADJ',\n",
       "             'food': 'NOUN',\n",
       "             'unions': 'NOUN',\n",
       "             'secrets': 'NOUN',\n",
       "             'art': 'NOUN',\n",
       "             'Stein': 'NOUN',\n",
       "             'price': 'NOUN',\n",
       "             'U.N.': 'NOUN',\n",
       "             'charged': 'VERB',\n",
       "             'voters': 'NOUN',\n",
       "             'follow': 'VERB',\n",
       "             'However': 'ADV',\n",
       "             'weekend': 'NOUN',\n",
       "             'officials': 'NOUN',\n",
       "             'audience': 'NOUN',\n",
       "             'areas': 'NOUN',\n",
       "             'ready': 'ADJ',\n",
       "             'road': 'NOUN',\n",
       "             'fund': 'NOUN',\n",
       "             'department': 'NOUN',\n",
       "             'apparently': 'ADV',\n",
       "             'While': 'ADP',\n",
       "             'worked': 'VERB',\n",
       "             'seek': 'VERB',\n",
       "             'Many': 'ADJ',\n",
       "             'seemed': 'VERB',\n",
       "             'measure': 'NOUN',\n",
       "             'books': 'NOUN',\n",
       "             'personal': 'ADJ',\n",
       "             'Lawrence': 'NOUN',\n",
       "             'El': 'NOUN',\n",
       "             'hear': 'VERB',\n",
       "             'letters': 'NOUN',\n",
       "             'believe': 'VERB',\n",
       "             'although': 'ADP',\n",
       "             'passing': 'VERB',\n",
       "             'lost': 'VERB',\n",
       "             'spent': 'VERB',\n",
       "             'addition': 'NOUN',\n",
       "             'knew': 'VERB',\n",
       "             'address': 'NOUN',\n",
       "             \"it's\": 'PRT',\n",
       "             'rather': 'ADP',\n",
       "             'ruled': 'VERB',\n",
       "             'Americans': 'NOUN',\n",
       "             'programs': 'NOUN',\n",
       "             'caused': 'VERB',\n",
       "             'More': 'ADJ',\n",
       "             'fine': 'ADJ',\n",
       "             'pressure': 'NOUN',\n",
       "             'immediate': 'ADJ',\n",
       "             'concerned': 'VERB',\n",
       "             'prevent': 'VERB',\n",
       "             'hardly': 'ADV',\n",
       "             'nations': 'NOUN',\n",
       "             'growth': 'NOUN',\n",
       "             'executive': 'NOUN',\n",
       "             'sense': 'NOUN',\n",
       "             'opinion': 'NOUN',\n",
       "             'across': 'ADP',\n",
       "             'us': 'PRON',\n",
       "             'movement': 'NOUN',\n",
       "             'using': 'VERB',\n",
       "             'considered': 'VERB',\n",
       "             'try': 'VERB',\n",
       "             'name': 'NOUN',\n",
       "             'shown': 'VERB',\n",
       "             'talk': 'VERB',\n",
       "             'Their': 'DET',\n",
       "             'reasons': 'NOUN',\n",
       "             'Air': 'NOUN',\n",
       "             'Of': 'ADP',\n",
       "             'include': 'VERB',\n",
       "             \"doesn't\": 'VERB',\n",
       "             'hands': 'NOUN',\n",
       "             'appeared': 'VERB',\n",
       "             'Lee': 'NOUN',\n",
       "             'society': 'NOUN',\n",
       "             'Angeles': 'NOUN',\n",
       "             'fourth': 'ADJ',\n",
       "             'players': 'NOUN',\n",
       "             'finished': 'VERB',\n",
       "             'knee': 'NOUN',\n",
       "             'happy': 'ADJ'})"
      ]
     },
     "execution_count": 53,
     "metadata": {},
     "output_type": "execute_result"
    }
   ],
   "source": [
    "pos"
   ]
  },
  {
   "cell_type": "markdown",
   "metadata": {},
   "source": [
    "# 간단한 태거 만들기"
   ]
  },
  {
   "cell_type": "code",
   "execution_count": 54,
   "metadata": {},
   "outputs": [
    {
     "name": "stdout",
     "output_type": "stream",
     "text": [
      "[('The', 'DET'), ('Fulton', 'NOUN'), ('County', 'NOUN'), ('Grand', 'NOUN'), ('Jury', 'NOUN'), ('said', 'VERB'), ('Friday', 'NOUN'), ('an', 'DET'), ('investigation', 'NOUN'), ('of', 'ADP'), (\"Atlanta's\", 'NOUN'), ('recent', 'ADJ'), ('primary', 'NOUN'), ('election', 'NOUN'), ('produced', 'NOUN'), ('``', '.'), ('no', 'DET'), ('evidence', 'NOUN'), (\"''\", '.'), ('that', 'DET'), ('any', 'DET'), ('irregularities', 'NOUN'), ('took', 'VERB'), ('place', 'NOUN'), ('.', '.'), ('The', 'DET'), ('jury', 'NOUN'), ('further', 'NOUN'), ('said', 'VERB'), ('in', 'PRT')]\n"
     ]
    }
   ],
   "source": [
    "test = [(v,pos[v]) for v in brown.words(categories='news')]\n",
    "print(test[:30])"
   ]
  },
  {
   "cell_type": "code",
   "execution_count": null,
   "metadata": {},
   "outputs": [],
   "source": []
  }
 ],
 "metadata": {
  "kernelspec": {
   "display_name": "Python 3",
   "language": "python",
   "name": "python3"
  },
  "language_info": {
   "codemirror_mode": {
    "name": "ipython",
    "version": 3
   },
   "file_extension": ".py",
   "mimetype": "text/x-python",
   "name": "python",
   "nbconvert_exporter": "python",
   "pygments_lexer": "ipython3",
   "version": "3.7.4"
  }
 },
 "nbformat": 4,
 "nbformat_minor": 4
}
