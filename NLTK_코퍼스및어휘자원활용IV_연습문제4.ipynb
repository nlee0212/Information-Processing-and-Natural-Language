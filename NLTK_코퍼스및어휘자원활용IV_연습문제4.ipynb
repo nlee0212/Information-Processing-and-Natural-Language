{
 "cells": [
  {
   "cell_type": "code",
   "execution_count": 1,
   "metadata": {},
   "outputs": [],
   "source": [
    "import nltk\n",
    "from nltk.corpus import brown"
   ]
  },
  {
   "cell_type": "code",
   "execution_count": 3,
   "metadata": {},
   "outputs": [
    {
     "name": "stdout",
     "output_type": "stream",
     "text": [
      "<FreqDist with 15 samples and 500 outcomes>\n",
      "cj = 80\n",
      "cg = 75\n",
      "cf = 48\n",
      "ca = 44\n",
      "ce = 36\n",
      "ch = 30\n",
      "ck = 29\n",
      "cn = 29\n",
      "cp = 29\n",
      "cb = 27\n",
      "cl = 24\n",
      "cc = 17\n",
      "cd = 17\n",
      "cr = 9\n",
      "cm = 6\n"
     ]
    }
   ],
   "source": [
    "a = [f[:2] for f in brown.fileids()]\n",
    "b = nltk.FreqDist(a)\n",
    "print(b)\n",
    "for i in b:\n",
    "    print(i,\"=\",b[i])"
   ]
  },
  {
   "cell_type": "code",
   "execution_count": null,
   "metadata": {},
   "outputs": [],
   "source": []
  }
 ],
 "metadata": {
  "kernelspec": {
   "display_name": "Python 3",
   "language": "python",
   "name": "python3"
  },
  "language_info": {
   "codemirror_mode": {
    "name": "ipython",
    "version": 3
   },
   "file_extension": ".py",
   "mimetype": "text/x-python",
   "name": "python",
   "nbconvert_exporter": "python",
   "pygments_lexer": "ipython3",
   "version": "3.8.5"
  }
 },
 "nbformat": 4,
 "nbformat_minor": 4
}
