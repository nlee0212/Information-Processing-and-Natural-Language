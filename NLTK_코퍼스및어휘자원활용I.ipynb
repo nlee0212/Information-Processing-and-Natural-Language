{
 "cells": [
  {
   "cell_type": "code",
   "execution_count": 1,
   "id": "tracked-diamond",
   "metadata": {},
   "outputs": [],
   "source": [
    "import nltk"
   ]
  },
  {
   "cell_type": "code",
   "execution_count": 2,
   "id": "bizarre-collector",
   "metadata": {},
   "outputs": [
    {
     "name": "stdout",
     "output_type": "stream",
     "text": [
      "showing info https://raw.githubusercontent.com/nltk/nltk_data/gh-pages/index.xml\n"
     ]
    },
    {
     "data": {
      "text/plain": [
       "True"
      ]
     },
     "execution_count": 2,
     "metadata": {},
     "output_type": "execute_result"
    }
   ],
   "source": [
    "nltk.download()"
   ]
  },
  {
   "cell_type": "code",
   "execution_count": 4,
   "id": "orange-musical",
   "metadata": {},
   "outputs": [],
   "source": [
    "from nltk import book"
   ]
  },
  {
   "cell_type": "code",
   "execution_count": 5,
   "id": "european-discipline",
   "metadata": {},
   "outputs": [
    {
     "name": "stdout",
     "output_type": "stream",
     "text": [
      "Displaying 25 of 14431 matches:\n",
      "nsumptive Usher to a Grammar School ) The pale Usher -- threadbare in coat , he\n",
      "hief , mockingly embellished with all the gay flags of all the known nations of\n",
      "llished with all the gay flags of all the known nations of the world . He loved\n",
      "gay flags of all the known nations of the world . He loved to dust his old gram\n",
      "gue leaving out , through ignorance , the letter H , which almost alone maketh \n",
      " letter H , which almost alone maketh the signification of the word , you deliv\n",
      "ost alone maketh the signification of the word , you deliver that which is not \n",
      "ALE . ... It is more immediately from the Dut . and Ger . WALLEN ; A . S . WALW\n",
      "ub - Sub appears to have gone through the long Vaticans and street - stalls of \n",
      " long Vaticans and street - stalls of the earth , picking up whatever random al\n",
      "t not , in every case at least , take the higgledy - piggledy whale statements \n",
      " cetology . Far from it . As touching the ancient authors generally , as well a\n",
      "ncient authors generally , as well as the poets here appearing , these extracts\n",
      " it up , Sub - Subs ! For by how much the more pains ye take to please the worl\n",
      "much the more pains ye take to please the world , by so much the more shall ye \n",
      "take to please the world , by so much the more shall ye for ever go thankless !\n",
      "t I could clear out Hampton Court and the Tuileries for ye ! But gulp down your\n",
      "gulp down your tears and hie aloft to the royal - mast with your hearts ; for y\n",
      "who have gone before are clearing out the seven - storied heavens , and making \n",
      " to shine after him ; One would think the deep to be hoary .\" -- JOB . \" Now th\n",
      "he deep to be hoary .\" -- JOB . \" Now the Lord had prepared a great fish to swa\n",
      "low up Jonah .\" -- JONAH . \" There go the ships ; there is that Leviathan whom \n",
      "herein .\" -- PSALMS . \" In that day , the Lord with his sore , and great , and \n",
      "strong sword , shall punish Leviathan the piercing serpent , even Leviathan tha\n",
      "t crooked serpent ; and he shall slay the dragon that is in the sea .\" -- ISAIA\n"
     ]
    }
   ],
   "source": [
    "book.text1.concordance('the')"
   ]
  },
  {
   "cell_type": "code",
   "execution_count": 6,
   "id": "broke-incident",
   "metadata": {},
   "outputs": [
    {
     "name": "stdout",
     "output_type": "stream",
     "text": [
      "Displaying 5 of 14431 matches:\n",
      "chool ) The pale Us\n",
      "ith all the gay fla\n",
      " of all the known n\n",
      "ions of the world .\n",
      "rance , the letter \n"
     ]
    }
   ],
   "source": [
    "book.text1.concordance('the', width=20, lines=5)"
   ]
  },
  {
   "cell_type": "code",
   "execution_count": 7,
   "id": "available-simpson",
   "metadata": {},
   "outputs": [
    {
     "name": "stdout",
     "output_type": "stream",
     "text": [
      "Displaying 5 of 14431 matches:\n",
      "chool ) The pale Us\n",
      "ith all the gay fla\n",
      " of all the known n\n",
      "ions of the world .\n",
      "rance , the letter \n"
     ]
    },
    {
     "data": {
      "text/plain": [
       "NoneType"
      ]
     },
     "execution_count": 7,
     "metadata": {},
     "output_type": "execute_result"
    }
   ],
   "source": [
    "type(book.text1.concordance('the', width=20, lines=5))"
   ]
  },
  {
   "cell_type": "code",
   "execution_count": 8,
   "id": "engaging-gauge",
   "metadata": {},
   "outputs": [
    {
     "name": "stdout",
     "output_type": "stream",
     "text": [
      "Displaying 11 of 11 matches:\n",
      "ong the former , one was of a most monstrous size . ... This came towards us , \n",
      "ON OF THE PSALMS . \" Touching that monstrous bulk of the whale or ork we have r\n",
      "ll over with a heathenish array of monstrous clubs and spears . Some were thick\n",
      "d as you gazed , and wondered what monstrous cannibal and savage could ever hav\n",
      "that has survived the flood ; most monstrous and most mountainous ! That Himmal\n",
      "they might scout at Moby Dick as a monstrous fable , or still worse and more de\n",
      "th of Radney .'\" CHAPTER 55 Of the Monstrous Pictures of Whales . I shall ere l\n",
      "ing Scenes . In connexion with the monstrous pictures of whales , I am strongly\n",
      "ere to enter upon those still more monstrous stories of them which are to be fo\n",
      "ght have been rummaged out of this monstrous cabinet there is no telling . But \n",
      "of Whale - Bones ; for Whales of a monstrous size are oftentimes cast up dead u\n"
     ]
    }
   ],
   "source": [
    "book.text1.concordance('monstrous')"
   ]
  },
  {
   "cell_type": "code",
   "execution_count": 9,
   "id": "alert-lawsuit",
   "metadata": {},
   "outputs": [
    {
     "name": "stdout",
     "output_type": "stream",
     "text": [
      "Displaying 2 of 2 matches:\n",
      " the murky light of that darkened , doleful day read the fate of the whalemen w\n",
      "ite perspectives . There ' s a most doleful and most mocking funeral ! The sea \n"
     ]
    }
   ],
   "source": [
    "book.text1.concordance('doleful')"
   ]
  },
  {
   "cell_type": "code",
   "execution_count": 10,
   "id": "early-sydney",
   "metadata": {},
   "outputs": [
    {
     "name": "stdout",
     "output_type": "stream",
     "text": [
      "Displaying 18 of 18 matches:\n",
      "es of systematic visits to it , and careful inquiry of the neighbors , that you\n",
      " by to come close alongside , now ! Careful , careful !-- come , Bildad , boy -\n",
      "e close alongside , now ! Careful , careful !-- come , Bildad , boy -- say your\n",
      "hem in the tropic voyage ye go . Be careful in the hunt , ye mates . Don ' t st\n",
      " Mr . Starbuck ; it ' ll spoil . Be careful with the butter -- twenty cents the\n",
      "d mate , \" Starbuck , there , is as careful a man as you ' ll find anywhere in \n",
      "shall ere long see what that word \" careful \" precisely means when used by a ma\n",
      "s of the quarter - deck , they were careful not to speak or rustle their feet .\n",
      " Mr . Starbuck , is by far the most careful and prudent . I suppose then , that\n",
      "ere are some enterprises in which a careful disorderliness is the true method .\n",
      "o the mincer . It enjoins him to be careful , and cut his work into as thin sli\n",
      " prove useful here . According to a careful calculation I have made , and which\n",
      "ty feet in length ; according to my careful calculation , I say , a Sperm Whale\n",
      "cklessness , Ahab did at times give careful heed to the condition of that dead \n",
      "ted on the voyage , in order that a careful selection of the stoutest , cleares\n",
      "ave , but nevertheless obeys ; most careful bravery that !\" murmured Ahab , as \n",
      "the centre of the serenity around . Careful not to touch him , or be noticed by\n",
      "led by lanterns in the complete and careful rigging of the spare boats and shar\n"
     ]
    }
   ],
   "source": [
    "book.text1.concordance('careful')"
   ]
  },
  {
   "cell_type": "code",
   "execution_count": 11,
   "id": "central-trouble",
   "metadata": {},
   "outputs": [
    {
     "name": "stdout",
     "output_type": "stream",
     "text": [
      "most_and\n"
     ]
    }
   ],
   "source": [
    "book.text1.common_contexts(['monstrous','doleful','careful'])"
   ]
  },
  {
   "cell_type": "code",
   "execution_count": 12,
   "id": "simplified-marriage",
   "metadata": {},
   "outputs": [
    {
     "name": "stdout",
     "output_type": "stream",
     "text": [
      "most_and\n"
     ]
    }
   ],
   "source": [
    "book.text1.common_contexts(['monstrous','doleful'])"
   ]
  },
  {
   "cell_type": "code",
   "execution_count": 13,
   "id": "peripheral-bristol",
   "metadata": {},
   "outputs": [
    {
     "name": "stdout",
     "output_type": "stream",
     "text": [
      "No common contexts were found\n"
     ]
    }
   ],
   "source": [
    "book.text1.common_contexts(['monstrous','very'])"
   ]
  },
  {
   "cell_type": "code",
   "execution_count": 14,
   "id": "billion-princeton",
   "metadata": {},
   "outputs": [
    {
     "name": "stdout",
     "output_type": "stream",
     "text": [
      "am_glad a_pretty a_lucky is_pretty be_glad\n"
     ]
    }
   ],
   "source": [
    "book.text2.common_contexts(['monstrous','very'])"
   ]
  },
  {
   "cell_type": "code",
   "execution_count": 15,
   "id": "previous-exception",
   "metadata": {},
   "outputs": [
    {
     "name": "stdout",
     "output_type": "stream",
     "text": [
      "Displaying 11 of 11 matches:\n",
      ". \" Now , Palmer , you shall see a monstrous pretty girl .\" He immediately went\n",
      "your sister is to marry him . I am monstrous glad of it , for then I shall have\n",
      "ou may tell your sister . She is a monstrous lucky girl to get him , upon my ho\n",
      "k how you will like them . Lucy is monstrous pretty , and so good humoured and \n",
      " Jennings , \" I am sure I shall be monstrous glad of Miss Marianne ' s company \n",
      " usual noisy cheerfulness , \" I am monstrous glad to see you -- sorry I could n\n",
      "t however , as it turns out , I am monstrous glad there was never any thing in \n",
      "so scornfully ! for they say he is monstrous fond of her , as well he may . I s\n",
      "possible that she should .\" \" I am monstrous glad of it . Good gracious ! I hav\n",
      "thing of the kind . So then he was monstrous happy , and talked on some time ab\n",
      "e very genteel people . He makes a monstrous deal of money , and they keep thei\n"
     ]
    }
   ],
   "source": [
    "book.text2.concordance('monstrous')"
   ]
  },
  {
   "cell_type": "code",
   "execution_count": 16,
   "id": "classified-argument",
   "metadata": {},
   "outputs": [
    {
     "name": "stdout",
     "output_type": "stream",
     "text": [
      "true contemptible christian abundant few mean careful puzzled\n",
      "mystifying passing curious loving doleful gamesome singular\n",
      "delightfully perilous fearless determined uncommon\n"
     ]
    }
   ],
   "source": [
    "book.text1.similar('monstrous')"
   ]
  },
  {
   "cell_type": "code",
   "execution_count": 17,
   "id": "lasting-graph",
   "metadata": {},
   "outputs": [
    {
     "name": "stdout",
     "output_type": "stream",
     "text": [
      "very so exceedingly heartily a as good great extremely remarkably\n",
      "sweet vast amazingly\n"
     ]
    }
   ],
   "source": [
    "book.text2.similar('monstrous')"
   ]
  },
  {
   "cell_type": "code",
   "execution_count": null,
   "id": "plastic-buddy",
   "metadata": {},
   "outputs": [],
   "source": []
  },
  {
   "cell_type": "code",
   "execution_count": 20,
   "id": "passive-sustainability",
   "metadata": {},
   "outputs": [
    {
     "name": "stdout",
     "output_type": "stream",
     "text": [
      "Collecting matplotlib\n",
      "  Downloading matplotlib-3.3.4-cp38-cp38-win_amd64.whl (8.5 MB)\n",
      "Collecting kiwisolver>=1.0.1\n",
      "  Downloading kiwisolver-1.3.1-cp38-cp38-win_amd64.whl (51 kB)\n",
      "Requirement already satisfied: numpy>=1.15 in c:\\users\\user\\appdata\\local\\packages\\pythonsoftwarefoundation.python.3.8_qbz5n2kfra8p0\\localcache\\local-packages\\python38\\site-packages (from matplotlib) (1.19.0)\n",
      "Requirement already satisfied: python-dateutil>=2.1 in c:\\users\\user\\appdata\\local\\packages\\pythonsoftwarefoundation.python.3.8_qbz5n2kfra8p0\\localcache\\local-packages\\python38\\site-packages (from matplotlib) (2.8.1)\n",
      "Requirement already satisfied: pyparsing!=2.0.4,!=2.1.2,!=2.1.6,>=2.0.3 in c:\\users\\user\\appdata\\local\\packages\\pythonsoftwarefoundation.python.3.8_qbz5n2kfra8p0\\localcache\\local-packages\\python38\\site-packages (from matplotlib) (2.4.7)\n",
      "Requirement already satisfied: pillow>=6.2.0 in c:\\users\\user\\appdata\\local\\packages\\pythonsoftwarefoundation.python.3.8_qbz5n2kfra8p0\\localcache\\local-packages\\python38\\site-packages (from matplotlib) (7.2.0)\n",
      "Collecting cycler>=0.10\n",
      "  Downloading cycler-0.10.0-py2.py3-none-any.whl (6.5 kB)\n",
      "Requirement already satisfied: six in c:\\users\\user\\appdata\\local\\packages\\pythonsoftwarefoundation.python.3.8_qbz5n2kfra8p0\\localcache\\local-packages\\python38\\site-packages (from cycler>=0.10->matplotlib) (1.15.0)\n",
      "Installing collected packages: kiwisolver, cycler, matplotlib\n",
      "Successfully installed cycler-0.10.0 kiwisolver-1.3.1 matplotlib-3.3.4\n",
      "Collecting matplotlib\n",
      "  Downloading matplotlib-3.3.4-cp38-cp38-win_amd64.whl (8.5 MB)\n",
      "Collecting kiwisolver>=1.0.1\n",
      "  Using cached kiwisolver-1.3.1-cp38-cp38-win_amd64.whl (51 kB)\n",
      "Requirement already satisfied: pyparsing!=2.0.4,!=2.1.2,!=2.1.6,>=2.0.3 in c:\\users\\user\\appdata\\local\\packages\\pythonsoftwarefoundation.python.3.8_qbz5n2kfra8p0\\localcache\\local-packages\\python38\\site-packages (from matplotlib) (2.4.7)\n",
      "Collecting cycler>=0.10\n",
      "  Using cached cycler-0.10.0-py2.py3-none-any.whl (6.5 kB)\n",
      "Requirement already satisfied: python-dateutil>=2.1 in c:\\users\\user\\appdata\\local\\packages\\pythonsoftwarefoundation.python.3.8_qbz5n2kfra8p0\\localcache\\local-packages\\python38\\site-packages (from matplotlib) (2.8.1)\n",
      "Requirement already satisfied: numpy>=1.15 in c:\\users\\user\\appdata\\local\\packages\\pythonsoftwarefoundation.python.3.8_qbz5n2kfra8p0\\localcache\\local-packages\\python38\\site-packages (from matplotlib) (1.19.0)\n",
      "Requirement already satisfied: pillow>=6.2.0 in c:\\users\\user\\appdata\\local\\packages\\pythonsoftwarefoundation.python.3.8_qbz5n2kfra8p0\\localcache\\local-packages\\python38\\site-packages (from matplotlib) (7.2.0)\n",
      "Requirement already satisfied: six in c:\\users\\user\\appdata\\local\\packages\\pythonsoftwarefoundation.python.3.8_qbz5n2kfra8p0\\localcache\\local-packages\\python38\\site-packages (from cycler>=0.10->matplotlib) (1.15.0)\n",
      "Installing collected packages: kiwisolver, cycler, matplotlib\n",
      "Successfully installed cycler-0.10.0 kiwisolver-1.3.1 matplotlib-3.3.4\n"
     ]
    }
   ],
   "source": [
    "! pip install matplotlib"
   ]
  },
  {
   "cell_type": "code",
   "execution_count": 21,
   "id": "systematic-parts",
   "metadata": {},
   "outputs": [
    {
     "data": {
      "image/png": "[encoded data removed]",
      "text/plain": [
       "<Figure size 432x288 with 1 Axes>"
      ]
     },
     "metadata": {
      "needs_background": "light"
     },
     "output_type": "display_data"
    }
   ],
   "source": [
    "book.text4.dispersion_plot(['citizens','democracy','freedom','duties','America'])"
   ]
  },
  {
   "cell_type": "code",
   "execution_count": null,
   "id": "opened-weapon",
   "metadata": {},
   "outputs": [],
   "source": []
  }
 ],
 "metadata": {
  "kernelspec": {
   "display_name": "Python 3",
   "language": "python",
   "name": "python3"
  },
  "language_info": {
   "codemirror_mode": {
    "name": "ipython",
    "version": 3
   },
   "file_extension": ".py",
   "mimetype": "text/x-python",
   "name": "python",
   "nbconvert_exporter": "python",
   "pygments_lexer": "ipython3",
   "version": "3.8.8"
  }
 },
 "nbformat": 4,
 "nbformat_minor": 5
}
