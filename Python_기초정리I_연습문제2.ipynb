{
 "cells": [
  {
   "cell_type": "code",
   "execution_count": 1,
   "id": "affiliated-enclosure",
   "metadata": {},
   "outputs": [],
   "source": [
    "# 다음 칸에 들어갈 한 줄 코드는?\n",
    "# a = 'A:apple'\n",
    "# b = 칸\n",
    "# b\n",
    "## 'A*:*apple'\n",
    "\n",
    "# a = 'A:apple'\n",
    "# b = 칸\n",
    "# b\n",
    "## ['A', 'Apple']"
   ]
  },
  {
   "cell_type": "code",
   "execution_count": 6,
   "id": "governing-allocation",
   "metadata": {},
   "outputs": [
    {
     "data": {
      "text/plain": [
       "['A', 'Apple']"
      ]
     },
     "execution_count": 6,
     "metadata": {},
     "output_type": "execute_result"
    }
   ],
   "source": [
    "a = 'A:apple'\n",
    "b = a.title().split(':')\n",
    "b"
   ]
  },
  {
   "cell_type": "code",
   "execution_count": 7,
   "id": "persistent-expansion",
   "metadata": {},
   "outputs": [
    {
     "data": {
      "text/plain": [
       "'A*:*apple'"
      ]
     },
     "execution_count": 7,
     "metadata": {},
     "output_type": "execute_result"
    }
   ],
   "source": [
    "a = 'A:apple'\n",
    "b = '*'.join(a.partition(':'))\n",
    "b"
   ]
  },
  {
   "cell_type": "code",
   "execution_count": null,
   "id": "convertible-withdrawal",
   "metadata": {},
   "outputs": [],
   "source": []
  }
 ],
 "metadata": {
  "kernelspec": {
   "display_name": "Python 3",
   "language": "python",
   "name": "python3"
  },
  "language_info": {
   "codemirror_mode": {
    "name": "ipython",
    "version": 3
   },
   "file_extension": ".py",
   "mimetype": "text/x-python",
   "name": "python",
   "nbconvert_exporter": "python",
   "pygments_lexer": "ipython3",
   "version": "3.8.8"
  }
 },
 "nbformat": 4,
 "nbformat_minor": 5
}
