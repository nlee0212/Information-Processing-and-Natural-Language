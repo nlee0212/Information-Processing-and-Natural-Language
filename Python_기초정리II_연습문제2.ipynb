{
 "cells": [
  {
   "cell_type": "code",
   "execution_count": 1,
   "id": "rational-renaissance",
   "metadata": {},
   "outputs": [],
   "source": [
    "# Female = ['Susie', 'Eva', 'Stephanie']\n",
    "# Male = ['Tom','Billy','Jefferson']\n",
    "# names = \n",
    "# names\n",
    "\"\"\"[('Susie', 'Tom'),\n",
    " ('Susie', 'Billy'),\n",
    " ('Susie', 'Jefferson'),\n",
    " ('Eva', 'Tom'),\n",
    " ('Eva', 'Billy'),\n",
    " ('Eva', 'Jefferson'),\n",
    " ('Stephanie', 'Tom'),\n",
    " ('Stephanie', 'Billy'),\n",
    " ('Stephanie', 'Jefferson')]\"\"\""
   ]
  },
  {
   "cell_type": "code",
   "execution_count": 2,
   "id": "restricted-denial",
   "metadata": {},
   "outputs": [
    {
     "data": {
      "text/plain": [
       "[('Susie', 'Tom'),\n",
       " ('Susie', 'Billy'),\n",
       " ('Susie', 'Jefferson'),\n",
       " ('Eva', 'Tom'),\n",
       " ('Eva', 'Billy'),\n",
       " ('Eva', 'Jefferson'),\n",
       " ('Stephanie', 'Tom'),\n",
       " ('Stephanie', 'Billy'),\n",
       " ('Stephanie', 'Jefferson')]"
      ]
     },
     "execution_count": 2,
     "metadata": {},
     "output_type": "execute_result"
    }
   ],
   "source": [
    "Female = ['Susie', 'Eva', 'Stephanie']\n",
    "Male = ['Tom','Billy','Jefferson']\n",
    "names = [(x,y) for x in Female for y in Male]\n",
    "names"
   ]
  },
  {
   "cell_type": "code",
   "execution_count": null,
   "id": "controlling-observer",
   "metadata": {},
   "outputs": [],
   "source": []
  }
 ],
 "metadata": {
  "kernelspec": {
   "display_name": "Python 3",
   "language": "python",
   "name": "python3"
  },
  "language_info": {
   "codemirror_mode": {
    "name": "ipython",
    "version": 3
   },
   "file_extension": ".py",
   "mimetype": "text/x-python",
   "name": "python",
   "nbconvert_exporter": "python",
   "pygments_lexer": "ipython3",
   "version": "3.8.8"
  }
 },
 "nbformat": 4,
 "nbformat_minor": 5
}
