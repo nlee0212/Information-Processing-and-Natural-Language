{
 "cells": [
  {
   "cell_type": "code",
   "execution_count": 2,
   "metadata": {},
   "outputs": [],
   "source": [
    "import nltk\n",
    "from nltk.corpus import inaugural"
   ]
  },
  {
   "cell_type": "code",
   "execution_count": 12,
   "metadata": {},
   "outputs": [
    {
     "name": "stdout",
     "output_type": "stream",
     "text": [
      "Displaying 25 of 247 matches:\n",
      "Fellow - Citizens of the Senate and of the House of \n",
      "wisest and most experienced of her citizens a distrustful scrutiny into his qu\n",
      "oof of the confidence of my fellow citizens , and have thence too little consu\n",
      "an my own , nor those of my fellow citizens at large less than either . No peo\n",
      "hich can win the affections of its citizens and command the respect of the wor\n",
      "is Government must depend . Fellow citizens , I am again called upon by the vo\n",
      "frage , in common with my fellow - citizens , in the adoption or rejection of \n",
      "the Legislature , are exercised by citizens selected at regular periods by the\n",
      "ited the gratitude of his fellow - citizens , commanded the highest praises of\n",
      "o be more friendly to us , and our citizens to be more friendly to them ; if a\n",
      "ed on the commerce of our fellow - citizens by whatever nation , and if succes\n",
      "is providence . Friends and Fellow Citizens : Called upon to undertake the dut\n",
      "sence of that portion of my fellow citizens which is here assembled to express\n",
      "ppression . Let us , then , fellow citizens , unite with one heart and one min\n",
      "nor and confidence from our fellow citizens , resulting not from birth , but f\n",
      "le ? Still one thing more , fellow citizens -- a wise and frugal Government , \n",
      "cities . About to enter , fellow - citizens , on the exercise of duties which \n",
      "afety . I repair , then , fellow - citizens , to the post you have assigned me\n",
      "d prosperity . Proceeding , fellow citizens , to that qualification which the \n",
      "proof of confidence from my fellow citizens at large , and the zeal with which\n",
      "o bridle others . At home , fellow citizens , you best know whether we have do\n",
      "the transactions of our mercantile citizens , it may be the pleasure and the p\n",
      "improvement . I have said , fellow citizens , that the income reserved had ena\n",
      "se outlines I do not mean , fellow citizens , to arrogate to myself the merit \n",
      "to the reflecting character of our citizens at large , who , by the weight of \n"
     ]
    }
   ],
   "source": [
    "nltk.Text(inaugural.words()).concordance('citizens')"
   ]
  },
  {
   "cell_type": "code",
   "execution_count": 13,
   "metadata": {},
   "outputs": [
    {
     "name": "stdout",
     "output_type": "stream",
     "text": [
      "country people government union time men power nation rights peace\n",
      "institutions progress americans happiness prosperity children all\n",
      "states labor strength\n"
     ]
    }
   ],
   "source": [
    "nltk.Text(inaugural.words()).similar('citizens')"
   ]
  },
  {
   "cell_type": "code",
   "execution_count": null,
   "metadata": {},
   "outputs": [],
   "source": []
  }
 ],
 "metadata": {
  "kernelspec": {
   "display_name": "Python 3",
   "language": "python",
   "name": "python3"
  },
  "language_info": {
   "codemirror_mode": {
    "name": "ipython",
    "version": 3
   },
   "file_extension": ".py",
   "mimetype": "text/x-python",
   "name": "python",
   "nbconvert_exporter": "python",
   "pygments_lexer": "ipython3",
   "version": "3.8.5"
  }
 },
 "nbformat": 4,
 "nbformat_minor": 4
}
