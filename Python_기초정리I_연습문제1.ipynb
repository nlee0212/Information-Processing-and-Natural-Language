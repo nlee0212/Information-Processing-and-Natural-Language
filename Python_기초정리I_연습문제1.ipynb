{
 "cells": [
  {
   "cell_type": "code",
   "execution_count": 2,
   "id": "expected-section",
   "metadata": {},
   "outputs": [
    {
     "data": {
      "text/plain": [
       "['\\n', 'abc\\n', 'abc\\n']"
      ]
     },
     "execution_count": 2,
     "metadata": {},
     "output_type": "execute_result"
    }
   ],
   "source": [
    "#왼쪽의 변수 a를 이용하여 오른쪽의 변수 b를 도출하기 위한 코드를 작성하시오.\n",
    "# a = '\\nabc\\nabc\\nabc'\n",
    "# print(a) \n",
    "## abc\n",
    "## abc\n",
    "## abc\n",
    "\n",
    "# b\n",
    "## ['\\n', 'abc\\n', 'abc\\n']\n",
    "\n",
    "a = '\\nabc\\nabc\\nabc'\n",
    "b = a.splitlines(True)\n",
    "b.remove('abc') # -> 이 풀이는 한번에 하지 못함.\n",
    "b"
   ]
  },
  {
   "cell_type": "code",
   "execution_count": 3,
   "id": "unable-acceptance",
   "metadata": {},
   "outputs": [
    {
     "data": {
      "text/plain": [
       "['\\n', 'abc\\n', 'abc\\n']"
      ]
     },
     "execution_count": 3,
     "metadata": {},
     "output_type": "execute_result"
    }
   ],
   "source": [
    "# Right Answer\n",
    "b = a.strip('abc').splitlines(True)\n",
    "b"
   ]
  },
  {
   "cell_type": "code",
   "execution_count": null,
   "id": "velvet-newman",
   "metadata": {},
   "outputs": [],
   "source": []
  }
 ],
 "metadata": {
  "kernelspec": {
   "display_name": "Python 3",
   "language": "python",
   "name": "python3"
  },
  "language_info": {
   "codemirror_mode": {
    "name": "ipython",
    "version": 3
   },
   "file_extension": ".py",
   "mimetype": "text/x-python",
   "name": "python",
   "nbconvert_exporter": "python",
   "pygments_lexer": "ipython3",
   "version": "3.8.8"
  }
 },
 "nbformat": 4,
 "nbformat_minor": 5
}
