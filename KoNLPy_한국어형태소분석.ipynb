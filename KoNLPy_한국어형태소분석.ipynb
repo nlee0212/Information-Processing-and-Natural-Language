{
 "cells": [
  {
   "cell_type": "code",
   "execution_count": 2,
   "metadata": {},
   "outputs": [],
   "source": [
    "from konlpy.tag import Kkma"
   ]
  },
  {
   "cell_type": "code",
   "execution_count": 3,
   "metadata": {},
   "outputs": [
    {
     "data": {
      "text/plain": [
       "['명사', '추출', '한국어', '형태소', '분석']"
      ]
     },
     "execution_count": 3,
     "metadata": {},
     "output_type": "execute_result"
    }
   ],
   "source": [
    "kkma = Kkma()\n",
    "kkma.nouns('명사만을 추출하여 한국어 형태소를 분석합니다.')"
   ]
  },
  {
   "cell_type": "code",
   "execution_count": 4,
   "metadata": {},
   "outputs": [
    {
     "data": {
      "text/plain": [
       "[('한국어', 'NNG'),\n",
       " ('형태소', 'NNG'),\n",
       " ('를', 'JKO'),\n",
       " ('분석', 'NNG'),\n",
       " ('하', 'XSV'),\n",
       " ('ㅂ니다', 'EFN'),\n",
       " ('.', 'SF')]"
      ]
     },
     "execution_count": 4,
     "metadata": {},
     "output_type": "execute_result"
    }
   ],
   "source": [
    "kkma.pos('한국어 형태소를 분석합니다.')"
   ]
  },
  {
   "cell_type": "code",
   "execution_count": 5,
   "metadata": {},
   "outputs": [
    {
     "data": {
      "text/plain": [
       "['한국어', '형태소', '를', '추출', '하', 'ㅂ니다', '.']"
      ]
     },
     "execution_count": 5,
     "metadata": {},
     "output_type": "execute_result"
    }
   ],
   "source": [
    "kkma.morphs('한국어 형태소를 추출합니다.')"
   ]
  },
  {
   "cell_type": "code",
   "execution_count": 6,
   "metadata": {},
   "outputs": [
    {
     "data": {
      "text/plain": [
       "['문장을 분리합니다.', '그러나 완벽하지 않습니다.']"
      ]
     },
     "execution_count": 6,
     "metadata": {},
     "output_type": "execute_result"
    }
   ],
   "source": [
    "kkma.sentences('문장을 분리합니다. 그러나 완벽하지 않습니다.')"
   ]
  },
  {
   "cell_type": "code",
   "execution_count": 7,
   "metadata": {},
   "outputs": [
    {
     "data": {
      "text/plain": [
       "['문장을 분리합니다', '그러나 완벽하지 않습니다.']"
      ]
     },
     "execution_count": 7,
     "metadata": {},
     "output_type": "execute_result"
    }
   ],
   "source": [
    "kkma.sentences('문장을 분리합니다 그러나 완벽하지 않습니다.')"
   ]
  },
  {
   "cell_type": "code",
   "execution_count": 8,
   "metadata": {},
   "outputs": [
    {
     "data": {
      "text/plain": [
       "['문장을 분리 해요 그러나 완벽하지 않습니다.']"
      ]
     },
     "execution_count": 8,
     "metadata": {},
     "output_type": "execute_result"
    }
   ],
   "source": [
    "kkma.sentences('문장을 분리해요 그러나 완벽하지 않습니다.')"
   ]
  },
  {
   "cell_type": "code",
   "execution_count": 9,
   "metadata": {},
   "outputs": [
    {
     "data": {
      "text/plain": [
       "['문장을 분리해요.', '그러나 완벽하지 않습니다.']"
      ]
     },
     "execution_count": 9,
     "metadata": {},
     "output_type": "execute_result"
    }
   ],
   "source": [
    "kkma.sentences('문장을 분리해요. 그러나 완벽하지 않습니다.')"
   ]
  },
  {
   "cell_type": "code",
   "execution_count": 10,
   "metadata": {},
   "outputs": [
    {
     "data": {
      "text/plain": [
       "18884"
      ]
     },
     "execution_count": 10,
     "metadata": {},
     "output_type": "execute_result"
    }
   ],
   "source": [
    "import konlpy.corpus\n",
    "from konlpy.corpus import kolaw\n",
    "\n",
    "a = kolaw.open('constitution.txt').read()\n",
    "len(a)"
   ]
  },
  {
   "cell_type": "code",
   "execution_count": 11,
   "metadata": {},
   "outputs": [
    {
     "data": {
      "text/plain": [
       "'대한민국헌법\\n\\n유구한 역사와 전통에 빛나는 우리 대한국민은 3·1운동으로 건립된 대한민국임'"
      ]
     },
     "execution_count": 11,
     "metadata": {},
     "output_type": "execute_result"
    }
   ],
   "source": [
    "a[:50]"
   ]
  },
  {
   "cell_type": "code",
   "execution_count": 12,
   "metadata": {},
   "outputs": [
    {
     "data": {
      "text/plain": [
       "' 있는 기관은 이 헌법에 의하여 새로운 기관이 설치될 때까지 존속하며 그 직무를 행한다.\\n'"
      ]
     },
     "execution_count": 12,
     "metadata": {},
     "output_type": "execute_result"
    }
   ],
   "source": [
    "a[-50:]"
   ]
  },
  {
   "cell_type": "code",
   "execution_count": 13,
   "metadata": {},
   "outputs": [
    {
     "name": "stdout",
     "output_type": "stream",
     "text": [
      "[('대한민국', 'NNG'), ('헌법', 'NNG'), ('유구', 'NNG'), ('하', 'XSV'), ('ㄴ', 'ETD'), ('역사', 'NNG'), ('와', 'JC'), ('전통', 'NNG'), ('에', 'JKM'), ('빛나', 'VV'), ('는', 'ETD'), ('우리', 'NNM'), ('대하', 'VV'), ('ㄴ', 'ETD'), ('국민', 'NNG'), ('은', 'JX'), ('3', 'NR'), ('·', 'SP'), ('1', 'NR'), ('운동', 'NNG'), ('으로', 'JKM'), ('건립', 'NNG'), ('되', 'XSV'), ('ㄴ', 'ETD'), ('대한민국', 'NNG'), ('임', 'NNG')]\n"
     ]
    }
   ],
   "source": [
    "print(kkma.pos(a[:50]))"
   ]
  },
  {
   "cell_type": "code",
   "execution_count": 14,
   "metadata": {},
   "outputs": [
    {
     "name": "stdout",
     "output_type": "stream",
     "text": [
      "[('헌법', 'NNG'), ('에', 'JKM'), ('의하', 'VV'), ('여', 'ECS'), ('새롭', 'VA'), ('ㄴ', 'ETD'), ('기관', 'NNG'), ('이', 'JKS'), ('설치', 'NNG'), ('되', 'XSV'), ('ㄹ', 'ETD'), ('때', 'NNG'), ('까지', 'JX'), ('존속', 'NNG'), ('하', 'XSV'), ('며', 'ECE'), ('그', 'MDT'), ('직무', 'NNG'), ('를', 'JKO'), ('행하', 'VV'), ('ㄴ다', 'EFN'), ('.', 'SF')]\n"
     ]
    }
   ],
   "source": [
    "print(kkma.pos(a[-40:]))"
   ]
  },
  {
   "cell_type": "code",
   "execution_count": 16,
   "metadata": {},
   "outputs": [
    {
     "data": {
      "text/plain": [
       "4201"
      ]
     },
     "execution_count": 16,
     "metadata": {},
     "output_type": "execute_result"
    }
   ],
   "source": [
    "from konlpy.corpus import kobill\n",
    "d = kobill.open('1809890.txt').read()\n",
    "len(d)"
   ]
  },
  {
   "cell_type": "code",
   "execution_count": 17,
   "metadata": {},
   "outputs": [
    {
     "data": {
      "text/plain": [
       "'지방공무원법 일부개정법률안\\n\\n(정의화의원 대표발의 )\\n\\n 의 안\\n 번 호\\n\\n9890\\n\\n발의연월일 : 2010.  11.  12.  \\n\\n발  의  자 : 정의화․이명수․김을동 \\n\\n이'"
      ]
     },
     "execution_count": 17,
     "metadata": {},
     "output_type": "execute_result"
    }
   ],
   "source": [
    "d[:100]"
   ]
  },
  {
   "cell_type": "code",
   "execution_count": 18,
   "metadata": {},
   "outputs": [
    {
     "name": "stdout",
     "output_type": "stream",
     "text": [
      "[('지방', 'NNG'), ('공무원', 'NNG'), ('법', 'NNG'), ('일부', 'NNG'), ('개정', 'NNG'), ('법률안', 'NNG'), ('(', 'SS'), ('정의', 'NNG'), ('화', 'NNG'), ('의원', 'NNG'), ('대표', 'NNG'), ('발의', 'NNG'), (')', 'SS'), ('의', 'NNG'), ('안', 'NNG'), ('벌', 'VV'), ('ㄴ', 'ETD'), ('호', 'NNG'), ('9890', 'NR'), ('발', 'NNG'), ('의', 'JKG'), ('연월일', 'NNG'), (':', 'SP'), ('2010', 'NR'), ('.', 'SF'), ('11', 'NR'), ('.', 'SF'), ('12', 'NR'), ('.', 'SF'), ('발', 'NNG'), ('의', 'NNG'), ('자', 'NNG'), (':', 'SP'), ('정의', 'NNG'), ('화', 'NNG'), ('․', 'SW'), ('이명수', 'NNG'), ('․', 'SW'), ('김', 'NNG'), ('을', 'JKO'), ('동', 'NNG'), ('이', 'NNG')]\n"
     ]
    }
   ],
   "source": [
    "print(kkma.pos(d[:100]))"
   ]
  },
  {
   "cell_type": "code",
   "execution_count": 19,
   "metadata": {},
   "outputs": [
    {
     "data": {
      "text/plain": [
       "['01_korean.txt', '02_korean.txt']"
      ]
     },
     "execution_count": 19,
     "metadata": {},
     "output_type": "execute_result"
    }
   ],
   "source": [
    "import os\n",
    "os.listdir('./15_data/')"
   ]
  },
  {
   "cell_type": "code",
   "execution_count": 21,
   "metadata": {},
   "outputs": [],
   "source": [
    "a = open('./15_data/01_korean.txt',encoding='utf-8')"
   ]
  },
  {
   "cell_type": "code",
   "execution_count": 24,
   "metadata": {},
   "outputs": [],
   "source": [
    "a = open(os.getcwd()+'/15_data/01_korean.txt',encoding='utf-8')"
   ]
  },
  {
   "cell_type": "code",
   "execution_count": 25,
   "metadata": {},
   "outputs": [
    {
     "data": {
      "text/plain": [
       "'C:\\\\Users\\\\user\\\\Google 드라이브\\\\서강대\\\\정보처리및자연언어처리\\\\연습문제\\\\Information-Processing-and-Natural-Language'"
      ]
     },
     "execution_count": 25,
     "metadata": {},
     "output_type": "execute_result"
    }
   ],
   "source": [
    "os.getcwd() # 전체 절대경로"
   ]
  },
  {
   "cell_type": "code",
   "execution_count": 26,
   "metadata": {},
   "outputs": [
    {
     "data": {
      "text/plain": [
       "['01_korean.txt', '02_korean.txt']"
      ]
     },
     "execution_count": 26,
     "metadata": {},
     "output_type": "execute_result"
    }
   ],
   "source": [
    "os.listdir('./15_data')"
   ]
  },
  {
   "cell_type": "code",
   "execution_count": 27,
   "metadata": {},
   "outputs": [
    {
     "name": "stdout",
     "output_type": "stream",
     "text": [
      "C:\\Users\\user\\Google 드라이브\\서강대\\정보처리및자연언어처리\\연습문제\\Information-Processing-and-Natural-Language/15_data/01_korean.txt\n",
      "C:\\Users\\user\\Google 드라이브\\서강대\\정보처리및자연언어처리\\연습문제\\Information-Processing-and-Natural-Language/15_data/02_korean.txt\n"
     ]
    }
   ],
   "source": [
    "for i in os.listdir('./15_data/'):\n",
    "    print('/'.join([os.getcwd(),'15_data',i]))"
   ]
  },
  {
   "cell_type": "code",
   "execution_count": 28,
   "metadata": {},
   "outputs": [
    {
     "name": "stdout",
     "output_type": "stream",
     "text": [
      "./15_data/01_korean.txt\n",
      "./15_data/02_korean.txt\n"
     ]
    }
   ],
   "source": [
    "for i in os.listdir('./15_data'):\n",
    "    print('/'.join(['./15_data',i]))"
   ]
  },
  {
   "cell_type": "code",
   "execution_count": null,
   "metadata": {},
   "outputs": [],
   "source": []
  }
 ],
 "metadata": {
  "kernelspec": {
   "display_name": "konlpy38",
   "language": "python",
   "name": "konlpy38"
  },
  "language_info": {
   "codemirror_mode": {
    "name": "ipython",
    "version": 3
   },
   "file_extension": ".py",
   "mimetype": "text/x-python",
   "name": "python",
   "nbconvert_exporter": "python",
   "pygments_lexer": "ipython3",
   "version": "3.8.8"
  }
 },
 "nbformat": 4,
 "nbformat_minor": 4
}
