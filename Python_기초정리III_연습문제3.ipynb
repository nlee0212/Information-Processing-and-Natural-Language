{
 "cells": [
  {
   "cell_type": "code",
   "execution_count": 1,
   "id": "sound-tuner",
   "metadata": {},
   "outputs": [
    {
     "data": {
      "text/plain": [
       "'홍길동\\t123456-1234567\\n김영희\\t0123450123456\\n'"
      ]
     },
     "execution_count": 1,
     "metadata": {},
     "output_type": "execute_result"
    }
   ],
   "source": [
    "a = '''홍길동\\t123456-1234567\n",
    "김영희\\t0123450123456\n",
    "'''\n",
    "a"
   ]
  },
  {
   "cell_type": "code",
   "execution_count": 2,
   "id": "medium-commander",
   "metadata": {},
   "outputs": [
    {
     "name": "stdout",
     "output_type": "stream",
     "text": [
      "홍길동\t123456-1234567\n",
      "김영희\t0123450123456\n",
      "\n"
     ]
    }
   ],
   "source": [
    "print(a)"
   ]
  },
  {
   "cell_type": "code",
   "execution_count": 5,
   "id": "quick-editing",
   "metadata": {},
   "outputs": [],
   "source": [
    "'''\n",
    "문자열 a에서 어떻게 주민등록번호만을 추출하여 print함수를 이용하여\n",
    "다음과 같이 화면 출력을 할 수 있을까?\n",
    "\n",
    "123456-1234566\n",
    "012345-0123456\n",
    "'''\n",
    "\n",
    "import re"
   ]
  },
  {
   "cell_type": "code",
   "execution_count": 24,
   "id": "exempt-spencer",
   "metadata": {},
   "outputs": [
    {
     "name": "stdout",
     "output_type": "stream",
     "text": [
      "123456-1234567\n",
      "012345-0123456\n"
     ]
    }
   ],
   "source": [
    "for num in [s if '-' in s else s[:6]+'-'+s[6:] for s in re.findall('\\d+[-]?\\d*',a)]:\n",
    "    print(num)\n"
   ]
  },
  {
   "cell_type": "code",
   "execution_count": 26,
   "id": "neural-category",
   "metadata": {},
   "outputs": [
    {
     "name": "stdout",
     "output_type": "stream",
     "text": [
      "123456-1234567\n",
      "012345-0123456\n"
     ]
    }
   ],
   "source": [
    "for x, y in re.findall('(\\d{6})[-]?(\\d{7})',a):\n",
    "    print(x+'-'+y)"
   ]
  },
  {
   "cell_type": "code",
   "execution_count": null,
   "id": "designing-fraction",
   "metadata": {},
   "outputs": [],
   "source": []
  }
 ],
 "metadata": {
  "kernelspec": {
   "display_name": "Python 3",
   "language": "python",
   "name": "python3"
  },
  "language_info": {
   "codemirror_mode": {
    "name": "ipython",
    "version": 3
   },
   "file_extension": ".py",
   "mimetype": "text/x-python",
   "name": "python",
   "nbconvert_exporter": "python",
   "pygments_lexer": "ipython3",
   "version": "3.8.8"
  }
 },
 "nbformat": 4,
 "nbformat_minor": 5
}
