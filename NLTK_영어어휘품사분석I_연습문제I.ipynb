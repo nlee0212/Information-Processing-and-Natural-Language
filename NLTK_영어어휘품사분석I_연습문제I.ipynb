{
 "cells": [
  {
   "cell_type": "code",
   "execution_count": 23,
   "metadata": {},
   "outputs": [],
   "source": [
    "def stem1(word):\n",
    "    \"\"\"\n",
    "    문자열 메서드를 이용하여 look, want의 기본형 및 변이형을\n",
    "    논항으로 입력하면 출력결과가 어간/기본형을 출력하는 함수\n",
    "    \"\"\"\n",
    "    \n",
    "    for suffix in ['s','ed','ing']:\n",
    "        if word.endswith(suffix):\n",
    "            print(word[:-len(suffix)])\n",
    "            return\n",
    "    \n",
    "    print(word)    "
   ]
  },
  {
   "cell_type": "code",
   "execution_count": 24,
   "metadata": {},
   "outputs": [
    {
     "name": "stdout",
     "output_type": "stream",
     "text": [
      "look\n"
     ]
    }
   ],
   "source": [
    "stem1('look')"
   ]
  },
  {
   "cell_type": "code",
   "execution_count": 25,
   "metadata": {},
   "outputs": [
    {
     "name": "stdout",
     "output_type": "stream",
     "text": [
      "look\n"
     ]
    }
   ],
   "source": [
    "stem1('looks')"
   ]
  },
  {
   "cell_type": "code",
   "execution_count": 26,
   "metadata": {},
   "outputs": [
    {
     "name": "stdout",
     "output_type": "stream",
     "text": [
      "look\n"
     ]
    }
   ],
   "source": [
    "stem1('looking')"
   ]
  },
  {
   "cell_type": "code",
   "execution_count": 27,
   "metadata": {},
   "outputs": [
    {
     "name": "stdout",
     "output_type": "stream",
     "text": [
      "look\n"
     ]
    }
   ],
   "source": [
    "stem1('looked')"
   ]
  },
  {
   "cell_type": "code",
   "execution_count": 6,
   "metadata": {},
   "outputs": [],
   "source": [
    "import re"
   ]
  },
  {
   "cell_type": "code",
   "execution_count": 38,
   "metadata": {},
   "outputs": [],
   "source": [
    "def stem2(word):\n",
    "    \"\"\"\n",
    "    정규표현을 이용하여 look, want의 기본형 및 변이형을\n",
    "    논항으로 입력하면 출력결과가 어간/기본형을 출력하는 함수\n",
    "    \"\"\"\n",
    "    \n",
    "    print(re.sub('(s|ed|ing)$','',word))\n",
    "    print(re.search('(.*?)(s|ed|ing)?$',word).group(1))\n",
    "    print(re.findall('^(.*?)(s|ed|ing)?$',word)[0][0])"
   ]
  },
  {
   "cell_type": "code",
   "execution_count": 39,
   "metadata": {},
   "outputs": [
    {
     "name": "stdout",
     "output_type": "stream",
     "text": [
      "look\n",
      "look\n",
      "look\n"
     ]
    }
   ],
   "source": [
    "stem2('look')"
   ]
  },
  {
   "cell_type": "code",
   "execution_count": 40,
   "metadata": {
    "scrolled": true
   },
   "outputs": [
    {
     "name": "stdout",
     "output_type": "stream",
     "text": [
      "look\n",
      "look\n",
      "look\n"
     ]
    }
   ],
   "source": [
    "stem2('looking')"
   ]
  },
  {
   "cell_type": "code",
   "execution_count": 41,
   "metadata": {},
   "outputs": [
    {
     "name": "stdout",
     "output_type": "stream",
     "text": [
      "look\n",
      "look\n",
      "look\n"
     ]
    }
   ],
   "source": [
    "stem2('looked')"
   ]
  },
  {
   "cell_type": "code",
   "execution_count": 42,
   "metadata": {},
   "outputs": [
    {
     "name": "stdout",
     "output_type": "stream",
     "text": [
      "look\n",
      "look\n",
      "look\n"
     ]
    }
   ],
   "source": [
    "stem2('looks')"
   ]
  },
  {
   "cell_type": "code",
   "execution_count": 43,
   "metadata": {},
   "outputs": [
    {
     "name": "stdout",
     "output_type": "stream",
     "text": [
      "want\n"
     ]
    }
   ],
   "source": [
    "stem1('want')"
   ]
  },
  {
   "cell_type": "code",
   "execution_count": 44,
   "metadata": {},
   "outputs": [
    {
     "name": "stdout",
     "output_type": "stream",
     "text": [
      "want\n"
     ]
    }
   ],
   "source": [
    "stem1('wants')"
   ]
  },
  {
   "cell_type": "code",
   "execution_count": 45,
   "metadata": {},
   "outputs": [
    {
     "name": "stdout",
     "output_type": "stream",
     "text": [
      "want\n",
      "want\n",
      "want\n"
     ]
    }
   ],
   "source": [
    "stem2('want')"
   ]
  },
  {
   "cell_type": "code",
   "execution_count": 46,
   "metadata": {},
   "outputs": [
    {
     "name": "stdout",
     "output_type": "stream",
     "text": [
      "want\n",
      "want\n",
      "want\n"
     ]
    }
   ],
   "source": [
    "stem2('wants')"
   ]
  },
  {
   "cell_type": "code",
   "execution_count": 51,
   "metadata": {},
   "outputs": [
    {
     "name": "stdout",
     "output_type": "stream",
     "text": [
      "proces\n"
     ]
    }
   ],
   "source": [
    "stem1('process')"
   ]
  },
  {
   "cell_type": "code",
   "execution_count": 52,
   "metadata": {},
   "outputs": [
    {
     "name": "stdout",
     "output_type": "stream",
     "text": [
      "proces\n",
      "proces\n",
      "proces\n"
     ]
    }
   ],
   "source": [
    "stem2('process')"
   ]
  },
  {
   "cell_type": "code",
   "execution_count": 49,
   "metadata": {},
   "outputs": [
    {
     "name": "stdout",
     "output_type": "stream",
     "text": [
      "processe\n"
     ]
    }
   ],
   "source": [
    "stem1('processes')"
   ]
  },
  {
   "cell_type": "code",
   "execution_count": 50,
   "metadata": {},
   "outputs": [
    {
     "name": "stdout",
     "output_type": "stream",
     "text": [
      "processe\n",
      "processe\n",
      "processe\n"
     ]
    }
   ],
   "source": [
    "stem2('processes')"
   ]
  },
  {
   "cell_type": "code",
   "execution_count": 47,
   "metadata": {},
   "outputs": [],
   "source": [
    "def stem3(word):\n",
    "    for suffix in ['es','s','ed','ing']:\n",
    "        if word.endswith(suffix):\n",
    "            print(word[:-len(suffix)])\n",
    "            return\n",
    "    \n",
    "    print(word)"
   ]
  },
  {
   "cell_type": "code",
   "execution_count": 48,
   "metadata": {},
   "outputs": [
    {
     "name": "stdout",
     "output_type": "stream",
     "text": [
      "process\n"
     ]
    }
   ],
   "source": [
    "stem3('processes')"
   ]
  },
  {
   "cell_type": "code",
   "execution_count": 53,
   "metadata": {},
   "outputs": [
    {
     "name": "stdout",
     "output_type": "stream",
     "text": [
      "languag\n"
     ]
    }
   ],
   "source": [
    "stem3('languages')"
   ]
  },
  {
   "cell_type": "code",
   "execution_count": null,
   "metadata": {},
   "outputs": [],
   "source": []
  }
 ],
 "metadata": {
  "kernelspec": {
   "display_name": "Python 3",
   "language": "python",
   "name": "python3"
  },
  "language_info": {
   "codemirror_mode": {
    "name": "ipython",
    "version": 3
   },
   "file_extension": ".py",
   "mimetype": "text/x-python",
   "name": "python",
   "nbconvert_exporter": "python",
   "pygments_lexer": "ipython3",
   "version": "3.8.5"
  }
 },
 "nbformat": 4,
 "nbformat_minor": 4
}
