{
 "cells": [
  {
   "cell_type": "markdown",
   "metadata": {},
   "source": [
    "# 파일 경로 관련 함수"
   ]
  },
  {
   "cell_type": "code",
   "execution_count": 1,
   "metadata": {},
   "outputs": [],
   "source": [
    "import os"
   ]
  },
  {
   "cell_type": "code",
   "execution_count": 2,
   "metadata": {},
   "outputs": [
    {
     "data": {
      "text/plain": [
       "'C:\\\\Users\\\\user\\\\Google 드라이브\\\\서강대\\\\정보처리및자연언어처리\\\\연습문제\\\\Information-Processing-and-Natural-Language'"
      ]
     },
     "execution_count": 2,
     "metadata": {},
     "output_type": "execute_result"
    }
   ],
   "source": [
    "os.getcwd()"
   ]
  },
  {
   "cell_type": "code",
   "execution_count": 3,
   "metadata": {},
   "outputs": [
    {
     "data": {
      "text/plain": [
       "['.git',\n",
       " '.ipynb_checkpoints',\n",
       " '11_data.zip',\n",
       " 'NLTK_코퍼스및어휘자원활용I.ipynb',\n",
       " 'NLTK_코퍼스및어휘자원활용II.ipynb',\n",
       " 'NLTK_코퍼스및어휘자원활용III.ipynb',\n",
       " 'NLTK_코퍼스및어휘자원활용II_연습문제1.ipynb',\n",
       " 'NLTK_코퍼스및어휘자원활용II_연습문제2.ipynb',\n",
       " 'NLTK_코퍼스및어휘자원활용II_연습문제3.ipynb',\n",
       " 'NLTK_코퍼스및어휘자원활용II_연습문제4.ipynb',\n",
       " 'NLTK_코퍼스및어휘자원활용IV.ipynb',\n",
       " 'NLTK_코퍼스및어휘자원활용IV_연습문제1.ipynb',\n",
       " 'NLTK_코퍼스및어휘자원활용IV_연습문제2.ipynb',\n",
       " 'NLTK_코퍼스및어휘자원활용IV_연습문제3.ipynb',\n",
       " 'NLTK_코퍼스및어휘자원활용IV_연습문제4.ipynb',\n",
       " 'NLTK_코퍼스및어휘자원활용V.ipynb',\n",
       " 'NLTK_코퍼스및어휘자원활용VI.ipynb',\n",
       " 'NLTK_코퍼스및어휘자원활용V_연습문제1.ipynb',\n",
       " 'NLTK_코퍼스및어휘자원활용V_연습문제2.ipynb',\n",
       " 'NLTK_코퍼스및어휘자원활용V_연습문제3.ipynb',\n",
       " 'NLTK_코퍼스및어휘자원활용V_연습문제4.ipynb',\n",
       " 'Python_기초정리III_연습문제1.ipynb',\n",
       " 'Python_기초정리III_연습문제2.ipynb',\n",
       " 'Python_기초정리III_연습문제3.ipynb',\n",
       " 'Python_기초정리III_정규표현식연습.ipynb',\n",
       " 'Python_기초정리II_연습문제1.ipynb',\n",
       " 'Python_기초정리II_연습문제2.ipynb',\n",
       " 'Python_기초정리II_연습문제3.ipynb',\n",
       " 'Python_기초정리IV_연습문제1.ipynb',\n",
       " 'Python_기초정리I_연습문제1.ipynb',\n",
       " 'Python_기초정리I_연습문제2.ipynb',\n",
       " 'README.md']"
      ]
     },
     "execution_count": 3,
     "metadata": {},
     "output_type": "execute_result"
    }
   ],
   "source": [
    "os.listdir()"
   ]
  },
  {
   "cell_type": "code",
   "execution_count": 4,
   "metadata": {},
   "outputs": [],
   "source": [
    "os.mkdir('tmp')"
   ]
  },
  {
   "cell_type": "code",
   "execution_count": 5,
   "metadata": {},
   "outputs": [
    {
     "data": {
      "text/plain": [
       "['.git',\n",
       " '.ipynb_checkpoints',\n",
       " '11_data.zip',\n",
       " 'NLTK_코퍼스및어휘자원활용I.ipynb',\n",
       " 'NLTK_코퍼스및어휘자원활용II.ipynb',\n",
       " 'NLTK_코퍼스및어휘자원활용III.ipynb',\n",
       " 'NLTK_코퍼스및어휘자원활용II_연습문제1.ipynb',\n",
       " 'NLTK_코퍼스및어휘자원활용II_연습문제2.ipynb',\n",
       " 'NLTK_코퍼스및어휘자원활용II_연습문제3.ipynb',\n",
       " 'NLTK_코퍼스및어휘자원활용II_연습문제4.ipynb',\n",
       " 'NLTK_코퍼스및어휘자원활용IV.ipynb',\n",
       " 'NLTK_코퍼스및어휘자원활용IV_연습문제1.ipynb',\n",
       " 'NLTK_코퍼스및어휘자원활용IV_연습문제2.ipynb',\n",
       " 'NLTK_코퍼스및어휘자원활용IV_연습문제3.ipynb',\n",
       " 'NLTK_코퍼스및어휘자원활용IV_연습문제4.ipynb',\n",
       " 'NLTK_코퍼스및어휘자원활용V.ipynb',\n",
       " 'NLTK_코퍼스및어휘자원활용VI.ipynb',\n",
       " 'NLTK_코퍼스및어휘자원활용V_연습문제1.ipynb',\n",
       " 'NLTK_코퍼스및어휘자원활용V_연습문제2.ipynb',\n",
       " 'NLTK_코퍼스및어휘자원활용V_연습문제3.ipynb',\n",
       " 'NLTK_코퍼스및어휘자원활용V_연습문제4.ipynb',\n",
       " 'Python_기초정리III_연습문제1.ipynb',\n",
       " 'Python_기초정리III_연습문제2.ipynb',\n",
       " 'Python_기초정리III_연습문제3.ipynb',\n",
       " 'Python_기초정리III_정규표현식연습.ipynb',\n",
       " 'Python_기초정리II_연습문제1.ipynb',\n",
       " 'Python_기초정리II_연습문제2.ipynb',\n",
       " 'Python_기초정리II_연습문제3.ipynb',\n",
       " 'Python_기초정리IV_연습문제1.ipynb',\n",
       " 'Python_기초정리I_연습문제1.ipynb',\n",
       " 'Python_기초정리I_연습문제2.ipynb',\n",
       " 'README.md',\n",
       " 'tmp']"
      ]
     },
     "execution_count": 5,
     "metadata": {},
     "output_type": "execute_result"
    }
   ],
   "source": [
    "os.listdir()"
   ]
  },
  {
   "cell_type": "code",
   "execution_count": 6,
   "metadata": {},
   "outputs": [],
   "source": [
    "os.chdir(os.getcwd()+'\\\\tmp')"
   ]
  },
  {
   "cell_type": "code",
   "execution_count": 7,
   "metadata": {},
   "outputs": [
    {
     "data": {
      "text/plain": [
       "'C:\\\\Users\\\\user\\\\Google 드라이브\\\\서강대\\\\정보처리및자연언어처리\\\\연습문제\\\\Information-Processing-and-Natural-Language\\\\tmp'"
      ]
     },
     "execution_count": 7,
     "metadata": {},
     "output_type": "execute_result"
    }
   ],
   "source": [
    "os.getcwd()"
   ]
  },
  {
   "cell_type": "code",
   "execution_count": 8,
   "metadata": {},
   "outputs": [
    {
     "data": {
      "text/plain": [
       "[]"
      ]
     },
     "execution_count": 8,
     "metadata": {},
     "output_type": "execute_result"
    }
   ],
   "source": [
    "os.listdir()"
   ]
  },
  {
   "cell_type": "code",
   "execution_count": 9,
   "metadata": {},
   "outputs": [
    {
     "data": {
      "text/plain": [
       "['.git',\n",
       " '.ipynb_checkpoints',\n",
       " '11_data.zip',\n",
       " 'NLTK_코퍼스및어휘자원활용I.ipynb',\n",
       " 'NLTK_코퍼스및어휘자원활용II.ipynb',\n",
       " 'NLTK_코퍼스및어휘자원활용III.ipynb',\n",
       " 'NLTK_코퍼스및어휘자원활용II_연습문제1.ipynb',\n",
       " 'NLTK_코퍼스및어휘자원활용II_연습문제2.ipynb',\n",
       " 'NLTK_코퍼스및어휘자원활용II_연습문제3.ipynb',\n",
       " 'NLTK_코퍼스및어휘자원활용II_연습문제4.ipynb',\n",
       " 'NLTK_코퍼스및어휘자원활용IV.ipynb',\n",
       " 'NLTK_코퍼스및어휘자원활용IV_연습문제1.ipynb',\n",
       " 'NLTK_코퍼스및어휘자원활용IV_연습문제2.ipynb',\n",
       " 'NLTK_코퍼스및어휘자원활용IV_연습문제3.ipynb',\n",
       " 'NLTK_코퍼스및어휘자원활용IV_연습문제4.ipynb',\n",
       " 'NLTK_코퍼스및어휘자원활용V.ipynb',\n",
       " 'NLTK_코퍼스및어휘자원활용VI.ipynb',\n",
       " 'NLTK_코퍼스및어휘자원활용V_연습문제1.ipynb',\n",
       " 'NLTK_코퍼스및어휘자원활용V_연습문제2.ipynb',\n",
       " 'NLTK_코퍼스및어휘자원활용V_연습문제3.ipynb',\n",
       " 'NLTK_코퍼스및어휘자원활용V_연습문제4.ipynb',\n",
       " 'Python_기초정리III_연습문제1.ipynb',\n",
       " 'Python_기초정리III_연습문제2.ipynb',\n",
       " 'Python_기초정리III_연습문제3.ipynb',\n",
       " 'Python_기초정리III_정규표현식연습.ipynb',\n",
       " 'Python_기초정리II_연습문제1.ipynb',\n",
       " 'Python_기초정리II_연습문제2.ipynb',\n",
       " 'Python_기초정리II_연습문제3.ipynb',\n",
       " 'Python_기초정리IV_연습문제1.ipynb',\n",
       " 'Python_기초정리I_연습문제1.ipynb',\n",
       " 'Python_기초정리I_연습문제2.ipynb',\n",
       " 'README.md',\n",
       " 'tmp']"
      ]
     },
     "execution_count": 9,
     "metadata": {},
     "output_type": "execute_result"
    }
   ],
   "source": [
    "os.listdir('..')"
   ]
  },
  {
   "cell_type": "code",
   "execution_count": 10,
   "metadata": {},
   "outputs": [
    {
     "data": {
      "text/plain": [
       "[]"
      ]
     },
     "execution_count": 10,
     "metadata": {},
     "output_type": "execute_result"
    }
   ],
   "source": [
    "os.listdir('..\\\\tmp')"
   ]
  },
  {
   "cell_type": "code",
   "execution_count": 11,
   "metadata": {},
   "outputs": [],
   "source": [
    "os.chdir('..')"
   ]
  },
  {
   "cell_type": "code",
   "execution_count": 16,
   "metadata": {},
   "outputs": [
    {
     "data": {
      "text/plain": [
       "'C:\\\\Users\\\\user\\\\Google 드라이브\\\\서강대\\\\정보처리및자연언어처리\\\\연습문제\\\\Information-Processing-and-Natural-Language'"
      ]
     },
     "execution_count": 16,
     "metadata": {},
     "output_type": "execute_result"
    }
   ],
   "source": [
    "os.getcwd()"
   ]
  },
  {
   "cell_type": "code",
   "execution_count": 14,
   "metadata": {
    "scrolled": true
   },
   "outputs": [
    {
     "data": {
      "text/plain": [
       "['.git',\n",
       " '.ipynb_checkpoints',\n",
       " 'Information-Processing-and-Natural-Language',\n",
       " 'NLTK_코퍼스및어휘자원활용I.ipynb',\n",
       " 'Python_기초정리III_연습문제1.ipynb',\n",
       " 'Python_기초정리III_연습문제2.ipynb',\n",
       " 'Python_기초정리III_연습문제3.ipynb',\n",
       " 'Python_기초정리III_정규표현식연습.ipynb',\n",
       " 'Python_기초정리II_연습문제1.ipynb',\n",
       " 'Python_기초정리II_연습문제2.ipynb',\n",
       " 'Python_기초정리II_연습문제3.ipynb',\n",
       " 'Python_기초정리IV_연습문제1.ipynb',\n",
       " 'Python_기초정리I_연습문제1.ipynb',\n",
       " 'Python_기초정리I_연습문제2.ipynb']"
      ]
     },
     "execution_count": 14,
     "metadata": {},
     "output_type": "execute_result"
    }
   ],
   "source": [
    "os.listdir('..')"
   ]
  },
  {
   "cell_type": "markdown",
   "metadata": {},
   "source": [
    "# 문자열 prefix r"
   ]
  },
  {
   "cell_type": "code",
   "execution_count": 17,
   "metadata": {},
   "outputs": [
    {
     "data": {
      "text/plain": [
       "'c:\\nbc\\nbc'"
      ]
     },
     "execution_count": 17,
     "metadata": {},
     "output_type": "execute_result"
    }
   ],
   "source": [
    "'c:\\nbc\\nbc'"
   ]
  },
  {
   "cell_type": "code",
   "execution_count": 18,
   "metadata": {},
   "outputs": [
    {
     "name": "stdout",
     "output_type": "stream",
     "text": [
      "c:\n",
      "bc\n",
      "bc\n"
     ]
    }
   ],
   "source": [
    "print('c:\\nbc\\nbc')"
   ]
  },
  {
   "cell_type": "code",
   "execution_count": 19,
   "metadata": {},
   "outputs": [
    {
     "name": "stdout",
     "output_type": "stream",
     "text": [
      "c:\\nbc\\nbc\n"
     ]
    }
   ],
   "source": [
    "print('c:\\\\nbc\\\\nbc')"
   ]
  },
  {
   "cell_type": "code",
   "execution_count": 20,
   "metadata": {},
   "outputs": [
    {
     "data": {
      "text/plain": [
       "'c:\\\\nbc\\\\nbc'"
      ]
     },
     "execution_count": 20,
     "metadata": {},
     "output_type": "execute_result"
    }
   ],
   "source": [
    "r'c:\\nbc\\nbc'"
   ]
  },
  {
   "cell_type": "code",
   "execution_count": 21,
   "metadata": {},
   "outputs": [
    {
     "data": {
      "text/plain": [
       "'c:\\\\nbc\\\\nbc'"
      ]
     },
     "execution_count": 21,
     "metadata": {},
     "output_type": "execute_result"
    }
   ],
   "source": [
    "R'c:\\nbc\\nbc'"
   ]
  },
  {
   "cell_type": "code",
   "execution_count": 22,
   "metadata": {},
   "outputs": [
    {
     "name": "stdout",
     "output_type": "stream",
     "text": [
      "c:\\nbc\\nbc\n"
     ]
    }
   ],
   "source": [
    "print(r'c:\\nbc\\nbc')"
   ]
  },
  {
   "cell_type": "code",
   "execution_count": 23,
   "metadata": {},
   "outputs": [
    {
     "name": "stdout",
     "output_type": "stream",
     "text": [
      "c:\\nbc\\nbc\n"
     ]
    }
   ],
   "source": [
    "print(R'c:\\nbc\\nbc')"
   ]
  },
  {
   "cell_type": "markdown",
   "metadata": {},
   "source": [
    "## 경로명 사용 방법"
   ]
  },
  {
   "cell_type": "code",
   "execution_count": 24,
   "metadata": {},
   "outputs": [
    {
     "data": {
      "text/plain": [
       "'c:\\x07bc\\\\kleist'"
      ]
     },
     "execution_count": 24,
     "metadata": {},
     "output_type": "execute_result"
    }
   ],
   "source": [
    "'c:\\abc\\kleist'"
   ]
  },
  {
   "cell_type": "code",
   "execution_count": 25,
   "metadata": {},
   "outputs": [
    {
     "data": {
      "text/plain": [
       "'c:\\x08c\\\\kleist'"
      ]
     },
     "execution_count": 25,
     "metadata": {},
     "output_type": "execute_result"
    }
   ],
   "source": [
    "'c:\\bc\\kleist'"
   ]
  },
  {
   "cell_type": "code",
   "execution_count": 26,
   "metadata": {},
   "outputs": [
    {
     "data": {
      "text/plain": [
       "'c:\\\\c\\\\kleist'"
      ]
     },
     "execution_count": 26,
     "metadata": {},
     "output_type": "execute_result"
    }
   ],
   "source": [
    "'c:\\c\\kleist'"
   ]
  },
  {
   "cell_type": "code",
   "execution_count": 27,
   "metadata": {},
   "outputs": [
    {
     "ename": "SyntaxError",
     "evalue": "(unicode error) 'unicodeescape' codec can't decode bytes in position 2-3: truncated \\UXXXXXXXX escape (<ipython-input-27-e5884fca04ab>, line 1)",
     "output_type": "error",
     "traceback": [
      "\u001b[1;36m  File \u001b[1;32m\"<ipython-input-27-e5884fca04ab>\"\u001b[1;36m, line \u001b[1;32m1\u001b[0m\n\u001b[1;33m    'c:\\Users\\kleist'\u001b[0m\n\u001b[1;37m    ^\u001b[0m\n\u001b[1;31mSyntaxError\u001b[0m\u001b[1;31m:\u001b[0m (unicode error) 'unicodeescape' codec can't decode bytes in position 2-3: truncated \\UXXXXXXXX escape\n"
     ]
    }
   ],
   "source": [
    "'c:\\Users\\kleist'"
   ]
  },
  {
   "cell_type": "code",
   "execution_count": 28,
   "metadata": {},
   "outputs": [
    {
     "data": {
      "text/plain": [
       "'c:\\\\abc\\\\kleist'"
      ]
     },
     "execution_count": 28,
     "metadata": {},
     "output_type": "execute_result"
    }
   ],
   "source": [
    "'c:\\\\abc\\kleist'"
   ]
  },
  {
   "cell_type": "code",
   "execution_count": 29,
   "metadata": {},
   "outputs": [
    {
     "data": {
      "text/plain": [
       "'c:\\\\abc\\\\kleist'"
      ]
     },
     "execution_count": 29,
     "metadata": {},
     "output_type": "execute_result"
    }
   ],
   "source": [
    "r'c:\\abc\\kleist'"
   ]
  },
  {
   "cell_type": "code",
   "execution_count": 30,
   "metadata": {},
   "outputs": [
    {
     "data": {
      "text/plain": [
       "'c:\\\\Users\\\\kleist'"
      ]
     },
     "execution_count": 30,
     "metadata": {},
     "output_type": "execute_result"
    }
   ],
   "source": [
    "'c:\\\\Users\\kleist'"
   ]
  },
  {
   "cell_type": "code",
   "execution_count": 31,
   "metadata": {},
   "outputs": [
    {
     "data": {
      "text/plain": [
       "'c:\\\\Users\\\\kleist'"
      ]
     },
     "execution_count": 31,
     "metadata": {},
     "output_type": "execute_result"
    }
   ],
   "source": [
    "r'c:\\Users\\kleist'"
   ]
  },
  {
   "cell_type": "code",
   "execution_count": 32,
   "metadata": {},
   "outputs": [
    {
     "data": {
      "text/plain": [
       "'c:/Users/kleist'"
      ]
     },
     "execution_count": 32,
     "metadata": {},
     "output_type": "execute_result"
    }
   ],
   "source": [
    "'c:/Users/kleist'"
   ]
  },
  {
   "cell_type": "code",
   "execution_count": 33,
   "metadata": {},
   "outputs": [
    {
     "data": {
      "text/plain": [
       "'C:\\\\Users\\\\user\\\\Google 드라이브\\\\서강대\\\\정보처리및자연언어처리\\\\연습문제\\\\Information-Processing-and-Natural-Language'"
      ]
     },
     "execution_count": 33,
     "metadata": {},
     "output_type": "execute_result"
    }
   ],
   "source": [
    "os.getcwd()"
   ]
  },
  {
   "cell_type": "code",
   "execution_count": 34,
   "metadata": {},
   "outputs": [],
   "source": [
    "os.chdir(r'C:\\Users\\user\\Google 드라이브\\서강대\\정보처리및자연언어처리\\연습문제\\Information-Processing-and-Natural-Language\\tmp')"
   ]
  },
  {
   "cell_type": "code",
   "execution_count": 35,
   "metadata": {},
   "outputs": [
    {
     "data": {
      "text/plain": [
       "'C:\\\\Users\\\\user\\\\Google 드라이브\\\\서강대\\\\정보처리및자연언어처리\\\\연습문제\\\\Information-Processing-and-Natural-Language\\\\tmp'"
      ]
     },
     "execution_count": 35,
     "metadata": {},
     "output_type": "execute_result"
    }
   ],
   "source": [
    "os.getcwd()"
   ]
  },
  {
   "cell_type": "code",
   "execution_count": 36,
   "metadata": {},
   "outputs": [],
   "source": [
    "os.chdir(r'C:/Users/user/Google 드라이브/서강대/정보처리및자연언어처리/연습문제/Information-Processing-and-Natural-Language/tmp')"
   ]
  },
  {
   "cell_type": "code",
   "execution_count": 37,
   "metadata": {},
   "outputs": [
    {
     "data": {
      "text/plain": [
       "'C:\\\\Users\\\\user\\\\Google 드라이브\\\\서강대\\\\정보처리및자연언어처리\\\\연습문제\\\\Information-Processing-and-Natural-Language\\\\tmp'"
      ]
     },
     "execution_count": 37,
     "metadata": {},
     "output_type": "execute_result"
    }
   ],
   "source": [
    "os.getcwd()"
   ]
  },
  {
   "cell_type": "code",
   "execution_count": 38,
   "metadata": {},
   "outputs": [],
   "source": [
    "os.chdir('..')"
   ]
  },
  {
   "cell_type": "code",
   "execution_count": 39,
   "metadata": {},
   "outputs": [
    {
     "data": {
      "text/plain": [
       "['.git',\n",
       " '.ipynb_checkpoints',\n",
       " '11_data.zip',\n",
       " 'NLTK_코퍼스및어휘자원활용I.ipynb',\n",
       " 'NLTK_코퍼스및어휘자원활용II.ipynb',\n",
       " 'NLTK_코퍼스및어휘자원활용III.ipynb',\n",
       " 'NLTK_코퍼스및어휘자원활용II_연습문제1.ipynb',\n",
       " 'NLTK_코퍼스및어휘자원활용II_연습문제2.ipynb',\n",
       " 'NLTK_코퍼스및어휘자원활용II_연습문제3.ipynb',\n",
       " 'NLTK_코퍼스및어휘자원활용II_연습문제4.ipynb',\n",
       " 'NLTK_코퍼스및어휘자원활용IV.ipynb',\n",
       " 'NLTK_코퍼스및어휘자원활용IV_연습문제1.ipynb',\n",
       " 'NLTK_코퍼스및어휘자원활용IV_연습문제2.ipynb',\n",
       " 'NLTK_코퍼스및어휘자원활용IV_연습문제3.ipynb',\n",
       " 'NLTK_코퍼스및어휘자원활용IV_연습문제4.ipynb',\n",
       " 'NLTK_코퍼스및어휘자원활용V.ipynb',\n",
       " 'NLTK_코퍼스및어휘자원활용VI.ipynb',\n",
       " 'NLTK_코퍼스및어휘자원활용V_연습문제1.ipynb',\n",
       " 'NLTK_코퍼스및어휘자원활용V_연습문제2.ipynb',\n",
       " 'NLTK_코퍼스및어휘자원활용V_연습문제3.ipynb',\n",
       " 'NLTK_코퍼스및어휘자원활용V_연습문제4.ipynb',\n",
       " 'Python_기초정리III_연습문제1.ipynb',\n",
       " 'Python_기초정리III_연습문제2.ipynb',\n",
       " 'Python_기초정리III_연습문제3.ipynb',\n",
       " 'Python_기초정리III_정규표현식연습.ipynb',\n",
       " 'Python_기초정리II_연습문제1.ipynb',\n",
       " 'Python_기초정리II_연습문제2.ipynb',\n",
       " 'Python_기초정리II_연습문제3.ipynb',\n",
       " 'Python_기초정리IV_연습문제1.ipynb',\n",
       " 'Python_기초정리I_연습문제1.ipynb',\n",
       " 'Python_기초정리I_연습문제2.ipynb',\n",
       " 'README.md',\n",
       " 'tmp']"
      ]
     },
     "execution_count": 39,
     "metadata": {},
     "output_type": "execute_result"
    }
   ],
   "source": [
    "os.listdir()"
   ]
  },
  {
   "cell_type": "code",
   "execution_count": 40,
   "metadata": {},
   "outputs": [
    {
     "data": {
      "text/plain": [
       "'c:\\\\\\\\Users\\\\kleist'"
      ]
     },
     "execution_count": 40,
     "metadata": {},
     "output_type": "execute_result"
    }
   ],
   "source": [
    "r'c:\\\\Users\\kleist'"
   ]
  },
  {
   "cell_type": "markdown",
   "metadata": {},
   "source": [
    "# 코퍼스 불러오기"
   ]
  },
  {
   "cell_type": "code",
   "execution_count": 1,
   "metadata": {},
   "outputs": [],
   "source": [
    "import nltk"
   ]
  },
  {
   "cell_type": "code",
   "execution_count": 2,
   "metadata": {},
   "outputs": [],
   "source": [
    "from nltk.corpus import PlaintextCorpusReader"
   ]
  },
  {
   "cell_type": "code",
   "execution_count": 4,
   "metadata": {},
   "outputs": [
    {
     "data": {
      "text/plain": [
       "['hu01.txt', 'hu02.txt', 'hu03.txt', 'hu04.txt']"
      ]
     },
     "execution_count": 4,
     "metadata": {},
     "output_type": "execute_result"
    }
   ],
   "source": [
    "wordlists = PlaintextCorpusReader(r'.\\11_data','.*')\n",
    "wordlists.fileids()[:4]"
   ]
  },
  {
   "cell_type": "code",
   "execution_count": 6,
   "metadata": {},
   "outputs": [
    {
     "data": {
      "text/plain": [
       "['hu01.txt', 'hu02.txt', 'hu03.txt', 'hu04.txt']"
      ]
     },
     "execution_count": 6,
     "metadata": {},
     "output_type": "execute_result"
    }
   ],
   "source": [
    "wordlists = PlaintextCorpusReader(r'.\\11_data','^h.+')\n",
    "wordlists.fileids()"
   ]
  },
  {
   "cell_type": "code",
   "execution_count": 8,
   "metadata": {},
   "outputs": [
    {
     "data": {
      "text/plain": [
       "['hu03.txt', 'hu04.txt', 'na03.txt', 'na04.txt']"
      ]
     },
     "execution_count": 8,
     "metadata": {},
     "output_type": "execute_result"
    }
   ],
   "source": [
    "wordlists = PlaintextCorpusReader(r'.\\11_data','.+[34].+')\n",
    "wordlists.fileids()"
   ]
  },
  {
   "cell_type": "code",
   "execution_count": 9,
   "metadata": {},
   "outputs": [
    {
     "data": {
      "text/plain": [
       "[]"
      ]
     },
     "execution_count": 9,
     "metadata": {},
     "output_type": "execute_result"
    }
   ],
   "source": [
    "wordlists = PlaintextCorpusReader(r'.\\11_data','.+[34]')\n",
    "wordlists.fileids()"
   ]
  },
  {
   "cell_type": "code",
   "execution_count": 10,
   "metadata": {},
   "outputs": [
    {
     "data": {
      "text/plain": [
       "[]"
      ]
     },
     "execution_count": 10,
     "metadata": {},
     "output_type": "execute_result"
    }
   ],
   "source": [
    "wordlists = PlaintextCorpusReader(r'.\\11_data','[34].+')\n",
    "wordlists.fileids()"
   ]
  },
  {
   "cell_type": "markdown",
   "metadata": {},
   "source": [
    "## 코퍼스 범주 분류하여 불러오기"
   ]
  },
  {
   "cell_type": "code",
   "execution_count": 11,
   "metadata": {},
   "outputs": [],
   "source": [
    "from nltk.corpus.reader.plaintext \\\n",
    "import CategorizedPlaintextCorpusReader"
   ]
  },
  {
   "cell_type": "code",
   "execution_count": 19,
   "metadata": {},
   "outputs": [],
   "source": [
    "my = CategorizedPlaintextCorpusReader('./11_data','.*',cat_pattern='^(\\w\\w).+')"
   ]
  },
  {
   "cell_type": "code",
   "execution_count": 16,
   "metadata": {},
   "outputs": [
    {
     "data": {
      "text/plain": [
       "nltk.corpus.reader.plaintext.CategorizedPlaintextCorpusReader"
      ]
     },
     "execution_count": 16,
     "metadata": {},
     "output_type": "execute_result"
    }
   ],
   "source": [
    "type(my)"
   ]
  },
  {
   "cell_type": "code",
   "execution_count": 14,
   "metadata": {},
   "outputs": [
    {
     "data": {
      "text/plain": [
       "nltk.corpus.reader.plaintext.PlaintextCorpusReader"
      ]
     },
     "execution_count": 14,
     "metadata": {},
     "output_type": "execute_result"
    }
   ],
   "source": [
    "type(wordlists)"
   ]
  },
  {
   "cell_type": "code",
   "execution_count": 17,
   "metadata": {},
   "outputs": [
    {
     "data": {
      "text/plain": [
       "<CategorizedPlaintextCorpusReader in 'C:\\\\Users\\\\user\\\\Google 드라이브\\\\서강대\\\\정보처리및자연언어처리\\\\연습문제\\\\Information-Processing-and-Natural-Language\\\\11_data'>"
      ]
     },
     "execution_count": 17,
     "metadata": {},
     "output_type": "execute_result"
    }
   ],
   "source": [
    "my"
   ]
  },
  {
   "cell_type": "code",
   "execution_count": 20,
   "metadata": {},
   "outputs": [
    {
     "data": {
      "text/plain": [
       "['hu', 'na']"
      ]
     },
     "execution_count": 20,
     "metadata": {},
     "output_type": "execute_result"
    }
   ],
   "source": [
    "my.categories()"
   ]
  },
  {
   "cell_type": "code",
   "execution_count": 21,
   "metadata": {},
   "outputs": [
    {
     "data": {
      "text/plain": [
       "8"
      ]
     },
     "execution_count": 21,
     "metadata": {},
     "output_type": "execute_result"
    }
   ],
   "source": [
    "len(my.fileids())"
   ]
  },
  {
   "cell_type": "code",
   "execution_count": 22,
   "metadata": {},
   "outputs": [
    {
     "data": {
      "text/plain": [
       "['hu01.txt', 'hu03.txt', 'na01.txt', 'na03.txt']"
      ]
     },
     "execution_count": 22,
     "metadata": {},
     "output_type": "execute_result"
    }
   ],
   "source": [
    "my.fileids()[0::2]"
   ]
  },
  {
   "cell_type": "code",
   "execution_count": 24,
   "metadata": {},
   "outputs": [
    {
     "data": {
      "text/plain": [
       "['hu01.txt',\n",
       " 'hu02.txt',\n",
       " 'hu03.txt',\n",
       " 'hu04.txt',\n",
       " 'na01.txt',\n",
       " 'na02.txt',\n",
       " 'na03.txt',\n",
       " 'na04.txt']"
      ]
     },
     "execution_count": 24,
     "metadata": {},
     "output_type": "execute_result"
    }
   ],
   "source": [
    "import os\n",
    "os.listdir('./11_data')"
   ]
  },
  {
   "cell_type": "code",
   "execution_count": 25,
   "metadata": {},
   "outputs": [
    {
     "data": {
      "text/plain": [
       "18784"
      ]
     },
     "execution_count": 25,
     "metadata": {},
     "output_type": "execute_result"
    }
   ],
   "source": [
    "len(my.words())"
   ]
  },
  {
   "cell_type": "code",
   "execution_count": 28,
   "metadata": {},
   "outputs": [
    {
     "data": {
      "text/plain": [
       "293"
      ]
     },
     "execution_count": 28,
     "metadata": {},
     "output_type": "execute_result"
    }
   ],
   "source": [
    "len(my.sents(categories='hu'))"
   ]
  },
  {
   "cell_type": "code",
   "execution_count": 27,
   "metadata": {},
   "outputs": [
    {
     "data": {
      "text/plain": [
       "9235"
      ]
     },
     "execution_count": 27,
     "metadata": {},
     "output_type": "execute_result"
    }
   ],
   "source": [
    "len(my.words(categories='na'))"
   ]
  },
  {
   "cell_type": "markdown",
   "metadata": {},
   "source": [
    "# 영어 불용어 목록"
   ]
  },
  {
   "cell_type": "code",
   "execution_count": 1,
   "metadata": {},
   "outputs": [
    {
     "data": {
      "text/plain": [
       "list"
      ]
     },
     "execution_count": 1,
     "metadata": {},
     "output_type": "execute_result"
    }
   ],
   "source": [
    "import nltk\n",
    "from nltk.corpus import stopwords\n",
    "type(stopwords.words('english'))"
   ]
  },
  {
   "cell_type": "code",
   "execution_count": 2,
   "metadata": {},
   "outputs": [
    {
     "data": {
      "text/plain": [
       "179"
      ]
     },
     "execution_count": 2,
     "metadata": {},
     "output_type": "execute_result"
    }
   ],
   "source": [
    "len(stopwords.words('english'))"
   ]
  },
  {
   "cell_type": "code",
   "execution_count": 3,
   "metadata": {},
   "outputs": [
    {
     "data": {
      "text/plain": [
       "['i', 'me', 'my', 'myself', 'we', 'our', 'ours']"
      ]
     },
     "execution_count": 3,
     "metadata": {},
     "output_type": "execute_result"
    }
   ],
   "source": [
    "stopwords.words('english')[:7]"
   ]
  },
  {
   "cell_type": "code",
   "execution_count": 5,
   "metadata": {},
   "outputs": [
    {
     "data": {
      "text/plain": [
       "[\"wasn't\", 'weren', \"weren't\", 'won', \"won't\", 'wouldn', \"wouldn't\"]"
      ]
     },
     "execution_count": 5,
     "metadata": {},
     "output_type": "execute_result"
    }
   ],
   "source": [
    "stopwords.words('english')[-7:]"
   ]
  },
  {
   "cell_type": "code",
   "execution_count": null,
   "metadata": {},
   "outputs": [],
   "source": []
  }
 ],
 "metadata": {
  "kernelspec": {
   "display_name": "Python 3",
   "language": "python",
   "name": "python3"
  },
  "language_info": {
   "codemirror_mode": {
    "name": "ipython",
    "version": 3
   },
   "file_extension": ".py",
   "mimetype": "text/x-python",
   "name": "python",
   "nbconvert_exporter": "python",
   "pygments_lexer": "ipython3",
   "version": "3.8.5"
  }
 },
 "nbformat": 4,
 "nbformat_minor": 4
}
