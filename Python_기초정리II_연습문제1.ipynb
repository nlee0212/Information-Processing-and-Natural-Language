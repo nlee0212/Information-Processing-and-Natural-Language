{
 "cells": [
  {
   "cell_type": "code",
   "execution_count": 1,
   "id": "previous-volunteer",
   "metadata": {},
   "outputs": [],
   "source": [
    "# a = \"I am not good in programming.\"\n",
    "# b = \n",
    "# b\n",
    "## ['I', ' ', 'a', 'm', ' ', 'n', 'o', 't', ' ', 'g', 'o', 'o', 'd', ' ', 'i', 'n', ' ', 'p', 'r', 'o', 'g', 'r', 'a', 'm', 'm', 'i', 'n', 'g', '.']"
   ]
  },
  {
   "cell_type": "code",
   "execution_count": 3,
   "id": "informal-border",
   "metadata": {},
   "outputs": [
    {
     "name": "stdout",
     "output_type": "stream",
     "text": [
      "['I', ' ', 'a', 'm', ' ', 'n', 'o', 't', ' ', 'g', 'o', 'o', 'd', ' ', 'i', 'n', ' ', 'p', 'r', 'o', 'g', 'r', 'a', 'm', 'm', 'i', 'n', 'g', '.']\n"
     ]
    }
   ],
   "source": [
    "a = \"I am not good in programming.\"\n",
    "b = list(a)\n",
    "b"
   ]
  },
  {
   "cell_type": "code",
   "execution_count": 4,
   "id": "abandoned-music",
   "metadata": {},
   "outputs": [],
   "source": [
    "# a = \"I am not good in programming.\"\n",
    "# b = \n",
    "# b\n",
    "## ['p', 'g', 'o', 'a', ' ', 'r', 'm', '.', 'i', 'I', 'n', 't', 'd']\n",
    "## 출력 배열 순서는 신경 쓰지 마시오."
   ]
  },
  {
   "cell_type": "code",
   "execution_count": 7,
   "id": "phantom-digest",
   "metadata": {},
   "outputs": [
    {
     "data": {
      "text/plain": [
       "['p', 'g', 'o', 'a', ' ', 'r', 'm', '.', 'i', 'I', 'n', 't', 'd']"
      ]
     },
     "execution_count": 7,
     "metadata": {},
     "output_type": "execute_result"
    }
   ],
   "source": [
    "a = \"I am not good in programming.\"\n",
    "b = list(set(a))\n",
    "b"
   ]
  },
  {
   "cell_type": "code",
   "execution_count": 8,
   "id": "earned-wholesale",
   "metadata": {},
   "outputs": [],
   "source": [
    "# a = \"I am not good in programming.\"\n",
    "# b = {}\n",
    "# for i in a:\n",
    "# \n",
    "# b\n",
    "## {'I': 1, ' ': 5, 'a': 2, 'm': 3, 'n': 3, 'o': 4, 't': 1, 'g': 3, 'd': 1, 'i': 2, 'p': 1, 'r': 2, '.': 1}\n",
    "## 각 알파벳의 빈도"
   ]
  },
  {
   "cell_type": "code",
   "execution_count": 10,
   "id": "random-czech",
   "metadata": {},
   "outputs": [
    {
     "name": "stdout",
     "output_type": "stream",
     "text": [
      "{'I': 1, ' ': 5, 'a': 2, 'm': 3, 'n': 3, 'o': 4, 't': 1, 'g': 3, 'd': 1, 'i': 2, 'p': 1, 'r': 2, '.': 1}\n"
     ]
    }
   ],
   "source": [
    "a = \"I am not good in programming.\"\n",
    "b = {}\n",
    "for i in a:\n",
    "    b[i] = a.count(i)\n",
    "b"
   ]
  },
  {
   "cell_type": "code",
   "execution_count": 11,
   "id": "pleasant-convert",
   "metadata": {},
   "outputs": [],
   "source": [
    "# c = list(b._____())\n",
    "# c\n",
    "## "
   ]
  },
  {
   "cell_type": "code",
   "execution_count": 12,
   "id": "conditional-retirement",
   "metadata": {},
   "outputs": [
    {
     "data": {
      "text/plain": [
       "[('I', 1),\n",
       " (' ', 5),\n",
       " ('a', 2),\n",
       " ('m', 3),\n",
       " ('n', 3),\n",
       " ('o', 4),\n",
       " ('t', 1),\n",
       " ('g', 3),\n",
       " ('d', 1),\n",
       " ('i', 2),\n",
       " ('p', 1),\n",
       " ('r', 2),\n",
       " ('.', 1)]"
      ]
     },
     "execution_count": 12,
     "metadata": {},
     "output_type": "execute_result"
    }
   ],
   "source": [
    "c = list(b.items())\n",
    "c"
   ]
  },
  {
   "cell_type": "code",
   "execution_count": null,
   "id": "extended-payday",
   "metadata": {},
   "outputs": [],
   "source": []
  }
 ],
 "metadata": {
  "kernelspec": {
   "display_name": "Python 3",
   "language": "python",
   "name": "python3"
  },
  "language_info": {
   "codemirror_mode": {
    "name": "ipython",
    "version": 3
   },
   "file_extension": ".py",
   "mimetype": "text/x-python",
   "name": "python",
   "nbconvert_exporter": "python",
   "pygments_lexer": "ipython3",
   "version": "3.8.8"
  }
 },
 "nbformat": 4,
 "nbformat_minor": 5
}
