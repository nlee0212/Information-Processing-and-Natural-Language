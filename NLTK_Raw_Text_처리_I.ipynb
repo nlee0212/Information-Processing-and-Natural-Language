{
 "cells": [
  {
   "cell_type": "markdown",
   "metadata": {},
   "source": [
    "# 문자열을 텍스트 파일에 저장"
   ]
  },
  {
   "cell_type": "code",
   "execution_count": 1,
   "metadata": {},
   "outputs": [
    {
     "name": "stdout",
     "output_type": "stream",
     "text": [
      "NLTK\n",
      "Python\n",
      "\n"
     ]
    }
   ],
   "source": [
    "s = 'NLTK\\nPython\\n'\n",
    "print(s)"
   ]
  },
  {
   "cell_type": "code",
   "execution_count": 2,
   "metadata": {},
   "outputs": [],
   "source": [
    "f = open('test.txt','w')"
   ]
  },
  {
   "cell_type": "code",
   "execution_count": 3,
   "metadata": {},
   "outputs": [
    {
     "data": {
      "text/plain": [
       "<_io.TextIOWrapper name='test.txt' mode='w' encoding='cp949'>"
      ]
     },
     "execution_count": 3,
     "metadata": {},
     "output_type": "execute_result"
    }
   ],
   "source": [
    "f"
   ]
  },
  {
   "cell_type": "code",
   "execution_count": 4,
   "metadata": {},
   "outputs": [
    {
     "data": {
      "text/plain": [
       "12"
      ]
     },
     "execution_count": 4,
     "metadata": {},
     "output_type": "execute_result"
    }
   ],
   "source": [
    "f.write(s)"
   ]
  },
  {
   "cell_type": "code",
   "execution_count": 5,
   "metadata": {},
   "outputs": [],
   "source": [
    "f.close()"
   ]
  },
  {
   "cell_type": "code",
   "execution_count": 6,
   "metadata": {},
   "outputs": [
    {
     "data": {
      "text/plain": [
       "12"
      ]
     },
     "execution_count": 6,
     "metadata": {},
     "output_type": "execute_result"
    }
   ],
   "source": [
    "open('test.txt','w').write(s)"
   ]
  },
  {
   "cell_type": "code",
   "execution_count": 9,
   "metadata": {},
   "outputs": [
    {
     "name": "stdout",
     "output_type": "stream",
     "text": [
      "NLTK\n",
      "Python\n"
     ]
    }
   ],
   "source": [
    "s = 'NLTK\\nPython'\n",
    "print(s)\n",
    "f = open('test.txt','w')"
   ]
  },
  {
   "cell_type": "code",
   "execution_count": 10,
   "metadata": {},
   "outputs": [
    {
     "data": {
      "text/plain": [
       "11"
      ]
     },
     "execution_count": 10,
     "metadata": {},
     "output_type": "execute_result"
    }
   ],
   "source": [
    "f.write(s)"
   ]
  },
  {
   "cell_type": "code",
   "execution_count": 11,
   "metadata": {},
   "outputs": [
    {
     "data": {
      "text/plain": [
       "11"
      ]
     },
     "execution_count": 11,
     "metadata": {},
     "output_type": "execute_result"
    }
   ],
   "source": [
    "f.write(s)"
   ]
  },
  {
   "cell_type": "code",
   "execution_count": 12,
   "metadata": {},
   "outputs": [],
   "source": [
    "f.close()"
   ]
  },
  {
   "cell_type": "code",
   "execution_count": 14,
   "metadata": {},
   "outputs": [
    {
     "name": "stdout",
     "output_type": "stream",
     "text": [
      "NLTK\n",
      "PythonNLTK\n",
      "Python\n"
     ]
    }
   ],
   "source": [
    "!cat test.txt"
   ]
  },
  {
   "cell_type": "code",
   "execution_count": 15,
   "metadata": {},
   "outputs": [],
   "source": [
    "s = 'NLTK\\nPython'\n",
    "ss = 'Programming\\nData'"
   ]
  },
  {
   "cell_type": "code",
   "execution_count": 16,
   "metadata": {},
   "outputs": [
    {
     "data": {
      "text/plain": [
       "11"
      ]
     },
     "execution_count": 16,
     "metadata": {},
     "output_type": "execute_result"
    }
   ],
   "source": [
    "open('test.txt','w').write(s)"
   ]
  },
  {
   "cell_type": "code",
   "execution_count": 17,
   "metadata": {},
   "outputs": [
    {
     "data": {
      "text/plain": [
       "16"
      ]
     },
     "execution_count": 17,
     "metadata": {},
     "output_type": "execute_result"
    }
   ],
   "source": [
    "open('test.txt','w').write(ss)"
   ]
  },
  {
   "cell_type": "code",
   "execution_count": 18,
   "metadata": {},
   "outputs": [
    {
     "name": "stdout",
     "output_type": "stream",
     "text": [
      "Programming\n",
      "Data\n"
     ]
    }
   ],
   "source": [
    "!cat test.txt"
   ]
  },
  {
   "cell_type": "code",
   "execution_count": 19,
   "metadata": {},
   "outputs": [
    {
     "data": {
      "text/plain": [
       "11"
      ]
     },
     "execution_count": 19,
     "metadata": {},
     "output_type": "execute_result"
    }
   ],
   "source": [
    "open('test.txt','w').write(s)"
   ]
  },
  {
   "cell_type": "code",
   "execution_count": 20,
   "metadata": {},
   "outputs": [
    {
     "data": {
      "text/plain": [
       "16"
      ]
     },
     "execution_count": 20,
     "metadata": {},
     "output_type": "execute_result"
    }
   ],
   "source": [
    "open('test.txt','a').write(ss)"
   ]
  },
  {
   "cell_type": "code",
   "execution_count": 21,
   "metadata": {},
   "outputs": [
    {
     "name": "stdout",
     "output_type": "stream",
     "text": [
      "NLTK\n",
      "PythonProgramming\n",
      "Data\n"
     ]
    }
   ],
   "source": [
    "!cat test.txt"
   ]
  },
  {
   "cell_type": "code",
   "execution_count": 22,
   "metadata": {},
   "outputs": [
    {
     "data": {
      "text/plain": [
       "12"
      ]
     },
     "execution_count": 22,
     "metadata": {},
     "output_type": "execute_result"
    }
   ],
   "source": [
    "s = 'NLTK\\nPython\\n'\n",
    "open('test.txt','w').write(s)"
   ]
  },
  {
   "cell_type": "markdown",
   "metadata": {},
   "source": [
    "# 텍스트 파일 불러오기"
   ]
  },
  {
   "cell_type": "code",
   "execution_count": 23,
   "metadata": {},
   "outputs": [
    {
     "data": {
      "text/plain": [
       "<_io.TextIOWrapper name='test.txt' mode='r' encoding='cp949'>"
      ]
     },
     "execution_count": 23,
     "metadata": {},
     "output_type": "execute_result"
    }
   ],
   "source": [
    "open('test.txt')"
   ]
  },
  {
   "cell_type": "code",
   "execution_count": 26,
   "metadata": {},
   "outputs": [],
   "source": [
    "f = open('test.txt','r')"
   ]
  },
  {
   "cell_type": "code",
   "execution_count": 27,
   "metadata": {},
   "outputs": [
    {
     "data": {
      "text/plain": [
       "<_io.TextIOWrapper name='test.txt' mode='r' encoding='cp949'>"
      ]
     },
     "execution_count": 27,
     "metadata": {},
     "output_type": "execute_result"
    }
   ],
   "source": [
    "f"
   ]
  },
  {
   "cell_type": "code",
   "execution_count": 28,
   "metadata": {},
   "outputs": [
    {
     "data": {
      "text/plain": [
       "'NLTK\\nPython\\n'"
      ]
     },
     "execution_count": 28,
     "metadata": {},
     "output_type": "execute_result"
    }
   ],
   "source": [
    "f.read()"
   ]
  },
  {
   "cell_type": "code",
   "execution_count": 29,
   "metadata": {},
   "outputs": [
    {
     "data": {
      "text/plain": [
       "''"
      ]
     },
     "execution_count": 29,
     "metadata": {},
     "output_type": "execute_result"
    }
   ],
   "source": [
    "f.read()"
   ]
  },
  {
   "cell_type": "code",
   "execution_count": 30,
   "metadata": {},
   "outputs": [
    {
     "data": {
      "text/plain": [
       "['NLTK\\n', 'Python\\n']"
      ]
     },
     "execution_count": 30,
     "metadata": {},
     "output_type": "execute_result"
    }
   ],
   "source": [
    "open('test.txt').readlines()"
   ]
  },
  {
   "cell_type": "code",
   "execution_count": 31,
   "metadata": {},
   "outputs": [
    {
     "data": {
      "text/plain": [
       "'NLTK\\nPython\\n'"
      ]
     },
     "execution_count": 31,
     "metadata": {},
     "output_type": "execute_result"
    }
   ],
   "source": [
    "open('test.txt').read()"
   ]
  },
  {
   "cell_type": "markdown",
   "metadata": {},
   "source": [
    "# 예제 파일 불러오기: utf-8"
   ]
  },
  {
   "cell_type": "code",
   "execution_count": 32,
   "metadata": {},
   "outputs": [
    {
     "data": {
      "text/plain": [
       "<_io.TextIOWrapper name='12_data01.txt' mode='r' encoding='cp949'>"
      ]
     },
     "execution_count": 32,
     "metadata": {},
     "output_type": "execute_result"
    }
   ],
   "source": [
    "open('12_data01.txt')"
   ]
  },
  {
   "cell_type": "code",
   "execution_count": 34,
   "metadata": {},
   "outputs": [
    {
     "data": {
      "text/plain": [
       "<_io.TextIOWrapper name='12_data01.txt' mode='r' encoding='utf8'>"
      ]
     },
     "execution_count": 34,
     "metadata": {},
     "output_type": "execute_result"
    }
   ],
   "source": [
    "open('12_data01.txt',encoding='utf8')"
   ]
  },
  {
   "cell_type": "markdown",
   "metadata": {},
   "source": [
    "# tokenization"
   ]
  },
  {
   "cell_type": "code",
   "execution_count": 42,
   "metadata": {},
   "outputs": [],
   "source": [
    "import nltk\n",
    "from nltk import word_tokenize\n",
    "\n",
    "a = open('12_data01.txt',encoding='utf8').read()"
   ]
  },
  {
   "cell_type": "code",
   "execution_count": 47,
   "metadata": {},
   "outputs": [],
   "source": [
    "tokens = word_tokenize(a)"
   ]
  },
  {
   "cell_type": "code",
   "execution_count": 48,
   "metadata": {},
   "outputs": [
    {
     "data": {
      "text/plain": [
       "list"
      ]
     },
     "execution_count": 48,
     "metadata": {},
     "output_type": "execute_result"
    }
   ],
   "source": [
    "type(tokens)"
   ]
  },
  {
   "cell_type": "code",
   "execution_count": 49,
   "metadata": {},
   "outputs": [
    {
     "data": {
      "text/plain": [
       "257084"
      ]
     },
     "execution_count": 49,
     "metadata": {},
     "output_type": "execute_result"
    }
   ],
   "source": [
    "len(tokens)"
   ]
  },
  {
   "cell_type": "code",
   "execution_count": 50,
   "metadata": {},
   "outputs": [
    {
     "name": "stdout",
     "output_type": "stream",
     "text": [
      "['The', 'Project', 'Gutenberg', 'EBook', 'of', 'Crime', 'and', 'Punishment', ',', 'by', 'Fyodor', 'Dostoevsky', 'This', 'eBook', 'is']\n"
     ]
    }
   ],
   "source": [
    "print(tokens[:15])"
   ]
  },
  {
   "cell_type": "code",
   "execution_count": 51,
   "metadata": {},
   "outputs": [
    {
     "name": "stdout",
     "output_type": "stream",
     "text": [
      "{'air.', 's/he', 'to-day.', 'too.', 'looking-glass', 'come.', '5,000', 'lively.', '1.E.5', 'forgiveness.', 'treacle.', 'ton-weight', 'sickly-looking', 'heart-rending', 'sleepy-looking', 'plain-stained', 'bout.', 'gaily-dressed', '1.F.3', 'yet.', 'lunatic.', 'dressing-cases', 'quick-witted', 'lady.', 'kindness.', 'escape.', 'God.', 'seventy-five', 'trace.', 'soon.', 'curly-headed', '-', 'neighbourhood.', '....', '//www.pglaf.org', 'such-and-such', 'Nikolay.', 'great.', 'off.', 'in.', 'mother.', 'he-he-he', 'us._', 'leave-taking', 'self-confidence', 'R-rubbish', 'matter-of-fact', 'good-natured', 'five-and-thirty', 'over-serious', 'old-maidish', 'one.', 'sous.', 'old-fashioned', 'pock-marked', 'gentleman.', 'axe.', 'case.', 'themselves.', 'bare-headed', 'step.', '1.E', 'police-office', 'faces.', 'www.gutenberg.org', 'self-evident', 'self-importance', 'study.', 'candidly.', 'service.', 'half-animate', 'dressing-table', 'nurse.', 'yes.', 'blood-stained', 'lunch.', 'dispute.', 'AS-IS', 'America.', 'noble-hearted', 'five-storied', 'extraordinary.', 'poppet.', 'nature.', 'his.', 'them._', 'old-womanish', 'bad-looking', 'dressing-gown', 'self-admiration', 'hard-working', 'kind-hearted', 'shirt.', 'there.', '!', 'killed.', 'Giant-killer', 'return.', 'town-criers', 'pledge.', 'yesterday.', 'jewel-cases', 'rolling-pin', 'well-proportioned', 'to-do', 'especially.', 'stumbling-block', 'uselessly.', 'freshly-cut', 'Foundation.', 'that.', 'organ-grinder', 'breaking-up', 'here.', 'detail.', '_vis-a-vis_', 'angry.', 'ill-tempered', 'good-morning', '*', 'peace.', 'dream.', 'far.', 'silent.', 'sir.', 'frightened.', 'half-way', 'forty-seven', 'Zossimov.', 'pork-butcher', 'turning-point', 'RASKOLNIKOV.', 'anxiety.', 'beforehand.', 'strong-box', 'new.', 'blunder.', '2554-0.zip', 'cross-examination', 'melodramatic.', 'half-crazy', 'twenty-four', 'soft-hearted', 'eating-house', 'painter.', 'semi-delirium', 'Good-day', 'cheek-bones', 'Petrovitch.', 'billiard-room', 'special.', '“', 'shortly.', 'fare.', 'three-rouble', 'orphans.', '_good-bye_', 'accused.', 'clear-skinned', 'remember.', 'broken-down', 'same.', 'passer-by', '//gutenberg.org/license', 'tete-a-tete', 'strange.', 'paper.', 'fifty-five', 'do-own', 'watch-chain', 'weeks.', 'pglaf.org', 'three-year-old', 'reason.', 'doctor.', 'serfdom.', 'fair-haired', 'house-painter', 'interest.', '1.C', 'wait.', 'coat-tail', 'humanity.', 'over-studying.', 'writing-table', 'arrival.', 'candle-end', 'good-humouredly', 'tongue-tied', 'angrily.', 'thirty-two', 'Forty-five', 'Polenka.', 'letter.', 'twenty-three', 'sure.', 'reading-room', 'presents.', 'deal.', 'new-comer', 'forgiven.', 'by-the-way', 'pleasure.', 'short-sighted', 'I.', 'India-rubber', 'self-confidently', 'head-covering', 'work.', 'pawnbroker-woman', 'disturbance.', 'now.', 'first.', 'last.', 'death.', 'twenty-two', 'waistcoat-pocket', 'well-to-do', 'express.', 'Dounia.', 'light-coloured', 'to.', 'down.', 'witty.', 'false.', 'know.', '//www.gutenberg.org', '_Hof-kriegsrath_', 'cross-roads', 'ill.', 'levees.', 'ill-disguised', 'absent-mindedly', 'ago.', 'common.', 'Tut-tut-tut', 'colours.', 'listen.', 'name.', 'fainted.', 'candle-ends', 'dying.', 'worn-out', 'dark-haired', 'way.', '.', 'right.', 'light-headed', '%', 'people.', 'were.', 'trapped.', 'N-no', 'forbidden.', 'ha-ha', 'go-ahead', 'fourth-hand', 'S.', 'alone.', 'ho-nou-red', 'amusement.', 'ill-luck', 'promptly.', '1.E.4', 'skin-flint', '1.E.6', 'cross.', 'snub-nosed', 'ill-humour', 'well-bred', 'doing.', 'evil-intentioned', 'honest.', 'well-built', 'bottle-wax', 'women.', 'day-dreams', 'say.', 'so.', 'well-preserved', 'something.', 'promise.', 'pot-houses', 'crime.', 'half-opened', 'doubt.', 'generation.', 'self-abnegation', 'pine-tree', 'ash-tray', '1.F', 'Koch.', '1.E.9', 'key.', 'ear-rings', 'water-colour', 'thickly-set', 'shod.', 'girl_.', 'savouries.', 'Dmitri.', 'die.', 'feather-headed', 'thoughts.', 'rakishly-tilted', 'Duclida.', 'Half-way', 'society.', 'completely.', 'dining-room', 'evidence.', 't.', 'police-offices', 'police-station', 'connections.', 'open-eyed', 'drinking-bar', 'he-he', 'self-interest', 'truth-like', 'plaything.', 'peasant-woman', 'brought-up', 'home.', 'dram-shop', 'waiting-room', 'ghosts.', 'va-t-elle', 'laughing-stock', 'pick-me-up', 'word.', 'insane.', '1.D', 'hurry.', 'I.O.U', 'grey-headed', 'said.', 'house-flannel', 'full-skirted', 'K.', '1.F.6', 'poorly-dressed', 'second-rate', 'burgomeister.', 'confessing.', 'person.', 're-use', '_that_.', 'boarding-school', 'short-waisted', 'night.', 'four-storied', 'then.', 'To-morrow', 'curious.', 'Cough-cough-cough', 'close.', 'sincerely.', 'good.', 'please.', 'useless.', 'colonel-major', 'course.', 'B.', 'else.', 'went.', 'habits.', '//www.gutenberg.org/2/5/5/2554/', 'dark-skinned', '’', 'step-sister', 'ours.', 'christened.', 'left.', 'ill-founded', 'late.', 'healthy-looking', 'First-rate', ';', 'ill-treating', 'queer-looking', 'to-night', 'day.', 'So-and-so', 'promised.', 'mutton-chop', 'easy-chair', 'to-day', 'Porfiry.', 'king.', 'gold-mine', 'forty-three', 'over-wise', 'thinking.', 'trodden-down', 'poverty-stricken', 'on.', 'men.', 'U.S.', 'Svidrigailov.', 'stuck-up', '$', 'grey-and-rainbow-coloured', 'horrible-looking', 'tallow-candle', 'fenced-off', 'exist.', 'good-bye', 'imagination.', 'good-tempered', 'ill-treated', 'wonder-struck', 'gambler.', 'light-hearted', 'half-educated', 'dressed.', 'morning.', 'slander.', 'pell-mell', '//pglaf.org', 'twenty-one', 'LUZHIN.', 'topsy-turvy', 'fish-pies', 'herself.', 'happy.', 'flats.', 'self-reliance', 'Here.', 'Raskolnikov.', 'well.', 'environment.', '1.B', '1.E.2', 'sin.', 'place.', 'imagine.', '1.E.1', 'look-out', '//pglaf.org/fundraising', 'forth.', 'man.', 'respect.', 'storm-clouds', 'half-dozen', '‘', 'new-comers', 'end.', 'drinking.', 'world.', 'wide-open', 'prison.', 'curiosity.', 'Ha-ha', 'passers-by', 'afterwards.', 'carefully.', '2554-0.txt', 'dinner.', 'lock-up', 'hours.', 'rig-out', 'veal.', 'death-bed', 'menage_.', 'delirium.', 'she.', 'good-humour', 'bounds.', 'us.', 'behaviour.', 'self-control', 'Prokofitch.', 'funny.', 'cowardice.', 'time.', 'oath.', 'tea-tables', 'are.', 'half-penny', 'minute.', 'A-ah', 'clean-shaven', 'numerous.', 'twenty-seven', 'self-approval', 'tea.', 'journey.', 'another.', 'did.', 'A-ach', 'that_.', 'would.', 'thirty-five', 'crop-headed', 'myself.', 'done.', 'post-haste', 'mean.', 'live.', 'horror-stricken', 'father.', 'half.', 'sentence.', 'Schleswig-Holstein', 'years.', 'woman.', 'shut-up', 'absent-minded', 'door-handle', 'X.', 'ruin.', 'of.', 'Heaven.', 'feather-bed', 'purple-faced', ',', 'suspect.', 'feeling.', 'nothing.', 'again.', 'Nastasya.', '_Periodical_.', 'great-hearted', 'open-mouthed', 'Him.', 'three-barrel', 'drunk.', 'stone.', 'pro-consul', 'Nothing.', 'wedding-day', 'cross-examined', 'to-morrow', 'exactly.', 'somewhere.', 'round.', 'friends.', 'want.', 'trademark/copyright', 'Hussar.', 'dressing-case', 'foot.', 'Katia.', 'to-morrow.', 'nowadays.', 'Zametov.', 'hereupon.', 'began.', 'beef-steak', 'keeping.', '5-per-cent', 'eating-houses', 'stairs.', 'flame-coloured', 'accord.', 'lives.', 'riff-raff', 'least.', 'panic-stricken', 'solid-looking', 'together.', 'am.', 'suffering.', 'ten-rouble', 'once.', 'Good-bye', '1.A', 'over-fatigued', 'tea-glass', 'go.', 'evident.', 'butter.', 'notion.', 'beneficial.', 'away.', 'though.', 'UTF-8', 'upon.', 'hundred-rouble', 'first-rate', 'Pashenka.', 'believing.', 'second-class', 'fish.', 'middle-aged', 'look.', 'black-beetle', 'ill-disposed', 'Luzhin.', 'was.', 'ready-made', 'brother.', 'copper-red', 'son-in-law', 'self-sacrifice', 'wine-glasses', 'good-humoured', 'happened._', 'Gutenberg-tm', 'money.', 'parti-coloured', 'clerks.', 'bound.', 'card-sharper', 'fashion.', 'barefooted.', 'court-yard', 'deserves.', 'attention.', 'pocket-book', 'ten.', 'street.', 'hour.', 'self-confident', 'unfastened.', 'office.', 'thirty-six', 'back.', 'trouble.', 'other.', 'irritated.', 'red-cheeked', 'scene-shifting', ')', 'suffer.', 'Strong-boxes', 'haste.', 'Governor-General', 'maybe.', 'practicality.', 'long-winded', 'tear-stained', 'knick-knacks', 'out.', 'powder.', 'third-hand', 'point.', 'own.', 'tucked-up', 'half-broken-down', 'low-pitched', 'porter.', 'Good-bye.', 'Review_.', 'well-educated', 'bed.', 'cause.', 'sitting-room', 'God-forsaken', 'To-day', 'empty-handed', 'Lizaveta.', 'perhaps.', 'cigarette-box', 'business.', 'student.', 'criminals.', 'D-damn', 'little.', 'Bah-bah-bah', 'ever-burning', 'peace-loving', '596-1887', 'report.', 'run.', 'funeral.', 'face.', 'folly.', 'thick-necked', 'mothers-in-law', 'pavement.', 'bribes.', 'Romanovna.', 'table-cloth', 'indecorous.', 'heart.', 'cabinet-maker', 'hiding-place', 'more.', 'knock-down', 'well-known', 'sect.', 'cock-sparrow', 'lodgings.', 'window-sills', 'high-class', 'He-he-he', 'Literally.', 'is.', 'frying-pan', 'va-t-en', 'enough.', 'well-feigned', 'starting-point', 'dear.', '”', 'what.', 'understand.', 'sort.', 'stones.', 'Dr.', 'will.', '_Pani_.', 'himself.', 'wall-paper', 'chance.', 'cried.', 'No.', '1.E.3', 'half-hour', 'A.D.', 'open.', '#', 'yellowish-black', 'long.', 'patience.', 'half-glass', 'thirty-second', 'act.', 'miserable.', 'Sonia.', 'hand.', 'pass.', 'apologise.', 'still.', 'ill-humoured', 'daughter.', 'better.', 'benevolence.', 'gone.', 'matters.', 'jewel-case', 'one-eyed', 'name-day', 'barrel-organ', 'ashamed.', 'bwoken.', 'i.e', 'frightened-looking', 'capital.', 'ill-bred', 'time-honoured', 'drawing-room', 'simple-hearted', 'creature.', '99712.', 'opinion.', 'novel-reading', 'not.', 'bit.', 'pay.', 'plain.', 'question.', '1.F.1', 'Ivanovna.', 'up.', 'lodging.', 'sock.', 'delirious.', 'Petrovna.', 'writers.', '@', 'poor-looking', 'me.', 'later.', 'heart-breaking', '1.F.4', 'cross-examine', 'black-eyed', 'interested.', 'wisdom.', '1.E.7', 'high-flown', 'La-la', 'tea-pot', 'over-partial', 'asleep.', 'Cristal.', 'Cough-cough', 'head.', 'turn-over', 'witness.', 'mine.', 'tea-table', 'you.', '64-6221541', 'days.', 'them.', 'do.', 'poof-poof-poof', 'purplish-red', 'ready.', 'murderer.', 'impertinence.', 'over.', 'kitchen.', 'begin.', 'tavern-keeper', ']', 'patients.', 'contrary.', 'everything.', 'thief.', 'Mr.', 'fever.', 'seven.', 'ill-natured', 'grown-up', 'movements.', 'card-sharpers', 'common-sense', 'Folk.', 'sofa.', 'step-mother', 'forty-five', 'her.', 'impracticality.', 'Romanovitch.', 'earnings.', 'mole-hill', 'A-a-h', 'fantasy.', 'police-officers', 'good-bye_', 'anywhere.', 'all.', 'Y-yes', 'water.', 'careful.', '?', 'before.', 'help.', 'thirty-rouble', 'this.', 'pockets.', 'wittily.', 'explanation.', 'fellow.', 'Razumihin.', 'unlooked-for', 'evil-doing', 'cross-question', 'shirt-fronts', 'ring-bedecked', 'boy.', 'sixty-five', 'St.', 'directly.', 'police.', 'think.', 'ant-heap', 'con-so-la-tion', 'talking.', 'fires.', 'Ha-ha-ha', '//pglaf.org/donate', 'hallucination.', 'merry-making', 'shawl.', 'duty-bound', 'shaken.', 'clear.', 'governor-general', 'ingratitude.', 'melancholy.', 'rosy-cheeked', 're-crossing', 'house.', 'thousand.', 'object.', 'law.', 'phantom.', 'hear.', 'conscience-prick', 'five-per-cent', 'air-balloon', 'steam.', 'along.', 'affected.', 'law-abiding', 'contents_.', 'free-thinking', 'hands.', 'eye-glass', 'tears.', 'minutes.', 'ha-ha-ha', 'guard-room', 'fifty-rouble', 'be.', 'commonplace.', 'witnesses.', 'cab-drivers', 'dish-clout', 'Gogol.', 'sweet.', 'Rodya.', 'quietly.', 'press.', '1.F.2', 'V.', 're-establishing', 'things.', 'game.', 'immediately.', 'self-abasement', 'straight-forward', 'ill-humouredly', 'good-hearted', 'guilty.', 'short-tempered', 'nonsense.', 'loved.', 'half-past', 'cigarette.', 'terrible-looking', 'good-looking', 'read.', 'madam.', 'it.', '...', 'badly.', 'him.', 'bath-house', 'tomb.', 'cart-horses', 'etc.', 'house-porter', 'instigation.', 'ill-mannered', 'good-bye.', '1.F.5', 'good-sized', 'e-vi-dent', 'ask.', 'house-warming', 'mad.', 'india-rubber', 'justice.', 'e-mail', '(', 'self-reliant', 'organ-grinders', 'soup.', 'book.', 'careless.', 'see.', 'commune.', 'truth.', 'good-nature', 'eccentric.', 'secrets.', 'unfortunate.', 'invitation.', 'Tailor.', 'space.', 'exaggerated.', 'half-sister', 'anyway.', 'present.', 'kiss.', 'rush-bottom', 'crest-fallen', 'market-place', 'will-power', 'fancy.', 'sinister-looking', 'presence.', 'He-he', 'well-born', 'pruning-knife', 'pot-house', 'amputated.', 'sister.', 'initial.', 'right-hand', 'cross-examining', 'neighbour.', 's.', 'cabin.', '_parlez-moi', 'Yes.', 'well-scrubbed', '--', 'delicate-looking', 'kitchen-table', 'family.', 'with.', 'sub-divisions', 'muddled.', 'useful.', 'day-dream', 'door-keepers', 'scoundrel.', 'dreadfully.', 'Siberia.', 'begged.', 'twenty-five', 'let.', 'hot-tempered', 'broken-spirited', 'window-sill', 'GUTENBERG-tm', 'plainly.', 'yourself.', 'table.', 'hospital.', '1.E.8', ':', 'room.', 'awfully.', 'egg-shells', 'bell-ringing', '['}\n"
     ]
    }
   ],
   "source": [
    "import re\n",
    "print({i for i in tokens if re.search('[^\\w]',i)})"
   ]
  },
  {
   "cell_type": "code",
   "execution_count": 52,
   "metadata": {},
   "outputs": [
    {
     "name": "stdout",
     "output_type": "stream",
     "text": [
      "{'1.B', '1.E.2', '1.E', '99712.', '28', '1.E.1', '5,000', '60', '90', '2554-0.zip', '1.A', '1.E.5', '20', '2554-0.txt', '5', '1.F.1', '1.E.4', '2016', '1.F.2', '1.E.6', '809', '4557', '50', '3', '1.D', '1.F.3', '1.F.4', 'UTF-8', '8', '14', '4', '1880', 'F3', '1864', '1861', '1849', '1.E.7', '1.E.3', '1859', '1.F.6', '2', '27', '30', '1.F', '47', '1.E.9', '64-6221541', '1', '2554', '596-1887', '2006', '9', '1.F.5', '1.C', '84116', '1.E.8', '1500', '//www.gutenberg.org/2/5/5/2554/', '2001', '801', '5-per-cent', '501'}\n"
     ]
    }
   ],
   "source": [
    "print({i for i in tokens if re.search('\\d',i)})"
   ]
  },
  {
   "cell_type": "code",
   "execution_count": 57,
   "metadata": {},
   "outputs": [],
   "source": [
    "sents = nltk.sent_tokenize(a)"
   ]
  },
  {
   "cell_type": "code",
   "execution_count": 58,
   "metadata": {},
   "outputs": [
    {
     "data": {
      "text/plain": [
       "list"
      ]
     },
     "execution_count": 58,
     "metadata": {},
     "output_type": "execute_result"
    }
   ],
   "source": [
    "type(sents)"
   ]
  },
  {
   "cell_type": "code",
   "execution_count": 59,
   "metadata": {},
   "outputs": [
    {
     "data": {
      "text/plain": [
       "12059"
      ]
     },
     "execution_count": 59,
     "metadata": {},
     "output_type": "execute_result"
    }
   ],
   "source": [
    "len(sents)"
   ]
  },
  {
   "cell_type": "code",
   "execution_count": 60,
   "metadata": {},
   "outputs": [
    {
     "data": {
      "text/plain": [
       "'\\nThe Project Gutenberg EBook of Crime and Punishment, by Fyodor Dostoevsky\\n\\nThis eBook is for the use of anyone anywhere at no cost and with\\nalmost no restrictions whatsoever.'"
      ]
     },
     "execution_count": 60,
     "metadata": {},
     "output_type": "execute_result"
    }
   ],
   "source": [
    "sents[0]"
   ]
  },
  {
   "cell_type": "code",
   "execution_count": 61,
   "metadata": {},
   "outputs": [
    {
     "data": {
      "text/plain": [
       "'You may copy it, give it away or\\nre-use it under the terms of the Project Gutenberg License included\\nwith this eBook or online at www.gutenberg.org\\n\\n\\nTitle: Crime and Punishment\\n\\nAuthor: Fyodor Dostoevsky\\n\\nRelease Date: March 28, 2006 [EBook #2554]\\nLast Updated: October 27, 2016\\n\\nLanguage: English\\n\\nCharacter set encoding: UTF-8\\n\\n*** START OF THIS PROJECT GUTENBERG EBOOK CRIME AND PUNISHMENT ***\\n\\n\\n\\n\\nProduced by John Bickers; and Dagny\\n\\n\\n\\n\\n\\nCRIME AND PUNISHMENT\\n\\nBy Fyodor Dostoevsky\\n\\n\\n\\nTranslated By Constance Garnett\\n\\n\\n\\n\\nTRANSLATOR’S PREFACE\\n\\nA few words about Dostoevsky himself may help the English reader to\\nunderstand his work.'"
      ]
     },
     "execution_count": 61,
     "metadata": {},
     "output_type": "execute_result"
    }
   ],
   "source": [
    "sents[1]"
   ]
  },
  {
   "cell_type": "code",
   "execution_count": 62,
   "metadata": {},
   "outputs": [
    {
     "ename": "AttributeError",
     "evalue": "'str' object has no attribute 'words'",
     "output_type": "error",
     "traceback": [
      "\u001b[1;31m---------------------------------------------------------------------------\u001b[0m",
      "\u001b[1;31mAttributeError\u001b[0m                            Traceback (most recent call last)",
      "\u001b[1;32m<ipython-input-62-7231444dfcb3>\u001b[0m in \u001b[0;36m<module>\u001b[1;34m\u001b[0m\n\u001b[1;32m----> 1\u001b[1;33m \u001b[0ma\u001b[0m\u001b[1;33m.\u001b[0m\u001b[0mwords\u001b[0m\u001b[1;33m(\u001b[0m\u001b[1;33m)\u001b[0m\u001b[1;33m\u001b[0m\u001b[1;33m\u001b[0m\u001b[0m\n\u001b[0m",
      "\u001b[1;31mAttributeError\u001b[0m: 'str' object has no attribute 'words'"
     ]
    }
   ],
   "source": [
    "a.words()"
   ]
  },
  {
   "cell_type": "code",
   "execution_count": 63,
   "metadata": {},
   "outputs": [],
   "source": [
    "text = nltk.Text(a)"
   ]
  },
  {
   "cell_type": "code",
   "execution_count": 64,
   "metadata": {},
   "outputs": [
    {
     "data": {
      "text/plain": [
       "<Text: \n",
       " T h e   P r o...>"
      ]
     },
     "execution_count": 64,
     "metadata": {},
     "output_type": "execute_result"
    }
   ],
   "source": [
    "text"
   ]
  },
  {
   "cell_type": "code",
   "execution_count": 65,
   "metadata": {},
   "outputs": [
    {
     "data": {
      "text/plain": [
       "<Text: The Project Gutenberg EBook of Crime and Punishment...>"
      ]
     },
     "execution_count": 65,
     "metadata": {},
     "output_type": "execute_result"
    }
   ],
   "source": [
    "text = nltk.Text(word_tokenize(a))\n",
    "text"
   ]
  },
  {
   "cell_type": "code",
   "execution_count": 66,
   "metadata": {},
   "outputs": [
    {
     "data": {
      "text/plain": [
       "nltk.text.Text"
      ]
     },
     "execution_count": 66,
     "metadata": {},
     "output_type": "execute_result"
    }
   ],
   "source": [
    "type(text)"
   ]
  },
  {
   "cell_type": "code",
   "execution_count": 68,
   "metadata": {},
   "outputs": [
    {
     "name": "stdout",
     "output_type": "stream",
     "text": [
      "Katerina Ivanovna; Pyotr Petrovitch; Pulcheria Alexandrovna; Avdotya\n",
      "Romanovna; Rodion Romanovitch; Marfa Petrovna; Sofya Semyonovna; old\n",
      "woman; Project Gutenberg-tm; Porfiry Petrovitch; Amalia Ivanovna;\n",
      "great deal; young man; Nikodim Fomitch; Ilya Petrovitch; Project\n",
      "Gutenberg; Andrey Semyonovitch; Hay Market; Dmitri Prokofitch; Good\n",
      "heavens\n"
     ]
    }
   ],
   "source": [
    "text.collocations()"
   ]
  },
  {
   "cell_type": "code",
   "execution_count": 69,
   "metadata": {},
   "outputs": [
    {
     "name": "stdout",
     "output_type": "stream",
     "text": [
      "Displaying 10 of 474 matches:\n",
      " that “ stern and just man , ” as Maurice Baring \n",
      "agony of the condemned man and insists on the cru\n",
      "who “ gave the hapless man the funeral of a king.\n",
      "s one of ourselves , a man of our blood and our b\n",
      " early in July a young man came out of the garret\n",
      " he passed , the young man had a sick , frightene\n",
      " ... yes , all is in a man ’ s hands and he lets \n",
      "infully upon the young man ’ s already overwrough\n",
      " a moment in the young man ’ s refined face . He \n",
      "ly dressed that even a man accustomed to shabbine\n"
     ]
    }
   ],
   "source": [
    "text.concordance('man',50,10)"
   ]
  },
  {
   "cell_type": "code",
   "execution_count": 70,
   "metadata": {},
   "outputs": [
    {
     "name": "stdout",
     "output_type": "stream",
     "text": [
      "young_, young_. the_, young_walked drunken_, literary_, that_won\n"
     ]
    }
   ],
   "source": [
    "text.common_contexts(['man','men'])"
   ]
  },
  {
   "cell_type": "code",
   "execution_count": 71,
   "metadata": {},
   "outputs": [
    {
     "name": "stdout",
     "output_type": "stream",
     "text": [
      "woman girl moment time room word way gentleman mother letter door lady\n",
      "doctor place thing flat tavern question crowd people\n"
     ]
    }
   ],
   "source": [
    "text.similar('man')"
   ]
  },
  {
   "cell_type": "code",
   "execution_count": 72,
   "metadata": {},
   "outputs": [
    {
     "name": "stdout",
     "output_type": "stream",
     "text": [
      "you it him people they he man her work me them that we all everything\n",
      "things this anyone out us\n"
     ]
    }
   ],
   "source": [
    "text.similar('men')"
   ]
  },
  {
   "cell_type": "code",
   "execution_count": null,
   "metadata": {},
   "outputs": [],
   "source": []
  }
 ],
 "metadata": {
  "kernelspec": {
   "display_name": "Python 3",
   "language": "python",
   "name": "python3"
  },
  "language_info": {
   "codemirror_mode": {
    "name": "ipython",
    "version": 3
   },
   "file_extension": ".py",
   "mimetype": "text/x-python",
   "name": "python",
   "nbconvert_exporter": "python",
   "pygments_lexer": "ipython3",
   "version": "3.8.5"
  }
 },
 "nbformat": 4,
 "nbformat_minor": 4
}
