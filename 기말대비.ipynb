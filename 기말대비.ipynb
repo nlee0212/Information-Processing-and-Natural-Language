{
 "cells": [
  {
   "cell_type": "markdown",
   "metadata": {},
   "source": [
    "# NLTK 영어 어휘 품사 분석"
   ]
  },
  {
   "cell_type": "markdown",
   "metadata": {},
   "source": [
    "## 자연어처리에서 어휘처리의 중요성"
   ]
  },
  {
   "cell_type": "markdown",
   "metadata": {},
   "source": [
    "### 문자열/텍스트데이터 처리 과정\n",
    "- 자음/모음 => 어휘 => 문장 => 문단 => 텍스트 (인간이 자연어처리하는 단계랑 같음)\n",
    "- 대체로 어휘 단계에서부터 시작하기 때문에 어휘 단위 토큰화 필요 (분석 단위 분할)\n",
    "\n",
    "### 자연언어처리의 본질과 지향점\n",
    "- 컴퓨터를 이용한 언어의 처리\n",
    "- 컴퓨터와 인간의 대화\n",
    "- 자연어의 의미 해석과 생성\n",
    "\n",
    "### 어휘\n",
    "- 형식적 식별의 용이성 (공백문자를 기준으로 할 수 있음)\n",
    "- 의미 (토큰화 -> 식별 -> 의미)\n",
    "\n",
    "but... 간단하지 않다"
   ]
  },
  {
   "cell_type": "markdown",
   "metadata": {},
   "source": [
    "## 형태소 (morpheme)"
   ]
  },
  {
   "cell_type": "markdown",
   "metadata": {},
   "source": [
    "### 형태소  \n",
    ": 고유한 의미를 가지는 한 편, 어떤 품사와 결합 가능한지가 정해져 있음. 그럴때마다 의미도 달라질 수 있음. 고유한 결합 위치도 결정된다. 하지만 복잡하다.  \n",
    "- 어휘는 기본적 의미 단위, 형태소는 의미의 최소 단위.\n",
    "- un + 형용사/부사/명사: 부정 => un + desirable\n",
    "- un + 동사: 반대 과정/처리 => un + lock\n",
    "- un은 접두사로만 사용, 접미사로 사용되지 않는다.\n",
    "    - uneaten, *eatenun\n",
    "\n",
    "### 독립성에 따라\n",
    "- 자유/독립 형태소(free morpheme): boy, desire, gentle, man\n",
    "- 의존 형태소 (bound morpheme)/접사(affix): -ish, -ness, dis-, un-\n",
    "\n",
    "### 의존 형태소/접사  \n",
    "=> 결합되는 위치 고정\n",
    "- 접두사(prefix): un-, pre-, bi-\n",
    "- 접미사(suffix): -ing, -er, -ly\n",
    "- 많은 언어에서 접두사와 접두사 존재, 일부 언어 접요사(infix), 접환사 (circumfix)\n",
    "- startswith, endswith, partition, ... => python은 자연어처리에 용이한 기법을 가지고 있는 언어이다!"
   ]
  },
  {
   "cell_type": "markdown",
   "metadata": {},
   "source": [
    "## 어근(root), 어간(stem), 어휘"
   ]
  },
  {
   "cell_type": "markdown",
   "metadata": {},
   "source": [
    "### 어휘는 최소 하나의 어근으로 구성, 여기에 하나 이상의 접사가 결합하여 구성\n",
    "\n",
    "### 어근\n",
    "- 더 작은 단위로 분해, 또는 분석될 수 없는 어휘 내용을 표상하는 형태소 (가장 핵심적 의미를 담음)\n",
    "    - 'paint'er, re'read', con'ceive'\n",
    "- 어휘일 수도, 독립해서 쓰일 수 없을 수도 있다.\n",
    "\n",
    "### 어간: 첫 번째 의미\n",
    "- 어근과 어간 엄격하게 구분: 어근 + 하나 이상의 접사\n",
    "- friendships\n",
    "    - 어근: friend\n",
    "    - 어간: friendship, friendships"
   ]
  },
  {
   "cell_type": "code",
   "execution_count": null,
   "metadata": {},
   "outputs": [],
   "source": []
  }
 ],
 "metadata": {
  "kernelspec": {
   "display_name": "konlpy38",
   "language": "python",
   "name": "konlpy38"
  },
  "language_info": {
   "codemirror_mode": {
    "name": "ipython",
    "version": 3
   },
   "file_extension": ".py",
   "mimetype": "text/x-python",
   "name": "python",
   "nbconvert_exporter": "python",
   "pygments_lexer": "ipython3",
   "version": "3.8.8"
  }
 },
 "nbformat": 4,
 "nbformat_minor": 2
}
