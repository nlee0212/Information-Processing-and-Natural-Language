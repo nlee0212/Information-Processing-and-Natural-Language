{
 "cells": [
  {
   "cell_type": "code",
   "execution_count": 2,
   "metadata": {},
   "outputs": [],
   "source": [
    "import nltk\n",
    "from nltk.corpus import names\n",
    "import random"
   ]
  },
  {
   "cell_type": "code",
   "execution_count": 4,
   "metadata": {},
   "outputs": [],
   "source": [
    "labeled_names = [(name,file.replace('.txt',''))\n",
    "                for file in names.fileids()\n",
    "                for name in names.words(file)]\n",
    "random.shuffle(labeled_names)"
   ]
  },
  {
   "cell_type": "code",
   "execution_count": 5,
   "metadata": {},
   "outputs": [
    {
     "data": {
      "text/plain": [
       "7944"
      ]
     },
     "execution_count": 5,
     "metadata": {},
     "output_type": "execute_result"
    }
   ],
   "source": [
    "len(labeled_names)"
   ]
  },
  {
   "cell_type": "code",
   "execution_count": 6,
   "metadata": {},
   "outputs": [
    {
     "data": {
      "text/plain": [
       "[('Annnora', 'female'),\n",
       " ('Joshua', 'male'),\n",
       " ('Rad', 'male'),\n",
       " ('Tobe', 'female'),\n",
       " ('Emmy', 'male'),\n",
       " ('Purcell', 'male'),\n",
       " ('Emmaline', 'female'),\n",
       " ('Rees', 'male'),\n",
       " ('Sonja', 'female'),\n",
       " ('Rani', 'female')]"
      ]
     },
     "execution_count": 6,
     "metadata": {},
     "output_type": "execute_result"
    }
   ],
   "source": [
    "labeled_names[:10]"
   ]
  },
  {
   "cell_type": "code",
   "execution_count": 9,
   "metadata": {},
   "outputs": [],
   "source": [
    "features = [({'first_letter':name[0].lower(),'last_letter':name[-1],'name_length':len(name)},sex)\n",
    "           for name,sex in labeled_names]"
   ]
  },
  {
   "cell_type": "code",
   "execution_count": 10,
   "metadata": {},
   "outputs": [
    {
     "data": {
      "text/plain": [
       "[({'first_letter': 'a', 'last_letter': 'a', 'name_length': 7}, 'female'),\n",
       " ({'first_letter': 'j', 'last_letter': 'a', 'name_length': 6}, 'male'),\n",
       " ({'first_letter': 'r', 'last_letter': 'd', 'name_length': 3}, 'male'),\n",
       " ({'first_letter': 't', 'last_letter': 'e', 'name_length': 4}, 'female'),\n",
       " ({'first_letter': 'e', 'last_letter': 'y', 'name_length': 4}, 'male')]"
      ]
     },
     "execution_count": 10,
     "metadata": {},
     "output_type": "execute_result"
    }
   ],
   "source": [
    "features[:5]"
   ]
  },
  {
   "cell_type": "code",
   "execution_count": 12,
   "metadata": {},
   "outputs": [],
   "source": [
    "train_set, test_set = features[:int(len(features)*0.9)],features[int(len(features)*0.9):]"
   ]
  },
  {
   "cell_type": "code",
   "execution_count": 13,
   "metadata": {},
   "outputs": [],
   "source": [
    "classifier = nltk.NaiveBayesClassifier.train(train_set)"
   ]
  },
  {
   "cell_type": "code",
   "execution_count": 14,
   "metadata": {},
   "outputs": [
    {
     "data": {
      "text/plain": [
       "0.7836477987421384"
      ]
     },
     "execution_count": 14,
     "metadata": {},
     "output_type": "execute_result"
    }
   ],
   "source": [
    "nltk.classify.accuracy(classifier,test_set)"
   ]
  },
  {
   "cell_type": "code",
   "execution_count": 15,
   "metadata": {},
   "outputs": [
    {
     "name": "stdout",
     "output_type": "stream",
     "text": [
      "Most Informative Features\n",
      "             last_letter = 'k'              male : female =     44.7 : 1.0\n",
      "             last_letter = 'a'            female : male   =     38.1 : 1.0\n",
      "             last_letter = 'f'              male : female =     16.0 : 1.0\n",
      "             last_letter = 'v'              male : female =     11.2 : 1.0\n",
      "             last_letter = 'm'              male : female =      9.6 : 1.0\n",
      "             last_letter = 'd'              male : female =      9.5 : 1.0\n",
      "             last_letter = 'p'              male : female =      9.2 : 1.0\n",
      "             last_letter = 'o'              male : female =      8.4 : 1.0\n",
      "             last_letter = 'r'              male : female =      6.5 : 1.0\n",
      "             last_letter = 'z'              male : female =      5.6 : 1.0\n",
      "             last_letter = 'b'              male : female =      5.4 : 1.0\n",
      "             last_letter = 'w'              male : female =      5.1 : 1.0\n",
      "            first_letter = 'w'              male : female =      5.0 : 1.0\n",
      "             last_letter = 'g'              male : female =      5.0 : 1.0\n",
      "             last_letter = 's'              male : female =      4.1 : 1.0\n"
     ]
    }
   ],
   "source": [
    "classifier.show_most_informative_features(15)"
   ]
  },
  {
   "cell_type": "code",
   "execution_count": null,
   "metadata": {},
   "outputs": [],
   "source": []
  }
 ],
 "metadata": {
  "kernelspec": {
   "display_name": "Python 3",
   "language": "python",
   "name": "python3"
  },
  "language_info": {
   "codemirror_mode": {
    "name": "ipython",
    "version": 3
   },
   "file_extension": ".py",
   "mimetype": "text/x-python",
   "name": "python",
   "nbconvert_exporter": "python",
   "pygments_lexer": "ipython3",
   "version": "3.8.5"
  }
 },
 "nbformat": 4,
 "nbformat_minor": 4
}
